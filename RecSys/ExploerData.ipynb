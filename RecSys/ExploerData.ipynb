{
 "cells": [
  {
   "cell_type": "code",
   "execution_count": 1,
   "metadata": {},
   "outputs": [],
   "source": [
    "from time import time\n",
    "import numpy as np\n",
    "import matplotlib.pyplot as plt\n",
    "import pandas as pd\n",
    "import re\n",
    "import os\n",
    "import json\n",
    "import networkx as nx\n",
    "from tqdm import tqdm"
   ]
  },
  {
   "cell_type": "code",
   "execution_count": 2,
   "metadata": {},
   "outputs": [],
   "source": [
    "with open('Data/ozon_train.txt') as f:\n",
    "    df_train = pd.DataFrame(json.loads(line) for line in f)"
   ]
  },
  {
   "cell_type": "code",
   "execution_count": 3,
   "metadata": {},
   "outputs": [],
   "source": [
    "with open('Data/catalog_path') as f:\n",
    "    df_ctl_path = pd.DataFrame(json.loads(line) for line in f)"
   ]
  },
  {
   "cell_type": "code",
   "execution_count": 4,
   "metadata": {},
   "outputs": [],
   "source": [
    "with open('Data/catalogs') as f:\n",
    "    df_ctl = pd.DataFrame(json.loads(line) for line in f)"
   ]
  },
  {
   "cell_type": "code",
   "execution_count": 5,
   "metadata": {},
   "outputs": [
    {
     "name": "stdout",
     "output_type": "stream",
     "text": [
      "10\n"
     ]
    }
   ],
   "source": [
    "max_len = 0\n",
    "path_len = []\n",
    "for row in range(len(df_ctl_path)):\n",
    "    if len(df_ctl_path.iloc[row]['catalogpath']) > max_len:\n",
    "        max_len = len(df_ctl_path.iloc[row]['catalogpath'])\n",
    "    path_len.append(len(df_ctl_path.iloc[row]['catalogpath']))\n",
    "print max_len"
   ]
  },
  {
   "cell_type": "code",
   "execution_count": 6,
   "metadata": {},
   "outputs": [
    {
     "data": {
      "image/png": "[encoded data removed]",
      "text/plain": [
       "<matplotlib.figure.Figure at 0x7fbe2a5d7b50>"
      ]
     },
     "metadata": {},
     "output_type": "display_data"
    }
   ],
   "source": [
    "plt.hist(path_len, bins=10, alpha=0.5)\n",
    "plt.show()"
   ]
  },
  {
   "cell_type": "code",
   "execution_count": 7,
   "metadata": {},
   "outputs": [
    {
     "name": "stderr",
     "output_type": "stream",
     "text": [
      "100%|██████████| 54504/54504 [16:45<00:00, 54.23it/s] \n"
     ]
    }
   ],
   "source": [
    "ctl_pairs = []\n",
    "ctl_dict ={}\n",
    "for row in tqdm(range(len(df_ctl_path))):\n",
    "    for link in range(len(df_ctl_path.iloc[row]['catalogpath'])):\n",
    "        if not df_ctl_path.iloc[row]['catalogpath'][link].keys()[0] in ctl_dict.keys():\n",
    "            ctl_dict.update(df_ctl_path.iloc[row]['catalogpath'][link])\n",
    "        ctl_pairs.append([str(df_ctl_path.iloc[row]['catalogid']),\\\n",
    "                          df_ctl_path.iloc[row]['catalogpath'][link].keys()[0]])"
   ]
  },
  {
   "cell_type": "code",
   "execution_count": 8,
   "metadata": {},
   "outputs": [],
   "source": [
    "for key in ctl_dict.keys():\n",
    "    ctl_dict[key] =ctl_dict.get(key).strip()"
   ]
  },
  {
   "cell_type": "code",
   "execution_count": 9,
   "metadata": {},
   "outputs": [
    {
     "name": "stderr",
     "output_type": "stream",
     "text": [
      "100%|██████████| 54504/54504 [00:06<00:00, 7887.96it/s]\n"
     ]
    }
   ],
   "source": [
    "G=nx.Graph()\n",
    "for row in tqdm(range(len(df_ctl_path))):\n",
    "    G.add_node(str(df_ctl_path.iloc[row]['catalogid']))"
   ]
  },
  {
   "cell_type": "code",
   "execution_count": 10,
   "metadata": {
    "collapsed": true
   },
   "outputs": [],
   "source": [
    "for pair in ctl_pairs:\n",
    "    G.add_edge(pair[0],pair[1])"
   ]
  },
  {
   "cell_type": "code",
   "execution_count": 11,
   "metadata": {},
   "outputs": [
    {
     "data": {
      "text/html": [
       "<div>\n",
       "<table border=\"1\" class=\"dataframe\">\n",
       "  <thead>\n",
       "    <tr style=\"text-align: right;\">\n",
       "      <th></th>\n",
       "      <th>item</th>\n",
       "      <th>true_recoms</th>\n",
       "      <th>catalogid</th>\n",
       "    </tr>\n",
       "  </thead>\n",
       "  <tbody>\n",
       "    <tr>\n",
       "      <th>0</th>\n",
       "      <td>31471303</td>\n",
       "      <td>{u'31471373': 1, u'31471307': 3, u'31471342': 1}</td>\n",
       "      <td>1146150</td>\n",
       "    </tr>\n",
       "    <tr>\n",
       "      <th>1</th>\n",
       "      <td>31489016</td>\n",
       "      <td>{u'31760003': 1, u'31418187': 1, u'31418153': ...</td>\n",
       "      <td>1134295</td>\n",
       "    </tr>\n",
       "    <tr>\n",
       "      <th>2</th>\n",
       "      <td>5629613</td>\n",
       "      <td>{u'19063915': 6, u'5821229': 1, u'19063895': 5...</td>\n",
       "      <td>1146151</td>\n",
       "    </tr>\n",
       "    <tr>\n",
       "      <th>3</th>\n",
       "      <td>24829740</td>\n",
       "      <td>{u'32610140': 1, u'24829738': 1, u'24702299': 1}</td>\n",
       "      <td>1177309</td>\n",
       "    </tr>\n",
       "    <tr>\n",
       "      <th>4</th>\n",
       "      <td>29185962</td>\n",
       "      <td>{u'1493930': 1, u'3711112': 1, u'33395696': 1}</td>\n",
       "      <td>1141544</td>\n",
       "    </tr>\n",
       "    <tr>\n",
       "      <th>5</th>\n",
       "      <td>20063162</td>\n",
       "      <td>{u'4877941': 1, u'5705796': 2, u'6043090': 11,...</td>\n",
       "      <td>1139400</td>\n",
       "    </tr>\n",
       "    <tr>\n",
       "      <th>6</th>\n",
       "      <td>20063162</td>\n",
       "      <td>{u'4877941': 1, u'5705796': 2, u'6043090': 11,...</td>\n",
       "      <td>1139414</td>\n",
       "    </tr>\n",
       "    <tr>\n",
       "      <th>7</th>\n",
       "      <td>30232057</td>\n",
       "      <td>{u'30232028': 1, u'30232031': 1, u'30232026': ...</td>\n",
       "      <td>1179519</td>\n",
       "    </tr>\n",
       "    <tr>\n",
       "      <th>8</th>\n",
       "      <td>30232057</td>\n",
       "      <td>{u'30232028': 1, u'30232031': 1, u'30232026': ...</td>\n",
       "      <td>1159236</td>\n",
       "    </tr>\n",
       "    <tr>\n",
       "      <th>9</th>\n",
       "      <td>32966349</td>\n",
       "      <td>{u'32429470': 2, u'32865418': 2, u'26221282': 1}</td>\n",
       "      <td>1146140</td>\n",
       "    </tr>\n",
       "  </tbody>\n",
       "</table>\n",
       "</div>"
      ],
      "text/plain": [
       "       item                                        true_recoms catalogid\n",
       "0  31471303   {u'31471373': 1, u'31471307': 3, u'31471342': 1}   1146150\n",
       "1  31489016  {u'31760003': 1, u'31418187': 1, u'31418153': ...   1134295\n",
       "2   5629613  {u'19063915': 6, u'5821229': 1, u'19063895': 5...   1146151\n",
       "3  24829740   {u'32610140': 1, u'24829738': 1, u'24702299': 1}   1177309\n",
       "4  29185962     {u'1493930': 1, u'3711112': 1, u'33395696': 1}   1141544\n",
       "5  20063162  {u'4877941': 1, u'5705796': 2, u'6043090': 11,...   1139400\n",
       "6  20063162  {u'4877941': 1, u'5705796': 2, u'6043090': 11,...   1139414\n",
       "7  30232057  {u'30232028': 1, u'30232031': 1, u'30232026': ...   1179519\n",
       "8  30232057  {u'30232028': 1, u'30232031': 1, u'30232026': ...   1159236\n",
       "9  32966349   {u'32429470': 2, u'32865418': 2, u'26221282': 1}   1146140"
      ]
     },
     "execution_count": 11,
     "metadata": {},
     "output_type": "execute_result"
    }
   ],
   "source": [
    "df_train_ctl = df_train.merge(df_ctl,left_on='item', right_on='itemid')\n",
    "del df_train_ctl['itemid']\n",
    "df_train_ctl.head(10)"
   ]
  },
  {
   "cell_type": "markdown",
   "metadata": {},
   "source": [
    "Степень узла для каждой категории товара"
   ]
  },
  {
   "cell_type": "code",
   "execution_count": 12,
   "metadata": {},
   "outputs": [],
   "source": [
    "df_train_ctl['degree_ctl'] = df_train_ctl['catalogid'].apply(lambda x: nx.degree(G,x))   "
   ]
  },
  {
   "cell_type": "markdown",
   "metadata": {},
   "source": [
    "Среднее степень узлов плижайшего окружения"
   ]
  },
  {
   "cell_type": "code",
   "execution_count": 13,
   "metadata": {},
   "outputs": [],
   "source": [
    "avg_nei_degree_dict = nx.average_neighbor_degree(G)\n",
    "df_train_ctl['avg_nei_degree'] = df_train_ctl['catalogid'].apply(lambda x: avg_nei_degree_dict[x])"
   ]
  },
  {
   "cell_type": "markdown",
   "metadata": {},
   "source": [
    "Число усзлов в локальной компоненте связанности"
   ]
  },
  {
   "cell_type": "code",
   "execution_count": null,
   "metadata": {},
   "outputs": [
    {
     "name": "stderr",
     "output_type": "stream",
     "text": [
      " 23%|██▎       | 42551/188048 [19:00<106:15:23,  2.63s/it]"
     ]
    }
   ],
   "source": [
    "tqdm.pandas()\n",
    "df_train_ctl['num_nodes_comp'] = df_train_ctl['catalogid'].progress_apply(lambda x: nx.node_connected_component(G, x))"
   ]
  },
  {
   "cell_type": "markdown",
   "metadata": {},
   "source": [
    "Функция для поиска общих категорий"
   ]
  },
  {
   "cell_type": "code",
   "execution_count": 22,
   "metadata": {},
   "outputs": [
    {
     "data": {
      "text/plain": [
       "[u'1132524', u'1145470']"
      ]
     },
     "execution_count": 22,
     "metadata": {},
     "output_type": "execute_result"
    }
   ],
   "source": [
    "list(nx.common_neighbors(G, '1146150', '1177309'))"
   ]
  },
  {
   "cell_type": "code",
   "execution_count": 12,
   "metadata": {},
   "outputs": [
    {
     "name": "stdout",
     "output_type": "stream",
     "text": [
      "Welcome to\n",
      "      ____              __\n",
      "     / __/__  ___ _____/ /__\n",
      "    _\\ \\/ _ \\/ _ `/ __/  '_/\n",
      "   /__ / .__/\\_,_/_/ /_/\\_\\   version 2.1.1\n",
      "      /_/\n",
      "\n",
      "Using Python version 2.7.6 (default, Oct 26 2016 20:30:19)\n",
      "SparkSession available as 'spark'.\n"
     ]
    }
   ],
   "source": [
    "import os\n",
    "import sys\n",
    "\n",
    "os.environ[\"PYSPARK_SUBMIT_ARGS\"]='--packages com.databricks:spark-csv_2.10:1.2.0 pyspark-shell'\n",
    "spark_home = os.environ.get('SPARK_HOME', None)\n",
    "sys.path.insert(0, spark_home + \"/python\")\n",
    "\n",
    "execfile(os.path.join(spark_home, 'python/pyspark/shell.py'))"
   ]
  },
  {
   "cell_type": "code",
   "execution_count": 40,
   "metadata": {},
   "outputs": [],
   "source": [
    "df = spark.createDataFrame(df_train_ctl)"
   ]
  },
  {
   "cell_type": "code",
   "execution_count": 50,
   "metadata": {},
   "outputs": [],
   "source": [
    "from pyspark.sql.types import IntegerType\n",
    "from pyspark.sql.functions import udf\n",
    "\n",
    "num_node_comp = udf(lambda x: len(nx.node_connected_component(G, x)), IntegerType())\n",
    "num_node_comp = df.withColumn('num_node_comp', num_node_comp(df['catalogid']))"
   ]
  },
  {
   "cell_type": "code",
   "execution_count": null,
   "metadata": {
    "collapsed": true
   },
   "outputs": [],
   "source": []
  }
 ],
 "metadata": {
  "kernelspec": {
   "display_name": "Python 2",
   "language": "python",
   "name": "python2"
  },
  "language_info": {
   "codemirror_mode": {
    "name": "ipython",
    "version": 2
   },
   "file_extension": ".py",
   "mimetype": "text/x-python",
   "name": "python",
   "nbconvert_exporter": "python",
   "pygments_lexer": "ipython2",
   "version": "2.7.6"
  }
 },
 "nbformat": 4,
 "nbformat_minor": 2
}
