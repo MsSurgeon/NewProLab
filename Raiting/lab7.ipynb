{
 "cells": [
  {
   "cell_type": "code",
   "execution_count": 1,
   "metadata": {
    "collapsed": false
   },
   "outputs": [
    {
     "name": "stdout",
     "output_type": "stream",
     "text": [
      "Welcome to\n",
      "      ____              __\n",
      "     / __/__  ___ _____/ /__\n",
      "    _\\ \\/ _ \\/ _ `/ __/  '_/\n",
      "   /__ / .__/\\_,_/_/ /_/\\_\\   version 2.0.2\n",
      "      /_/\n",
      "\n",
      "Using Python version 2.7.6 (default, Mar 22 2014 22:59:56)\n",
      "SparkSession available as 'spark'.\n"
     ]
    }
   ],
   "source": [
    "import os\n",
    "os.environ[\"PYSPARK_SUBMIT_ARGS\"]='--packages com.databricks:spark-csv_2.10:1.3.0 pyspark-shell'\n",
    "execfile(os.path.join(os.environ[\"SPARK_HOME\"], 'python/pyspark/shell.py'))"
   ]
  },
  {
   "cell_type": "code",
   "execution_count": 2,
   "metadata": {
    "collapsed": true
   },
   "outputs": [],
   "source": [
    "import json"
   ]
  },
  {
   "cell_type": "code",
   "execution_count": 1,
   "metadata": {
    "collapsed": false
   },
   "outputs": [
    {
     "data": {
      "text/plain": [
       "''"
      ]
     },
     "execution_count": 1,
     "metadata": {},
     "output_type": "execute_result"
    }
   ],
   "source": [
    "sc"
   ]
  },
  {
   "cell_type": "code",
   "execution_count": 4,
   "metadata": {
    "collapsed": true
   },
   "outputs": [],
   "source": [
    "t = sc.textFile('lab7/u.data')"
   ]
  },
  {
   "cell_type": "code",
   "execution_count": 5,
   "metadata": {
    "collapsed": false
   },
   "outputs": [
    {
     "data": {
      "text/plain": [
       "lab7/u.data MapPartitionsRDD[1] at textFile at NativeMethodAccessorImpl.java:-2"
      ]
     },
     "execution_count": 5,
     "metadata": {},
     "output_type": "execute_result"
    }
   ],
   "source": [
    "t"
   ]
  },
  {
   "cell_type": "code",
   "execution_count": 6,
   "metadata": {
    "collapsed": false
   },
   "outputs": [
    {
     "data": {
      "text/plain": [
       "[u'196\\t242\\t3\\t881250949',\n",
       " u'186\\t302\\t3\\t891717742',\n",
       " u'22\\t377\\t1\\t878887116']"
      ]
     },
     "execution_count": 6,
     "metadata": {},
     "output_type": "execute_result"
    }
   ],
   "source": [
    "t.take(3)"
   ]
  },
  {
   "cell_type": "code",
   "execution_count": 5,
   "metadata": {
    "collapsed": false
   },
   "outputs": [],
   "source": [
    "t2=t.map(lambda x: x.split())"
   ]
  },
  {
   "cell_type": "code",
   "execution_count": 59,
   "metadata": {
    "collapsed": true
   },
   "outputs": [],
   "source": [
    "x=(1,2,3)"
   ]
  },
  {
   "cell_type": "code",
   "execution_count": 64,
   "metadata": {
    "collapsed": false
   },
   "outputs": [
    {
     "ename": "IndexError",
     "evalue": "tuple index out of range",
     "output_type": "error",
     "traceback": [
      "\u001b[1;31m---------------------------------------------------------------------------\u001b[0m",
      "\u001b[1;31mIndexError\u001b[0m                                Traceback (most recent call last)",
      "\u001b[1;32m<ipython-input-64-ed224ad0520d>\u001b[0m in \u001b[0;36m<module>\u001b[1;34m()\u001b[0m\n\u001b[1;32m----> 1\u001b[1;33m \u001b[0mx\u001b[0m\u001b[1;33m[\u001b[0m\u001b[1;36m3\u001b[0m\u001b[1;33m]\u001b[0m\u001b[1;33m\u001b[0m\u001b[0m\n\u001b[0m",
      "\u001b[1;31mIndexError\u001b[0m: tuple index out of range"
     ]
    }
   ],
   "source": []
  },
  {
   "cell_type": "code",
   "execution_count": 161,
   "metadata": {
    "collapsed": false
   },
   "outputs": [
    {
     "data": {
      "text/plain": [
       "[(7, 600, 4), (932, 600, 2)]"
      ]
     },
     "execution_count": 161,
     "metadata": {},
     "output_type": "execute_result"
    }
   ],
   "source": [
    "t2.map(lambda x: (int(x[0]), int(x[1]), int(x[2]))).filter(lambda x: x[1]==600 ).take(100)"
   ]
  },
  {
   "cell_type": "code",
   "execution_count": 6,
   "metadata": {
    "collapsed": true
   },
   "outputs": [],
   "source": [
    "t2=t2.map(lambda x: (int(x[0]), int(x[1]), int(x[2])))"
   ]
  },
  {
   "cell_type": "code",
   "execution_count": 7,
   "metadata": {
    "collapsed": false
   },
   "outputs": [
    {
     "data": {
      "text/plain": [
       "PythonRDD[2] at RDD at PythonRDD.scala:48"
      ]
     },
     "execution_count": 7,
     "metadata": {},
     "output_type": "execute_result"
    }
   ],
   "source": [
    "t2.cache()"
   ]
  },
  {
   "cell_type": "markdown",
   "metadata": {},
   "source": [
    "# ТОп 10 фильмов"
   ]
  },
  {
   "cell_type": "code",
   "execution_count": 29,
   "metadata": {
    "collapsed": false
   },
   "outputs": [
    {
     "data": {
      "text/plain": [
       "[(50, 583),\n",
       " (258, 509),\n",
       " (100, 508),\n",
       " (181, 507),\n",
       " (294, 485),\n",
       " (286, 481),\n",
       " (288, 478),\n",
       " (1, 452),\n",
       " (300, 431),\n",
       " (121, 429)]"
      ]
     },
     "execution_count": 29,
     "metadata": {},
     "output_type": "execute_result"
    }
   ],
   "source": [
    "top10_rates = t2.map(lambda x: (x[1],1)).reduceByKey(lambda a,b: a+b).takeOrdered(10, lambda x: -x[1])\n",
    "t2.map(lambda x: (x[1],1)).reduceByKey(lambda a,b: a+b).takeOrdered(10, lambda x: -x[1])\n"
   ]
  },
  {
   "cell_type": "code",
   "execution_count": 30,
   "metadata": {
    "collapsed": false
   },
   "outputs": [
    {
     "data": {
      "text/plain": [
       "[(1, 452),\n",
       " (2, 131),\n",
       " (3, 90),\n",
       " (4, 209),\n",
       " (5, 86),\n",
       " (6, 26),\n",
       " (7, 392),\n",
       " (8, 219),\n",
       " (9, 299),\n",
       " (10, 89),\n",
       " (11, 236),\n",
       " (12, 267),\n",
       " (13, 184),\n",
       " (14, 183),\n",
       " (15, 293),\n",
       " (16, 39),\n",
       " (17, 92),\n",
       " (18, 10),\n",
       " (19, 69),\n",
       " (20, 72),\n",
       " (21, 84),\n",
       " (22, 297),\n",
       " (23, 182),\n",
       " (24, 174),\n",
       " (25, 293),\n",
       " (26, 73),\n",
       " (27, 57),\n",
       " (28, 276),\n",
       " (29, 114),\n",
       " (30, 37),\n",
       " (31, 154),\n",
       " (32, 81),\n",
       " (33, 97),\n",
       " (34, 7),\n",
       " (35, 11),\n",
       " (36, 13),\n",
       " (37, 8),\n",
       " (38, 120),\n",
       " (39, 87),\n",
       " (40, 57),\n",
       " (41, 37),\n",
       " (42, 148),\n",
       " (43, 40),\n",
       " (44, 79),\n",
       " (45, 80),\n",
       " (46, 27),\n",
       " (47, 133),\n",
       " (48, 117),\n",
       " (49, 81),\n",
       " (50, 583),\n",
       " (51, 81),\n",
       " (52, 91),\n",
       " (53, 128),\n",
       " (54, 104),\n",
       " (55, 149),\n",
       " (56, 394),\n",
       " (57, 40),\n",
       " (58, 175),\n",
       " (59, 83),\n",
       " (60, 64),\n",
       " (61, 59),\n",
       " (62, 127),\n",
       " (63, 82),\n",
       " (64, 283),\n",
       " (65, 115),\n",
       " (66, 162),\n",
       " (67, 103),\n",
       " (68, 134),\n",
       " (69, 321),\n",
       " (70, 251),\n",
       " (71, 220),\n",
       " (72, 129),\n",
       " (73, 128),\n",
       " (74, 7),\n",
       " (75, 5),\n",
       " (76, 54),\n",
       " (77, 151),\n",
       " (78, 33),\n",
       " (79, 336),\n",
       " (80, 68),\n",
       " (81, 110),\n",
       " (82, 261),\n",
       " (83, 176),\n",
       " (84, 18),\n",
       " (85, 58),\n",
       " (86, 150),\n",
       " (87, 138),\n",
       " (88, 213),\n",
       " (89, 275),\n",
       " (90, 95),\n",
       " (91, 143),\n",
       " (92, 104),\n",
       " (93, 112),\n",
       " (94, 137),\n",
       " (95, 219),\n",
       " (96, 295),\n",
       " (97, 256),\n",
       " (98, 390),\n",
       " (99, 172),\n",
       " (100, 508),\n",
       " (101, 73),\n",
       " (102, 54),\n",
       " (103, 15),\n",
       " (104, 5),\n",
       " (105, 74),\n",
       " (106, 71),\n",
       " (107, 42),\n",
       " (108, 65),\n",
       " (109, 130),\n",
       " (110, 31),\n",
       " (111, 272),\n",
       " (112, 20),\n",
       " (113, 9),\n",
       " (114, 67),\n",
       " (115, 15),\n",
       " (116, 125),\n",
       " (117, 378),\n",
       " (118, 293),\n",
       " (119, 4),\n",
       " (120, 67),\n",
       " (121, 429),\n",
       " (122, 106),\n",
       " (123, 115),\n",
       " (124, 187),\n",
       " (125, 244),\n",
       " (126, 97),\n",
       " (127, 413),\n",
       " (128, 65),\n",
       " (129, 129),\n",
       " (130, 23),\n",
       " (131, 95),\n",
       " (132, 246),\n",
       " (133, 171),\n",
       " (134, 198),\n",
       " (135, 259),\n",
       " (136, 105),\n",
       " (137, 171),\n",
       " (138, 19),\n",
       " (139, 50),\n",
       " (140, 61),\n",
       " (141, 72),\n",
       " (142, 57),\n",
       " (143, 222),\n",
       " (144, 243),\n",
       " (145, 65),\n",
       " (146, 10),\n",
       " (147, 185),\n",
       " (148, 128),\n",
       " (149, 23),\n",
       " (150, 157),\n",
       " (151, 326),\n",
       " (152, 82),\n",
       " (153, 247),\n",
       " (154, 174),\n",
       " (155, 98),\n",
       " (156, 148),\n",
       " (157, 127),\n",
       " (158, 60),\n",
       " (159, 101),\n",
       " (160, 69),\n",
       " (161, 220),\n",
       " (162, 106),\n",
       " (163, 92),\n",
       " (164, 151),\n",
       " (165, 64),\n",
       " (166, 58),\n",
       " (167, 67),\n",
       " (168, 316),\n",
       " (169, 118),\n",
       " (170, 121),\n",
       " (171, 65),\n",
       " (172, 367),\n",
       " (173, 324),\n",
       " (174, 420),\n",
       " (175, 208),\n",
       " (176, 284),\n",
       " (177, 137),\n",
       " (178, 125),\n",
       " (179, 221),\n",
       " (180, 221),\n",
       " (181, 507),\n",
       " (182, 226),\n",
       " (183, 291),\n",
       " (184, 116),\n",
       " (185, 239),\n",
       " (186, 251),\n",
       " (187, 209),\n",
       " (188, 170),\n",
       " (189, 66),\n",
       " (190, 124),\n",
       " (191, 276),\n",
       " (192, 116),\n",
       " (193, 157),\n",
       " (194, 241),\n",
       " (195, 301),\n",
       " (196, 251),\n",
       " (197, 239),\n",
       " (198, 127),\n",
       " (199, 165),\n",
       " (200, 206),\n",
       " (201, 89),\n",
       " (202, 280),\n",
       " (203, 182),\n",
       " (204, 350),\n",
       " (205, 136),\n",
       " (206, 50),\n",
       " (207, 66),\n",
       " (208, 200),\n",
       " (209, 191),\n",
       " (210, 331),\n",
       " (211, 206),\n",
       " (212, 92),\n",
       " (213, 134),\n",
       " (214, 114),\n",
       " (215, 212),\n",
       " (216, 290),\n",
       " (217, 120),\n",
       " (218, 171),\n",
       " (219, 111),\n",
       " (220, 66),\n",
       " (221, 74),\n",
       " (222, 365),\n",
       " (223, 136),\n",
       " (224, 44),\n",
       " (225, 109),\n",
       " (226, 166),\n",
       " (227, 161),\n",
       " (228, 244),\n",
       " (229, 171),\n",
       " (230, 199),\n",
       " (231, 142),\n",
       " (232, 101),\n",
       " (233, 124),\n",
       " (234, 280),\n",
       " (235, 217),\n",
       " (236, 45),\n",
       " (237, 384),\n",
       " (238, 256),\n",
       " (239, 150),\n",
       " (240, 156),\n",
       " (241, 128),\n",
       " (242, 117),\n",
       " (243, 132),\n",
       " (244, 48),\n",
       " (245, 240),\n",
       " (246, 124),\n",
       " (247, 5),\n",
       " (248, 160),\n",
       " (249, 130),\n",
       " (250, 197),\n",
       " (251, 46),\n",
       " (252, 158),\n",
       " (253, 26),\n",
       " (254, 62),\n",
       " (255, 172),\n",
       " (256, 16),\n",
       " (257, 303),\n",
       " (258, 509),\n",
       " (259, 162),\n",
       " (260, 127),\n",
       " (261, 43),\n",
       " (262, 66),\n",
       " (263, 19),\n",
       " (264, 101),\n",
       " (265, 227),\n",
       " (266, 35),\n",
       " (267, 9),\n",
       " (268, 255),\n",
       " (269, 315),\n",
       " (270, 136),\n",
       " (271, 211),\n",
       " (272, 198),\n",
       " (273, 223),\n",
       " (274, 190),\n",
       " (275, 268),\n",
       " (276, 298),\n",
       " (277, 71),\n",
       " (278, 60),\n",
       " (279, 28),\n",
       " (280, 85),\n",
       " (281, 146),\n",
       " (282, 232),\n",
       " (283, 177),\n",
       " (284, 193),\n",
       " (285, 162),\n",
       " (286, 481),\n",
       " (287, 78),\n",
       " (288, 478),\n",
       " (289, 259),\n",
       " (290, 96),\n",
       " (291, 127),\n",
       " (292, 114),\n",
       " (293, 147),\n",
       " (294, 485),\n",
       " (295, 77),\n",
       " (296, 6),\n",
       " (297, 50),\n",
       " (298, 194),\n",
       " (299, 73),\n",
       " (300, 431),\n",
       " (301, 230),\n",
       " (302, 297),\n",
       " (303, 134),\n",
       " (304, 149),\n",
       " (305, 87),\n",
       " (306, 96),\n",
       " (307, 188),\n",
       " (308, 30),\n",
       " (309, 28),\n",
       " (310, 145),\n",
       " (311, 75),\n",
       " (312, 80),\n",
       " (313, 350),\n",
       " (314, 5),\n",
       " (315, 160),\n",
       " (316, 112),\n",
       " (317, 102),\n",
       " (318, 298),\n",
       " (319, 168),\n",
       " (320, 20),\n",
       " (321, 169),\n",
       " (322, 218),\n",
       " (323, 240),\n",
       " (324, 125),\n",
       " (325, 128),\n",
       " (326, 175),\n",
       " (327, 175),\n",
       " (328, 295),\n",
       " (329, 45),\n",
       " (330, 41),\n",
       " (331, 113),\n",
       " (332, 143),\n",
       " (333, 251),\n",
       " (334, 64),\n",
       " (335, 21),\n",
       " (336, 43),\n",
       " (337, 18),\n",
       " (338, 91),\n",
       " (339, 47),\n",
       " (340, 189),\n",
       " (341, 11),\n",
       " (342, 52),\n",
       " (343, 124),\n",
       " (344, 55),\n",
       " (345, 65),\n",
       " (346, 126),\n",
       " (347, 137),\n",
       " (348, 27),\n",
       " (349, 31),\n",
       " (350, 41),\n",
       " (351, 20),\n",
       " (352, 26),\n",
       " (353, 14),\n",
       " (354, 72),\n",
       " (355, 41),\n",
       " (356, 97),\n",
       " (357, 264),\n",
       " (358, 143),\n",
       " (359, 18),\n",
       " (360, 10),\n",
       " (361, 10),\n",
       " (362, 28),\n",
       " (363, 47),\n",
       " (364, 37),\n",
       " (365, 48),\n",
       " (366, 47),\n",
       " (367, 170),\n",
       " (368, 31),\n",
       " (369, 55),\n",
       " (370, 39),\n",
       " (371, 67),\n",
       " (372, 34),\n",
       " (373, 39),\n",
       " (374, 11),\n",
       " (375, 23),\n",
       " (376, 24),\n",
       " (377, 13),\n",
       " (378, 101),\n",
       " (379, 43),\n",
       " (380, 116),\n",
       " (381, 100),\n",
       " (382, 111),\n",
       " (383, 31),\n",
       " (384, 69),\n",
       " (385, 208),\n",
       " (386, 87),\n",
       " (387, 65),\n",
       " (388, 28),\n",
       " (389, 27),\n",
       " (390, 10),\n",
       " (391, 59),\n",
       " (392, 68),\n",
       " (393, 192),\n",
       " (394, 12),\n",
       " (395, 56),\n",
       " (396, 54),\n",
       " (397, 12),\n",
       " (398, 26),\n",
       " (399, 89),\n",
       " (400, 18),\n",
       " (401, 76),\n",
       " (402, 170),\n",
       " (403, 201),\n",
       " (404, 101),\n",
       " (405, 344),\n",
       " (406, 49),\n",
       " (407, 43),\n",
       " (408, 112),\n",
       " (409, 70),\n",
       " (410, 162),\n",
       " (411, 163),\n",
       " (412, 93),\n",
       " (413, 55),\n",
       " (414, 62),\n",
       " (415, 25),\n",
       " (416, 64),\n",
       " (417, 73),\n",
       " (418, 129),\n",
       " (419, 178),\n",
       " (420, 81),\n",
       " (421, 106),\n",
       " (422, 26),\n",
       " (423, 300),\n",
       " (424, 19),\n",
       " (425, 85),\n",
       " (426, 32),\n",
       " (427, 219),\n",
       " (428, 121),\n",
       " (429, 97),\n",
       " (430, 93),\n",
       " (431, 153),\n",
       " (432, 174),\n",
       " (433, 171),\n",
       " (434, 67),\n",
       " (435, 216),\n",
       " (436, 99),\n",
       " (437, 5),\n",
       " (438, 6),\n",
       " (439, 5),\n",
       " (440, 14),\n",
       " (441, 53),\n",
       " (442, 4),\n",
       " (443, 162),\n",
       " (444, 46),\n",
       " (445, 22),\n",
       " (446, 9),\n",
       " (447, 121),\n",
       " (448, 85),\n",
       " (449, 117),\n",
       " (450, 63),\n",
       " (451, 170),\n",
       " (452, 66),\n",
       " (453, 16),\n",
       " (454, 16),\n",
       " (455, 145),\n",
       " (456, 48),\n",
       " (457, 27),\n",
       " (458, 90),\n",
       " (459, 24),\n",
       " (460, 28),\n",
       " (461, 74),\n",
       " (462, 148),\n",
       " (463, 71),\n",
       " (464, 27),\n",
       " (465, 85),\n",
       " (466, 52),\n",
       " (467, 48),\n",
       " (468, 64),\n",
       " (469, 67),\n",
       " (470, 108),\n",
       " (471, 221),\n",
       " (472, 158),\n",
       " (473, 126),\n",
       " (474, 194),\n",
       " (475, 250),\n",
       " (476, 160),\n",
       " (477, 95),\n",
       " (478, 104),\n",
       " (479, 179),\n",
       " (480, 179),\n",
       " (481, 63),\n",
       " (482, 128),\n",
       " (483, 243),\n",
       " (484, 138),\n",
       " (485, 125),\n",
       " (486, 64),\n",
       " (487, 68),\n",
       " (488, 65),\n",
       " (489, 52),\n",
       " (490, 50),\n",
       " (491, 67),\n",
       " (492, 59),\n",
       " (493, 60),\n",
       " (494, 56),\n",
       " (495, 59),\n",
       " (496, 231),\n",
       " (497, 68),\n",
       " (498, 152),\n",
       " (499, 62),\n",
       " (500, 31),\n",
       " (501, 123),\n",
       " (502, 57),\n",
       " (503, 39),\n",
       " (504, 122),\n",
       " (505, 68),\n",
       " (506, 90),\n",
       " (507, 98),\n",
       " (508, 215),\n",
       " (509, 121),\n",
       " (510, 121),\n",
       " (511, 173),\n",
       " (512, 57),\n",
       " (513, 72),\n",
       " (514, 180),\n",
       " (515, 201),\n",
       " (516, 63),\n",
       " (517, 91),\n",
       " (518, 89),\n",
       " (519, 80),\n",
       " (520, 124),\n",
       " (521, 120),\n",
       " (522, 35),\n",
       " (523, 164),\n",
       " (524, 46),\n",
       " (525, 73),\n",
       " (526, 124),\n",
       " (527, 195),\n",
       " (528, 121),\n",
       " (529, 93),\n",
       " (530, 80),\n",
       " (531, 129),\n",
       " (532, 22),\n",
       " (533, 15),\n",
       " (534, 13),\n",
       " (535, 54),\n",
       " (536, 10),\n",
       " (537, 30),\n",
       " (538, 66),\n",
       " (539, 44),\n",
       " (540, 43),\n",
       " (541, 49),\n",
       " (542, 51),\n",
       " (543, 21),\n",
       " (544, 71),\n",
       " (545, 12),\n",
       " (546, 254),\n",
       " (547, 41),\n",
       " (548, 12),\n",
       " (549, 92),\n",
       " (550, 151),\n",
       " (551, 24),\n",
       " (552, 45),\n",
       " (553, 63),\n",
       " (554, 102),\n",
       " (555, 10),\n",
       " (556, 12),\n",
       " (557, 17),\n",
       " (558, 70),\n",
       " (559, 137),\n",
       " (560, 22),\n",
       " (561, 59),\n",
       " (562, 48),\n",
       " (563, 29),\n",
       " (564, 27),\n",
       " (565, 22),\n",
       " (566, 179),\n",
       " (567, 35),\n",
       " (568, 230),\n",
       " (569, 67),\n",
       " (570, 50),\n",
       " (571, 28),\n",
       " (572, 29),\n",
       " (573, 33),\n",
       " (574, 15),\n",
       " (575, 44),\n",
       " (576, 93),\n",
       " (577, 41),\n",
       " (578, 92),\n",
       " (579, 19),\n",
       " (580, 32),\n",
       " (581, 59),\n",
       " (582, 168),\n",
       " (583, 37),\n",
       " (584, 79),\n",
       " (585, 39),\n",
       " (586, 34),\n",
       " (587, 14),\n",
       " (588, 202),\n",
       " (589, 43),\n",
       " (590, 18),\n",
       " (591, 178),\n",
       " (592, 9),\n",
       " (593, 12),\n",
       " (594, 5),\n",
       " (595, 64),\n",
       " (596, 127),\n",
       " (597, 206),\n",
       " (598, 4),\n",
       " (599, 1),\n",
       " (600, 2)]"
      ]
     },
     "execution_count": 30,
     "metadata": {},
     "output_type": "execute_result"
    }
   ],
   "source": [
    "top10_rates_prepare = t2.map(lambda x: (x[1],1)).reduceByKey(lambda a,b: a+b)\n",
    "top10_rates_prepare.takeOrdered(600)"
   ]
  },
  {
   "cell_type": "code",
   "execution_count": 31,
   "metadata": {
    "collapsed": false
   },
   "outputs": [
    {
     "name": "stdout",
     "output_type": "stream",
     "text": [
      "50,\n",
      "258,\n",
      "100,\n",
      "181,\n",
      "294,\n",
      "286,\n",
      "288,\n",
      "1,\n",
      "300,\n",
      "121,\n"
     ]
    }
   ],
   "source": [
    "for each in top10_rates:\n",
    "    print (str(each[0]) + ',')"
   ]
  },
  {
   "cell_type": "code",
   "execution_count": 108,
   "metadata": {
    "collapsed": false
   },
   "outputs": [
    {
     "data": {
      "text/plain": [
       "'[258, 509]'"
      ]
     },
     "execution_count": 108,
     "metadata": {},
     "output_type": "execute_result"
    }
   ],
   "source": [
    "top10_rates = t2.map(lambda x: (x[1],1)).reduceByKey(lambda a,b: a+b)"
   ]
  },
  {
   "cell_type": "code",
   "execution_count": null,
   "metadata": {
    "collapsed": true
   },
   "outputs": [],
   "source": []
  },
  {
   "cell_type": "markdown",
   "metadata": {},
   "source": [
    "Готовим данные для обсечета среднего по фильмам, для этого посчитаем сумму оценок и их число для кажого фильма "
   ]
  },
  {
   "cell_type": "code",
   "execution_count": 126,
   "metadata": {
    "collapsed": false
   },
   "outputs": [],
   "source": [
    "top10_average_prepare = t2.map(lambda x: (x[1],x[2])).aggregateByKey((0,0), \\\n",
    "              lambda acc,value: (acc[0]+value, acc[1]+1),\\\n",
    "              lambda acc1,acc2:(acc1[0]+acc2[0],acc1[1]+acc2[1])).collect()"
   ]
  },
  {
   "cell_type": "code",
   "execution_count": null,
   "metadata": {
    "collapsed": true
   },
   "outputs": [],
   "source": []
  },
  {
   "cell_type": "code",
   "execution_count": 127,
   "metadata": {
    "collapsed": false
   },
   "outputs": [],
   "source": [
    "top_average = sc.parallelize(top10_average_prepare)"
   ]
  },
  {
   "cell_type": "code",
   "execution_count": null,
   "metadata": {
    "collapsed": true
   },
   "outputs": [],
   "source": []
  },
  {
   "cell_type": "markdown",
   "metadata": {},
   "source": [
    "А теперь посчитаем среднюю оценку для каждого фильма"
   ]
  },
  {
   "cell_type": "code",
   "execution_count": 128,
   "metadata": {
    "collapsed": false
   },
   "outputs": [
    {
     "data": {
      "text/plain": [
       "[(814, 5.0),\n",
       " (1122, 5.0),\n",
       " (1500, 5.0),\n",
       " (1536, 5.0),\n",
       " (1189, 5.0),\n",
       " (1201, 5.0),\n",
       " (1293, 5.0),\n",
       " (1467, 5.0),\n",
       " (1599, 5.0),\n",
       " (1653, 5.0)]"
      ]
     },
     "execution_count": 128,
     "metadata": {},
     "output_type": "execute_result"
    }
   ],
   "source": [
    "top10_average = top_average.map(lambda x: (x[0],(float(x[1][0])/float(x[1][1])))).takeOrdered(10, lambda x: -x[1])\n",
    "top_average.map(lambda x: (x[0],(float(x[1][0])/float(x[1][1])))).takeOrdered(10, lambda x: -x[1])"
   ]
  },
  {
   "cell_type": "code",
   "execution_count": 129,
   "metadata": {
    "collapsed": true
   },
   "outputs": [],
   "source": [
    "top_average = top_average.map(lambda x: (x[0],(float(x[1][0])/float(x[1][1]))))"
   ]
  },
  {
   "cell_type": "code",
   "execution_count": 130,
   "metadata": {
    "collapsed": false
   },
   "outputs": [
    {
     "data": {
      "text/plain": [
       "[(2, 3.2061068702290076),\n",
       " (4, 3.550239234449761),\n",
       " (6, 3.576923076923077),\n",
       " (8, 3.9954337899543377),\n",
       " (10, 3.831460674157303),\n",
       " (12, 4.385767790262173),\n",
       " (14, 3.9672131147540983),\n",
       " (16, 3.2051282051282053),\n",
       " (18, 2.8),\n",
       " (20, 3.4166666666666665)]"
      ]
     },
     "execution_count": 130,
     "metadata": {},
     "output_type": "execute_result"
    }
   ],
   "source": [
    "top_average.take(10)"
   ]
  },
  {
   "cell_type": "markdown",
   "metadata": {},
   "source": [
    "Добавим названия фильмов по ID и отсортируем, покажем топ"
   ]
  },
  {
   "cell_type": "code",
   "execution_count": 137,
   "metadata": {
    "collapsed": false
   },
   "outputs": [
    {
     "data": {
      "text/plain": [
       "[(1536, (5.0, u'Aiqing wansui (1994)')),\n",
       " (1653, (5.0, u'Entertaining Angels: The Dorothy Day Story (1996)')),\n",
       " (814, (5.0, u'Great Day in Harlem, A (1994)')),\n",
       " (1201, (5.0, u'Marlene Dietrich: Shadow and Light (1996) ')),\n",
       " (1189, (5.0, u'Prefontaine (1997)')),\n",
       " (1467, (5.0, u'Saint of Fort Washington, The (1993)')),\n",
       " (1500, (5.0, u'Santa with Muscles (1996)')),\n",
       " (1599, (5.0, u\"Someone Else's America (1995)\")),\n",
       " (1293, (5.0, u'Star Kid (1997)')),\n",
       " (1122, (5.0, u'They Made Me a Criminal (1939)'))]"
      ]
     },
     "execution_count": 137,
     "metadata": {},
     "output_type": "execute_result"
    }
   ],
   "source": [
    "top10_average=top_average.join(items).takeOrdered(10, lambda x: (-x[1][0], x[1][1]) )\n",
    "top_average.join(items).takeOrdered(10, lambda x: (-x[1][0], x[1][1]) )"
   ]
  },
  {
   "cell_type": "code",
   "execution_count": null,
   "metadata": {
    "collapsed": true
   },
   "outputs": [],
   "source": []
  },
  {
   "cell_type": "code",
   "execution_count": 138,
   "metadata": {
    "collapsed": false
   },
   "outputs": [
    {
     "name": "stdout",
     "output_type": "stream",
     "text": [
      "1536,\n",
      "1653,\n",
      "814,\n",
      "1201,\n",
      "1189,\n",
      "1467,\n",
      "1500,\n",
      "1599,\n",
      "1293,\n",
      "1122,\n"
     ]
    }
   ],
   "source": [
    "for each in top10_average:\n",
    "    print (str(each[0]) + ',')"
   ]
  },
  {
   "cell_type": "markdown",
   "metadata": {},
   "source": [
    "Загрузим список фильмов"
   ]
  },
  {
   "cell_type": "code",
   "execution_count": 132,
   "metadata": {
    "collapsed": true
   },
   "outputs": [],
   "source": [
    "items = sc.textFile('lab7/u.item')"
   ]
  },
  {
   "cell_type": "code",
   "execution_count": 133,
   "metadata": {
    "collapsed": false
   },
   "outputs": [
    {
     "data": {
      "text/plain": [
       "[u'1|Toy Story (1995)|01-Jan-1995||http://us.imdb.com/M/title-exact?Toy%20Story%20(1995)|0|0|0|1|1|1|0|0|0|0|0|0|0|0|0|0|0|0|0']"
      ]
     },
     "execution_count": 133,
     "metadata": {},
     "output_type": "execute_result"
    }
   ],
   "source": [
    "items.take(1)"
   ]
  },
  {
   "cell_type": "code",
   "execution_count": 134,
   "metadata": {
    "collapsed": true
   },
   "outputs": [],
   "source": [
    "items=items.map(lambda x: x.split('|'))"
   ]
  },
  {
   "cell_type": "code",
   "execution_count": 135,
   "metadata": {
    "collapsed": false
   },
   "outputs": [],
   "source": [
    "items=items.map(lambda x: (int(x[0]), x[1]))"
   ]
  },
  {
   "cell_type": "code",
   "execution_count": 136,
   "metadata": {
    "collapsed": false
   },
   "outputs": [
    {
     "data": {
      "text/plain": [
       "[(1, u'Toy Story (1995)'), (2, u'GoldenEye (1995)'), (3, u'Four Rooms (1995)')]"
      ]
     },
     "execution_count": 136,
     "metadata": {},
     "output_type": "execute_result"
    }
   ],
   "source": [
    "items.take(3)"
   ]
  },
  {
   "cell_type": "markdown",
   "metadata": {},
   "source": []
  },
  {
   "cell_type": "markdown",
   "metadata": {},
   "source": [
    "# Начнем считать top10_rating"
   ]
  },
  {
   "cell_type": "markdown",
   "metadata": {},
   "source": [
    "Посчитаем глобальное среднее по всем фильмам"
   ]
  },
  {
   "cell_type": "code",
   "execution_count": 156,
   "metadata": {
    "collapsed": false
   },
   "outputs": [
    {
     "data": {
      "text/plain": [
       "[(196, 242, 3), (186, 302, 3), (22, 377, 1), (244, 51, 2)]"
      ]
     },
     "execution_count": 156,
     "metadata": {},
     "output_type": "execute_result"
    }
   ],
   "source": [
    "t2.take(4)"
   ]
  },
  {
   "cell_type": "markdown",
   "metadata": {},
   "source": [
    "вырежем id пользователей "
   ]
  },
  {
   "cell_type": "code",
   "execution_count": 157,
   "metadata": {
    "collapsed": true
   },
   "outputs": [],
   "source": [
    "t3=t2.map(lambda x: (x[1],x[2]))"
   ]
  },
  {
   "cell_type": "code",
   "execution_count": 158,
   "metadata": {
    "collapsed": false
   },
   "outputs": [
    {
     "data": {
      "text/plain": [
       "PythonRDD[78] at RDD at PythonRDD.scala:48"
      ]
     },
     "execution_count": 158,
     "metadata": {},
     "output_type": "execute_result"
    }
   ],
   "source": [
    "t3.cache()"
   ]
  },
  {
   "cell_type": "markdown",
   "metadata": {},
   "source": [
    "подготовим данные для расчета глобального среднего - общая сумма оценок и число оценок"
   ]
  },
  {
   "cell_type": "code",
   "execution_count": 159,
   "metadata": {
    "collapsed": false
   },
   "outputs": [
    {
     "data": {
      "text/plain": [
       "(352986, 100000)"
      ]
     },
     "execution_count": 159,
     "metadata": {},
     "output_type": "execute_result"
    }
   ],
   "source": [
    "global_avg_prepare =t3.map(lambda x: x[1]).aggregate((0,0), \\\n",
    "              lambda acc,value: (acc[0]+value, acc[1]+1),\\\n",
    "              lambda acc1,acc2:(acc1[0]+acc2[0],acc1[1]+acc2[1]))\n",
    "global_avg_prepare"
   ]
  },
  {
   "cell_type": "code",
   "execution_count": 160,
   "metadata": {
    "collapsed": false
   },
   "outputs": [
    {
     "data": {
      "text/plain": [
       "3.52986"
      ]
     },
     "execution_count": 160,
     "metadata": {},
     "output_type": "execute_result"
    }
   ],
   "source": [
    "global_avg = float(global_avg_prepare[0])/float(global_avg_prepare[1])\n",
    "global_avg"
   ]
  },
  {
   "cell_type": "markdown",
   "metadata": {},
   "source": [
    "Посчитаем количество голосовавших пользователей"
   ]
  },
  {
   "cell_type": "code",
   "execution_count": 161,
   "metadata": {
    "collapsed": false,
    "scrolled": true
   },
   "outputs": [
    {
     "data": {
      "text/plain": [
       "943"
      ]
     },
     "execution_count": 161,
     "metadata": {},
     "output_type": "execute_result"
    }
   ],
   "source": [
    "users_count = len(t2.map(lambda x: x[0]).countByValue())\n",
    "users_count"
   ]
  },
  {
   "cell_type": "markdown",
   "metadata": {},
   "source": [
    "Сумма оценок и их количество для каждого фильма"
   ]
  },
  {
   "cell_type": "markdown",
   "metadata": {},
   "source": []
  },
  {
   "cell_type": "code",
   "execution_count": 162,
   "metadata": {
    "collapsed": true
   },
   "outputs": [],
   "source": [
    "top10_rating_prepare = t3.aggregateByKey((0,0), \\\n",
    "              lambda acc,value: (acc[0]+value, acc[1]+1),\\\n",
    "              lambda acc1,acc2:(acc1[0]+acc2[0],acc1[1]+acc2[1]))"
   ]
  },
  {
   "cell_type": "code",
   "execution_count": 163,
   "metadata": {
    "collapsed": false
   },
   "outputs": [
    {
     "data": {
      "text/plain": [
       "[(2, (420, 131)),\n",
       " (4, (742, 209)),\n",
       " (6, (93, 26)),\n",
       " (8, (875, 219)),\n",
       " (10, (341, 89)),\n",
       " (12, (1171, 267)),\n",
       " (14, (726, 183)),\n",
       " (16, (125, 39)),\n",
       " (18, (28, 10)),\n",
       " (20, (246, 72))]"
      ]
     },
     "execution_count": 163,
     "metadata": {},
     "output_type": "execute_result"
    }
   ],
   "source": [
    "top10_rating_prepare.take(10)"
   ]
  },
  {
   "cell_type": "code",
   "execution_count": 164,
   "metadata": {
    "collapsed": true
   },
   "outputs": [],
   "source": [
    "def top10mu(summa, count, globalavg, globaluser):\n",
    "    return (summa+globalavg*globaluser)/(globaluser+count)"
   ]
  },
  {
   "cell_type": "code",
   "execution_count": 165,
   "metadata": {
    "collapsed": false
   },
   "outputs": [
    {
     "data": {
      "text/plain": [
       "3.533557274305556"
      ]
     },
     "execution_count": 165,
     "metadata": {},
     "output_type": "execute_result"
    }
   ],
   "source": [
    "top10mu(742 ,209,global_avg,users_count)"
   ]
  },
  {
   "cell_type": "code",
   "execution_count": null,
   "metadata": {
    "collapsed": false
   },
   "outputs": [],
   "source": []
  },
  {
   "cell_type": "markdown",
   "metadata": {},
   "source": [
    "Посчитаем рейтинг с поправкой на недостающие данные, добавив глобальное среднее и число пользователей"
   ]
  },
  {
   "cell_type": "code",
   "execution_count": 166,
   "metadata": {
    "collapsed": false
   },
   "outputs": [
    {
     "data": {
      "text/plain": [
       "[(2, 3.2489880794701986),\n",
       " (4, 3.5484593886462883),\n",
       " (6, 3.556460869565217),\n",
       " (8, 3.9564736401673644),\n",
       " (10, 3.776121100917431),\n",
       " (12, 4.326122648083623),\n",
       " (14, 3.9241241379310345),\n",
       " (16, 3.3152067796610165),\n",
       " (18, 3.2865733333333336),\n",
       " (20, 3.441273913043478)]"
      ]
     },
     "execution_count": 166,
     "metadata": {},
     "output_type": "execute_result"
    }
   ],
   "source": [
    "top10_rating = top10_rating_prepare.map(lambda x: (x[0],(top10mu(float(x[1][0]),float(x[1][1]),global_avg,float(20)))))\n",
    "top10_rating.take(10)"
   ]
  },
  {
   "cell_type": "markdown",
   "metadata": {},
   "source": [
    "Добавим название и отсортируем"
   ]
  },
  {
   "cell_type": "code",
   "execution_count": 167,
   "metadata": {
    "collapsed": false
   },
   "outputs": [
    {
     "data": {
      "text/plain": [
       "[(318, (4.407538364779874, u\"Schindler's List (1993)\")),\n",
       " (483, (4.38630114068441, u'Casablanca (1942)')),\n",
       " (64, (4.384809240924092, u'Shawshank Redemption, The (1994)')),\n",
       " (408, (4.345433333333333, u'Close Shave, A (1995)')),\n",
       " (50, (4.331006965174129, u'Star Wars (1977)')),\n",
       " (169, (4.330414492753624, u'Wrong Trousers, The (1993)')),\n",
       " (12, (4.326122648083623, u'Usual Suspects, The (1995)')),\n",
       " (603, (4.312651528384279, u'Rear Window (1954)')),\n",
       " (98, (4.252676097560975, u'Silence of the Lambs, The (1991)')),\n",
       " (127, (4.2484923787528865, u'Godfather, The (1972)'))]"
      ]
     },
     "execution_count": 167,
     "metadata": {},
     "output_type": "execute_result"
    }
   ],
   "source": [
    "top10_rating=top10_rating.join(items).takeOrdered(10, lambda x: (-x[1][0], x[1][1]) )\n",
    "top10_rating"
   ]
  },
  {
   "cell_type": "code",
   "execution_count": 65,
   "metadata": {
    "collapsed": false
   },
   "outputs": [
    {
     "name": "stdout",
     "output_type": "stream",
     "text": [
      "318,\n",
      "483,\n",
      "64,\n",
      "408,\n",
      "50,\n",
      "169,\n",
      "12,\n",
      "603,\n",
      "98,\n",
      "127,\n"
     ]
    }
   ],
   "source": [
    "for each in top10_rating:\n",
    "    print (str(each[0]) + ',')"
   ]
  },
  {
   "cell_type": "code",
   "execution_count": null,
   "metadata": {
    "collapsed": true
   },
   "outputs": [],
   "source": []
  },
  {
   "cell_type": "markdown",
   "metadata": {},
   "source": [
    "# Посчитаем top10_lower"
   ]
  },
  {
   "cell_type": "markdown",
   "metadata": {},
   "source": [
    "Число оценок, фильма считали выше"
   ]
  },
  {
   "cell_type": "code",
   "execution_count": 170,
   "metadata": {
    "collapsed": false
   },
   "outputs": [
    {
     "data": {
      "text/plain": [
       "[(1, 452), (2, 131), (3, 90), (4, 209), (5, 86), (6, 26)]"
      ]
     },
     "execution_count": 170,
     "metadata": {},
     "output_type": "execute_result"
    }
   ],
   "source": [
    "top10_rates_prepare.takeOrdered(6)"
   ]
  },
  {
   "cell_type": "code",
   "execution_count": null,
   "metadata": {
    "collapsed": false
   },
   "outputs": [],
   "source": []
  },
  {
   "cell_type": "markdown",
   "metadata": {},
   "source": [
    "количество человек оценивших фильм положительно для каждого фильма"
   ]
  },
  {
   "cell_type": "code",
   "execution_count": null,
   "metadata": {
    "collapsed": false
   },
   "outputs": [],
   "source": []
  },
  {
   "cell_type": "code",
   "execution_count": 172,
   "metadata": {
    "collapsed": false
   },
   "outputs": [
    {
     "data": {
      "text/plain": [
       "[(1, 321), (2, 51), (3, 34), (4, 122), (5, 39), (6, 15)]"
      ]
     },
     "execution_count": 172,
     "metadata": {},
     "output_type": "execute_result"
    }
   ],
   "source": [
    "count_of_good = t3.filter(lambda x: x[1]>=4).aggregateByKey(0, \\\n",
    "              lambda x,y:(x+1),\\\n",
    "              lambda x,y:(x+y))\n",
    "count_of_good.takeOrdered(6)"
   ]
  },
  {
   "cell_type": "code",
   "execution_count": null,
   "metadata": {
    "collapsed": true
   },
   "outputs": [],
   "source": []
  },
  {
   "cell_type": "code",
   "execution_count": null,
   "metadata": {
    "collapsed": true
   },
   "outputs": [],
   "source": []
  },
  {
   "cell_type": "markdown",
   "metadata": {},
   "source": [
    "Доля положительных отзывов"
   ]
  },
  {
   "cell_type": "code",
   "execution_count": 173,
   "metadata": {
    "collapsed": false
   },
   "outputs": [
    {
     "data": {
      "text/plain": [
       "[(1, 0.7101769911504425),\n",
       " (2, 0.3893129770992366),\n",
       " (3, 0.37777777777777777),\n",
       " (4, 0.583732057416268),\n",
       " (5, 0.45348837209302323),\n",
       " (6, 0.5769230769230769)]"
      ]
     },
     "execution_count": 173,
     "metadata": {},
     "output_type": "execute_result"
    }
   ],
   "source": [
    "good_rating_rate = count_of_good.join(top10_rates_prepare).map(lambda x: (x[0],float(x[1][0])/float(x[1][1])))\n",
    "good_rating_rate.takeOrdered(6)"
   ]
  },
  {
   "cell_type": "code",
   "execution_count": 174,
   "metadata": {
    "collapsed": true
   },
   "outputs": [],
   "source": [
    "z=2.576"
   ]
  },
  {
   "cell_type": "code",
   "execution_count": 175,
   "metadata": {
    "collapsed": false
   },
   "outputs": [
    {
     "data": {
      "text/plain": [
       "[(4, (0.583732057416268, 209)),\n",
       " (8, (0.7077625570776256, 219)),\n",
       " (12, (0.8689138576779026, 267)),\n",
       " (16, (0.41025641025641024, 39))]"
      ]
     },
     "execution_count": 175,
     "metadata": {},
     "output_type": "execute_result"
    }
   ],
   "source": [
    "top10_lower_prepare = good_rating_rate.join(top10_rates_prepare)\n",
    "top10_lower_prepare.take(4)"
   ]
  },
  {
   "cell_type": "code",
   "execution_count": 176,
   "metadata": {
    "collapsed": false
   },
   "outputs": [],
   "source": [
    "from math import sqrt\n",
    "\n",
    "def confidence(n, p, z):\n",
    "    if n == 0:\n",
    "        return 0\n",
    "    phat = p\n",
    "    return ((phat + z*z/(2*n) - z * sqrt((phat*(1-phat)+z*z/(4*n))/n))/(1+z*z/n))"
   ]
  },
  {
   "cell_type": "markdown",
   "metadata": {},
   "source": [
    "посчитаем нижнюю границу доверительного интервала для каждого фильма"
   ]
  },
  {
   "cell_type": "code",
   "execution_count": 177,
   "metadata": {
    "collapsed": false
   },
   "outputs": [
    {
     "data": {
      "text/plain": [
       "[(4, 0.4946443455220198),\n",
       " (8, 0.6234208070688205),\n",
       " (12, 0.8066550869388946),\n",
       " (16, 0.2352871185721569),\n",
       " (20, 0.4064441565314605),\n",
       " (24, 0.42083014777433847),\n",
       " (28, 0.6507151818400247),\n",
       " (32, 0.5112460808880247),\n",
       " (36, 0.009095597498995961),\n",
       " (40, 0.1974979774602355)]"
      ]
     },
     "execution_count": 177,
     "metadata": {},
     "output_type": "execute_result"
    }
   ],
   "source": [
    "top10_lower_prepare2 = top10_lower_prepare.map(lambda x: (x[0], confidence(x[1][1], x[1][0], z)))\n",
    "top10_lower_prepare2.take(10)"
   ]
  },
  {
   "cell_type": "code",
   "execution_count": 178,
   "metadata": {
    "collapsed": false
   },
   "outputs": [],
   "source": [
    "top10_lower = top10_lower_prepare2.join(items).takeOrdered(10, lambda x: (-x[1][0], x[1][1]) )\n",
    "#top10_lower_prepare2.takeOrdered(10, lambda x: -x[1])"
   ]
  },
  {
   "cell_type": "code",
   "execution_count": 179,
   "metadata": {
    "collapsed": false
   },
   "outputs": [
    {
     "data": {
      "text/plain": [
       "[(64, (0.8457526835447277, u'Shawshank Redemption, The (1994)')),\n",
       " (318, (0.8336980984637924, u\"Schindler's List (1993)\")),\n",
       " (98, (0.8334527970235316, u'Silence of the Lambs, The (1991)')),\n",
       " (479, (0.8332601854479507, u'Vertigo (1958)')),\n",
       " (483, (0.8262807973523965, u'Casablanca (1942)')),\n",
       " (50, (0.8182013061987115, u'Star Wars (1977)')),\n",
       " (603, (0.816144322908024, u'Rear Window (1954)')),\n",
       " (427, (0.8134728086457121, u'To Kill a Mockingbird (1962)')),\n",
       " (357, (0.808875556038692, u\"One Flew Over the Cuckoo's Nest (1975)\")),\n",
       " (12, (0.8066550869388946, u'Usual Suspects, The (1995)'))]"
      ]
     },
     "execution_count": 179,
     "metadata": {},
     "output_type": "execute_result"
    }
   ],
   "source": [
    "top10_lower"
   ]
  },
  {
   "cell_type": "code",
   "execution_count": 181,
   "metadata": {
    "collapsed": false
   },
   "outputs": [
    {
     "name": "stdout",
     "output_type": "stream",
     "text": [
      "64,\n",
      "318,\n",
      "98,\n",
      "479,\n",
      "483,\n",
      "50,\n",
      "603,\n",
      "427,\n",
      "357,\n",
      "12,\n"
     ]
    }
   ],
   "source": [
    "for each in top10_lower:\n",
    "    print (str(each[0]) + ',')"
   ]
  },
  {
   "cell_type": "markdown",
   "metadata": {},
   "source": [
    "# Посчитаем hist_film"
   ]
  },
  {
   "cell_type": "code",
   "execution_count": 19,
   "metadata": {
    "collapsed": false
   },
   "outputs": [],
   "source": [
    "t4 = t3.filter(lambda x: x[0]==22 ).map(lambda x: x[1])"
   ]
  },
  {
   "cell_type": "code",
   "execution_count": 20,
   "metadata": {
    "collapsed": false
   },
   "outputs": [],
   "source": [
    "count_22 = t4.countByValue()"
   ]
  },
  {
   "cell_type": "code",
   "execution_count": 21,
   "metadata": {
    "collapsed": false
   },
   "outputs": [
    {
     "data": {
      "text/plain": [
       "defaultdict(<type 'int'>, {1: 5, 2: 14, 3: 46, 4: 98, 5: 134})"
      ]
     },
     "execution_count": 21,
     "metadata": {},
     "output_type": "execute_result"
    }
   ],
   "source": [
    "count_22"
   ]
  },
  {
   "cell_type": "code",
   "execution_count": 22,
   "metadata": {
    "collapsed": false
   },
   "outputs": [
    {
     "name": "stdout",
     "output_type": "stream",
     "text": [
      "5,\n",
      "14,\n",
      "46,\n",
      "98,\n",
      "134,\n"
     ]
    }
   ],
   "source": [
    "for x in xrange(1,6):\n",
    "    print(str(count_22[x])+',')"
   ]
  },
  {
   "cell_type": "markdown",
   "metadata": {},
   "source": [
    "# Посчитаем hist_all"
   ]
  },
  {
   "cell_type": "code",
   "execution_count": 14,
   "metadata": {
    "collapsed": false
   },
   "outputs": [],
   "source": [
    "count_all = t3.map(lambda x: x[1]).countByValue()"
   ]
  },
  {
   "cell_type": "code",
   "execution_count": 15,
   "metadata": {
    "collapsed": false
   },
   "outputs": [
    {
     "name": "stdout",
     "output_type": "stream",
     "text": [
      "6110,\n",
      "11370,\n",
      "27145,\n",
      "34174,\n",
      "21201,\n"
     ]
    }
   ],
   "source": [
    "for x in xrange(1,6):\n",
    "    print(str(count_all[x])+',')"
   ]
  },
  {
   "cell_type": "code",
   "execution_count": 80,
   "metadata": {
    "collapsed": false
   },
   "outputs": [],
   "source": [
    "top10_rates = sorted(dict(top10_rates).items(), key=lambda x: x[1], reverse=True)\n"
   ]
  },
  {
   "cell_type": "code",
   "execution_count": 181,
   "metadata": {
    "collapsed": false
   },
   "outputs": [
    {
     "data": {
      "text/plain": [
       "defaultdict(<type 'int'>, {1: 6110, 2: 11370, 3: 27145, 4: 34174, 5: 21201})"
      ]
     },
     "execution_count": 181,
     "metadata": {},
     "output_type": "execute_result"
    }
   ],
   "source": []
  },
  {
   "cell_type": "code",
   "execution_count": 114,
   "metadata": {
    "collapsed": false
   },
   "outputs": [
    {
     "name": "stdout",
     "output_type": "stream",
     "text": [
      "[50, 258, 100, 181, 294, 286, 288, 1, 300, 121]\n"
     ]
    }
   ],
   "source": []
  },
  {
   "cell_type": "code",
   "execution_count": 53,
   "metadata": {
    "collapsed": false
   },
   "outputs": [
    {
     "data": {
      "text/plain": [
       "[(50, 583),\n",
       " (258, 509),\n",
       " (100, 508),\n",
       " (181, 507),\n",
       " (294, 485),\n",
       " (286, 481),\n",
       " (288, 478),\n",
       " (1, 452),\n",
       " (300, 431),\n",
       " (121, 429)]"
      ]
     },
     "execution_count": 53,
     "metadata": {},
     "output_type": "execute_result"
    }
   ],
   "source": [
    "sorted(dict(top10_rates).items(), key=lambda x: x[1], reverse=True)\n"
   ]
  },
  {
   "cell_type": "code",
   "execution_count": 180,
   "metadata": {
    "collapsed": false
   },
   "outputs": [
    {
     "name": "stdout",
     "output_type": "stream",
     "text": [
      "{\n",
      "    \"hist_all\": [\n",
      "        6110, \n",
      "        11370, \n",
      "        27145, \n",
      "        34174, \n",
      "        21201\n",
      "    ], \n",
      "    \"hist_film\": [\n",
      "        5, \n",
      "        14, \n",
      "        46, \n",
      "        98, \n",
      "        134\n",
      "    ], \n",
      "    \"top10_average\": [\n",
      "        1536, \n",
      "        1653, \n",
      "        814, \n",
      "        1201, \n",
      "        1189, \n",
      "        1467, \n",
      "        1500, \n",
      "        1599, \n",
      "        1293, \n",
      "        1122\n",
      "    ], \n",
      "    \"top10_lower\": [\n",
      "        64, \n",
      "        318, \n",
      "        98, \n",
      "        479, \n",
      "        483, \n",
      "        50, \n",
      "        603, \n",
      "        427, \n",
      "        357, \n",
      "        12\n",
      "    ], \n",
      "    \"top10_rates\": [\n",
      "        50, \n",
      "        258, \n",
      "        100, \n",
      "        181, \n",
      "        294, \n",
      "        286, \n",
      "        288, \n",
      "        1, \n",
      "        300, \n",
      "        121\n",
      "    ], \n",
      "    \"top10_rating\": [\n",
      "        318, \n",
      "        483, \n",
      "        64, \n",
      "        408, \n",
      "        50, \n",
      "        169, \n",
      "        12, \n",
      "        603, \n",
      "        98, \n",
      "        127\n",
      "    ]\n",
      "}\n"
     ]
    }
   ],
   "source": [
    "print(json.dumps({'top10_rates':[x for x,y in top10_rates], \\\n",
    "                  'hist_film': count_22.values(), \\\n",
    "                  'hist_all': count_all.values(), \\\n",
    "                  'top10_average': [or x,y in top10_average], \\\n",
    "                  'top10_rating': [x for x,y in top10_rating], \\\n",
    "                  'top10_lower': [x for x,y in top10_lower] }, sort_keys=True, indent=4))"
   ]
  },
  {
   "cell_type": "code",
   "execution_count": null,
   "metadata": {
    "collapsed": true
   },
   "outputs": [],
   "source": []
  },
  {
   "cell_type": "code",
   "execution_count": null,
   "metadata": {
    "collapsed": true
   },
   "outputs": [],
   "source": []
  }
 ],
 "metadata": {
  "kernelspec": {
   "display_name": "Python 2",
   "language": "python",
   "name": "python2"
  },
  "language_info": {
   "codemirror_mode": {
    "name": "ipython",
    "version": 2
   },
   "file_extension": ".py",
   "mimetype": "text/x-python",
   "name": "python",
   "nbconvert_exporter": "python",
   "pygments_lexer": "ipython2",
   "version": "2.7.6"
  }
 },
 "nbformat": 4,
 "nbformat_minor": 0
}
