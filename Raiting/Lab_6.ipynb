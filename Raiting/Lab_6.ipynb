{
 "cells": [
  {
   "cell_type": "code",
   "execution_count": 293,
   "metadata": {
    "collapsed": false,
    "deletable": true,
    "editable": true
   },
   "outputs": [
    {
     "name": "stdout",
     "output_type": "stream",
     "text": [
      "allbut.pl  u1.base  u2.test  u4.base  u5.test  ub.base\tu.genre  u.occupation\r\n",
      "mku.sh\t   u1.test  u3.base  u4.test  ua.base  ub.test\tu.info\t u.user\r\n",
      "README\t   u2.base  u3.test  u5.base  ua.test  u.data\tu.item\r\n"
     ]
    }
   ],
   "source": [
    "!ls ./ml-100k"
   ]
  },
  {
   "cell_type": "code",
   "execution_count": 294,
   "metadata": {
    "collapsed": true,
    "deletable": true,
    "editable": true
   },
   "outputs": [],
   "source": [
    "from time import time\n",
    "import numpy as np\n",
    "import matplotlib.pyplot as plt\n",
    "import pandas as pd\n",
    "import re\n",
    "import os\n",
    "import json\n",
    "import requests\n",
    "import nltk\n",
    "import cPickle as pickle\n",
    "import html2text\n",
    "import xml.etree.cElementTree as ET\n",
    "from bs4 import BeautifulSoup\n",
    "from scipy.stats import randint as sp_randint\n",
    "from math import sqrt"
   ]
  },
  {
   "cell_type": "code",
   "execution_count": 295,
   "metadata": {
    "collapsed": false,
    "deletable": true,
    "editable": true
   },
   "outputs": [],
   "source": [
    "rating = pd.read_csv('./ml-100k/u.data', sep='\\t', names=['user id', 'item id' , 'rating' , 'timestamp'])\n",
    "films = pd.read_csv('./ml-100k/u.item', sep='|', names=['movie id','movie title','release date','video release date',\n",
    "              'IMDb URL','unknown','Action', 'Adventure','Animation','Childrens', 'Comedy','Crime','Documentary','Drama',' Fantasy',\n",
    "              'Film-Noir', 'Horror','Musical','Mystery','Romance','Sci-Fi','Thriller','War','Western'] )"
   ]
  },
  {
   "cell_type": "code",
   "execution_count": 296,
   "metadata": {
    "collapsed": false,
    "deletable": true,
    "editable": true
   },
   "outputs": [],
   "source": [
    "movie_title = films[['movie id','movie title']]\n",
    "movie_title.columns = ['item id','movie title']"
   ]
  },
  {
   "cell_type": "code",
   "execution_count": 297,
   "metadata": {
    "collapsed": false,
    "deletable": true,
    "editable": true
   },
   "outputs": [
    {
     "data": {
      "text/html": [
       "<div>\n",
       "<table border=\"1\" class=\"dataframe\">\n",
       "  <thead>\n",
       "    <tr style=\"text-align: right;\">\n",
       "      <th></th>\n",
       "      <th>user id</th>\n",
       "      <th>item id</th>\n",
       "      <th>rating</th>\n",
       "      <th>timestamp</th>\n",
       "    </tr>\n",
       "  </thead>\n",
       "  <tbody>\n",
       "    <tr>\n",
       "      <th>0</th>\n",
       "      <td>196</td>\n",
       "      <td>242</td>\n",
       "      <td>3</td>\n",
       "      <td>881250949</td>\n",
       "    </tr>\n",
       "    <tr>\n",
       "      <th>1</th>\n",
       "      <td>186</td>\n",
       "      <td>302</td>\n",
       "      <td>3</td>\n",
       "      <td>891717742</td>\n",
       "    </tr>\n",
       "    <tr>\n",
       "      <th>2</th>\n",
       "      <td>22</td>\n",
       "      <td>377</td>\n",
       "      <td>1</td>\n",
       "      <td>878887116</td>\n",
       "    </tr>\n",
       "    <tr>\n",
       "      <th>3</th>\n",
       "      <td>244</td>\n",
       "      <td>51</td>\n",
       "      <td>2</td>\n",
       "      <td>880606923</td>\n",
       "    </tr>\n",
       "    <tr>\n",
       "      <th>4</th>\n",
       "      <td>166</td>\n",
       "      <td>346</td>\n",
       "      <td>1</td>\n",
       "      <td>886397596</td>\n",
       "    </tr>\n",
       "  </tbody>\n",
       "</table>\n",
       "</div>"
      ],
      "text/plain": [
       "   user id  item id  rating  timestamp\n",
       "0      196      242       3  881250949\n",
       "1      186      302       3  891717742\n",
       "2       22      377       1  878887116\n",
       "3      244       51       2  880606923\n",
       "4      166      346       1  886397596"
      ]
     },
     "execution_count": 297,
     "metadata": {},
     "output_type": "execute_result"
    }
   ],
   "source": [
    "rating.head()"
   ]
  },
  {
   "cell_type": "code",
   "execution_count": 298,
   "metadata": {
    "collapsed": false,
    "deletable": true,
    "editable": true
   },
   "outputs": [],
   "source": [
    "hist_film = rating[rating['item id']==15].groupby('rating')['user id'].count().reset_index(name='hist_film')"
   ]
  },
  {
   "cell_type": "code",
   "execution_count": 299,
   "metadata": {
    "collapsed": false,
    "deletable": true,
    "editable": true
   },
   "outputs": [
    {
     "data": {
      "text/html": [
       "<div>\n",
       "<table border=\"1\" class=\"dataframe\">\n",
       "  <thead>\n",
       "    <tr style=\"text-align: right;\">\n",
       "      <th></th>\n",
       "      <th>rating</th>\n",
       "      <th>hist_film</th>\n",
       "    </tr>\n",
       "  </thead>\n",
       "  <tbody>\n",
       "    <tr>\n",
       "      <th>0</th>\n",
       "      <td>1</td>\n",
       "      <td>7</td>\n",
       "    </tr>\n",
       "    <tr>\n",
       "      <th>1</th>\n",
       "      <td>2</td>\n",
       "      <td>20</td>\n",
       "    </tr>\n",
       "    <tr>\n",
       "      <th>2</th>\n",
       "      <td>3</td>\n",
       "      <td>78</td>\n",
       "    </tr>\n",
       "    <tr>\n",
       "      <th>3</th>\n",
       "      <td>4</td>\n",
       "      <td>114</td>\n",
       "    </tr>\n",
       "    <tr>\n",
       "      <th>4</th>\n",
       "      <td>5</td>\n",
       "      <td>74</td>\n",
       "    </tr>\n",
       "  </tbody>\n",
       "</table>\n",
       "</div>"
      ],
      "text/plain": [
       "   rating  hist_film\n",
       "0       1          7\n",
       "1       2         20\n",
       "2       3         78\n",
       "3       4        114\n",
       "4       5         74"
      ]
     },
     "execution_count": 299,
     "metadata": {},
     "output_type": "execute_result"
    }
   ],
   "source": [
    "hist_film.head()"
   ]
  },
  {
   "cell_type": "code",
   "execution_count": 300,
   "metadata": {
    "collapsed": false,
    "deletable": true,
    "editable": true
   },
   "outputs": [],
   "source": [
    "hist_all = rating.groupby('rating')['user id'].count().reset_index(name='hist_all')"
   ]
  },
  {
   "cell_type": "code",
   "execution_count": 301,
   "metadata": {
    "collapsed": false,
    "deletable": true,
    "editable": true
   },
   "outputs": [
    {
     "data": {
      "text/html": [
       "<div>\n",
       "<table border=\"1\" class=\"dataframe\">\n",
       "  <thead>\n",
       "    <tr style=\"text-align: right;\">\n",
       "      <th></th>\n",
       "      <th>rating</th>\n",
       "      <th>hist_all</th>\n",
       "    </tr>\n",
       "  </thead>\n",
       "  <tbody>\n",
       "    <tr>\n",
       "      <th>0</th>\n",
       "      <td>1</td>\n",
       "      <td>6110</td>\n",
       "    </tr>\n",
       "    <tr>\n",
       "      <th>1</th>\n",
       "      <td>2</td>\n",
       "      <td>11370</td>\n",
       "    </tr>\n",
       "    <tr>\n",
       "      <th>2</th>\n",
       "      <td>3</td>\n",
       "      <td>27145</td>\n",
       "    </tr>\n",
       "    <tr>\n",
       "      <th>3</th>\n",
       "      <td>4</td>\n",
       "      <td>34174</td>\n",
       "    </tr>\n",
       "    <tr>\n",
       "      <th>4</th>\n",
       "      <td>5</td>\n",
       "      <td>21201</td>\n",
       "    </tr>\n",
       "  </tbody>\n",
       "</table>\n",
       "</div>"
      ],
      "text/plain": [
       "   rating  hist_all\n",
       "0       1      6110\n",
       "1       2     11370\n",
       "2       3     27145\n",
       "3       4     34174\n",
       "4       5     21201"
      ]
     },
     "execution_count": 301,
     "metadata": {},
     "output_type": "execute_result"
    }
   ],
   "source": [
    "hist_all"
   ]
  },
  {
   "cell_type": "code",
   "execution_count": 302,
   "metadata": {
    "collapsed": false,
    "deletable": true,
    "editable": true
   },
   "outputs": [],
   "source": [
    "df = pd.concat([hist_film, hist_all], axis=1, join_axes=[hist_film.index])\n",
    "del df['rating']\n",
    "df.to_json('lab06.json')"
   ]
  },
  {
   "cell_type": "code",
   "execution_count": 303,
   "metadata": {
    "collapsed": false,
    "deletable": true,
    "editable": true
   },
   "outputs": [
    {
     "data": {
      "text/html": [
       "<div>\n",
       "<table border=\"1\" class=\"dataframe\">\n",
       "  <thead>\n",
       "    <tr style=\"text-align: right;\">\n",
       "      <th></th>\n",
       "      <th>user id</th>\n",
       "      <th>item id</th>\n",
       "      <th>rating</th>\n",
       "      <th>timestamp</th>\n",
       "    </tr>\n",
       "  </thead>\n",
       "  <tbody>\n",
       "    <tr>\n",
       "      <th>0</th>\n",
       "      <td>196</td>\n",
       "      <td>242</td>\n",
       "      <td>3</td>\n",
       "      <td>881250949</td>\n",
       "    </tr>\n",
       "    <tr>\n",
       "      <th>1</th>\n",
       "      <td>186</td>\n",
       "      <td>302</td>\n",
       "      <td>3</td>\n",
       "      <td>891717742</td>\n",
       "    </tr>\n",
       "    <tr>\n",
       "      <th>2</th>\n",
       "      <td>22</td>\n",
       "      <td>377</td>\n",
       "      <td>1</td>\n",
       "      <td>878887116</td>\n",
       "    </tr>\n",
       "    <tr>\n",
       "      <th>3</th>\n",
       "      <td>244</td>\n",
       "      <td>51</td>\n",
       "      <td>2</td>\n",
       "      <td>880606923</td>\n",
       "    </tr>\n",
       "    <tr>\n",
       "      <th>4</th>\n",
       "      <td>166</td>\n",
       "      <td>346</td>\n",
       "      <td>1</td>\n",
       "      <td>886397596</td>\n",
       "    </tr>\n",
       "  </tbody>\n",
       "</table>\n",
       "</div>"
      ],
      "text/plain": [
       "   user id  item id  rating  timestamp\n",
       "0      196      242       3  881250949\n",
       "1      186      302       3  891717742\n",
       "2       22      377       1  878887116\n",
       "3      244       51       2  880606923\n",
       "4      166      346       1  886397596"
      ]
     },
     "execution_count": 303,
     "metadata": {},
     "output_type": "execute_result"
    }
   ],
   "source": [
    "rating.head()"
   ]
  },
  {
   "cell_type": "code",
   "execution_count": 304,
   "metadata": {
    "collapsed": false,
    "deletable": true,
    "editable": true
   },
   "outputs": [],
   "source": [
    "n_users_per_film = rating.groupby('item id')['user id'].count().reset_index(name='n')"
   ]
  },
  {
   "cell_type": "code",
   "execution_count": 305,
   "metadata": {
    "collapsed": false,
    "deletable": true,
    "editable": true
   },
   "outputs": [],
   "source": [
    "sum_rating_per_film = rating.groupby('item id')['rating'].sum().reset_index(name='sum')"
   ]
  },
  {
   "cell_type": "code",
   "execution_count": 306,
   "metadata": {
    "collapsed": false,
    "deletable": true,
    "editable": true
   },
   "outputs": [],
   "source": [
    "avg_rating = pd.merge(n_users_per_film, sum_rating_per_film, on='item id')"
   ]
  },
  {
   "cell_type": "code",
   "execution_count": 307,
   "metadata": {
    "collapsed": false,
    "deletable": true,
    "editable": true
   },
   "outputs": [],
   "source": [
    "avg_rating = pd.merge(avg_rating, movie_title, on='item id')"
   ]
  },
  {
   "cell_type": "code",
   "execution_count": 308,
   "metadata": {
    "collapsed": false,
    "deletable": true,
    "editable": true
   },
   "outputs": [
    {
     "data": {
      "text/html": [
       "<div>\n",
       "<table border=\"1\" class=\"dataframe\">\n",
       "  <thead>\n",
       "    <tr style=\"text-align: right;\">\n",
       "      <th></th>\n",
       "      <th>item id</th>\n",
       "      <th>n</th>\n",
       "      <th>sum</th>\n",
       "      <th>movie title</th>\n",
       "      <th>avg</th>\n",
       "    </tr>\n",
       "  </thead>\n",
       "  <tbody>\n",
       "    <tr>\n",
       "      <th>1535</th>\n",
       "      <td>1536</td>\n",
       "      <td>1</td>\n",
       "      <td>5</td>\n",
       "      <td>Aiqing wansui (1994)</td>\n",
       "      <td>5.0</td>\n",
       "    </tr>\n",
       "    <tr>\n",
       "      <th>1652</th>\n",
       "      <td>1653</td>\n",
       "      <td>1</td>\n",
       "      <td>5</td>\n",
       "      <td>Entertaining Angels: The Dorothy Day Story (1996)</td>\n",
       "      <td>5.0</td>\n",
       "    </tr>\n",
       "    <tr>\n",
       "      <th>813</th>\n",
       "      <td>814</td>\n",
       "      <td>1</td>\n",
       "      <td>5</td>\n",
       "      <td>Great Day in Harlem, A (1994)</td>\n",
       "      <td>5.0</td>\n",
       "    </tr>\n",
       "    <tr>\n",
       "      <th>1200</th>\n",
       "      <td>1201</td>\n",
       "      <td>1</td>\n",
       "      <td>5</td>\n",
       "      <td>Marlene Dietrich: Shadow and Light (1996)</td>\n",
       "      <td>5.0</td>\n",
       "    </tr>\n",
       "    <tr>\n",
       "      <th>1188</th>\n",
       "      <td>1189</td>\n",
       "      <td>3</td>\n",
       "      <td>15</td>\n",
       "      <td>Prefontaine (1997)</td>\n",
       "      <td>5.0</td>\n",
       "    </tr>\n",
       "    <tr>\n",
       "      <th>1466</th>\n",
       "      <td>1467</td>\n",
       "      <td>2</td>\n",
       "      <td>10</td>\n",
       "      <td>Saint of Fort Washington, The (1993)</td>\n",
       "      <td>5.0</td>\n",
       "    </tr>\n",
       "    <tr>\n",
       "      <th>1499</th>\n",
       "      <td>1500</td>\n",
       "      <td>2</td>\n",
       "      <td>10</td>\n",
       "      <td>Santa with Muscles (1996)</td>\n",
       "      <td>5.0</td>\n",
       "    </tr>\n",
       "    <tr>\n",
       "      <th>1598</th>\n",
       "      <td>1599</td>\n",
       "      <td>1</td>\n",
       "      <td>5</td>\n",
       "      <td>Someone Else's America (1995)</td>\n",
       "      <td>5.0</td>\n",
       "    </tr>\n",
       "    <tr>\n",
       "      <th>1292</th>\n",
       "      <td>1293</td>\n",
       "      <td>3</td>\n",
       "      <td>15</td>\n",
       "      <td>Star Kid (1997)</td>\n",
       "      <td>5.0</td>\n",
       "    </tr>\n",
       "    <tr>\n",
       "      <th>1121</th>\n",
       "      <td>1122</td>\n",
       "      <td>1</td>\n",
       "      <td>5</td>\n",
       "      <td>They Made Me a Criminal (1939)</td>\n",
       "      <td>5.0</td>\n",
       "    </tr>\n",
       "  </tbody>\n",
       "</table>\n",
       "</div>"
      ],
      "text/plain": [
       "      item id  n  sum                                        movie title  avg\n",
       "1535     1536  1    5                               Aiqing wansui (1994)  5.0\n",
       "1652     1653  1    5  Entertaining Angels: The Dorothy Day Story (1996)  5.0\n",
       "813       814  1    5                      Great Day in Harlem, A (1994)  5.0\n",
       "1200     1201  1    5         Marlene Dietrich: Shadow and Light (1996)   5.0\n",
       "1188     1189  3   15                                 Prefontaine (1997)  5.0\n",
       "1466     1467  2   10               Saint of Fort Washington, The (1993)  5.0\n",
       "1499     1500  2   10                          Santa with Muscles (1996)  5.0\n",
       "1598     1599  1    5                      Someone Else's America (1995)  5.0\n",
       "1292     1293  3   15                                    Star Kid (1997)  5.0\n",
       "1121     1122  1    5                     They Made Me a Criminal (1939)  5.0"
      ]
     },
     "execution_count": 308,
     "metadata": {},
     "output_type": "execute_result"
    }
   ],
   "source": [
    "avg_rating['avg'] = avg_rating['sum']/avg_rating['n']\n",
    "avg_rating.sort_values(by=['avg','movie title'] , ascending=[False, True]).head(10)"
   ]
  },
  {
   "cell_type": "code",
   "execution_count": 309,
   "metadata": {
    "collapsed": false,
    "deletable": true,
    "editable": true
   },
   "outputs": [],
   "source": [
    "m_users_per_film  = rating[rating['rating']>3].groupby('item id')['user id'].count().reset_index(name='m')"
   ]
  },
  {
   "cell_type": "code",
   "execution_count": 310,
   "metadata": {
    "collapsed": false,
    "deletable": true,
    "editable": true
   },
   "outputs": [
    {
     "data": {
      "text/html": [
       "<div>\n",
       "<table border=\"1\" class=\"dataframe\">\n",
       "  <thead>\n",
       "    <tr style=\"text-align: right;\">\n",
       "      <th></th>\n",
       "      <th>item id</th>\n",
       "      <th>m</th>\n",
       "      <th>n</th>\n",
       "      <th>sum</th>\n",
       "      <th>movie title</th>\n",
       "      <th>avg</th>\n",
       "    </tr>\n",
       "  </thead>\n",
       "  <tbody>\n",
       "    <tr>\n",
       "      <th>0</th>\n",
       "      <td>1</td>\n",
       "      <td>321</td>\n",
       "      <td>452</td>\n",
       "      <td>1753</td>\n",
       "      <td>Toy Story (1995)</td>\n",
       "      <td>3.878319</td>\n",
       "    </tr>\n",
       "    <tr>\n",
       "      <th>1</th>\n",
       "      <td>2</td>\n",
       "      <td>51</td>\n",
       "      <td>131</td>\n",
       "      <td>420</td>\n",
       "      <td>GoldenEye (1995)</td>\n",
       "      <td>3.206107</td>\n",
       "    </tr>\n",
       "    <tr>\n",
       "      <th>2</th>\n",
       "      <td>3</td>\n",
       "      <td>34</td>\n",
       "      <td>90</td>\n",
       "      <td>273</td>\n",
       "      <td>Four Rooms (1995)</td>\n",
       "      <td>3.033333</td>\n",
       "    </tr>\n",
       "    <tr>\n",
       "      <th>3</th>\n",
       "      <td>4</td>\n",
       "      <td>122</td>\n",
       "      <td>209</td>\n",
       "      <td>742</td>\n",
       "      <td>Get Shorty (1995)</td>\n",
       "      <td>3.550239</td>\n",
       "    </tr>\n",
       "    <tr>\n",
       "      <th>4</th>\n",
       "      <td>5</td>\n",
       "      <td>39</td>\n",
       "      <td>86</td>\n",
       "      <td>284</td>\n",
       "      <td>Copycat (1995)</td>\n",
       "      <td>3.302326</td>\n",
       "    </tr>\n",
       "  </tbody>\n",
       "</table>\n",
       "</div>"
      ],
      "text/plain": [
       "   item id    m    n   sum        movie title       avg\n",
       "0        1  321  452  1753   Toy Story (1995)  3.878319\n",
       "1        2   51  131   420   GoldenEye (1995)  3.206107\n",
       "2        3   34   90   273  Four Rooms (1995)  3.033333\n",
       "3        4  122  209   742  Get Shorty (1995)  3.550239\n",
       "4        5   39   86   284     Copycat (1995)  3.302326"
      ]
     },
     "execution_count": 310,
     "metadata": {},
     "output_type": "execute_result"
    }
   ],
   "source": [
    "avg_rating = pd.merge(m_users_per_film, avg_rating, on='item id')\n",
    "avg_rating.head()"
   ]
  },
  {
   "cell_type": "code",
   "execution_count": 311,
   "metadata": {
    "collapsed": false,
    "deletable": true,
    "editable": true
   },
   "outputs": [
    {
     "data": {
      "text/html": [
       "<div>\n",
       "<table border=\"1\" class=\"dataframe\">\n",
       "  <thead>\n",
       "    <tr style=\"text-align: right;\">\n",
       "      <th></th>\n",
       "      <th>item id</th>\n",
       "      <th>m</th>\n",
       "      <th>n</th>\n",
       "      <th>sum</th>\n",
       "      <th>movie title</th>\n",
       "      <th>avg</th>\n",
       "      <th>proportion</th>\n",
       "    </tr>\n",
       "  </thead>\n",
       "  <tbody>\n",
       "    <tr>\n",
       "      <th>0</th>\n",
       "      <td>1</td>\n",
       "      <td>321</td>\n",
       "      <td>452</td>\n",
       "      <td>1753</td>\n",
       "      <td>Toy Story (1995)</td>\n",
       "      <td>3.878319</td>\n",
       "      <td>0.710177</td>\n",
       "    </tr>\n",
       "    <tr>\n",
       "      <th>1</th>\n",
       "      <td>2</td>\n",
       "      <td>51</td>\n",
       "      <td>131</td>\n",
       "      <td>420</td>\n",
       "      <td>GoldenEye (1995)</td>\n",
       "      <td>3.206107</td>\n",
       "      <td>0.389313</td>\n",
       "    </tr>\n",
       "    <tr>\n",
       "      <th>2</th>\n",
       "      <td>3</td>\n",
       "      <td>34</td>\n",
       "      <td>90</td>\n",
       "      <td>273</td>\n",
       "      <td>Four Rooms (1995)</td>\n",
       "      <td>3.033333</td>\n",
       "      <td>0.377778</td>\n",
       "    </tr>\n",
       "    <tr>\n",
       "      <th>3</th>\n",
       "      <td>4</td>\n",
       "      <td>122</td>\n",
       "      <td>209</td>\n",
       "      <td>742</td>\n",
       "      <td>Get Shorty (1995)</td>\n",
       "      <td>3.550239</td>\n",
       "      <td>0.583732</td>\n",
       "    </tr>\n",
       "    <tr>\n",
       "      <th>4</th>\n",
       "      <td>5</td>\n",
       "      <td>39</td>\n",
       "      <td>86</td>\n",
       "      <td>284</td>\n",
       "      <td>Copycat (1995)</td>\n",
       "      <td>3.302326</td>\n",
       "      <td>0.453488</td>\n",
       "    </tr>\n",
       "  </tbody>\n",
       "</table>\n",
       "</div>"
      ],
      "text/plain": [
       "   item id    m    n   sum        movie title       avg  proportion\n",
       "0        1  321  452  1753   Toy Story (1995)  3.878319    0.710177\n",
       "1        2   51  131   420   GoldenEye (1995)  3.206107    0.389313\n",
       "2        3   34   90   273  Four Rooms (1995)  3.033333    0.377778\n",
       "3        4  122  209   742  Get Shorty (1995)  3.550239    0.583732\n",
       "4        5   39   86   284     Copycat (1995)  3.302326    0.453488"
      ]
     },
     "execution_count": 311,
     "metadata": {},
     "output_type": "execute_result"
    }
   ],
   "source": [
    "avg_rating['proportion'] = avg_rating['m']/avg_rating['n']\n",
    "avg_rating.head()"
   ]
  },
  {
   "cell_type": "code",
   "execution_count": 347,
   "metadata": {
    "collapsed": false,
    "deletable": true,
    "editable": true
   },
   "outputs": [
    {
     "data": {
      "text/plain": [
       "3.52986"
      ]
     },
     "execution_count": 347,
     "metadata": {},
     "output_type": "execute_result"
    }
   ],
   "source": [
    "float(rating['rating'].sum()) / len(rating)"
   ]
  },
  {
   "cell_type": "code",
   "execution_count": 346,
   "metadata": {
    "collapsed": false,
    "deletable": true,
    "editable": true
   },
   "outputs": [
    {
     "data": {
      "text/plain": [
       "314    318\n",
       "474    483\n",
       "63      64\n",
       "404    408\n",
       "49      50\n",
       "166    169\n",
       "11      12\n",
       "590    603\n",
       "97      98\n",
       "124    127\n",
       "Name: item id, dtype: int64"
      ]
     },
     "execution_count": 346,
     "metadata": {},
     "output_type": "execute_result"
    }
   ],
   "source": [
    "k=20\n",
    "avg_rating['imp_avg'] = (avg_rating['sum'] + k*mu) / (avg_rating['n'] + k)\n",
    "avg_rating.sort_values(by=['imp_avg','movie title'], ascending=[False, True]).head(10)['item id']"
   ]
  },
  {
   "cell_type": "code",
   "execution_count": 314,
   "metadata": {
    "collapsed": false,
    "deletable": true,
    "editable": true
   },
   "outputs": [
    {
     "data": {
      "text/html": [
       "<div>\n",
       "<table border=\"1\" class=\"dataframe\">\n",
       "  <thead>\n",
       "    <tr style=\"text-align: right;\">\n",
       "      <th></th>\n",
       "      <th>item id</th>\n",
       "      <th>m</th>\n",
       "      <th>n</th>\n",
       "      <th>sum</th>\n",
       "      <th>movie title</th>\n",
       "      <th>avg</th>\n",
       "      <th>proportion</th>\n",
       "      <th>imp_avg</th>\n",
       "      <th>confidence_min</th>\n",
       "    </tr>\n",
       "  </thead>\n",
       "  <tbody>\n",
       "    <tr>\n",
       "      <th>0</th>\n",
       "      <td>1</td>\n",
       "      <td>321</td>\n",
       "      <td>452</td>\n",
       "      <td>1753</td>\n",
       "      <td>Toy Story (1995)</td>\n",
       "      <td>3.878319</td>\n",
       "      <td>0.710177</td>\n",
       "      <td>3.841102</td>\n",
       "      <td>0.635683</td>\n",
       "    </tr>\n",
       "    <tr>\n",
       "      <th>1</th>\n",
       "      <td>2</td>\n",
       "      <td>51</td>\n",
       "      <td>131</td>\n",
       "      <td>420</td>\n",
       "      <td>GoldenEye (1995)</td>\n",
       "      <td>3.206107</td>\n",
       "      <td>0.389313</td>\n",
       "      <td>3.178808</td>\n",
       "      <td>0.262759</td>\n",
       "    </tr>\n",
       "    <tr>\n",
       "      <th>2</th>\n",
       "      <td>3</td>\n",
       "      <td>34</td>\n",
       "      <td>90</td>\n",
       "      <td>273</td>\n",
       "      <td>Four Rooms (1995)</td>\n",
       "      <td>3.033333</td>\n",
       "      <td>0.377778</td>\n",
       "      <td>3.027273</td>\n",
       "      <td>0.231465</td>\n",
       "    </tr>\n",
       "    <tr>\n",
       "      <th>3</th>\n",
       "      <td>4</td>\n",
       "      <td>122</td>\n",
       "      <td>209</td>\n",
       "      <td>742</td>\n",
       "      <td>Get Shorty (1995)</td>\n",
       "      <td>3.550239</td>\n",
       "      <td>0.583732</td>\n",
       "      <td>3.502183</td>\n",
       "      <td>0.470114</td>\n",
       "    </tr>\n",
       "    <tr>\n",
       "      <th>4</th>\n",
       "      <td>5</td>\n",
       "      <td>39</td>\n",
       "      <td>86</td>\n",
       "      <td>284</td>\n",
       "      <td>Copycat (1995)</td>\n",
       "      <td>3.302326</td>\n",
       "      <td>0.453488</td>\n",
       "      <td>3.245283</td>\n",
       "      <td>0.292113</td>\n",
       "    </tr>\n",
       "  </tbody>\n",
       "</table>\n",
       "</div>"
      ],
      "text/plain": [
       "   item id    m    n   sum        movie title       avg  proportion   imp_avg  \\\n",
       "0        1  321  452  1753   Toy Story (1995)  3.878319    0.710177  3.841102   \n",
       "1        2   51  131   420   GoldenEye (1995)  3.206107    0.389313  3.178808   \n",
       "2        3   34   90   273  Four Rooms (1995)  3.033333    0.377778  3.027273   \n",
       "3        4  122  209   742  Get Shorty (1995)  3.550239    0.583732  3.502183   \n",
       "4        5   39   86   284     Copycat (1995)  3.302326    0.453488  3.245283   \n",
       "\n",
       "   confidence_min  \n",
       "0        0.635683  \n",
       "1        0.262759  \n",
       "2        0.231465  \n",
       "3        0.470114  \n",
       "4        0.292113  "
      ]
     },
     "execution_count": 314,
     "metadata": {},
     "output_type": "execute_result"
    }
   ],
   "source": [
    "#avg_rating['proportion']+((1*z*z)/(2*avg_rating['n']))+z*sqrt(1/avg_rating['n']*avg_rating['proportion']*(1-avg_rating['proportion'])+1*z*z/(4*avg_rating['n']*avg_rating['n']))\n",
    "def confidence(row):\n",
    "    n = row['n']\n",
    "    phat = row['proportion'] \n",
    "    z = 3.291\n",
    "    \n",
    "    if n == 0:\n",
    "        return 0\n",
    "    return ((phat + z*z/(2*n) - z * sqrt((phat*(1-phat)+z*z/(4*n))/n))/(1+z*z/n))\n",
    "\n",
    "avg_rating['confidence_min'] = avg_rating.apply(confidence, axis=1)\n",
    "avg_rating.head()"
   ]
  },
  {
   "cell_type": "code",
   "execution_count": 315,
   "metadata": {
    "collapsed": false,
    "deletable": true,
    "editable": true
   },
   "outputs": [
    {
     "data": {
      "text/html": [
       "<div>\n",
       "<table border=\"1\" class=\"dataframe\">\n",
       "  <thead>\n",
       "    <tr style=\"text-align: right;\">\n",
       "      <th></th>\n",
       "      <th>item id</th>\n",
       "      <th>m</th>\n",
       "      <th>n</th>\n",
       "      <th>sum</th>\n",
       "      <th>movie title</th>\n",
       "      <th>avg</th>\n",
       "      <th>proportion</th>\n",
       "      <th>imp_avg</th>\n",
       "      <th>confidence_min</th>\n",
       "      <th>confidence_max</th>\n",
       "    </tr>\n",
       "  </thead>\n",
       "  <tbody>\n",
       "    <tr>\n",
       "      <th>0</th>\n",
       "      <td>1</td>\n",
       "      <td>321</td>\n",
       "      <td>452</td>\n",
       "      <td>1753</td>\n",
       "      <td>Toy Story (1995)</td>\n",
       "      <td>3.878319</td>\n",
       "      <td>0.710177</td>\n",
       "      <td>3.841102</td>\n",
       "      <td>0.635683</td>\n",
       "      <td>0.774834</td>\n",
       "    </tr>\n",
       "    <tr>\n",
       "      <th>1</th>\n",
       "      <td>2</td>\n",
       "      <td>51</td>\n",
       "      <td>131</td>\n",
       "      <td>420</td>\n",
       "      <td>GoldenEye (1995)</td>\n",
       "      <td>3.206107</td>\n",
       "      <td>0.389313</td>\n",
       "      <td>3.178808</td>\n",
       "      <td>0.262759</td>\n",
       "      <td>0.532772</td>\n",
       "    </tr>\n",
       "    <tr>\n",
       "      <th>2</th>\n",
       "      <td>3</td>\n",
       "      <td>34</td>\n",
       "      <td>90</td>\n",
       "      <td>273</td>\n",
       "      <td>Four Rooms (1995)</td>\n",
       "      <td>3.033333</td>\n",
       "      <td>0.377778</td>\n",
       "      <td>3.027273</td>\n",
       "      <td>0.231465</td>\n",
       "      <td>0.550347</td>\n",
       "    </tr>\n",
       "    <tr>\n",
       "      <th>3</th>\n",
       "      <td>4</td>\n",
       "      <td>122</td>\n",
       "      <td>209</td>\n",
       "      <td>742</td>\n",
       "      <td>Get Shorty (1995)</td>\n",
       "      <td>3.550239</td>\n",
       "      <td>0.583732</td>\n",
       "      <td>3.502183</td>\n",
       "      <td>0.470114</td>\n",
       "      <td>0.689099</td>\n",
       "    </tr>\n",
       "    <tr>\n",
       "      <th>4</th>\n",
       "      <td>5</td>\n",
       "      <td>39</td>\n",
       "      <td>86</td>\n",
       "      <td>284</td>\n",
       "      <td>Copycat (1995)</td>\n",
       "      <td>3.302326</td>\n",
       "      <td>0.453488</td>\n",
       "      <td>3.245283</td>\n",
       "      <td>0.292113</td>\n",
       "      <td>0.625268</td>\n",
       "    </tr>\n",
       "  </tbody>\n",
       "</table>\n",
       "</div>"
      ],
      "text/plain": [
       "   item id    m    n   sum        movie title       avg  proportion   imp_avg  \\\n",
       "0        1  321  452  1753   Toy Story (1995)  3.878319    0.710177  3.841102   \n",
       "1        2   51  131   420   GoldenEye (1995)  3.206107    0.389313  3.178808   \n",
       "2        3   34   90   273  Four Rooms (1995)  3.033333    0.377778  3.027273   \n",
       "3        4  122  209   742  Get Shorty (1995)  3.550239    0.583732  3.502183   \n",
       "4        5   39   86   284     Copycat (1995)  3.302326    0.453488  3.245283   \n",
       "\n",
       "   confidence_min  confidence_max  \n",
       "0        0.635683        0.774834  \n",
       "1        0.262759        0.532772  \n",
       "2        0.231465        0.550347  \n",
       "3        0.470114        0.689099  \n",
       "4        0.292113        0.625268  "
      ]
     },
     "execution_count": 315,
     "metadata": {},
     "output_type": "execute_result"
    }
   ],
   "source": [
    "def confidence(row):\n",
    "    n = row['n']\n",
    "    phat = row['proportion'] \n",
    "    z = 3.291\n",
    "    \n",
    "    if n == 0:\n",
    "        return 0\n",
    "    return ((phat + z*z/(2*n) + z * sqrt((phat*(1-phat)+z*z/(4*n))/n))/(1+z*z/n))\n",
    "\n",
    "avg_rating['confidence_max'] = avg_rating.apply(confidence, axis=1)\n",
    "avg_rating.head()"
   ]
  },
  {
   "cell_type": "code",
   "execution_count": 316,
   "metadata": {
    "collapsed": false,
    "deletable": true,
    "editable": true
   },
   "outputs": [],
   "source": [
    "result = pd.DataFrame()\n",
    "result['top10_rates'] = avg_rating.sort_values(by='n', ascending=[False]).reset_index().head(10)['item id']\n",
    "result['top10_average'] = avg_rating.sort_values(by=['avg','movie title'] , ascending=[False, True]).reset_index().head(10)['item id']\n",
    "result['top10_rating'] = avg_rating.sort_values(by=['imp_avg','movie title'] , ascending=[False, True]).reset_index().head(10)['item id']\n",
    "result['top10_lower'] = avg_rating.sort_values(by='confidence_min', ascending=[False]).reset_index().head(10)['item id']"
   ]
  },
  {
   "cell_type": "code",
   "execution_count": 317,
   "metadata": {
    "collapsed": false,
    "deletable": true,
    "editable": true
   },
   "outputs": [],
   "source": [
    "top10_rates = avg_rating.sort_values(by='n', ascending=[False]).reset_index().head(10)['item id'].tolist()\n",
    "top10_average = avg_rating.sort_values(by=['avg','movie title'] , ascending=[False, True]).reset_index().head(10)['item id'].tolist()\n",
    "top10_rating = avg_rating.sort_values(by=['imp_avg','movie title'] , ascending=[False, True]).reset_index().head(10)['item id'].tolist()\n",
    "top10_lower = avg_rating.sort_values(by='confidence_min', ascending=[False]).reset_index().head(10)['item id'].tolist()"
   ]
  },
  {
   "cell_type": "code",
   "execution_count": 318,
   "metadata": {
    "collapsed": false,
    "deletable": true,
    "editable": true
   },
   "outputs": [
    {
     "data": {
      "text/html": [
       "<div>\n",
       "<table border=\"1\" class=\"dataframe\">\n",
       "  <thead>\n",
       "    <tr style=\"text-align: right;\">\n",
       "      <th></th>\n",
       "      <th>top10_rates</th>\n",
       "      <th>top10_average</th>\n",
       "      <th>top10_rating</th>\n",
       "      <th>top10_lower</th>\n",
       "    </tr>\n",
       "  </thead>\n",
       "  <tbody>\n",
       "    <tr>\n",
       "      <th>0</th>\n",
       "      <td>50</td>\n",
       "      <td>1536</td>\n",
       "      <td>318</td>\n",
       "      <td>64</td>\n",
       "    </tr>\n",
       "    <tr>\n",
       "      <th>1</th>\n",
       "      <td>258</td>\n",
       "      <td>1653</td>\n",
       "      <td>64</td>\n",
       "      <td>98</td>\n",
       "    </tr>\n",
       "    <tr>\n",
       "      <th>2</th>\n",
       "      <td>100</td>\n",
       "      <td>814</td>\n",
       "      <td>483</td>\n",
       "      <td>318</td>\n",
       "    </tr>\n",
       "    <tr>\n",
       "      <th>3</th>\n",
       "      <td>181</td>\n",
       "      <td>1201</td>\n",
       "      <td>50</td>\n",
       "      <td>479</td>\n",
       "    </tr>\n",
       "    <tr>\n",
       "      <th>4</th>\n",
       "      <td>294</td>\n",
       "      <td>1189</td>\n",
       "      <td>12</td>\n",
       "      <td>50</td>\n",
       "    </tr>\n",
       "    <tr>\n",
       "      <th>5</th>\n",
       "      <td>286</td>\n",
       "      <td>1467</td>\n",
       "      <td>603</td>\n",
       "      <td>483</td>\n",
       "    </tr>\n",
       "    <tr>\n",
       "      <th>6</th>\n",
       "      <td>288</td>\n",
       "      <td>1500</td>\n",
       "      <td>408</td>\n",
       "      <td>603</td>\n",
       "    </tr>\n",
       "    <tr>\n",
       "      <th>7</th>\n",
       "      <td>1</td>\n",
       "      <td>1599</td>\n",
       "      <td>169</td>\n",
       "      <td>427</td>\n",
       "    </tr>\n",
       "    <tr>\n",
       "      <th>8</th>\n",
       "      <td>300</td>\n",
       "      <td>1293</td>\n",
       "      <td>98</td>\n",
       "      <td>357</td>\n",
       "    </tr>\n",
       "    <tr>\n",
       "      <th>9</th>\n",
       "      <td>121</td>\n",
       "      <td>1122</td>\n",
       "      <td>127</td>\n",
       "      <td>12</td>\n",
       "    </tr>\n",
       "  </tbody>\n",
       "</table>\n",
       "</div>"
      ],
      "text/plain": [
       "   top10_rates  top10_average  top10_rating  top10_lower\n",
       "0           50           1536           318           64\n",
       "1          258           1653            64           98\n",
       "2          100            814           483          318\n",
       "3          181           1201            50          479\n",
       "4          294           1189            12           50\n",
       "5          286           1467           603          483\n",
       "6          288           1500           408          603\n",
       "7            1           1599           169          427\n",
       "8          300           1293            98          357\n",
       "9          121           1122           127           12"
      ]
     },
     "execution_count": 318,
     "metadata": {},
     "output_type": "execute_result"
    }
   ],
   "source": [
    "result"
   ]
  },
  {
   "cell_type": "code",
   "execution_count": 319,
   "metadata": {
    "collapsed": false,
    "deletable": true,
    "editable": true
   },
   "outputs": [],
   "source": [
    "result.to_json('lab06s.json')"
   ]
  },
  {
   "cell_type": "code",
   "execution_count": null,
   "metadata": {
    "collapsed": true,
    "deletable": true,
    "editable": true
   },
   "outputs": [],
   "source": []
  }
 ],
 "metadata": {
  "kernelspec": {
   "display_name": "Python 2",
   "language": "python",
   "name": "python2"
  },
  "language_info": {
   "codemirror_mode": {
    "name": "ipython",
    "version": 2
   },
   "file_extension": ".py",
   "mimetype": "text/x-python",
   "name": "python",
   "nbconvert_exporter": "python",
   "pygments_lexer": "ipython2",
   "version": "2.7.6"
  }
 },
 "nbformat": 4,
 "nbformat_minor": 2
}
