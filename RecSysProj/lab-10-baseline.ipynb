{
 "cells": [
  {
   "cell_type": "code",
   "execution_count": 2,
   "metadata": {
    "collapsed": false,
    "deletable": true,
    "editable": true
   },
   "outputs": [
    {
     "name": "stdout",
     "output_type": "stream",
     "text": [
      "Welcome to\n",
      "      ____              __\n",
      "     / __/__  ___ _____/ /__\n",
      "    _\\ \\/ _ \\/ _ `/ __/  '_/\n",
      "   /__ / .__/\\_,_/_/ /_/\\_\\   version 2.1.1\n",
      "      /_/\n",
      "\n",
      "Using Python version 2.7.6 (default, Oct 26 2016 20:30:19)\n",
      "SparkSession available as 'spark'.\n"
     ]
    }
   ],
   "source": [
    "import os\n",
    "import sys\n",
    "\n",
    "os.environ[\"PYSPARK_SUBMIT_ARGS\"]='--packages com.databricks:spark-csv_2.10:1.2.0 pyspark-shell'\n",
    "spark_home = os.environ.get('SPARK_HOME', None)\n",
    "sys.path.insert(0, spark_home + \"/python\")\n",
    "\n",
    "execfile(os.path.join(spark_home, 'python/pyspark/shell.py'))"
   ]
  },
  {
   "cell_type": "code",
   "execution_count": 3,
   "metadata": {
    "collapsed": false,
    "deletable": true,
    "editable": true
   },
   "outputs": [],
   "source": [
    "#import os\n",
    "#import sys\n",
    "\n",
    "\n",
    "#os.environ['SPARK_HOME'] = '/usr/lib/spark'\n",
    "#sys.path.insert(0, '/usr/lib/spark/python/lib/py4j-0.9-src.zip')\n",
    "#sys.path.insert(0, '/usr/lib/spark/python/')\n",
    "#sys.path.insert(0, '/usr/local/lib64/python2.7/site-packages')\n",
    "#sys.path.insert(0,'/usr/local/lib/python2.7/site-packages')"
   ]
  },
  {
   "cell_type": "code",
   "execution_count": 4,
   "metadata": {
    "collapsed": false,
    "deletable": true,
    "editable": true
   },
   "outputs": [
    {
     "name": "stdout",
     "output_type": "stream",
     "text": [
      "Populating the interactive namespace from numpy and matplotlib\n"
     ]
    }
   ],
   "source": [
    "%pylab inline"
   ]
  },
  {
   "cell_type": "code",
   "execution_count": 5,
   "metadata": {
    "collapsed": false,
    "deletable": true,
    "editable": true
   },
   "outputs": [
    {
     "name": "stderr",
     "output_type": "stream",
     "text": [
      "/usr/local/lib/python2.7/dist-packages/IPython/html.py:14: ShimWarning: The `IPython.html` package has been deprecated since IPython 4.0. You should import from `notebook` instead. `IPython.html.widgets` has moved to `ipywidgets`.\n",
      "  \"`IPython.html.widgets` has moved to `ipywidgets`.\", ShimWarning)\n"
     ]
    }
   ],
   "source": [
    "import seaborn as sns"
   ]
  },
  {
   "cell_type": "code",
   "execution_count": 6,
   "metadata": {
    "collapsed": true,
    "deletable": true,
    "editable": true
   },
   "outputs": [],
   "source": [
    "import numpy as np\n",
    "import pandas as pd\n",
    "import time\n",
    "import json\n",
    "\n",
    "from pyspark.sql.types import StructType, StructField, StringType, IntegerType, FloatType\n",
    "import pyspark.sql.functions as F"
   ]
  },
  {
   "cell_type": "code",
   "execution_count": 7,
   "metadata": {
    "collapsed": true,
    "deletable": true,
    "editable": true
   },
   "outputs": [],
   "source": [
    "from operator import add\n",
    "from pyspark.sql.types import ArrayType, MapType"
   ]
  },
  {
   "cell_type": "markdown",
   "metadata": {
    "deletable": true,
    "editable": true
   },
   "source": [
    "# Summary"
   ]
  },
  {
   "cell_type": "markdown",
   "metadata": {
    "deletable": true,
    "editable": true
   },
   "source": [
    "## Train\n",
    "* total items 142'437 (single row is filtered out)\n",
    "* number of recommended items \n",
    "  * min 3, max >100, avg ~6, stddev ~5\n",
    "* score of recommended item\n",
    "  * min 1, max >100, avg ~3, stddev ~3\n",
    "* has outlier line with 40K recommendations - it is filtered out\n",
    "* There are 337'756 unique items among recomended\n",
    "* There is no duplicates in trai set\n",
    "\n",
    "\n",
    "## Test\n",
    "* total items 60'956\n",
    "* 47'932 test items occured at least single time as recommended to some item in the train set\n",
    "* number of backreference to the train set: min=0, 25% = 1, median = 2, avg = 3, max=51\n",
    "\n",
    "## Active items\n",
    "* There are 380'900 items in train + train_rec + test set\n",
    "* train, train_rec\t112'317\n",
    "* train             30'120\n",
    "* train_rec     \t177'507\n",
    "* test  \t        13'024\n",
    "* test, train_rec\t47'932\n",
    "\n",
    "## Item description\n",
    "* Description json is available for 9'273'625 items\n",
    "* **parent_id**\tis available for 3'805'884\n",
    "* there are 80 custom attributes\n",
    "* **attr1** looks like a **name**, and available for 9'273'137\n",
    "* **attr0** looks like a **description**, and available for 8'272'266\n",
    "* There are 5842 items with duplicated descriptions within Activel Items\n",
    "\n",
    "## Ratings\n",
    "* Roughly speaking is available in 20-30% of active items\n"
   ]
  },
  {
   "cell_type": "markdown",
   "metadata": {
    "deletable": true,
    "editable": true
   },
   "source": [
    "# Train set"
   ]
  },
  {
   "cell_type": "code",
   "execution_count": 17,
   "metadata": {
    "collapsed": true,
    "deletable": true,
    "editable": true
   },
   "outputs": [],
   "source": [
    "items_raw = sc.textFile(\"/labs/project2//ozon_train.txt\")"
   ]
  },
  {
   "cell_type": "code",
   "execution_count": 18,
   "metadata": {
    "collapsed": true,
    "deletable": true,
    "editable": true
   },
   "outputs": [],
   "source": [
    "items_raw = items_raw.map(lambda x: json.loads(x))"
   ]
  },
  {
   "cell_type": "code",
   "execution_count": 19,
   "metadata": {
    "collapsed": false,
    "deletable": true,
    "editable": true
   },
   "outputs": [],
   "source": [
    "#train_items = items_raw.map(lambda x: (x['item'], \n",
    "#                                       x['true_recoms'], \n",
    "#                                       len(x['true_recoms']), \n",
    "#                                       float(np.mean(x['true_recoms'].values()))))\n",
    "#train_items.cache()"
   ]
  },
  {
   "cell_type": "code",
   "execution_count": 20,
   "metadata": {
    "collapsed": false,
    "deletable": true,
    "editable": true
   },
   "outputs": [],
   "source": [
    "train_items_narrow = items_raw.map(lambda x: (x['item'], x['true_recoms']))\\\n",
    "                              .filter(lambda x: len(x[1])<40000)\\\n",
    "                              .toDF()\\\n",
    "                              .selectExpr(\"_1 as item\", \"_2 as rec_items\")\\\n",
    "                              .select(F.col(\"item\"), F.explode(F.col(\"rec_items\")).alias(\"rec_item\",\"clicks\"))"
   ]
  },
  {
   "cell_type": "code",
   "execution_count": 21,
   "metadata": {
    "collapsed": false,
    "deletable": true,
    "editable": true
   },
   "outputs": [
    {
     "name": "stdout",
     "output_type": "stream",
     "text": [
      "+--------+--------+------+\n",
      "|    item|rec_item|clicks|\n",
      "+--------+--------+------+\n",
      "|31471303|31471373|     1|\n",
      "|31471303|31471307|     3|\n",
      "|31471303|31471342|     1|\n",
      "+--------+--------+------+\n",
      "only showing top 3 rows\n",
      "\n"
     ]
    }
   ],
   "source": [
    "train_items_narrow.show(3)"
   ]
  },
  {
   "cell_type": "markdown",
   "metadata": {
    "deletable": true,
    "editable": true
   },
   "source": [
    "# Test set"
   ]
  },
  {
   "cell_type": "code",
   "execution_count": 22,
   "metadata": {
    "collapsed": false,
    "deletable": true,
    "editable": true
   },
   "outputs": [],
   "source": [
    "test = spark.read.json(\"/labs/project2//ozon_test.txt\")"
   ]
  },
  {
   "cell_type": "code",
   "execution_count": 23,
   "metadata": {
    "collapsed": false,
    "deletable": true,
    "editable": true
   },
   "outputs": [
    {
     "name": "stdout",
     "output_type": "stream",
     "text": [
      "+--------+------+\n",
      "|    item|recoms|\n",
      "+--------+------+\n",
      "|28759795|  null|\n",
      "|32712593|  null|\n",
      "+--------+------+\n",
      "only showing top 2 rows\n",
      "\n"
     ]
    }
   ],
   "source": [
    "test.show(2)"
   ]
  },
  {
   "cell_type": "code",
   "execution_count": 24,
   "metadata": {
    "collapsed": false,
    "deletable": true,
    "editable": true
   },
   "outputs": [
    {
     "data": {
      "text/plain": [
       "60956"
      ]
     },
     "execution_count": 24,
     "metadata": {},
     "output_type": "execute_result"
    }
   ],
   "source": [
    "test.count()"
   ]
  },
  {
   "cell_type": "markdown",
   "metadata": {
    "deletable": true,
    "editable": true
   },
   "source": [
    "# Item details"
   ]
  },
  {
   "cell_type": "code",
   "execution_count": 25,
   "metadata": {
    "collapsed": false,
    "deletable": true,
    "editable": true
   },
   "outputs": [],
   "source": [
    "item_descr_raw = sc.textFile(\"/labs/project2//item_details_full\")"
   ]
  },
  {
   "cell_type": "code",
   "execution_count": 26,
   "metadata": {
    "collapsed": true,
    "deletable": true,
    "editable": true
   },
   "outputs": [],
   "source": [
    "items_descr_df = item_descr_raw.map(lambda x: json.loads(x))\\\n",
    "                          .map(lambda x: (x['itemid'], \n",
    "                                          x.get('attr1',None), \n",
    "                                          x.get('attr0',None),\n",
    "                                          x.get('parent_id',None),\n",
    "                                          x.get('attr53',None),\n",
    "                                          x.get('attr2',None),\n",
    "                                          x.get('attr32',None),\n",
    "                                          x.get('attr18',None),\n",
    "                                          ))\\\n",
    "                          .toDF(schema=StructType([\n",
    "                                        StructField(\"itemid\", StringType()),\n",
    "                                        StructField(\"name\", StringType()),\n",
    "                                        StructField(\"descr\", StringType()),\n",
    "                                        StructField(\"parent_id\", StringType()),\n",
    "                                        StructField(\"a53_isbn\", StringType()),\n",
    "                                        StructField(\"a02_author\", StringType()),\n",
    "                                        StructField(\"a32_lang\", StringType()),\n",
    "                                        StructField(\"a18_publisher\", StringType()),\n",
    "                                       ]))"
   ]
  },
  {
   "cell_type": "code",
   "execution_count": 27,
   "metadata": {
    "collapsed": false,
    "deletable": true,
    "editable": true
   },
   "outputs": [
    {
     "name": "stdout",
     "output_type": "stream",
     "text": [
      "+--------+--------------------+--------------------+---------+--------+--------------+---------+--------------------+\n",
      "|  itemid|                name|               descr|parent_id|a53_isbn|    a02_author| a32_lang|       a18_publisher|\n",
      "+--------+--------------------+--------------------+---------+--------+--------------+---------+--------------------+\n",
      "|12808031|История маленьког...|<B> Прижизненное ...| 17969540|    null|   Ф. Бернет  |Русский  |Издание А. Ф. Дев...|\n",
      "|12599476|Belkin чехол для ...|Надежная защита -...| 16095306|    null|          null|     null|                null|\n",
      "|22440986|Толковый словарь ...|               нет  |     null|    null|С. И. Ожегов  |     null|                null|\n",
      "+--------+--------------------+--------------------+---------+--------+--------------+---------+--------------------+\n",
      "only showing top 3 rows\n",
      "\n"
     ]
    }
   ],
   "source": [
    "items_descr_df.show(3)"
   ]
  },
  {
   "cell_type": "code",
   "execution_count": 28,
   "metadata": {
    "collapsed": false,
    "deletable": true,
    "editable": true
   },
   "outputs": [],
   "source": [
    "#items_descr_df.filter(~F.isnull(F.col(\"attr53\"))).show()"
   ]
  },
  {
   "cell_type": "markdown",
   "metadata": {
    "deletable": true,
    "editable": true
   },
   "source": [
    "# Ratings"
   ]
  },
  {
   "cell_type": "code",
   "execution_count": 31,
   "metadata": {
    "collapsed": false,
    "deletable": true,
    "editable": true
   },
   "outputs": [],
   "source": [
    "item_ratings = spark.read.json(\"/labs/project2/ratings\", \n",
    "                              schema=StructType([\n",
    "            StructField(\"itemid\", StringType()),\n",
    "            StructField(\"rating\", FloatType())\n",
    "        ]))"
   ]
  },
  {
   "cell_type": "code",
   "execution_count": 32,
   "metadata": {
    "collapsed": false,
    "deletable": true,
    "editable": true
   },
   "outputs": [
    {
     "name": "stdout",
     "output_type": "stream",
     "text": [
      "+-------+------+\n",
      "| itemid|rating|\n",
      "+-------+------+\n",
      "|2515646|   5.0|\n",
      "|2858646|   5.0|\n",
      "+-------+------+\n",
      "only showing top 2 rows\n",
      "\n"
     ]
    }
   ],
   "source": [
    "item_ratings.show(2)"
   ]
  },
  {
   "cell_type": "markdown",
   "metadata": {
    "deletable": true,
    "editable": true
   },
   "source": [
    "# Catalogs"
   ]
  },
  {
   "cell_type": "code",
   "execution_count": 33,
   "metadata": {
    "collapsed": false,
    "deletable": true,
    "editable": true
   },
   "outputs": [],
   "source": [
    "item_catalogs = spark.read.json(\"/labs/project2/catalogs\")"
   ]
  },
  {
   "cell_type": "code",
   "execution_count": 34,
   "metadata": {
    "collapsed": false,
    "deletable": true,
    "editable": true
   },
   "outputs": [
    {
     "name": "stdout",
     "output_type": "stream",
     "text": [
      "+---------+--------+\n",
      "|catalogid|  itemid|\n",
      "+---------+--------+\n",
      "|  1139010|26881367|\n",
      "|  1140991|31587713|\n",
      "|  1134295|17425282|\n",
      "+---------+--------+\n",
      "only showing top 3 rows\n",
      "\n"
     ]
    }
   ],
   "source": [
    "item_catalogs.show(3)"
   ]
  },
  {
   "cell_type": "markdown",
   "metadata": {
    "deletable": true,
    "editable": true
   },
   "source": [
    "# Catalogs structure (path)"
   ]
  },
  {
   "cell_type": "code",
   "execution_count": 35,
   "metadata": {
    "collapsed": false,
    "deletable": true,
    "editable": true
   },
   "outputs": [],
   "source": [
    "catalog_path = spark.read.json(\"/labs/project2/catalog_path\", \n",
    "                               schema=StructType([\n",
    "                                            StructField(\"catalogid\", StringType()),\n",
    "                                            StructField(\"catalogpath\", \n",
    "                                                        ArrayType(MapType(StringType(), StringType())))\n",
    "                                       ]))"
   ]
  },
  {
   "cell_type": "code",
   "execution_count": 36,
   "metadata": {
    "collapsed": false,
    "deletable": true,
    "editable": true
   },
   "outputs": [
    {
     "name": "stdout",
     "output_type": "stream",
     "text": [
      "+---------+------------------------------------------------------------------------------------------------------------------------------------------------------------------------------------------------------------------------------+\n",
      "|catalogid|catalogpath                                                                                                                                                                                                                   |\n",
      "+---------+------------------------------------------------------------------------------------------------------------------------------------------------------------------------------------------------------------------------------+\n",
      "|1125369  |[Map(1125369 -> Аксессуары), Map(1123855 -> Коты), Map(1123646 -> Я_Символ года 2011), Map(1110181 -> Я_ Новогодняя тематика), Map(1106018 -> ПОДАРКИ. СЕЗОННЫЕ ПРЕДЛОЖЕНИЯ), Map(1134031 -> ПОДАРКИ_СТАРЫЕ ВЕТКИ_НЕ АКТИВНЫ)]|\n",
      "|1125370  |[Map(1125370 -> Магнитики), Map(1123855 -> Коты), Map(1123646 -> Я_Символ года 2011), Map(1110181 -> Я_ Новогодняя тематика), Map(1106018 -> ПОДАРКИ. СЕЗОННЫЕ ПРЕДЛОЖЕНИЯ), Map(1134031 -> ПОДАРКИ_СТАРЫЕ ВЕТКИ_НЕ АКТИВНЫ)] |\n",
      "+---------+------------------------------------------------------------------------------------------------------------------------------------------------------------------------------------------------------------------------------+\n",
      "only showing top 2 rows\n",
      "\n"
     ]
    }
   ],
   "source": [
    "catalog_path.show(2, truncate=False)"
   ]
  },
  {
   "cell_type": "markdown",
   "metadata": {
    "collapsed": true,
    "deletable": true,
    "editable": true
   },
   "source": [
    "# Register all tables"
   ]
  },
  {
   "cell_type": "code",
   "execution_count": 37,
   "metadata": {
    "collapsed": true,
    "deletable": true,
    "editable": true
   },
   "outputs": [],
   "source": [
    "train_items_narrow.registerTempTable(\"train_narrow\")\n",
    "test.registerTempTable(\"test\")\n",
    "#items_descr_df.registerTempTable(\"descr\")\n",
    "item_ratings.registerTempTable(\"rating\")\n",
    "item_catalogs.registerTempTable(\"catalogs\")\n",
    "catalog_path.registerTempTable(\"catalog_path\")\n"
   ]
  },
  {
   "cell_type": "code",
   "execution_count": 38,
   "metadata": {
    "collapsed": false,
    "deletable": true,
    "editable": true
   },
   "outputs": [],
   "source": [
    "item_clicks = spark.sql(\"\"\"select rec_item as itemid,\n",
    "                                 count(*) as n_recomended,\n",
    "                                 sum(clicks) as ttl_clicks\n",
    "                          from train_narrow\n",
    "                          group by rec_item\n",
    "                       \"\"\")"
   ]
  },
  {
   "cell_type": "code",
   "execution_count": 39,
   "metadata": {
    "collapsed": false,
    "deletable": true,
    "editable": true
   },
   "outputs": [
    {
     "name": "stdout",
     "output_type": "stream",
     "text": [
      "+--------+------------+----------+\n",
      "|  itemid|n_recomended|ttl_clicks|\n",
      "+--------+------------+----------+\n",
      "|31390826|           5|        23|\n",
      "| 5621791|           3|        10|\n",
      "+--------+------------+----------+\n",
      "only showing top 2 rows\n",
      "\n"
     ]
    }
   ],
   "source": [
    "item_clicks.show(2)"
   ]
  },
  {
   "cell_type": "code",
   "execution_count": 40,
   "metadata": {
    "collapsed": false,
    "deletable": true,
    "editable": true
   },
   "outputs": [
    {
     "data": {
      "text/plain": [
       "337756"
      ]
     },
     "execution_count": 40,
     "metadata": {},
     "output_type": "execute_result"
    }
   ],
   "source": [
    "item_clicks.count()"
   ]
  },
  {
   "cell_type": "code",
   "execution_count": 41,
   "metadata": {
    "collapsed": true,
    "deletable": true,
    "editable": true
   },
   "outputs": [],
   "source": [
    "item_clicks.registerTempTable(\"clicks\")"
   ]
  },
  {
   "cell_type": "code",
   "execution_count": 42,
   "metadata": {
    "collapsed": false,
    "deletable": true,
    "editable": true
   },
   "outputs": [],
   "source": [
    "test_with_catalogs = spark.sql(\"\"\"select \n",
    "                                    t.item as itemid,\n",
    "                                    catalogid\n",
    "                                 from test t \n",
    "                                 left join catalogs on catalogs.itemid = t.item\n",
    "                              \"\"\")"
   ]
  },
  {
   "cell_type": "code",
   "execution_count": 43,
   "metadata": {
    "collapsed": true,
    "deletable": true,
    "editable": true
   },
   "outputs": [],
   "source": [
    "test_with_catalogs.registerTempTable(\"test_with_catalog\")"
   ]
  },
  {
   "cell_type": "code",
   "execution_count": 44,
   "metadata": {
    "collapsed": true,
    "deletable": true,
    "editable": true
   },
   "outputs": [],
   "source": [
    "tcs=spark.sql(\"\"\"select \n",
    "                itemid,sum(case when catalogid is null then 0 else 1 end) as n_catalogs\n",
    "            from test_with_catalog\n",
    "            group by itemid\n",
    "         \"\"\")"
   ]
  },
  {
   "cell_type": "code",
   "execution_count": 45,
   "metadata": {
    "collapsed": true,
    "deletable": true,
    "editable": true
   },
   "outputs": [],
   "source": [
    "tcs_df = tcs.toPandas()"
   ]
  },
  {
   "cell_type": "code",
   "execution_count": 46,
   "metadata": {
    "collapsed": false,
    "deletable": true,
    "editable": true
   },
   "outputs": [],
   "source": [
    "#tcs_df.n_catalogs.value_counts()"
   ]
  },
  {
   "cell_type": "code",
   "execution_count": 47,
   "metadata": {
    "collapsed": false,
    "deletable": true,
    "editable": true
   },
   "outputs": [
    {
     "data": {
      "text/html": [
       "<div>\n",
       "<table border=\"1\" class=\"dataframe\">\n",
       "  <thead>\n",
       "    <tr style=\"text-align: right;\">\n",
       "      <th></th>\n",
       "      <th>itemid</th>\n",
       "      <th>n_catalogs</th>\n",
       "    </tr>\n",
       "  </thead>\n",
       "  <tbody>\n",
       "    <tr>\n",
       "      <th>58</th>\n",
       "      <td>25677428</td>\n",
       "      <td>0</td>\n",
       "    </tr>\n",
       "    <tr>\n",
       "      <th>90</th>\n",
       "      <td>28128873</td>\n",
       "      <td>0</td>\n",
       "    </tr>\n",
       "    <tr>\n",
       "      <th>118</th>\n",
       "      <td>30306599</td>\n",
       "      <td>0</td>\n",
       "    </tr>\n",
       "  </tbody>\n",
       "</table>\n",
       "</div>"
      ],
      "text/plain": [
       "       itemid  n_catalogs\n",
       "58   25677428           0\n",
       "90   28128873           0\n",
       "118  30306599           0"
      ]
     },
     "execution_count": 47,
     "metadata": {},
     "output_type": "execute_result"
    }
   ],
   "source": [
    "tcs_df[tcs_df.n_catalogs==0].head(3)"
   ]
  },
  {
   "cell_type": "code",
   "execution_count": 48,
   "metadata": {
    "collapsed": false,
    "deletable": true,
    "editable": true
   },
   "outputs": [],
   "source": [
    "#items_descr_df.filter(F.col(\"itemid\") == \"20999092\").show(truncate=False)\n",
    "#has no parent id, no catalogid"
   ]
  },
  {
   "cell_type": "code",
   "execution_count": 49,
   "metadata": {
    "collapsed": false,
    "deletable": true,
    "editable": true
   },
   "outputs": [],
   "source": [
    "test_catalogs_freq=spark.sql(\"\"\"select \n",
    "                catalogid,count(*) as n_test_records\n",
    "            from test_with_catalog\n",
    "            group by catalogid\n",
    "         \"\"\")"
   ]
  },
  {
   "cell_type": "code",
   "execution_count": 50,
   "metadata": {
    "collapsed": false,
    "deletable": true,
    "editable": true
   },
   "outputs": [],
   "source": [
    "test_catalogs_freq_df = test_catalogs_freq.toPandas()"
   ]
  },
  {
   "cell_type": "code",
   "execution_count": 51,
   "metadata": {
    "collapsed": false,
    "deletable": true,
    "editable": true
   },
   "outputs": [
    {
     "data": {
      "text/html": [
       "<div>\n",
       "<table border=\"1\" class=\"dataframe\">\n",
       "  <thead>\n",
       "    <tr style=\"text-align: right;\">\n",
       "      <th></th>\n",
       "      <th>catalogid</th>\n",
       "      <th>n_test_records</th>\n",
       "    </tr>\n",
       "  </thead>\n",
       "  <tbody>\n",
       "    <tr>\n",
       "      <th>2304</th>\n",
       "      <td>1141109</td>\n",
       "      <td>2224</td>\n",
       "    </tr>\n",
       "    <tr>\n",
       "      <th>737</th>\n",
       "      <td>None</td>\n",
       "      <td>1634</td>\n",
       "    </tr>\n",
       "    <tr>\n",
       "      <th>3294</th>\n",
       "      <td>1145568</td>\n",
       "      <td>787</td>\n",
       "    </tr>\n",
       "    <tr>\n",
       "      <th>287</th>\n",
       "      <td>1146150</td>\n",
       "      <td>738</td>\n",
       "    </tr>\n",
       "    <tr>\n",
       "      <th>980</th>\n",
       "      <td>1158883</td>\n",
       "      <td>726</td>\n",
       "    </tr>\n",
       "  </tbody>\n",
       "</table>\n",
       "</div>"
      ],
      "text/plain": [
       "     catalogid  n_test_records\n",
       "2304   1141109            2224\n",
       "737       None            1634\n",
       "3294   1145568             787\n",
       "287    1146150             738\n",
       "980    1158883             726"
      ]
     },
     "execution_count": 51,
     "metadata": {},
     "output_type": "execute_result"
    }
   ],
   "source": [
    "test_catalogs_freq_df.sort_values(by=\"n_test_records\", ascending=False).head(5)"
   ]
  },
  {
   "cell_type": "code",
   "execution_count": 52,
   "metadata": {
    "collapsed": false,
    "deletable": true,
    "editable": true
   },
   "outputs": [],
   "source": [
    "test_catalogs_freq.registerTempTable(\"catalogs_in_test\")"
   ]
  },
  {
   "cell_type": "code",
   "execution_count": 53,
   "metadata": {
    "collapsed": true,
    "deletable": true,
    "editable": true
   },
   "outputs": [],
   "source": [
    "# Pivot based on catalog+rating+click using only catalogs from test"
   ]
  },
  {
   "cell_type": "code",
   "execution_count": 54,
   "metadata": {
    "collapsed": false,
    "deletable": true,
    "editable": true
   },
   "outputs": [],
   "source": [
    "q = spark.sql(\"\"\"\n",
    "        select \n",
    "            c.itemid,\n",
    "            c.catalogid,\n",
    "            r.rating,\n",
    "            cl.ttl_clicks,\n",
    "            cl.n_recomended,\n",
    "            cl.ttl_clicks * 1.0 / cl.n_recomended  as avg_clicks\n",
    "        from catalogs c\n",
    "        join catalogs_in_test ct on ct.catalogid = c.catalogid\n",
    "        left join rating r on c.itemid = r.itemid\n",
    "        left join clicks cl on c.itemid = cl.itemid\n",
    "\"\"\")"
   ]
  },
  {
   "cell_type": "code",
   "execution_count": 55,
   "metadata": {
    "collapsed": true,
    "deletable": true,
    "editable": true
   },
   "outputs": [],
   "source": [
    "q.registerTempTable(\"pivot_item_in_test_catalogs\")"
   ]
  },
  {
   "cell_type": "code",
   "execution_count": 56,
   "metadata": {
    "collapsed": false,
    "deletable": true,
    "editable": true
   },
   "outputs": [
    {
     "name": "stdout",
     "output_type": "stream",
     "text": [
      "+------+---------+------+----------+------------+----------+\n",
      "|itemid|catalogid|rating|ttl_clicks|n_recomended|avg_clicks|\n",
      "+------+---------+------+----------+------------+----------+\n",
      "|100010|  1142025|   3.0|      null|        null|      null|\n",
      "|100140|  1139877|  null|      null|        null|      null|\n",
      "+------+---------+------+----------+------------+----------+\n",
      "only showing top 2 rows\n",
      "\n"
     ]
    }
   ],
   "source": [
    "q.show(2)"
   ]
  },
  {
   "cell_type": "code",
   "execution_count": 57,
   "metadata": {
    "collapsed": true,
    "deletable": true,
    "editable": true
   },
   "outputs": [],
   "source": [
    "test_catalog_items_summary = spark.sql(\"\"\"\n",
    "        select\n",
    "           catalogid,\n",
    "           count(*) as n_items,\n",
    "           sum(case when rating is not null then 1 else 0 end) as n_ratings,\n",
    "           sum(case when avg_clicks is not null then 1 else 0 end) as n_from_rec,\n",
    "           avg(rating) as avg_rating,\n",
    "           avg(ttl_clicks) as avg_ttl_clicks,\n",
    "           avg(avg_clicks) as avg_clicks_per_rec\n",
    "        from pivot_item_in_test_catalogs\n",
    "        group by catalogid\n",
    "\"\"\")"
   ]
  },
  {
   "cell_type": "code",
   "execution_count": 58,
   "metadata": {
    "collapsed": true,
    "deletable": true,
    "editable": true
   },
   "outputs": [],
   "source": [
    "test_cats_sum_df = test_catalog_items_summary.toPandas()"
   ]
  },
  {
   "cell_type": "code",
   "execution_count": 59,
   "metadata": {
    "collapsed": false,
    "deletable": true,
    "editable": true
   },
   "outputs": [
    {
     "data": {
      "text/html": [
       "<div>\n",
       "<table border=\"1\" class=\"dataframe\">\n",
       "  <thead>\n",
       "    <tr style=\"text-align: right;\">\n",
       "      <th></th>\n",
       "      <th>catalogid</th>\n",
       "      <th>n_items</th>\n",
       "      <th>n_ratings</th>\n",
       "      <th>n_from_rec</th>\n",
       "      <th>avg_rating</th>\n",
       "      <th>avg_ttl_clicks</th>\n",
       "      <th>avg_clicks_per_rec</th>\n",
       "    </tr>\n",
       "  </thead>\n",
       "  <tbody>\n",
       "    <tr>\n",
       "      <th>1679</th>\n",
       "      <td>1138615</td>\n",
       "      <td>1414978</td>\n",
       "      <td>549</td>\n",
       "      <td>1096</td>\n",
       "      <td>3.982046</td>\n",
       "      <td>3.493613</td>\n",
       "      <td>2.27689719799665055139507</td>\n",
       "    </tr>\n",
       "    <tr>\n",
       "      <th>305</th>\n",
       "      <td>1134295</td>\n",
       "      <td>712106</td>\n",
       "      <td>71</td>\n",
       "      <td>3560</td>\n",
       "      <td>4.450704</td>\n",
       "      <td>2.925000</td>\n",
       "      <td>1.73293370019493614999171</td>\n",
       "    </tr>\n",
       "    <tr>\n",
       "      <th>666</th>\n",
       "      <td>1138452</td>\n",
       "      <td>273724</td>\n",
       "      <td>212</td>\n",
       "      <td>460</td>\n",
       "      <td>3.598334</td>\n",
       "      <td>3.032609</td>\n",
       "      <td>2.08360248447204968944109</td>\n",
       "    </tr>\n",
       "    <tr>\n",
       "      <th>2301</th>\n",
       "      <td>1141109</td>\n",
       "      <td>226980</td>\n",
       "      <td>20562</td>\n",
       "      <td>13431</td>\n",
       "      <td>4.264201</td>\n",
       "      <td>8.209069</td>\n",
       "      <td>3.14087727695402387723821</td>\n",
       "    </tr>\n",
       "    <tr>\n",
       "      <th>68</th>\n",
       "      <td>1134294</td>\n",
       "      <td>192024</td>\n",
       "      <td>58</td>\n",
       "      <td>1538</td>\n",
       "      <td>4.678161</td>\n",
       "      <td>3.539662</td>\n",
       "      <td>1.70859294224053651881918</td>\n",
       "    </tr>\n",
       "  </tbody>\n",
       "</table>\n",
       "</div>"
      ],
      "text/plain": [
       "     catalogid  n_items  n_ratings  n_from_rec  avg_rating  avg_ttl_clicks  \\\n",
       "1679   1138615  1414978        549        1096    3.982046        3.493613   \n",
       "305    1134295   712106         71        3560    4.450704        2.925000   \n",
       "666    1138452   273724        212         460    3.598334        3.032609   \n",
       "2301   1141109   226980      20562       13431    4.264201        8.209069   \n",
       "68     1134294   192024         58        1538    4.678161        3.539662   \n",
       "\n",
       "             avg_clicks_per_rec  \n",
       "1679  2.27689719799665055139507  \n",
       "305   1.73293370019493614999171  \n",
       "666   2.08360248447204968944109  \n",
       "2301  3.14087727695402387723821  \n",
       "68    1.70859294224053651881918  "
      ]
     },
     "execution_count": 59,
     "metadata": {},
     "output_type": "execute_result"
    }
   ],
   "source": [
    "test_cats_sum_df.sort_values(by='n_items', ascending=False).head(5)"
   ]
  },
  {
   "cell_type": "code",
   "execution_count": 60,
   "metadata": {
    "collapsed": false,
    "deletable": true,
    "editable": true
   },
   "outputs": [],
   "source": [
    "#spark.sql(\"select * from catalog_path where catalogid in ('1169813','1178624')\").show(truncate=False)"
   ]
  },
  {
   "cell_type": "code",
   "execution_count": 61,
   "metadata": {
    "collapsed": false,
    "deletable": true,
    "editable": true
   },
   "outputs": [
    {
     "data": {
      "text/html": [
       "<div>\n",
       "<table border=\"1\" class=\"dataframe\">\n",
       "  <thead>\n",
       "    <tr style=\"text-align: right;\">\n",
       "      <th></th>\n",
       "      <th>catalogid</th>\n",
       "      <th>n_items</th>\n",
       "      <th>n_ratings</th>\n",
       "      <th>n_from_rec</th>\n",
       "      <th>avg_rating</th>\n",
       "      <th>avg_ttl_clicks</th>\n",
       "      <th>avg_clicks_per_rec</th>\n",
       "    </tr>\n",
       "  </thead>\n",
       "  <tbody>\n",
       "    <tr>\n",
       "      <th>955</th>\n",
       "      <td>1177090</td>\n",
       "      <td>3</td>\n",
       "      <td>2</td>\n",
       "      <td>3</td>\n",
       "      <td>4.416667</td>\n",
       "      <td>13.333333</td>\n",
       "      <td>2.67777777777777777780000</td>\n",
       "    </tr>\n",
       "    <tr>\n",
       "      <th>2159</th>\n",
       "      <td>1167240</td>\n",
       "      <td>3</td>\n",
       "      <td>0</td>\n",
       "      <td>0</td>\n",
       "      <td>NaN</td>\n",
       "      <td>NaN</td>\n",
       "      <td>None</td>\n",
       "    </tr>\n",
       "    <tr>\n",
       "      <th>904</th>\n",
       "      <td>1128816</td>\n",
       "      <td>2</td>\n",
       "      <td>0</td>\n",
       "      <td>0</td>\n",
       "      <td>NaN</td>\n",
       "      <td>NaN</td>\n",
       "      <td>None</td>\n",
       "    </tr>\n",
       "    <tr>\n",
       "      <th>3029</th>\n",
       "      <td>1169813</td>\n",
       "      <td>2</td>\n",
       "      <td>0</td>\n",
       "      <td>0</td>\n",
       "      <td>NaN</td>\n",
       "      <td>NaN</td>\n",
       "      <td>None</td>\n",
       "    </tr>\n",
       "    <tr>\n",
       "      <th>2058</th>\n",
       "      <td>1158590</td>\n",
       "      <td>2</td>\n",
       "      <td>0</td>\n",
       "      <td>2</td>\n",
       "      <td>NaN</td>\n",
       "      <td>17.000000</td>\n",
       "      <td>9.33333333333333333335000</td>\n",
       "    </tr>\n",
       "  </tbody>\n",
       "</table>\n",
       "</div>"
      ],
      "text/plain": [
       "     catalogid  n_items  n_ratings  n_from_rec  avg_rating  avg_ttl_clicks  \\\n",
       "955    1177090        3          2           3    4.416667       13.333333   \n",
       "2159   1167240        3          0           0         NaN             NaN   \n",
       "904    1128816        2          0           0         NaN             NaN   \n",
       "3029   1169813        2          0           0         NaN             NaN   \n",
       "2058   1158590        2          0           2         NaN       17.000000   \n",
       "\n",
       "             avg_clicks_per_rec  \n",
       "955   2.67777777777777777780000  \n",
       "2159                       None  \n",
       "904                        None  \n",
       "3029                       None  \n",
       "2058  9.33333333333333333335000  "
      ]
     },
     "execution_count": 61,
     "metadata": {},
     "output_type": "execute_result"
    }
   ],
   "source": [
    "test_cats_sum_df.sort_values(by='n_items', ascending=False).tail(5)"
   ]
  },
  {
   "cell_type": "code",
   "execution_count": 62,
   "metadata": {
    "collapsed": false,
    "deletable": true,
    "editable": true
   },
   "outputs": [],
   "source": [
    "items_with_catalog_rank = spark.sql(\"\"\"\n",
    "        select\n",
    "           *,\n",
    "           row_number() over (partition by catalogid order by rating desc,n_recomended desc,ttl_clicks desc) catalog_rank\n",
    "        from pivot_item_in_test_catalogs \n",
    "\"\"\")"
   ]
  },
  {
   "cell_type": "code",
   "execution_count": 63,
   "metadata": {
    "collapsed": false,
    "deletable": true,
    "editable": true
   },
   "outputs": [
    {
     "name": "stdout",
     "output_type": "stream",
     "text": [
      "+-------+---------+------+----------+------------+----------+------------+\n",
      "| itemid|catalogid|rating|ttl_clicks|n_recomended|avg_clicks|catalog_rank|\n",
      "+-------+---------+------+----------+------------+----------+------------+\n",
      "|3380321|  1102913|   5.0|      null|        null|      null|           1|\n",
      "|4129421|  1102913|   1.0|      null|        null|      null|           2|\n",
      "+-------+---------+------+----------+------------+----------+------------+\n",
      "only showing top 2 rows\n",
      "\n"
     ]
    }
   ],
   "source": [
    "items_with_catalog_rank.show(2)"
   ]
  },
  {
   "cell_type": "code",
   "execution_count": 64,
   "metadata": {
    "collapsed": true,
    "deletable": true,
    "editable": true
   },
   "outputs": [],
   "source": [
    "#!!!!!!\n",
    "#items_with_catalog_rank.write.parquet(\"lab10/items_with_catalog_rank\")"
   ]
  },
  {
   "cell_type": "code",
   "execution_count": 65,
   "metadata": {
    "collapsed": true,
    "deletable": true,
    "editable": true
   },
   "outputs": [],
   "source": [
    "items_with_catalog_rank.registerTempTable(\"items_with_catalog_rank\")"
   ]
  },
  {
   "cell_type": "code",
   "execution_count": 66,
   "metadata": {
    "collapsed": true,
    "deletable": true,
    "editable": true
   },
   "outputs": [],
   "source": [
    "test_catalog_items_summary.registerTempTable(\"test_catalog_items_summary\")"
   ]
  },
  {
   "cell_type": "code",
   "execution_count": 67,
   "metadata": {
    "collapsed": true,
    "deletable": true,
    "editable": true
   },
   "outputs": [],
   "source": [
    "top100per_cat_1 = spark.sql(\"\"\"\n",
    "       select \n",
    "           t.itemid as test_itemid,\n",
    "           t.catalogid as test_catalogid,\n",
    "           ir.*,\n",
    "           cs.n_items,\n",
    "           cs.n_ratings,\n",
    "           cs.n_from_rec,\n",
    "           cs.avg_rating,\n",
    "           cs.avg_ttl_clicks\n",
    "       from test_with_catalog t\n",
    "       join items_with_catalog_rank ir on t.catalogid=ir.catalogid and t.itemid != ir.itemid\n",
    "       join test_catalog_items_summary cs on t.catalogid = cs.catalogid\n",
    "       where ir.catalog_rank <= 102\n",
    "\"\"\")"
   ]
  },
  {
   "cell_type": "code",
   "execution_count": 68,
   "metadata": {
    "collapsed": false,
    "deletable": true,
    "editable": true
   },
   "outputs": [
    {
     "name": "stdout",
     "output_type": "stream",
     "text": [
      "+-----------+--------------+-------+---------+------+----------+------------+----------+------------+-------+---------+----------+----------+-----------------+\n",
      "|test_itemid|test_catalogid| itemid|catalogid|rating|ttl_clicks|n_recomended|avg_clicks|catalog_rank|n_items|n_ratings|n_from_rec|avg_rating|   avg_ttl_clicks|\n",
      "+-----------+--------------+-------+---------+------+----------+------------+----------+------------+-------+---------+----------+----------+-----------------+\n",
      "|   32111279|       1102913|3380321|  1102913|   5.0|      null|        null|      null|           1|    271|        2|         7|       3.0|5.142857142857143|\n",
      "|   32111279|       1102913|4129421|  1102913|   1.0|      null|        null|      null|           2|    271|        2|         7|       3.0|5.142857142857143|\n",
      "+-----------+--------------+-------+---------+------+----------+------------+----------+------------+-------+---------+----------+----------+-----------------+\n",
      "only showing top 2 rows\n",
      "\n"
     ]
    }
   ],
   "source": [
    "top100per_cat_1.show(2)"
   ]
  },
  {
   "cell_type": "code",
   "execution_count": 69,
   "metadata": {
    "collapsed": false,
    "deletable": true,
    "editable": true
   },
   "outputs": [
    {
     "name": "stdout",
     "output_type": "stream",
     "text": [
      "root\n",
      " |-- test_itemid: string (nullable = true)\n",
      " |-- test_catalogid: string (nullable = true)\n",
      " |-- itemid: string (nullable = true)\n",
      " |-- catalogid: string (nullable = true)\n",
      " |-- rating: float (nullable = true)\n",
      " |-- ttl_clicks: long (nullable = true)\n",
      " |-- n_recomended: long (nullable = true)\n",
      " |-- avg_clicks: decimal(38,19) (nullable = true)\n",
      " |-- catalog_rank: integer (nullable = true)\n",
      " |-- n_items: long (nullable = false)\n",
      " |-- n_ratings: long (nullable = true)\n",
      " |-- n_from_rec: long (nullable = true)\n",
      " |-- avg_rating: double (nullable = true)\n",
      " |-- avg_ttl_clicks: double (nullable = true)\n",
      "\n"
     ]
    }
   ],
   "source": [
    "top100per_cat_1.printSchema()"
   ]
  },
  {
   "cell_type": "code",
   "execution_count": 70,
   "metadata": {
    "collapsed": false,
    "deletable": true,
    "editable": true
   },
   "outputs": [],
   "source": [
    "top100per_cat_1.registerTempTable(\"top100per_cat_1\")"
   ]
  },
  {
   "cell_type": "code",
   "execution_count": 71,
   "metadata": {
    "collapsed": true,
    "deletable": true,
    "editable": true
   },
   "outputs": [],
   "source": [
    "res_cat01 = spark.sql(\"\"\"\n",
    "        select\n",
    "           test_itemid,\n",
    "           itemid,\n",
    "           catalogid,\n",
    "           rating as rec_item_rating,\n",
    "           ttl_clicks as rec_item_clicks,\n",
    "           n_recomended as rec_item_n_recomended,\n",
    "           row_number() over (partition by test_itemid order by n_items desc, catalog_rank) cat01_rank\n",
    "        from top100per_cat_1 \n",
    "\"\"\")"
   ]
  },
  {
   "cell_type": "code",
   "execution_count": 72,
   "metadata": {
    "collapsed": false,
    "deletable": true,
    "editable": true
   },
   "outputs": [
    {
     "name": "stdout",
     "output_type": "stream",
     "text": [
      "+-----------+--------+---------+---------------+---------------+---------------------+----------+\n",
      "|test_itemid|  itemid|catalogid|rec_item_rating|rec_item_clicks|rec_item_n_recomended|cat01_rank|\n",
      "+-----------+--------+---------+---------------+---------------+---------------------+----------+\n",
      "|   13078902|28044846|  1139642|            5.0|              7|                    3|         1|\n",
      "|   13078902|19630709|  1139642|            5.0|             14|                    2|         2|\n",
      "+-----------+--------+---------+---------------+---------------+---------------------+----------+\n",
      "only showing top 2 rows\n",
      "\n"
     ]
    }
   ],
   "source": [
    "res_cat01.show(2)"
   ]
  },
  {
   "cell_type": "code",
   "execution_count": 73,
   "metadata": {
    "collapsed": true,
    "deletable": true,
    "editable": true
   },
   "outputs": [],
   "source": [
    "res_cat01.write.parquet(\"res_cat01\")"
   ]
  },
  {
   "cell_type": "code",
   "execution_count": 74,
   "metadata": {
    "collapsed": true,
    "deletable": true,
    "editable": true
   },
   "outputs": [],
   "source": [
    "def merge_dicts(x, y):\n",
    "    x.update(y)\n",
    "    return x"
   ]
  },
  {
   "cell_type": "code",
   "execution_count": 75,
   "metadata": {
    "collapsed": false,
    "deletable": true,
    "editable": true
   },
   "outputs": [],
   "source": [
    "q=res_cat01.filter(\"cat01_rank<=100\").select(\"test_itemid\", F.create_map([\"itemid\", \"cat01_rank\"]).alias(\"iwr\"))\\\n",
    "          .rdd.reduceByKey(merge_dicts).cache()"
   ]
  },
  {
   "cell_type": "code",
   "execution_count": 76,
   "metadata": {
    "collapsed": false,
    "deletable": true,
    "editable": true
   },
   "outputs": [],
   "source": [
    "res_cat01_list = q.collect()"
   ]
  },
  {
   "cell_type": "code",
   "execution_count": 77,
   "metadata": {
    "collapsed": false,
    "deletable": true,
    "editable": true
   },
   "outputs": [],
   "source": [
    "res_cat01_dict = {r[0]:{k:1000.0/v for k,v in r[1].items()} for r in res_cat01_list}"
   ]
  },
  {
   "cell_type": "code",
   "execution_count": 78,
   "metadata": {
    "collapsed": false,
    "deletable": true,
    "editable": true
   },
   "outputs": [
    {
     "data": {
      "text/plain": [
       "59322"
      ]
     },
     "execution_count": 78,
     "metadata": {},
     "output_type": "execute_result"
    }
   ],
   "source": [
    "len(res_cat01_dict.keys())"
   ]
  },
  {
   "cell_type": "code",
   "execution_count": 89,
   "metadata": {
    "collapsed": false,
    "deletable": true,
    "editable": true
   },
   "outputs": [],
   "source": [
    "#res_cat01_dict['32486081']"
   ]
  },
  {
   "cell_type": "code",
   "execution_count": 85,
   "metadata": {
    "collapsed": false,
    "deletable": true,
    "editable": true
   },
   "outputs": [],
   "source": [
    "with open(\"Data/ozon_test.txt\") as inh, open(\"project02.txt\", 'w') as outh:\n",
    "    for line in inh.readlines():\n",
    "        tr = json.loads(line)\n",
    "        tr[\"recoms\"]=res_cat01_dict.get(tr[\"item\"], [])\n",
    "        ln=json.dumps(tr)\n",
    "        outh.write(ln)\n",
    "        outh.write(\"\\n\")"
   ]
  },
  {
   "cell_type": "code",
   "execution_count": 107,
   "metadata": {
    "collapsed": false,
    "deletable": true,
    "editable": true
   },
   "outputs": [],
   "source": [
    "#items_descr_df.filter(F.col(\"itemid\").isin(\"13078902\",\"28044846\",\"19630709\")).show(truncate=False)"
   ]
  },
  {
   "cell_type": "code",
   "execution_count": 90,
   "metadata": {
    "collapsed": false,
    "deletable": true,
    "editable": true
   },
   "outputs": [],
   "source": [
    "##\n",
    "test_in_train = spark.sql(\"\"\"\n",
    "      select \n",
    "          t.item as test_item,\n",
    "          tn.item as item,\n",
    "          sum(clicks) as ttl_clicks,\n",
    "          count(*) as n_recomended\n",
    "      from test t\n",
    "      join train_narrow tn on t.item = tn.rec_item\n",
    "      group by t.item, tn.item\n",
    "\"\"\")"
   ]
  },
  {
   "cell_type": "code",
   "execution_count": 91,
   "metadata": {
    "collapsed": false,
    "deletable": true,
    "editable": true
   },
   "outputs": [],
   "source": [
    "q2=test_in_train.withColumn(\"tit_score\", F.col(\"ttl_clicks\") * F.lit(100000) + F.lit(1000)*F.col(\"n_recomended\"))"
   ]
  },
  {
   "cell_type": "code",
   "execution_count": 92,
   "metadata": {
    "collapsed": true,
    "deletable": true,
    "editable": true
   },
   "outputs": [],
   "source": [
    "q2m=q2.select(\"test_item\", F.create_map([\"item\", \"tit_score\"]).alias(\"iwr\"))\\\n",
    "          .rdd.reduceByKey(merge_dicts).cache()"
   ]
  },
  {
   "cell_type": "code",
   "execution_count": 93,
   "metadata": {
    "collapsed": false,
    "deletable": true,
    "editable": true
   },
   "outputs": [
    {
     "data": {
      "text/plain": [
       "[(u'33137403', {u'33137418': 101000, u'33137423': 101000})]"
      ]
     },
     "execution_count": 93,
     "metadata": {},
     "output_type": "execute_result"
    }
   ],
   "source": [
    "q2m.take(1)"
   ]
  },
  {
   "cell_type": "code",
   "execution_count": 94,
   "metadata": {
    "collapsed": true,
    "deletable": true,
    "editable": true
   },
   "outputs": [],
   "source": [
    "res02_tit_list = q2m.collect()"
   ]
  },
  {
   "cell_type": "code",
   "execution_count": 95,
   "metadata": {
    "collapsed": true,
    "deletable": true,
    "editable": true
   },
   "outputs": [],
   "source": [
    "res02_tit_dict = {r[0]:{k:v for k,v in r[1].items()} for r in res02_tit_list}"
   ]
  },
  {
   "cell_type": "code",
   "execution_count": 96,
   "metadata": {
    "collapsed": true,
    "deletable": true,
    "editable": true
   },
   "outputs": [],
   "source": [
    "x0 = res_cat01_dict['32486081']"
   ]
  },
  {
   "cell_type": "code",
   "execution_count": 97,
   "metadata": {
    "collapsed": false,
    "deletable": true,
    "editable": true
   },
   "outputs": [],
   "source": [
    "x1 = res02_tit_dict['32486081']"
   ]
  },
  {
   "cell_type": "code",
   "execution_count": 98,
   "metadata": {
    "collapsed": false,
    "deletable": true,
    "editable": true
   },
   "outputs": [
    {
     "data": {
      "text/plain": [
       "{u'30741894': 101000,\n",
       " u'31738656': 101000,\n",
       " u'31738732': 101000,\n",
       " u'32486280': 101000,\n",
       " u'32486952': 1401000,\n",
       " u'33213035': 1101000}"
      ]
     },
     "execution_count": 98,
     "metadata": {},
     "output_type": "execute_result"
    }
   ],
   "source": [
    "x1"
   ]
  },
  {
   "cell_type": "code",
   "execution_count": 99,
   "metadata": {
    "collapsed": false,
    "deletable": true,
    "editable": true
   },
   "outputs": [],
   "source": [
    "#item_catalogs.filter(F.col(\"itemid\").isin(\"32486081\",\"33213035\",\"32486952\")).show(truncate=False)"
   ]
  },
  {
   "cell_type": "code",
   "execution_count": 100,
   "metadata": {
    "collapsed": false,
    "deletable": true,
    "editable": true
   },
   "outputs": [],
   "source": [
    "def merge_ranks(x1,x2, ncut=100):\n",
    "    k1 = set(list(x1.keys()))\n",
    "    k2 = set(list(x2.keys()))\n",
    "    kall = k1 | k2\n",
    "    res = []\n",
    "    for k in kall:\n",
    "        v1 = x1.get(k, 0)\n",
    "        v2 = x2.get(k, 0)\n",
    "        res.append((k,v1+v2))\n",
    "    res = sorted(res, key=lambda q: (-q[1],q[0]))\n",
    "    n = min(ncut, len(res))\n",
    "    return {k:v for k,v in res[:n]}"
   ]
  },
  {
   "cell_type": "code",
   "execution_count": 102,
   "metadata": {
    "collapsed": false,
    "deletable": true,
    "editable": true
   },
   "outputs": [],
   "source": [
    "with open(\"Data/ozon_test.txt\") as inh, open(\"project02.txt\", 'w') as outh:\n",
    "    for line in inh.readlines():\n",
    "        tr = json.loads(line)\n",
    "        x0 = res_cat01_dict.get(tr[\"item\"], {})\n",
    "        x1 = res02_tit_dict.get(tr[\"item\"], {})\n",
    "        tr[\"recoms\"] = merge_ranks(x1, x0, 50)\n",
    "        ln=json.dumps(tr)\n",
    "        outh.write(ln)\n",
    "        outh.write(\"\\n\")"
   ]
  },
  {
   "cell_type": "code",
   "execution_count": 103,
   "metadata": {
    "collapsed": false,
    "deletable": true,
    "editable": true
   },
   "outputs": [
    {
     "name": "stdout",
     "output_type": "stream",
     "text": [
      "{\"item\": \"28759795\", \"recoms\": {\"26098283\": 83.33333333333333, \"26098282\": 55.55555555555556, \"28759807\": 250.0, \"21014430\": 28.571428571428573, \"19381548\": 166.66666666666666, \"28759803\": 202000.0, \"28015795\": 30.303030303030305, \"21014425\": 27.027027027027028, \"28759796\": 101000, \"19381466\": 41.666666666666664, \"28015796\": 22.727272727272727, \"28759793\": 32.25806451612903, \"28759792\": 201014.08450704225, \"7020767\": 52.63157894736842, \"30213204\": 500.0, \"28759789\": 33.333333333333336, \"5581444\": 24.390243902439025, \"4998555\": 111.11111111111111, \"7020508\": 47.61904761904762, \"31594275\": 22.22222222222222, \"4899191\": 43.47826086956522, \"20344327\": 71.42857142857143, \"32662317\": 23.80952380952381, \"20344349\": 38.46153846153846, \"24326890\": 142.85714285714286, \"20767160\": 35.714285714285715, \"28188636\": 23.25581395348837, \"24326898\": 37.03703703703704, \"24326899\": 100.0, \"21494479\": 58.8235294117647, \"7020565\": 27.77777777777778, \"26098279\": 45.45454545454545, \"31114007\": 40.0, \"14648405\": 62.5, \"28759781\": 200.0, \"28759786\": 125.0, \"28759787\": 90.9090909090909, \"5631704\": 76.92307692307692, \"20792457\": 25.0, \"30213183\": 31.25, \"7020580\": 29.41176470588235, \"30213254\": 21.73913043478261, \"30161483\": 333.3333333333333, \"7020807\": 25.641025641025642, \"31594265\": 101000, \"29154251\": 34.48275862068966, \"30213277\": 21.27659574468085, \"5631957\": 26.31578947368421, \"5020755\": 66.66666666666667, \"5020756\": 50.0}}\r\n",
      "{\"item\": \"32712593\", \"recoms\": {\"32712694\": 21.27659574468085, \"32712405\": 22.22222222222222, \"32712248\": 101032.25806451614, \"32712505\": 37.03703703703704, \"32712389\": 30.303030303030305, \"32712445\": 101000, \"32712501\": 250.0, \"32712503\": 333.3333333333333, \"32712308\": 1000.0, \"32712464\": 101022.72727272728, \"32712513\": 21.73913043478261, \"32712468\": 25.0, \"32712482\": 66.66666666666667, \"32712585\": 301018.1818181818, \"32712352\": 62.5, \"32712216\": 28.571428571428573, \"32712281\": 33.333333333333336, \"32712635\": 40.0, \"32712285\": 90.9090909090909, \"32712284\": 166.66666666666666, \"32712681\": 50.0, \"32712273\": 111.11111111111111, \"32712270\": 142.85714285714286, \"32712411\": 52.63157894736842, \"32712277\": 83.33333333333333, \"32712275\": 71.42857142857143, \"32712626\": 101026.31578947368, \"32712250\": 41.666666666666664, \"32712620\": 55.55555555555556, \"32712623\": 23.80952380952381, \"32712607\": 23.25581395348837, \"32712471\": 200.0, \"32712234\": 201038.46153846153, \"32712499\": 500.0, \"32712474\": 27.77777777777778, \"32712215\": 100.0, \"32712476\": 43.47826086956522, \"32712219\": 45.45454545454545, \"32712271\": 34.48275862068966, \"32712497\": 47.61904761904762, \"32712609\": 29.41176470588235, \"32712597\": 27.027027027027028, \"32712299\": 76.92307692307692, \"32712595\": 35.714285714285715, \"32712350\": 125.0, \"32712590\": 101014.70588235294, \"32712294\": 24.390243902439025, \"32712295\": 58.8235294117647, \"32712599\": 25.641025641025642, \"32712297\": 31.25}}\r\n",
      "{\"item\": \"29616882\", \"recoms\": {\"21014421\": 24.390243902439025, \"31642561\": 111.11111111111111, \"21508358\": 55.55555555555556, \"32409302\": 101000, \"5877956\": 23.25581395348837, \"29596030\": 38.46153846153846, \"5399642\": 71.42857142857143, \"29596015\": 30.303030303030305, \"30463126\": 90.9090909090909, \"29616886\": 201000, \"25358635\": 1000.0, \"29596039\": 47.61904761904762, \"6848964\": 100.0, \"5719745\": 40.0, \"28015838\": 58.8235294117647, \"29596139\": 500.0, \"29596138\": 201014.4927536232, \"31594237\": 125.0, \"5630655\": 26.31578947368421, \"31594146\": 333.3333333333333, \"30871378\": 37.03703703703704, \"5490573\": 29.41176470588235, \"19931251\": 52.63157894736842, \"27466629\": 25.641025641025642, \"31993771\": 27.77777777777778, \"6445794\": 66.66666666666667, \"6445795\": 33.333333333333336, \"14648408\": 34.48275862068966, \"4778018\": 41.666666666666664, \"5653915\": 27.027027027027028, \"7020614\": 31.25, \"29596142\": 201010.52631578947, \"29596140\": 250.0, \"4150187\": 23.80952380952381, \"31656152\": 83.33333333333333, \"6445773\": 28.571428571428573, \"29616881\": 200.0, \"20344371\": 62.5, \"29596028\": 22.727272727272727, \"29616884\": 301000, \"27605937\": 76.92307692307692, \"6445802\": 50.0, \"29596046\": 45.45454545454545, \"30080329\": 166.66666666666666, \"6960953\": 35.714285714285715, \"6445788\": 32.25806451612903, \"32216858\": 142.85714285714286, \"4805331\": 22.22222222222222, \"18603675\": 43.47826086956522, \"22214617\": 25.0}}\r\n",
      "{\"item\": \"6242189\", \"recoms\": {}}\r\n",
      "{\"item\": \"32663967\", \"recoms\": {\"23896103\": 21.27659574468085, \"32640196\": 34.48275862068966, \"31744418\": 62.5, \"32106759\": 55.55555555555556, \"30114637\": 250.0, \"31744597\": 45.45454545454545, \"33022530\": 41.666666666666664, \"20182391\": 33.333333333333336, \"21418001\": 23.80952380952381, \"32640148\": 200.0, \"20182402\": 30.303030303030305, \"32106812\": 100.0, \"32106967\": 83.33333333333333, \"7279053\": 27.77777777777778, \"32196699\": 47.61904761904762, \"31744276\": 76.92307692307692, \"31738658\": 21.73913043478261, \"31744331\": 50.0, \"30396668\": 28.571428571428573, \"32106741\": 1000.0, \"31744465\": 37.03703703703704, \"32106878\": 111.11111111111111, \"30396661\": 58.8235294117647, \"32196714\": 38.46153846153846, \"31744502\": 142.85714285714286, \"23896012\": 27.027027027027028, \"32106766\": 500.0, \"31616675\": 333.3333333333333, \"20395407\": 31.25, \"32486463\": 101000, \"31744485\": 24.390243902439025, \"31738876\": 25.641025641025642, \"31744488\": 125.0, \"20182309\": 40.0, \"31744533\": 20.833333333333332, \"31744340\": 25.0, \"20182388\": 26.31578947368421, \"32106825\": 66.66666666666667, \"20182266\": 35.714285714285715, \"31744471\": 22.727272727272727, \"31738873\": 43.47826086956522, \"30115819\": 52.63157894736842, \"20395474\": 22.22222222222222, \"32106739\": 90.9090909090909, \"32663968\": 101000, \"20182324\": 23.25581395348837, \"32196703\": 71.42857142857143, \"30115817\": 166.66666666666666, \"23896047\": 32.25806451612903, \"20182269\": 29.41176470588235}}\r\n",
      "{\"item\": \"7976823\", \"recoms\": {\"27715082\": 333.3333333333333, \"27715083\": 111.11111111111111, \"1476420\": 23.25581395348837, \"27608352\": 76.92307692307692, \"20214965\": 58.8235294117647, \"4796878\": 38.46153846153846, \"20304009\": 66.66666666666667, \"7321368\": 250.0, \"5433360\": 50.0, \"7234332\": 41.666666666666664, \"19127798\": 32.25806451612903, \"7463262\": 28.571428571428573, \"4176646\": 166.66666666666666, \"7624292\": 34.48275862068966, \"2659859\": 71.42857142857143, \"26312805\": 29.41176470588235, \"8669910\": 90.9090909090909, \"22887102\": 40.0, \"1469934\": 20.833333333333332, \"30488008\": 62.5, \"18567219\": 100.0, \"31498035\": 20.408163265306122, \"29230882\": 20.0, \"29425029\": 1000.0, \"3239865\": 22.727272727272727, \"30956971\": 45.45454545454545, \"32675202\": 142.85714285714286, \"4540779\": 47.61904761904762, \"24707923\": 25.0, \"2900152\": 22.22222222222222, \"2157924\": 31.25, \"7625422\": 200.0, \"31346954\": 27.027027027027028, \"30656884\": 24.390243902439025, \"4183638\": 52.63157894736842, \"7280348\": 27.77777777777778, \"7321422\": 33.333333333333336, \"19376981\": 43.47826086956522, \"4647873\": 21.73913043478261, \"7314910\": 125.0, \"4153300\": 21.27659574468085, \"14594463\": 55.55555555555556, \"3833001\": 25.641025641025642, \"30959638\": 23.80952380952381, \"7624164\": 83.33333333333333, \"24911707\": 37.03703703703704, \"32516546\": 500.0, \"7297923\": 35.714285714285715, \"23696248\": 26.31578947368421, \"19905377\": 30.303030303030305}}\r\n",
      "{\"item\": \"32772551\", \"recoms\": {\"24828208\": 47.61904761904762, \"5238631\": 21.27659574468085, \"7416493\": 100.0, \"7416494\": 58.8235294117647, \"7464307\": 142.85714285714286, \"7501593\": 21.73913043478261, \"7501936\": 43.47826086956522, \"7464188\": 40.0, \"20393190\": 111.11111111111111, \"29701413\": 25.641025641025642, \"7464616\": 34.48275862068966, \"19721270\": 25.0, \"7502213\": 62.5, \"7464100\": 500.0, \"7416529\": 38.46153846153846, \"7416506\": 24.390243902439025, \"7416507\": 33.333333333333336, \"7416504\": 23.25581395348837, \"7502109\": 50.0, \"29701396\": 125.0, \"27504705\": 71.42857142857143, \"7502142\": 83.33333333333333, \"29833473\": 200.0, \"19544014\": 26.31578947368421, \"32772974\": 301000, \"7501764\": 22.727272727272727, \"7502106\": 30.303030303030305, \"6754219\": 28.571428571428573, \"5238454\": 20.833333333333332, \"19931796\": 250.0, \"32778992\": 101000, \"24828198\": 27.77777777777778, \"7439840\": 27.027027027027028, \"22293040\": 29.41176470588235, \"29833485\": 35.714285714285715, \"29701376\": 66.66666666666667, \"24918371\": 166.66666666666666, \"31914372\": 1000.0, \"7464330\": 37.03703703703704, \"29701409\": 23.80952380952381, \"20062258\": 90.9090909090909, \"20393103\": 31.25, \"31349460\": 55.55555555555556, \"6754220\": 41.666666666666664, \"31914379\": 22.22222222222222, \"7502244\": 76.92307692307692, \"26200594\": 32.25806451612903, \"29701408\": 45.45454545454545, \"20996022\": 333.3333333333333, \"20397718\": 52.63157894736842}}\r\n",
      "{\"item\": \"27976812\", \"recoms\": {\"5956063\": 83.33333333333333, \"32498851\": 23.80952380952381, \"7228555\": 30.303030303030305, \"27159242\": 71.42857142857143, \"30918828\": 1000.0, \"22608000\": 25.641025641025642, \"21206291\": 32.25806451612903, \"32492898\": 901018.8679245283, \"31170648\": 40.0, \"32498852\": 21.27659574468085, \"32498838\": 23.25581395348837, \"31170647\": 38.46153846153846, \"26761704\": 27.77777777777778, \"20359269\": 58.8235294117647, \"29202392\": 35.714285714285715, \"29202391\": 45.45454545454545, \"31170649\": 333.3333333333333, \"32498853\": 26.31578947368421, \"19541826\": 76.92307692307692, \"19541827\": 28.571428571428573, \"31423514\": 500.0, \"31502745\": 22.727272727272727, \"19541828\": 142.85714285714286, \"19541829\": 601250.0, \"22678360\": 24.390243902439025, \"30918830\": 52.63157894736842, \"8166106\": 101000, \"20185739\": 43.47826086956522, \"31423513\": 25.0, \"22678368\": 37.03703703703704, \"30918829\": 166.66666666666666, \"32850931\": 27.027027027027028, \"27159281\": 31.25, \"23020108\": 29.41176470588235, \"31170650\": 55.55555555555556, \"18819864\": 66.66666666666667, \"31612833\": 200.0, \"32498846\": 20.833333333333332, \"32498845\": 21.73913043478261, \"31423528\": 90.9090909090909, \"21461327\": 33.333333333333336, \"22632197\": 47.61904761904762, \"22632196\": 22.22222222222222, \"19897061\": 41.666666666666664, \"19897062\": 50.0, \"19897063\": 62.5, \"19897064\": 34.48275862068966, \"19897065\": 100.0, \"31423526\": 125.0, \"31423527\": 111.11111111111111}}\r\n",
      "{\"item\": \"32788806\", \"recoms\": {\"27987570\": 32.25806451612903, \"31475831\": 500.0, \"8237451\": 34.48275862068966, \"18090372\": 76.92307692307692, \"31356531\": 30.303030303030305, \"32529141\": 26.31578947368421, \"30285571\": 21.73913043478261, \"31779495\": 27.027027027027028, \"30285242\": 52.63157894736842, \"30285289\": 25.641025641025642, \"24054165\": 27.77777777777778, \"26430686\": 100.0, \"8237447\": 166.66666666666666, \"24053080\": 28.571428571428573, \"13837760\": 142.85714285714286, \"32771857\": 20.0, \"31278475\": 333.3333333333333, \"30285200\": 29.41176470588235, \"30599463\": 24.390243902439025, \"8237449\": 33.333333333333336, \"8237448\": 41.666666666666664, \"6496190\": 200.0, \"8237450\": 35.714285714285715, \"8237445\": 111.11111111111111, \"8237444\": 43.47826086956522, \"8237443\": 58.8235294117647, \"8237442\": 62.5, \"8237441\": 38.46153846153846, \"8237440\": 45.45454545454545, \"30598944\": 21.27659574468085, \"30285254\": 23.80952380952381, \"31377047\": 20.833333333333332, \"8237452\": 37.03703703703704, \"31460547\": 20.408163265306122, \"23981551\": 23.25581395348837, \"27123986\": 47.61904761904762, \"31572940\": 22.22222222222222, \"31252250\": 1000.0, \"31252251\": 66.66666666666667, \"6752924\": 71.42857142857143, \"32521120\": 22.727272727272727, \"8237438\": 250.0, \"8237439\": 40.0, \"18440385\": 31.25, \"17909785\": 125.0, \"6752949\": 90.9090909090909, \"8237436\": 50.0, \"8237437\": 55.55555555555556, \"30598849\": 25.0, \"8237435\": 83.33333333333333}}\r\n",
      "{\"item\": \"32362592\", \"recoms\": {\"31952295\": 33.333333333333336, \"31952294\": 37.03703703703704, \"19513556\": 30.303030303030305, \"24561007\": 38.46153846153846, \"29017537\": 83.33333333333333, \"25452936\": 41.666666666666664, \"32570213\": 23.80952380952381, \"26666484\": 76.92307692307692, \"32203287\": 22.22222222222222, \"29347282\": 35.714285714285715, \"31952314\": 26.31578947368421, \"32501764\": 40.0, \"32203304\": 24.390243902439025, \"20002709\": 166.66666666666666, \"25453043\": 45.45454545454545, \"33518537\": 43.47826086956522, \"32916393\": 1000.0, \"32916392\": 22.727272727272727, \"32203282\": 25.641025641025642, \"25453196\": 125.0, \"19513559\": 47.61904761904762, \"19513548\": 29.41176470588235, \"4640593\": 31.25, \"19513543\": 52.63157894736842, \"32202907\": 23.25581395348837, \"27549727\": 250.0, \"25453435\": 27.77777777777778, \"29346563\": 28.571428571428573, \"32362548\": 101000, \"20002656\": 100.0, \"20002652\": 101000, \"25452985\": 66.66666666666667, \"32362661\": 58.8235294117647, \"13887440\": 111.11111111111111, \"13887443\": 27.027027027027028, \"28312159\": 62.5, \"32362608\": 1101000, \"30700482\": 25.0, \"32203300\": 32.25806451612903, \"24561012\": 200.0, \"32203305\": 21.73913043478261, \"32362607\": 1601000, \"4640588\": 90.9090909090909, \"25452792\": 55.55555555555556, \"19513558\": 333.3333333333333, \"25452794\": 500.0, \"19513547\": 50.0, \"19513557\": 142.85714285714286, \"25453033\": 34.48275862068966, \"4640587\": 71.42857142857143}}\r\n",
      "cat: write error: Broken pipe\r\n"
     ]
    }
   ],
   "source": [
    "!cat project02.txt | head -n10"
   ]
  },
  {
   "cell_type": "code",
   "execution_count": null,
   "metadata": {
    "collapsed": true
   },
   "outputs": [],
   "source": []
  }
 ],
 "metadata": {
  "kernelspec": {
   "display_name": "Python 2",
   "language": "python",
   "name": "python2"
  },
  "language_info": {
   "codemirror_mode": {
    "name": "ipython",
    "version": 2
   },
   "file_extension": ".py",
   "mimetype": "text/x-python",
   "name": "python",
   "nbconvert_exporter": "python",
   "pygments_lexer": "ipython2",
   "version": "2.7.6"
  }
 },
 "nbformat": 4,
 "nbformat_minor": 0
}
