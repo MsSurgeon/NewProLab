{
 "cells": [
  {
   "cell_type": "code",
   "execution_count": 1,
   "metadata": {
    "collapsed": false
   },
   "outputs": [
    {
     "name": "stdout",
     "output_type": "stream",
     "text": [
      "Welcome to\n",
      "      ____              __\n",
      "     / __/__  ___ _____/ /__\n",
      "    _\\ \\/ _ \\/ _ `/ __/  '_/\n",
      "   /__ / .__/\\_,_/_/ /_/\\_\\   version 2.0.2\n",
      "      /_/\n",
      "\n",
      "Using Python version 2.7.6 (default, Mar 22 2014 22:59:56)\n",
      "SparkSession available as 'spark'.\n"
     ]
    }
   ],
   "source": [
    "import os\n",
    "os.environ[\"PYSPARK_SUBMIT_ARGS\"]='--packages com.databricks:spark-csv_2.10:1.3.0 pyspark-shell'\n",
    "execfile(os.path.join(os.environ[\"SPARK_HOME\"], 'python/pyspark/shell.py'))"
   ]
  },
  {
   "cell_type": "code",
   "execution_count": 2,
   "metadata": {
    "collapsed": false
   },
   "outputs": [],
   "source": [
    "#import os\n",
    "#import sys\n",
    "\n",
    "\n",
    "#os.environ['SPARK_HOME'] = '/usr/lib/spark'\n",
    "#sys.path.insert(0, '/usr/lib/spark/python/lib/py4j-0.9-src.zip')\n",
    "#sys.path.insert(0, '/usr/lib/spark/python/')\n",
    "#sys.path.insert(0, '/usr/local/lib64/python2.7/site-packages')\n",
    "#sys.path.insert(0,'/usr/local/lib/python2.7/site-packages')"
   ]
  },
  {
   "cell_type": "code",
   "execution_count": 3,
   "metadata": {
    "collapsed": false
   },
   "outputs": [
    {
     "name": "stdout",
     "output_type": "stream",
     "text": [
      "Populating the interactive namespace from numpy and matplotlib\n"
     ]
    }
   ],
   "source": [
    "%pylab inline"
   ]
  },
  {
   "cell_type": "code",
   "execution_count": 4,
   "metadata": {
    "collapsed": false
   },
   "outputs": [
    {
     "name": "stderr",
     "output_type": "stream",
     "text": [
      "/usr/local/lib/python2.7/dist-packages/matplotlib/__init__.py:872: UserWarning: axes.color_cycle is deprecated and replaced with axes.prop_cycle; please use the latter.\n",
      "  warnings.warn(self.msg_depr % (key, alt_key))\n"
     ]
    }
   ],
   "source": [
    "import seaborn as sns"
   ]
  },
  {
   "cell_type": "code",
   "execution_count": 5,
   "metadata": {
    "collapsed": true
   },
   "outputs": [],
   "source": [
    "import numpy as np\n",
    "import pandas as pd\n",
    "import time\n",
    "import json\n",
    "\n",
    "from pyspark.sql.types import StructType, StructField, StringType, IntegerType, FloatType, MapType\n",
    "import pyspark.sql.functions as F"
   ]
  },
  {
   "cell_type": "code",
   "execution_count": 6,
   "metadata": {
    "collapsed": true
   },
   "outputs": [],
   "source": [
    "from operator import add\n",
    "from pyspark.sql.types import ArrayType, MapType"
   ]
  },
  {
   "cell_type": "markdown",
   "metadata": {},
   "source": [
    "# Summary"
   ]
  },
  {
   "cell_type": "markdown",
   "metadata": {},
   "source": [
    "### Train\n",
    " * 10'531'564 records\n",
    " * 227'211 users\n",
    " *  24'021 items\n",
    " * N ratings per user\n",
    "   * min 1, max 4'627\n",
    "   * avg ~46, median ~14\n",
    "   * 90% <= 115\n",
    " * N ratings per item\n",
    "   * min 1, max 36'548\n",
    "   * avg ~389, median ~17\n",
    "   * 90% <= 831\n",
    "   \n",
    "### Test\n",
    " * 10'531'564 records\n",
    " * 227'143 users\n",
    " *  24'041 items\n",
    " * N ratings per user to predict\n",
    "   * min 1, max 4627\n",
    "   * avg ~46\n",
    " * N ratings per item to predict\n",
    "   * min 1, max 36'138 \n",
    "   * avg ~438\n",
    "   \n",
    "### Train vs Test intersection\n",
    " *   1'849 users from test is missed from train\n",
    " *   2'758 items from test is missed from train\n",
    " *  84'633 users from test has less than 10 ratings in train\n",
    " * 127'706 users from test has less than 20 ratings in train\n",
    " \n",
    "### Tags\n",
    " * 470'509 tag records\n",
    " * there are several tag per user-item pair\n",
    " * 39'218 unique tags\n",
    " * 8'676 users has tagged at least one item\n",
    " * 19'553 items has been tagged by at least one user\n",
    " * on average 20 movies with tags per user \n",
    " * (1 <= n_rated_movies_with_tags_per_user <= 10695)\n",
    " * on averahe movie has been tagged by 9 users\n",
    " * (1 <= n_users_who_tagged_item_per_item <= 582 )\n",
    " \n",
    "### Movie description\n",
    " * contains title and genres of the movies\n",
    " * 27'303 records\n",
    " * 20 genres \n",
    " * Dramma most frequent one - occurs in 24% of movies\n",
    " * 1342 unique combination of genres"
   ]
  },
  {
   "cell_type": "markdown",
   "metadata": {},
   "source": [
    "# Exploratory data analysis"
   ]
  },
  {
   "cell_type": "markdown",
   "metadata": {},
   "source": [
    "## Train"
   ]
  },
  {
   "cell_type": "code",
   "execution_count": 11,
   "metadata": {
    "collapsed": true
   },
   "outputs": [],
   "source": [
    "train = spark.read.load(\"/recsys/lab12data/train.csv\", \n",
    "                        format=\"com.databricks.spark.csv\", \n",
    "                        delimiter=\",\", \n",
    "                        header=True,\n",
    "                        schema=StructType([StructField(\"userId\",  IntegerType()),\n",
    "                                           StructField(\"movieId\", IntegerType()),\n",
    "                                           StructField(\"rating\",  FloatType()),\n",
    "                                           StructField(\"timestamp\",  IntegerType())]))"
   ]
  },
  {
   "cell_type": "code",
   "execution_count": 13,
   "metadata": {
    "collapsed": false
   },
   "outputs": [
    {
     "data": {
      "text/plain": [
       "10531564"
      ]
     },
     "execution_count": 13,
     "metadata": {},
     "output_type": "execute_result"
    }
   ],
   "source": [
    "train.count()"
   ]
  },
  {
   "cell_type": "code",
   "execution_count": 14,
   "metadata": {
    "collapsed": true
   },
   "outputs": [],
   "source": [
    "train.registerTempTable(\"train\")"
   ]
  },
  {
   "cell_type": "code",
   "execution_count": 15,
   "metadata": {
    "collapsed": true
   },
   "outputs": [],
   "source": [
    "users = spark.sql(\"select userId,count(*) as n_ratings from train group by userId\")"
   ]
  },
  {
   "cell_type": "code",
   "execution_count": 16,
   "metadata": {
    "collapsed": false
   },
   "outputs": [
    {
     "data": {
      "text/plain": [
       "227211"
      ]
     },
     "execution_count": 16,
     "metadata": {},
     "output_type": "execute_result"
    }
   ],
   "source": [
    "users.count()"
   ]
  },
  {
   "cell_type": "code",
   "execution_count": 18,
   "metadata": {
    "collapsed": false
   },
   "outputs": [
    {
     "name": "stdout",
     "output_type": "stream",
     "text": [
      "+-------+-----------------+\n",
      "|summary|        n_ratings|\n",
      "+-------+-----------------+\n",
      "|  count|           227211|\n",
      "|   mean| 46.3514706594311|\n",
      "| stddev|95.56203586713552|\n",
      "|    min|                1|\n",
      "|    max|             4627|\n",
      "+-------+-----------------+\n",
      "\n"
     ]
    }
   ],
   "source": [
    "users.select(\"n_ratings\").describe().show()"
   ]
  },
  {
   "cell_type": "code",
   "execution_count": 19,
   "metadata": {
    "collapsed": true
   },
   "outputs": [],
   "source": [
    "n_rate_per_user_sample = users.select(\"n_ratings\").sample(False, 0.10).toPandas()"
   ]
  },
  {
   "cell_type": "code",
   "execution_count": 26,
   "metadata": {
    "collapsed": false
   },
   "outputs": [
    {
     "name": "stdout",
     "output_type": "stream",
     "text": [
      "median 14.0\n",
      "avg 46.124475648\n",
      "90% percentile 115.0\n"
     ]
    },
    {
     "data": {
      "image/png": "[encoded data removed]",
      "text/plain": [
       "<matplotlib.figure.Figure at 0x7fd2bd24c4d0>"
      ]
     },
     "metadata": {},
     "output_type": "display_data"
    }
   ],
   "source": [
    "n_rate_per_user_sample.n_ratings.hist(bins=100)\n",
    "print 'median', np.median(n_rate_per_user_sample.n_ratings)\n",
    "print 'avg', np.mean(n_rate_per_user_sample.n_ratings)\n",
    "print '90% percentile', np.percentile(n_rate_per_user_sample.n_ratings, 90)"
   ]
  },
  {
   "cell_type": "code",
   "execution_count": 27,
   "metadata": {
    "collapsed": true
   },
   "outputs": [],
   "source": [
    "items = spark.sql(\"select movieId,count(*) as n_ratings from train group by movieId\")"
   ]
  },
  {
   "cell_type": "code",
   "execution_count": 28,
   "metadata": {
    "collapsed": false
   },
   "outputs": [
    {
     "name": "stdout",
     "output_type": "stream",
     "text": [
      "+-------+------------------+\n",
      "|summary|         n_ratings|\n",
      "+-------+------------------+\n",
      "|  count|             24021|\n",
      "|   mean|438.43153906998043|\n",
      "| stddev|1720.3730285115657|\n",
      "|    min|                 1|\n",
      "|    max|             36548|\n",
      "+-------+------------------+\n",
      "\n"
     ]
    }
   ],
   "source": [
    "items.select(\"n_ratings\").describe().show()"
   ]
  },
  {
   "cell_type": "code",
   "execution_count": 29,
   "metadata": {
    "collapsed": true
   },
   "outputs": [],
   "source": [
    "n_rate_per_item_sample = items.select(\"n_ratings\").sample(False, 0.10).toPandas()"
   ]
  },
  {
   "cell_type": "code",
   "execution_count": 30,
   "metadata": {
    "collapsed": false
   },
   "outputs": [
    {
     "name": "stdout",
     "output_type": "stream",
     "text": [
      "median 17.0\n",
      "avg 388.492765957\n",
      "90% percentile 831.4\n"
     ]
    },
    {
     "data": {
      "image/png": "[encoded data removed]",
      "text/plain": [
       "<matplotlib.figure.Figure at 0x7fd2bcf45a90>"
      ]
     },
     "metadata": {},
     "output_type": "display_data"
    }
   ],
   "source": [
    "n_rate_per_item_sample.n_ratings.hist(bins=100)\n",
    "print 'median', np.median(n_rate_per_item_sample.n_ratings)\n",
    "print 'avg', np.mean(n_rate_per_item_sample.n_ratings)\n",
    "print '90% percentile', np.percentile(n_rate_per_item_sample.n_ratings, 90)"
   ]
  },
  {
   "cell_type": "markdown",
   "metadata": {},
   "source": [
    "## Test"
   ]
  },
  {
   "cell_type": "code",
   "execution_count": 36,
   "metadata": {
    "collapsed": false
   },
   "outputs": [],
   "source": [
    "test = spark.read.load(\"/recsys/lab12data/test.csv\", \n",
    "                        format=\"com.databricks.spark.csv\", \n",
    "                        delimiter=\",\", \n",
    "                        header=True,\n",
    "                        schema=StructType([StructField(\"userId\",  IntegerType()),\n",
    "                                           StructField(\"movieId\", IntegerType())]))"
   ]
  },
  {
   "cell_type": "code",
   "execution_count": 38,
   "metadata": {
    "collapsed": false
   },
   "outputs": [
    {
     "name": "stdout",
     "output_type": "stream",
     "text": [
      "+------+-------+\n",
      "|userId|movieId|\n",
      "+------+-------+\n",
      "|     1|   1414|\n",
      "|     1|   2346|\n",
      "|     1|   5278|\n",
      "+------+-------+\n",
      "only showing top 3 rows\n",
      "\n"
     ]
    }
   ],
   "source": [
    "test.show(3)"
   ]
  },
  {
   "cell_type": "code",
   "execution_count": 39,
   "metadata": {
    "collapsed": false
   },
   "outputs": [
    {
     "data": {
      "text/plain": [
       "10531564"
      ]
     },
     "execution_count": 39,
     "metadata": {},
     "output_type": "execute_result"
    }
   ],
   "source": [
    "test.count()"
   ]
  },
  {
   "cell_type": "code",
   "execution_count": 40,
   "metadata": {
    "collapsed": true
   },
   "outputs": [],
   "source": [
    "test.registerTempTable(\"test\")\n",
    "test_users = spark.sql(\"select userId, count(*) as n_ratings from test group by userId\")\n",
    "test_items = spark.sql(\"select movieId,count(*) as n_ratings from test group by movieId\")"
   ]
  },
  {
   "cell_type": "code",
   "execution_count": 41,
   "metadata": {
    "collapsed": false
   },
   "outputs": [
    {
     "name": "stdout",
     "output_type": "stream",
     "text": [
      "+-------+-----------------+\n",
      "|summary|        n_ratings|\n",
      "+-------+-----------------+\n",
      "|  count|           227143|\n",
      "|   mean|46.36534694003337|\n",
      "| stddev| 95.5750452574018|\n",
      "|    min|                1|\n",
      "|    max|             4627|\n",
      "+-------+-----------------+\n",
      "\n"
     ]
    }
   ],
   "source": [
    "test_users.select(\"n_ratings\").describe().show()"
   ]
  },
  {
   "cell_type": "code",
   "execution_count": 42,
   "metadata": {
    "collapsed": false
   },
   "outputs": [
    {
     "name": "stdout",
     "output_type": "stream",
     "text": [
      "+-------+------------------+\n",
      "|summary|         n_ratings|\n",
      "+-------+------------------+\n",
      "|  count|             24041|\n",
      "|   mean|438.06680254565117|\n",
      "| stddev|1719.7150193274172|\n",
      "|    min|                 1|\n",
      "|    max|             36138|\n",
      "+-------+------------------+\n",
      "\n"
     ]
    }
   ],
   "source": [
    "test_items.select(\"n_ratings\").describe().show()"
   ]
  },
  {
   "cell_type": "code",
   "execution_count": 43,
   "metadata": {
    "collapsed": false
   },
   "outputs": [
    {
     "name": "stdout",
     "output_type": "stream",
     "text": [
      "+------+---------+\n",
      "|userId|n_ratings|\n",
      "+------+---------+\n",
      "|143495|     4627|\n",
      "+------+---------+\n",
      "\n"
     ]
    }
   ],
   "source": [
    "test_users.filter(\"n_ratings == 4627\").show()"
   ]
  },
  {
   "cell_type": "code",
   "execution_count": 44,
   "metadata": {
    "collapsed": false
   },
   "outputs": [
    {
     "name": "stdout",
     "output_type": "stream",
     "text": [
      "+------+---------+\n",
      "|userId|n_ratings|\n",
      "+------+---------+\n",
      "|143495|     4627|\n",
      "+------+---------+\n",
      "\n"
     ]
    }
   ],
   "source": [
    "users.filter(\"n_ratings == 4627\").show()"
   ]
  },
  {
   "cell_type": "code",
   "execution_count": 45,
   "metadata": {
    "collapsed": true
   },
   "outputs": [],
   "source": [
    "test_users.registerTempTable(\"test_users\")\n",
    "users.registerTempTable(\"train_users\")\n"
   ]
  },
  {
   "cell_type": "code",
   "execution_count": 47,
   "metadata": {
    "collapsed": false
   },
   "outputs": [
    {
     "name": "stdout",
     "output_type": "stream",
     "text": [
      "+-------------------------+\n",
      "|n_users_missed_from_train|\n",
      "+-------------------------+\n",
      "|                     1849|\n",
      "+-------------------------+\n",
      "\n"
     ]
    }
   ],
   "source": [
    "spark.sql(\"\"\"select count(*) as n_users_missed_from_train\n",
    "             from test_users tst\n",
    "             left join train_users trn on tst.userId = trn.userId\n",
    "             where trn.userId is null\n",
    "             \"\"\").show()"
   ]
  },
  {
   "cell_type": "code",
   "execution_count": 48,
   "metadata": {
    "collapsed": false
   },
   "outputs": [
    {
     "name": "stdout",
     "output_type": "stream",
     "text": [
      "+--------------------------------+\n",
      "|n_users_has_lt10ratings_in_train|\n",
      "+--------------------------------+\n",
      "|                           84633|\n",
      "+--------------------------------+\n",
      "\n"
     ]
    }
   ],
   "source": [
    "spark.sql(\"\"\"select count(*) as n_users_has_lt10ratings_in_train\n",
    "             from test_users tst\n",
    "             join train_users trn on tst.userId = trn.userId\n",
    "             where trn.n_ratings < 10\n",
    "             \"\"\").show()"
   ]
  },
  {
   "cell_type": "code",
   "execution_count": 49,
   "metadata": {
    "collapsed": false
   },
   "outputs": [
    {
     "name": "stdout",
     "output_type": "stream",
     "text": [
      "+--------------------------------+\n",
      "|n_users_has_lt20ratings_in_train|\n",
      "+--------------------------------+\n",
      "|                          127706|\n",
      "+--------------------------------+\n",
      "\n"
     ]
    }
   ],
   "source": [
    "spark.sql(\"\"\"select count(*) as n_users_has_lt20ratings_in_train\n",
    "             from test_users tst\n",
    "             join train_users trn on tst.userId = trn.userId\n",
    "             where trn.n_ratings < 20\n",
    "             \"\"\").show()"
   ]
  },
  {
   "cell_type": "code",
   "execution_count": 50,
   "metadata": {
    "collapsed": true
   },
   "outputs": [],
   "source": [
    "test_items.registerTempTable(\"test_items\")\n",
    "items.registerTempTable(\"train_items\")"
   ]
  },
  {
   "cell_type": "code",
   "execution_count": 51,
   "metadata": {
    "collapsed": false
   },
   "outputs": [
    {
     "name": "stdout",
     "output_type": "stream",
     "text": [
      "+-------------------------+\n",
      "|n_items_missed_from_train|\n",
      "+-------------------------+\n",
      "|                     2758|\n",
      "+-------------------------+\n",
      "\n"
     ]
    }
   ],
   "source": [
    "spark.sql(\"\"\"select count(*) as n_items_missed_from_train\n",
    "             from test_items tst\n",
    "             left join train_items trn on tst.movieId = trn.movieId\n",
    "             where trn.movieId is null\n",
    "             \"\"\").show()"
   ]
  },
  {
   "cell_type": "markdown",
   "metadata": {},
   "source": [
    "## Tags"
   ]
  },
  {
   "cell_type": "code",
   "execution_count": 96,
   "metadata": {
    "collapsed": true
   },
   "outputs": [],
   "source": [
    "tags = spark.read.load(\"/recsys/lab12data/tags.csv\", \n",
    "                        format=\"com.databricks.spark.csv\", \n",
    "                        delimiter=\",\", \n",
    "                        header=True,\n",
    "                        schema=StructType([StructField(\"userId\",  IntegerType()),\n",
    "                                           StructField(\"movieId\", IntegerType()),\n",
    "                                           StructField(\"tag\",  StringType())]))"
   ]
  },
  {
   "cell_type": "code",
   "execution_count": 56,
   "metadata": {
    "collapsed": false
   },
   "outputs": [
    {
     "name": "stdout",
     "output_type": "stream",
     "text": [
      "+------+-------+---------------+\n",
      "|userId|movieId|            tag|\n",
      "+------+-------+---------------+\n",
      "|    28|    274|  Kevin Costner|\n",
      "|    28|    274|based on a book|\n",
      "|    28|    274|  based on book|\n",
      "+------+-------+---------------+\n",
      "only showing top 3 rows\n",
      "\n"
     ]
    }
   ],
   "source": [
    "tags.show(3)"
   ]
  },
  {
   "cell_type": "code",
   "execution_count": 63,
   "metadata": {
    "collapsed": false
   },
   "outputs": [
    {
     "data": {
      "text/plain": [
       "470509"
      ]
     },
     "execution_count": 63,
     "metadata": {},
     "output_type": "execute_result"
    }
   ],
   "source": [
    "tags.count()"
   ]
  },
  {
   "cell_type": "code",
   "execution_count": 64,
   "metadata": {
    "collapsed": false
   },
   "outputs": [
    {
     "data": {
      "text/plain": [
       "39218"
      ]
     },
     "execution_count": 64,
     "metadata": {},
     "output_type": "execute_result"
    }
   ],
   "source": [
    "tags.select(\"tag\").distinct().count()"
   ]
  },
  {
   "cell_type": "code",
   "execution_count": 57,
   "metadata": {
    "collapsed": true
   },
   "outputs": [],
   "source": [
    "tags.registerTempTable(\"tags\")"
   ]
  },
  {
   "cell_type": "code",
   "execution_count": 61,
   "metadata": {
    "collapsed": false
   },
   "outputs": [],
   "source": [
    "ui_tag = spark.sql(\"\"\"select userId,count(*) as n_rated_movies_with_tags\n",
    "                       from(\n",
    "                          select distinct userId,movieId from tags) x\n",
    "                       group by  userId  \n",
    "                          \"\"\")"
   ]
  },
  {
   "cell_type": "code",
   "execution_count": 62,
   "metadata": {
    "collapsed": false
   },
   "outputs": [
    {
     "name": "stdout",
     "output_type": "stream",
     "text": [
      "+-------+------------------------+\n",
      "|summary|n_rated_movies_with_tags|\n",
      "+-------+------------------------+\n",
      "|  count|                    8676|\n",
      "|   mean|      20.538842784693408|\n",
      "| stddev|      169.37967919586308|\n",
      "|    min|                       1|\n",
      "|    max|                   10695|\n",
      "+-------+------------------------+\n",
      "\n"
     ]
    }
   ],
   "source": [
    "ui_tag.select(\"n_rated_movies_with_tags\").describe().show()"
   ]
  },
  {
   "cell_type": "code",
   "execution_count": 66,
   "metadata": {
    "collapsed": false
   },
   "outputs": [],
   "source": [
    "iu_tag = spark.sql(\"\"\"select movieId,count(*) as n_users_who_tagged_item\n",
    "                       from(\n",
    "                          select distinct userId,movieId from tags) x\n",
    "                       group by  movieId  \n",
    "                          \"\"\")"
   ]
  },
  {
   "cell_type": "code",
   "execution_count": 67,
   "metadata": {
    "collapsed": false
   },
   "outputs": [
    {
     "name": "stdout",
     "output_type": "stream",
     "text": [
      "+-------+-----------------------+\n",
      "|summary|n_users_who_tagged_item|\n",
      "+-------+-----------------------+\n",
      "|  count|                  19553|\n",
      "|   mean|      9.113435278473892|\n",
      "| stddev|     21.577203620199036|\n",
      "|    min|                      1|\n",
      "|    max|                    582|\n",
      "+-------+-----------------------+\n",
      "\n"
     ]
    }
   ],
   "source": [
    "iu_tag.select(\"n_users_who_tagged_item\").describe().show()"
   ]
  },
  {
   "cell_type": "markdown",
   "metadata": {},
   "source": [
    "## Movie description"
   ]
  },
  {
   "cell_type": "code",
   "execution_count": 70,
   "metadata": {
    "collapsed": true
   },
   "outputs": [],
   "source": [
    "movies = spark.read.load(\"/recsys/lab12data/movies.csv\", \n",
    "                        format=\"com.databricks.spark.csv\", \n",
    "                        delimiter=\",\", \n",
    "                        header=True)"
   ]
  },
  {
   "cell_type": "code",
   "execution_count": 73,
   "metadata": {
    "collapsed": false
   },
   "outputs": [
    {
     "name": "stdout",
     "output_type": "stream",
     "text": [
      "+-------+--------------------+---------------+\n",
      "|movieId|               title|         genres|\n",
      "+-------+--------------------+---------------+\n",
      "|      1|Poltergeist II: T...|Horror|Thriller|\n",
      "|      2|V: The Final Batt...|  Action|Sci-Fi|\n",
      "|      3|Wool Cap, The (2004)|          Drama|\n",
      "+-------+--------------------+---------------+\n",
      "only showing top 3 rows\n",
      "\n"
     ]
    }
   ],
   "source": [
    "movies.show(3)"
   ]
  },
  {
   "cell_type": "code",
   "execution_count": 74,
   "metadata": {
    "collapsed": false
   },
   "outputs": [
    {
     "data": {
      "text/plain": [
       "27303"
      ]
     },
     "execution_count": 74,
     "metadata": {},
     "output_type": "execute_result"
    }
   ],
   "source": [
    "movies.select(\"movieId\").distinct().count()"
   ]
  },
  {
   "cell_type": "code",
   "execution_count": 75,
   "metadata": {
    "collapsed": false
   },
   "outputs": [
    {
     "data": {
      "text/plain": [
       "1342"
      ]
     },
     "execution_count": 75,
     "metadata": {},
     "output_type": "execute_result"
    }
   ],
   "source": [
    "movies.select(\"genres\").distinct().count()"
   ]
  },
  {
   "cell_type": "code",
   "execution_count": 88,
   "metadata": {
    "collapsed": false
   },
   "outputs": [],
   "source": [
    "m1=movies.select(\"movieId\",\"title\",F.split(\"genres\",'\\\\|').alias(\"genre_list\"))\\\n",
    "         .select(\"movieId\",F.explode(\"genre_list\").alias(\"genre\"))"
   ]
  },
  {
   "cell_type": "code",
   "execution_count": 90,
   "metadata": {
    "collapsed": false
   },
   "outputs": [
    {
     "name": "stdout",
     "output_type": "stream",
     "text": [
      "+-------+--------+\n",
      "|movieId|   genre|\n",
      "+-------+--------+\n",
      "|      1|  Horror|\n",
      "|      1|Thriller|\n",
      "+-------+--------+\n",
      "only showing top 2 rows\n",
      "\n"
     ]
    }
   ],
   "source": [
    "m1.show(2)"
   ]
  },
  {
   "cell_type": "code",
   "execution_count": 91,
   "metadata": {
    "collapsed": false
   },
   "outputs": [],
   "source": [
    "genres = m1.groupBy(\"genre\").count().toPandas()"
   ]
  },
  {
   "cell_type": "code",
   "execution_count": 95,
   "metadata": {
    "collapsed": false
   },
   "outputs": [
    {
     "data": {
      "text/html": [
       "<div>\n",
       "<table border=\"1\" class=\"dataframe\">\n",
       "  <thead>\n",
       "    <tr style=\"text-align: right;\">\n",
       "      <th></th>\n",
       "      <th>genre</th>\n",
       "      <th>count</th>\n",
       "      <th>ratio</th>\n",
       "    </tr>\n",
       "  </thead>\n",
       "  <tbody>\n",
       "    <tr>\n",
       "      <th>4</th>\n",
       "      <td>Drama</td>\n",
       "      <td>13355</td>\n",
       "      <td>0.245298</td>\n",
       "    </tr>\n",
       "    <tr>\n",
       "      <th>16</th>\n",
       "      <td>Comedy</td>\n",
       "      <td>8378</td>\n",
       "      <td>0.153883</td>\n",
       "    </tr>\n",
       "    <tr>\n",
       "      <th>2</th>\n",
       "      <td>Thriller</td>\n",
       "      <td>4183</td>\n",
       "      <td>0.076831</td>\n",
       "    </tr>\n",
       "    <tr>\n",
       "      <th>1</th>\n",
       "      <td>Romance</td>\n",
       "      <td>4131</td>\n",
       "      <td>0.075876</td>\n",
       "    </tr>\n",
       "    <tr>\n",
       "      <th>18</th>\n",
       "      <td>Action</td>\n",
       "      <td>3522</td>\n",
       "      <td>0.064690</td>\n",
       "    </tr>\n",
       "    <tr>\n",
       "      <th>0</th>\n",
       "      <td>Crime</td>\n",
       "      <td>2941</td>\n",
       "      <td>0.054019</td>\n",
       "    </tr>\n",
       "    <tr>\n",
       "      <th>14</th>\n",
       "      <td>Horror</td>\n",
       "      <td>2612</td>\n",
       "      <td>0.047976</td>\n",
       "    </tr>\n",
       "    <tr>\n",
       "      <th>6</th>\n",
       "      <td>Documentary</td>\n",
       "      <td>2471</td>\n",
       "      <td>0.045386</td>\n",
       "    </tr>\n",
       "    <tr>\n",
       "      <th>3</th>\n",
       "      <td>Adventure</td>\n",
       "      <td>2330</td>\n",
       "      <td>0.042796</td>\n",
       "    </tr>\n",
       "    <tr>\n",
       "      <th>19</th>\n",
       "      <td>Sci-Fi</td>\n",
       "      <td>1743</td>\n",
       "      <td>0.032015</td>\n",
       "    </tr>\n",
       "    <tr>\n",
       "      <th>8</th>\n",
       "      <td>Mystery</td>\n",
       "      <td>1516</td>\n",
       "      <td>0.027845</td>\n",
       "    </tr>\n",
       "    <tr>\n",
       "      <th>7</th>\n",
       "      <td>Fantasy</td>\n",
       "      <td>1412</td>\n",
       "      <td>0.025935</td>\n",
       "    </tr>\n",
       "    <tr>\n",
       "      <th>5</th>\n",
       "      <td>War</td>\n",
       "      <td>1195</td>\n",
       "      <td>0.021949</td>\n",
       "    </tr>\n",
       "    <tr>\n",
       "      <th>17</th>\n",
       "      <td>Children</td>\n",
       "      <td>1140</td>\n",
       "      <td>0.020939</td>\n",
       "    </tr>\n",
       "    <tr>\n",
       "      <th>9</th>\n",
       "      <td>Musical</td>\n",
       "      <td>1036</td>\n",
       "      <td>0.019029</td>\n",
       "    </tr>\n",
       "    <tr>\n",
       "      <th>10</th>\n",
       "      <td>Animation</td>\n",
       "      <td>1027</td>\n",
       "      <td>0.018863</td>\n",
       "    </tr>\n",
       "    <tr>\n",
       "      <th>15</th>\n",
       "      <td>Western</td>\n",
       "      <td>676</td>\n",
       "      <td>0.012416</td>\n",
       "    </tr>\n",
       "    <tr>\n",
       "      <th>11</th>\n",
       "      <td>Film-Noir</td>\n",
       "      <td>330</td>\n",
       "      <td>0.006061</td>\n",
       "    </tr>\n",
       "    <tr>\n",
       "      <th>12</th>\n",
       "      <td>(no genres listed)</td>\n",
       "      <td>250</td>\n",
       "      <td>0.004592</td>\n",
       "    </tr>\n",
       "    <tr>\n",
       "      <th>13</th>\n",
       "      <td>IMAX</td>\n",
       "      <td>196</td>\n",
       "      <td>0.003600</td>\n",
       "    </tr>\n",
       "  </tbody>\n",
       "</table>\n",
       "</div>"
      ],
      "text/plain": [
       "                 genre  count     ratio\n",
       "4                Drama  13355  0.245298\n",
       "16              Comedy   8378  0.153883\n",
       "2             Thriller   4183  0.076831\n",
       "1              Romance   4131  0.075876\n",
       "18              Action   3522  0.064690\n",
       "0                Crime   2941  0.054019\n",
       "14              Horror   2612  0.047976\n",
       "6          Documentary   2471  0.045386\n",
       "3            Adventure   2330  0.042796\n",
       "19              Sci-Fi   1743  0.032015\n",
       "8              Mystery   1516  0.027845\n",
       "7              Fantasy   1412  0.025935\n",
       "5                  War   1195  0.021949\n",
       "17            Children   1140  0.020939\n",
       "9              Musical   1036  0.019029\n",
       "10           Animation   1027  0.018863\n",
       "15             Western    676  0.012416\n",
       "11           Film-Noir    330  0.006061\n",
       "12  (no genres listed)    250  0.004592\n",
       "13                IMAX    196  0.003600"
      ]
     },
     "execution_count": 95,
     "metadata": {},
     "output_type": "execute_result"
    }
   ],
   "source": [
    "genres['ratio'] = genres['count'] * 1. / genres['count'].sum()\n",
    "genres.sort_values(by=\"count\", ascending=False)"
   ]
  },
  {
   "cell_type": "code",
   "execution_count": 94,
   "metadata": {
    "collapsed": false
   },
   "outputs": [
    {
     "data": {
      "text/plain": [
       "(20, 2)"
      ]
     },
     "execution_count": 94,
     "metadata": {},
     "output_type": "execute_result"
    }
   ],
   "source": [
    "genres.shape"
   ]
  },
  {
   "cell_type": "markdown",
   "metadata": {},
   "source": [
    "## Links"
   ]
  },
  {
   "cell_type": "code",
   "execution_count": 97,
   "metadata": {
    "collapsed": true
   },
   "outputs": [],
   "source": [
    "links = spark.read.load(\"/recsys/lab12data/links.csv\", \n",
    "                        format=\"com.databricks.spark.csv\", \n",
    "                        delimiter=\",\", \n",
    "                        header=True)"
   ]
  },
  {
   "cell_type": "code",
   "execution_count": 100,
   "metadata": {
    "collapsed": false
   },
   "outputs": [
    {
     "name": "stdout",
     "output_type": "stream",
     "text": [
      "+-------+-------+------+\n",
      "|movieId|imdbId |tmdbId|\n",
      "+-------+-------+------+\n",
      "|1      |0091778|11133 |\n",
      "|2      |0086823|140161|\n",
      "|3      |0377972|81700 |\n",
      "|4      |0028436|110733|\n",
      "|5      |0086465|1621  |\n",
      "+-------+-------+------+\n",
      "only showing top 5 rows\n",
      "\n"
     ]
    }
   ],
   "source": [
    "links.show(5,truncate=False)"
   ]
  },
  {
   "cell_type": "code",
   "execution_count": 104,
   "metadata": {
    "collapsed": false
   },
   "outputs": [
    {
     "data": {
      "text/plain": [
       "27303"
      ]
     },
     "execution_count": 104,
     "metadata": {},
     "output_type": "execute_result"
    }
   ],
   "source": [
    "links.select(\"movieId\").distinct().count()"
   ]
  },
  {
   "cell_type": "code",
   "execution_count": 105,
   "metadata": {
    "collapsed": true
   },
   "outputs": [],
   "source": [
    "# Sanity check of avg rating"
   ]
  },
  {
   "cell_type": "code",
   "execution_count": 106,
   "metadata": {
    "collapsed": true
   },
   "outputs": [],
   "source": [
    "x=train.filter(\"movieId == 1\").toPandas()"
   ]
  },
  {
   "cell_type": "code",
   "execution_count": 107,
   "metadata": {
    "collapsed": false
   },
   "outputs": [
    {
     "data": {
      "text/plain": [
       "2.4009186351706036"
      ]
     },
     "execution_count": 107,
     "metadata": {},
     "output_type": "execute_result"
    }
   ],
   "source": [
    "x.rating.mean()"
   ]
  },
  {
   "cell_type": "code",
   "execution_count": 108,
   "metadata": {
    "collapsed": false
   },
   "outputs": [
    {
     "data": {
      "text/plain": [
       "(762, 4)"
      ]
     },
     "execution_count": 108,
     "metadata": {},
     "output_type": "execute_result"
    }
   ],
   "source": [
    "x.shape"
   ]
  },
  {
   "cell_type": "code",
   "execution_count": 109,
   "metadata": {
    "collapsed": false
   },
   "outputs": [
    {
     "data": {
      "text/plain": [
       "<matplotlib.axes._subplots.AxesSubplot at 0x7fd2bd0c8b10>"
      ]
     },
     "execution_count": 109,
     "metadata": {},
     "output_type": "execute_result"
    },
    {
     "data": {
      "image/png": "[encoded data removed]",
      "text/plain": [
       "<matplotlib.figure.Figure at 0x7fd2bd0d4050>"
      ]
     },
     "metadata": {},
     "output_type": "display_data"
    }
   ],
   "source": [
    "x.rating.hist()"
   ]
  },
  {
   "cell_type": "code",
   "execution_count": null,
   "metadata": {
    "collapsed": true
   },
   "outputs": [],
   "source": []
  }
 ],
 "metadata": {
  "kernelspec": {
   "display_name": "Python 2",
   "language": "python",
   "name": "python2"
  },
  "language_info": {
   "codemirror_mode": {
    "name": "ipython",
    "version": 2
   },
   "file_extension": ".py",
   "mimetype": "text/x-python",
   "name": "python",
   "nbconvert_exporter": "python",
   "pygments_lexer": "ipython2",
   "version": "2.7.10"
  }
 },
 "nbformat": 4,
 "nbformat_minor": 0
}
