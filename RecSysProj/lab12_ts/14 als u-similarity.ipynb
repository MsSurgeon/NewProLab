{
 "cells": [
  {
   "cell_type": "code",
   "execution_count": 2,
   "metadata": {
    "collapsed": true
   },
   "outputs": [],
   "source": [
    "if True:\n",
    "    import os\n",
    "    os.environ[\"PYSPARK_SUBMIT_ARGS\"]='--packages com.databricks:spark-csv_2.10:1.3.0 pyspark-shell'\n",
    "    execfile(os.path.join(os.environ[\"SPARK_HOME\"], 'python/pyspark/shell.py'))\n",
    "    import os\n",
    "    import sys\n",
    "else:\n",
    "    os.environ['SPARK_HOME'] = '/usr/lib/spark'\n",
    "    sys.path.insert(0, '/usr/lib/spark/python/lib/py4j-0.9-src.zip')\n",
    "    sys.path.insert(0, '/usr/lib/spark/python/')\n",
    "    sys.path.insert(0, '/usr/local/lib64/python2.7/site-packages')\n",
    "    sys.path.insert(0,'/usr/local/lib/python2.7/site-packages')\n",
    "    \n",
    "    from pyspark import SparkContext\n",
    "    from pyspark.sql import SQLContext, HiveContext\n",
    "    \n",
    "    try: sc = SparkContext()\n",
    "    except: None    \n",
    "    sqlc = SQLContext(sc)\n",
    "    spark = sqlc"
   ]
  },
  {
   "cell_type": "code",
   "execution_count": 5,
   "metadata": {
    "collapsed": false
   },
   "outputs": [
    {
     "name": "stdout",
     "output_type": "stream",
     "text": [
      "Populating the interactive namespace from numpy and matplotlib\n"
     ]
    }
   ],
   "source": [
    "%pylab inline"
   ]
  },
  {
   "cell_type": "code",
   "execution_count": 6,
   "metadata": {
    "collapsed": false
   },
   "outputs": [],
   "source": [
    "import seaborn as sns"
   ]
  },
  {
   "cell_type": "code",
   "execution_count": 7,
   "metadata": {
    "collapsed": true
   },
   "outputs": [],
   "source": [
    "import numpy as np\n",
    "import pandas as pd\n",
    "import time\n",
    "import json\n",
    "\n",
    "from pyspark.sql.types import StructType, StructField, StringType, IntegerType, FloatType, MapType\n",
    "import pyspark.sql.functions as F"
   ]
  },
  {
   "cell_type": "code",
   "execution_count": 8,
   "metadata": {
    "collapsed": true
   },
   "outputs": [],
   "source": [
    "from operator import add\n",
    "from pyspark.sql.types import *"
   ]
  },
  {
   "cell_type": "code",
   "execution_count": 9,
   "metadata": {
    "collapsed": true
   },
   "outputs": [],
   "source": [
    "from pyspark.mllib.recommendation import Rating\n",
    "from pyspark.mllib.recommendation import ALS, MatrixFactorizationModel\n",
    "from datetime import datetime"
   ]
  },
  {
   "cell_type": "code",
   "execution_count": 10,
   "metadata": {
    "collapsed": true
   },
   "outputs": [],
   "source": [
    "import sklearn.metrics.pairwise as sk_pairwise\n",
    "from sklearn.metrics import silhouette_samples, silhouette_score\n",
    "from sklearn.cluster import KMeans, MiniBatchKMeans\n",
    "import heapq\n",
    "from random import sample"
   ]
  },
  {
   "cell_type": "code",
   "execution_count": 11,
   "metadata": {
    "collapsed": true
   },
   "outputs": [],
   "source": [
    "import multiprocessing as mp\n",
    "import cPickle as pickle"
   ]
  },
  {
   "cell_type": "markdown",
   "metadata": {},
   "source": [
    "# Load model"
   ]
  },
  {
   "cell_type": "code",
   "execution_count": 12,
   "metadata": {
    "collapsed": true
   },
   "outputs": [],
   "source": [
    "model = MatrixFactorizationModel.load(sc,\"lab_12/cache/als40_full_ratings.model\")"
   ]
  },
  {
   "cell_type": "code",
   "execution_count": 13,
   "metadata": {
    "collapsed": false
   },
   "outputs": [],
   "source": [
    "user_fct = model.userFeatures()"
   ]
  },
  {
   "cell_type": "code",
   "execution_count": 14,
   "metadata": {
    "collapsed": false
   },
   "outputs": [
    {
     "data": {
      "text/plain": [
       "227211"
      ]
     },
     "execution_count": 14,
     "metadata": {},
     "output_type": "execute_result"
    }
   ],
   "source": [
    "user_fct.count()"
   ]
  },
  {
   "cell_type": "markdown",
   "metadata": {},
   "source": [
    "# Get all vectors to driver"
   ]
  },
  {
   "cell_type": "code",
   "execution_count": 15,
   "metadata": {
    "collapsed": true
   },
   "outputs": [],
   "source": [
    "user_lst = user_fct.collect()"
   ]
  },
  {
   "cell_type": "code",
   "execution_count": 16,
   "metadata": {
    "collapsed": false
   },
   "outputs": [
    {
     "data": {
      "text/plain": [
       "227211"
      ]
     },
     "execution_count": 16,
     "metadata": {},
     "output_type": "execute_result"
    }
   ],
   "source": [
    "len(user_lst)"
   ]
  },
  {
   "cell_type": "code",
   "execution_count": 17,
   "metadata": {
    "collapsed": false
   },
   "outputs": [
    {
     "data": {
      "text/plain": [
       "(4,\n",
       " array('d', [0.30437615513801575, 0.23109781742095947, 0.757438063621521, 0.05556928738951683, 0.315228670835495, 0.3392287790775299, 0.03952641785144806, 0.15768186748027802, 0.20846892893314362, 0.03663899004459381, 0.2956579029560089, 0.029475567862391472, -0.08807317167520523, -0.058803316205739975, -0.20378635823726654, -0.29701197147369385, -0.3306105136871338, -0.6271849870681763, 0.38384172320365906, 0.011928347870707512, -0.22439442574977875, 0.3711453378200531, 0.01539056096225977, -0.13775993883609772, 0.13029120862483978, -0.742336630821228, 0.13999181985855103, 0.3101981580257416, -0.05420177802443504, -0.4345110058784485, -0.5009539723396301, -0.07760768383741379, 0.07148448377847672, -0.37589943408966064, 0.5898971557617188, 0.20991501212120056, 0.35189899802207947, -0.022415626794099808, -0.32871684432029724, -0.6028376817703247]))"
      ]
     },
     "execution_count": 17,
     "metadata": {},
     "output_type": "execute_result"
    }
   ],
   "source": [
    "user_lst[0]"
   ]
  },
  {
   "cell_type": "markdown",
   "metadata": {},
   "source": [
    "# Build similarity matrix"
   ]
  },
  {
   "cell_type": "code",
   "execution_count": 18,
   "metadata": {
    "collapsed": true
   },
   "outputs": [],
   "source": [
    "all_vecs = [r[1] for r in user_lst]\n",
    "user_ids = [r[0] for r in user_lst]"
   ]
  },
  {
   "cell_type": "code",
   "execution_count": 19,
   "metadata": {
    "collapsed": true
   },
   "outputs": [],
   "source": [
    "user_mx = np.vstack(all_vecs)"
   ]
  },
  {
   "cell_type": "code",
   "execution_count": 20,
   "metadata": {
    "collapsed": true
   },
   "outputs": [],
   "source": [
    "del all_vecs\n",
    "del user_lst"
   ]
  },
  {
   "cell_type": "code",
   "execution_count": 21,
   "metadata": {
    "collapsed": false
   },
   "outputs": [
    {
     "data": {
      "text/plain": [
       "(227211, 40)"
      ]
     },
     "execution_count": 21,
     "metadata": {},
     "output_type": "execute_result"
    }
   ],
   "source": [
    "user_mx.shape"
   ]
  },
  {
   "cell_type": "code",
   "execution_count": 22,
   "metadata": {
    "collapsed": false
   },
   "outputs": [],
   "source": [
    "# tooooo big for np\n",
    "#%%time\n",
    "#u2u_sim = sk_pairwise.cosine_similarity(user_mx)"
   ]
  },
  {
   "cell_type": "markdown",
   "metadata": {},
   "source": [
    "# Find topK similar within clusters"
   ]
  },
  {
   "cell_type": "code",
   "execution_count": 10,
   "metadata": {
    "collapsed": true
   },
   "outputs": [],
   "source": [
    "def normalized(a, axis=-1, order=2):\n",
    "    l2 = np.atleast_1d(np.linalg.norm(a, order, axis))\n",
    "    l2[l2==0] = 1\n",
    "    return a / np.expand_dims(l2, axis)"
   ]
  },
  {
   "cell_type": "code",
   "execution_count": 11,
   "metadata": {
    "collapsed": true
   },
   "outputs": [],
   "source": [
    "def vsplit(mx, vec, n_splits):\n",
    "    idx = np.array(range(mx.shape[0]))\n",
    "    res = []\n",
    "    for i in range(n_splits):\n",
    "        c_idx = (idx % n_splits) == i\n",
    "        mx_block = mx[c_idx,:]\n",
    "        vec_block = vec[c_idx]\n",
    "        res.append((mx_block, vec_block))\n",
    "    return res    "
   ]
  },
  {
   "cell_type": "code",
   "execution_count": 12,
   "metadata": {
    "collapsed": true
   },
   "outputs": [],
   "source": [
    "def top_k_in_block_worker(r):\n",
    "    cb_mx, cb_user_ids, all_user_ids, k_neighbors = r\n",
    "    records = []\n",
    "    for j in range(cb_mx.shape[0]):\n",
    "        j_id = cb_user_ids[j]\n",
    "        j_topk = heapq.nlargest(k_neighbors + 1, enumerate(cb_mx[j,:]), lambda x: x[1])[1:]\n",
    "        j_topk_ids = [(j_id, all_user_ids[s], js_sim, sim_rank) for sim_rank,(s,js_sim) in enumerate(j_topk)]\n",
    "        records.extend(j_topk_ids)  \n",
    "    return records    "
   ]
  },
  {
   "cell_type": "code",
   "execution_count": 26,
   "metadata": {
    "collapsed": true
   },
   "outputs": [],
   "source": [
    "n_proc = 7\n",
    "pool = mp.Pool(n_proc)"
   ]
  },
  {
   "cell_type": "code",
   "execution_count": 27,
   "metadata": {
    "collapsed": true
   },
   "outputs": [],
   "source": [
    "user_mx_norm = normalized(user_mx)"
   ]
  },
  {
   "cell_type": "code",
   "execution_count": 28,
   "metadata": {
    "collapsed": true
   },
   "outputs": [],
   "source": [
    "user_ids_arr = np.array(user_ids)"
   ]
  },
  {
   "cell_type": "code",
   "execution_count": 29,
   "metadata": {
    "collapsed": true
   },
   "outputs": [],
   "source": [
    "k_neighbors = 100"
   ]
  },
  {
   "cell_type": "code",
   "execution_count": null,
   "metadata": {
    "collapsed": false
   },
   "outputs": [
    {
     "name": "stdout",
     "output_type": "stream",
     "text": [
      "2016-12-25 12:12:58.130785 ============= n_clusters: 7\n",
      "cluster\n",
      "0    31027\n",
      "1    31668\n",
      "2    39146\n",
      "3    30640\n",
      "4    32792\n",
      "5    33636\n",
      "6    28302\n",
      "Name: user, dtype: int64\n",
      "## Finding neighbors within clusters\n",
      "2016-12-25 12:13:22.357872 working on cluster 0 size (31027, 40)\n",
      "2016-12-25 12:13:42.338158 u2u sim calculated\n",
      "2016-12-25 12:16:46.840604 topK found for all users within cluster\n",
      "2016-12-25 12:16:57.957199 working on cluster 1 size (31668, 40)\n",
      "2016-12-25 12:17:18.726221 u2u sim calculated\n",
      "2016-12-25 12:20:22.909021 topK found for all users within cluster\n",
      "2016-12-25 12:20:34.388742 working on cluster 2 size (39146, 40)\n",
      "2016-12-25 12:21:06.357804 u2u sim calculated\n",
      "2016-12-25 12:25:42.282535 topK found for all users within cluster\n",
      "2016-12-25 12:25:56.399257 working on cluster 3 size (30640, 40)\n",
      "2016-12-25 12:26:15.733956 u2u sim calculated\n",
      "2016-12-25 12:47:15.433929 topK found for all users within cluster\n",
      "2016-12-25 12:47:25.039743 working on cluster 3 size (31798, 40)\n",
      "2016-12-25 12:47:45.891136 u2u sim calculated\n",
      "2016-12-25 12:50:52.619702 topK found for all users within cluster\n",
      "2016-12-25 12:51:04.223995 working on cluster 4 size (31678, 40)\n",
      "2016-12-25 12:51:25.089674 u2u sim calculated\n",
      "2016-12-25 12:54:29.246476 topK found for all users within cluster\n",
      "2016-12-25 12:54:40.772181 working on cluster 5 size (25627, 40)\n",
      "2016-12-25 12:54:54.435882 u2u sim calculated\n",
      "2016-12-25 12:56:58.675067 topK found for all users within cluster\n",
      "2016-12-25 12:57:08.112195 working on cluster 6 size (33375, 40)\n",
      "2016-12-25 12:57:31.391843 u2u sim calculated\n",
      "2016-12-25 13:00:56.606280 topK found for all users within cluster\n",
      "2016-12-25 13:01:08.629302 working on cluster 7 size (31443, 40)\n",
      "2016-12-25 13:01:29.080408 u2u sim calculated\n",
      "2016-12-25 13:04:33.228735 topK found for all users within cluster\n"
     ]
    }
   ],
   "source": [
    "#cseed=42\n",
    "#cseed=268\n",
    "cseed=68\n",
    "for n_clusters in [7,8]:\n",
    "    print datetime.now(), '============= n_clusters:', n_clusters\n",
    "    km = KMeans(n_clusters=n_clusters, init='k-means++', random_state=cseed, n_jobs=6)\n",
    "    \n",
    "    clusters = km.fit_predict(user_mx_norm)\n",
    "    ucdf = pd.DataFrame.from_dict({'user':user_ids, 'cluster':clusters})\n",
    "    print ucdf.groupby('cluster')['user'].agg(len)\n",
    "    ucdf.to_csv(\"/data/home/taras.svirsky/lab12/tmp/u_cluster_n%d_rs%d.csv\" % (n_clusters, cseed))\n",
    "    \n",
    "    print '## Finding neighbors within clusters'\n",
    "    for cluster in range(n_clusters):\n",
    "        fpath = \"/data/home/taras.svirsky/lab12/tmp/u2u_top%d_in_cluster_%d_from_%d_rs%d.csv\" % (k_neighbors, cluster, n_clusters, cseed)\n",
    "        if os.path.exists(fpath):\n",
    "            print 'has cached', fpath\n",
    "            continue\n",
    "        cluster_idx = clusters == cluster\n",
    "        c_user_mx = user_mx[cluster_idx, :]\n",
    "        c_user_ids = user_ids_arr[cluster_idx]\n",
    "        print datetime.now(), 'working on cluster', cluster, 'size', c_user_mx.shape\n",
    "        #if cluster == 5:\n",
    "        #    break\n",
    "        c_u2u_sim = sk_pairwise.cosine_similarity(c_user_mx)  \n",
    "        print datetime.now(), 'u2u sim calculated' \n",
    "\n",
    "        # !!! sequential version\n",
    "        #records = []\n",
    "        #for j in range(len(c_user_ids)):\n",
    "        #    j_id = c_user_ids[j]\n",
    "        #    j_topk = heapq.nlargest(k_neighbors + 1, enumerate(c_u2u_sim[j,:]), lambda x: x[1])[1:]\n",
    "        #    j_topk_ids = [(j_id, c_user_ids[s], js_sim, sim_rank) for sim_rank,(s,js_sim) in enumerate(j_topk)]\n",
    "        #    records.extend(j_topk_ids)\n",
    "        #    if j % 1000 == 0:\n",
    "        #        print datetime.now(), cluster, j\n",
    "\n",
    "        # !!!! parallel version\n",
    "        blocks = vsplit(c_u2u_sim, c_user_ids, 30)\n",
    "        tasks = [(t[0], t[1], c_user_ids, k_neighbors) for t in blocks]\n",
    "        del blocks\n",
    "        del c_u2u_sim\n",
    "        records_per_block = pool.map(top_k_in_block_worker, tasks, 1)\n",
    "        del tasks\n",
    "        records = []\n",
    "        for b in records_per_block:\n",
    "            records.extend(b)\n",
    "        print datetime.now(), 'topK found for all users within cluster'   \n",
    "        \n",
    "        # dump results\n",
    "        top_k_df = pd.DataFrame.from_records(records, columns=['user1', 'user2', 'similarity', 'sim_rank'])   \n",
    "        top_k_df.to_csv(fpath, index=False)"
   ]
  },
  {
   "cell_type": "code",
   "execution_count": null,
   "metadata": {
    "collapsed": false
   },
   "outputs": [],
   "source": [
    "pool.close()\n",
    "pool.terminate()\n",
    "pool.join()"
   ]
  },
  {
   "cell_type": "markdown",
   "metadata": {
    "collapsed": true
   },
   "source": [
    "# Merge all u2u similarities from different clusterings"
   ]
  },
  {
   "cell_type": "code",
   "execution_count": 14,
   "metadata": {
    "collapsed": false
   },
   "outputs": [],
   "source": [
    "data_root=\"/data/home/taras.svirsky/lab12/tmp\"\n",
    "df_list = []\n",
    "for f in sorted(os.listdir(data_root)):\n",
    "    if not f.startswith(\"u2u_top\"):\n",
    "        continue \n",
    "    sdf = pd.read_csv(os.path.join(data_root, f))\n",
    "    del sdf['sim_rank']\n",
    "    df_list.append(sdf)"
   ]
  },
  {
   "cell_type": "code",
   "execution_count": 15,
   "metadata": {
    "collapsed": true
   },
   "outputs": [],
   "source": [
    "sdf = pd.concat(df_list)"
   ]
  },
  {
   "cell_type": "code",
   "execution_count": 16,
   "metadata": {
    "collapsed": false
   },
   "outputs": [
    {
     "data": {
      "text/plain": [
       "(154373400, 3)"
      ]
     },
     "execution_count": 16,
     "metadata": {},
     "output_type": "execute_result"
    }
   ],
   "source": [
    "sdf.shape"
   ]
  },
  {
   "cell_type": "code",
   "execution_count": 18,
   "metadata": {
    "collapsed": true
   },
   "outputs": [],
   "source": [
    "q=sdf.drop_duplicates()"
   ]
  },
  {
   "cell_type": "code",
   "execution_count": 19,
   "metadata": {
    "collapsed": false
   },
   "outputs": [
    {
     "data": {
      "text/plain": [
       "(36589720, 3)"
      ]
     },
     "execution_count": 19,
     "metadata": {},
     "output_type": "execute_result"
    }
   ],
   "source": [
    "q.shape"
   ]
  },
  {
   "cell_type": "code",
   "execution_count": 20,
   "metadata": {
    "collapsed": true
   },
   "outputs": [],
   "source": [
    "sdf = q"
   ]
  },
  {
   "cell_type": "code",
   "execution_count": 22,
   "metadata": {
    "collapsed": false
   },
   "outputs": [],
   "source": [
    "q=sdf.groupby(['user1','user2']).mean().reset_index()"
   ]
  },
  {
   "cell_type": "code",
   "execution_count": 23,
   "metadata": {
    "collapsed": false
   },
   "outputs": [
    {
     "data": {
      "text/plain": [
       "(36589691, 3)"
      ]
     },
     "execution_count": 23,
     "metadata": {},
     "output_type": "execute_result"
    }
   ],
   "source": [
    "q.shape"
   ]
  },
  {
   "cell_type": "code",
   "execution_count": 24,
   "metadata": {
    "collapsed": true
   },
   "outputs": [],
   "source": [
    "sdf=q"
   ]
  },
  {
   "cell_type": "code",
   "execution_count": 25,
   "metadata": {
    "collapsed": false
   },
   "outputs": [
    {
     "data": {
      "text/html": [
       "<div>\n",
       "<table border=\"1\" class=\"dataframe\">\n",
       "  <thead>\n",
       "    <tr style=\"text-align: right;\">\n",
       "      <th></th>\n",
       "      <th>user1</th>\n",
       "      <th>user2</th>\n",
       "      <th>similarity</th>\n",
       "    </tr>\n",
       "  </thead>\n",
       "  <tbody>\n",
       "    <tr>\n",
       "      <th>0</th>\n",
       "      <td>1</td>\n",
       "      <td>443</td>\n",
       "      <td>0.929503</td>\n",
       "    </tr>\n",
       "    <tr>\n",
       "      <th>1</th>\n",
       "      <td>1</td>\n",
       "      <td>2714</td>\n",
       "      <td>0.921492</td>\n",
       "    </tr>\n",
       "    <tr>\n",
       "      <th>2</th>\n",
       "      <td>1</td>\n",
       "      <td>3999</td>\n",
       "      <td>0.919720</td>\n",
       "    </tr>\n",
       "    <tr>\n",
       "      <th>3</th>\n",
       "      <td>1</td>\n",
       "      <td>4134</td>\n",
       "      <td>0.924081</td>\n",
       "    </tr>\n",
       "    <tr>\n",
       "      <th>4</th>\n",
       "      <td>1</td>\n",
       "      <td>5849</td>\n",
       "      <td>0.922867</td>\n",
       "    </tr>\n",
       "  </tbody>\n",
       "</table>\n",
       "</div>"
      ],
      "text/plain": [
       "   user1  user2  similarity\n",
       "0      1    443    0.929503\n",
       "1      1   2714    0.921492\n",
       "2      1   3999    0.919720\n",
       "3      1   4134    0.924081\n",
       "4      1   5849    0.922867"
      ]
     },
     "execution_count": 25,
     "metadata": {},
     "output_type": "execute_result"
    }
   ],
   "source": [
    "sdf.head()"
   ]
  },
  {
   "cell_type": "code",
   "execution_count": 27,
   "metadata": {
    "collapsed": false
   },
   "outputs": [],
   "source": [
    "sdf=sdf.sort_values(by=['user1','similarity'], ascending=[1,0])"
   ]
  },
  {
   "cell_type": "code",
   "execution_count": 32,
   "metadata": {
    "collapsed": false
   },
   "outputs": [],
   "source": [
    "sdf['sim_rank'] = sdf.groupby(['user1']).cumcount()"
   ]
  },
  {
   "cell_type": "code",
   "execution_count": 36,
   "metadata": {
    "collapsed": false
   },
   "outputs": [],
   "source": [
    "zz=sdf.groupby(\"user1\")['sim_rank'].max()"
   ]
  },
  {
   "cell_type": "code",
   "execution_count": 43,
   "metadata": {
    "collapsed": false
   },
   "outputs": [
    {
     "data": {
      "text/plain": [
       "<matplotlib.axes._subplots.AxesSubplot at 0x7ff7ece51250>"
      ]
     },
     "execution_count": 43,
     "metadata": {},
     "output_type": "execute_result"
    },
    {
     "data": {
      "image/png": "[encoded data removed]",
      "text/plain": [
       "<matplotlib.figure.Figure at 0x7ff7ece51810>"
      ]
     },
     "metadata": {},
     "output_type": "display_data"
    }
   ],
   "source": [
    "zz.hist()"
   ]
  },
  {
   "cell_type": "code",
   "execution_count": 39,
   "metadata": {
    "collapsed": false
   },
   "outputs": [],
   "source": [
    "sdf=sdf[sdf.sim_rank<=200]"
   ]
  },
  {
   "cell_type": "code",
   "execution_count": 40,
   "metadata": {
    "collapsed": false
   },
   "outputs": [
    {
     "data": {
      "text/plain": [
       "(35611329, 4)"
      ]
     },
     "execution_count": 40,
     "metadata": {},
     "output_type": "execute_result"
    }
   ],
   "source": [
    "sdf.shape"
   ]
  },
  {
   "cell_type": "code",
   "execution_count": 42,
   "metadata": {
    "collapsed": false
   },
   "outputs": [],
   "source": [
    "sdf.to_csv(\"/data/home/taras.svirsky/lab12/data/u2u_top100to200.csv\", index=False)"
   ]
  },
  {
   "cell_type": "code",
   "execution_count": null,
   "metadata": {
    "collapsed": true
   },
   "outputs": [],
   "source": []
  }
 ],
 "metadata": {
  "kernelspec": {
   "display_name": "Python 2",
   "language": "python",
   "name": "python2"
  },
  "language_info": {
   "codemirror_mode": {
    "name": "ipython",
    "version": 2
   },
   "file_extension": ".py",
   "mimetype": "text/x-python",
   "name": "python",
   "nbconvert_exporter": "python",
   "pygments_lexer": "ipython2",
   "version": "2.7.6"
  }
 },
 "nbformat": 4,
 "nbformat_minor": 0
}
