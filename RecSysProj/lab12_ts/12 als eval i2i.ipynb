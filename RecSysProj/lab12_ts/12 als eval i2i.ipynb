{
 "cells": [
  {
   "cell_type": "code",
   "execution_count": 1,
   "metadata": {
    "collapsed": true
   },
   "outputs": [],
   "source": [
    "if True:\n",
    "    import os\n",
    "    os.environ[\"PYSPARK_SUBMIT_ARGS\"]='--packages com.databricks:spark-csv_2.10:1.3.0 pyspark-shell'\n",
    "    execfile(os.path.join(os.environ[\"SPARK_HOME\"], 'python/pyspark/shell.py'))\n",
    "    import os\n",
    "    import sys\n",
    "else:\n",
    "    os.environ['SPARK_HOME'] = '/usr/lib/spark'\n",
    "    sys.path.insert(0, '/usr/lib/spark/python/lib/py4j-0.9-src.zip')\n",
    "    sys.path.insert(0, '/usr/lib/spark/python/')\n",
    "    sys.path.insert(0, '/usr/local/lib64/python2.7/site-packages')\n",
    "    sys.path.insert(0,'/usr/local/lib/python2.7/site-packages')\n",
    "    \n",
    "    from pyspark import SparkContext\n",
    "    from pyspark.sql import SQLContext, HiveContext\n",
    "    \n",
    "    try: sc = SparkContext()\n",
    "    except: None    \n",
    "    sqlc = SQLContext(sc)\n",
    "    spark = sqlc"
   ]
  },
  {
   "cell_type": "code",
   "execution_count": 3,
   "metadata": {
    "collapsed": false
   },
   "outputs": [
    {
     "name": "stdout",
     "output_type": "stream",
     "text": [
      "Populating the interactive namespace from numpy and matplotlib\n"
     ]
    }
   ],
   "source": [
    "%pylab inline"
   ]
  },
  {
   "cell_type": "code",
   "execution_count": 4,
   "metadata": {
    "collapsed": false
   },
   "outputs": [],
   "source": [
    "import seaborn as sns"
   ]
  },
  {
   "cell_type": "code",
   "execution_count": 5,
   "metadata": {
    "collapsed": true
   },
   "outputs": [],
   "source": [
    "import numpy as np\n",
    "import pandas as pd\n",
    "import time\n",
    "import json\n",
    "\n",
    "from pyspark.sql.types import StructType, StructField, StringType, IntegerType, FloatType, MapType\n",
    "import pyspark.sql.functions as F"
   ]
  },
  {
   "cell_type": "code",
   "execution_count": 6,
   "metadata": {
    "collapsed": true
   },
   "outputs": [],
   "source": [
    "from operator import add\n",
    "from pyspark.sql.types import *"
   ]
  },
  {
   "cell_type": "code",
   "execution_count": 7,
   "metadata": {
    "collapsed": true
   },
   "outputs": [],
   "source": [
    "from pyspark.mllib.recommendation import Rating\n",
    "from pyspark.mllib.recommendation import ALS, MatrixFactorizationModel\n",
    "from datetime import datetime"
   ]
  },
  {
   "cell_type": "markdown",
   "metadata": {},
   "source": [
    "# Load data"
   ]
  },
  {
   "cell_type": "code",
   "execution_count": 9,
   "metadata": {
    "collapsed": false
   },
   "outputs": [],
   "source": [
    "strain_predictions = spark.read.parquet(\"lab_12/cache/strain_bp\")"
   ]
  },
  {
   "cell_type": "code",
   "execution_count": 17,
   "metadata": {
    "collapsed": false
   },
   "outputs": [
    {
     "name": "stdout",
     "output_type": "stream",
     "text": [
      "+------+-------+------+\n",
      "|userId|movieId|rating|\n",
      "+------+-------+------+\n",
      "|170647|     31|   4.5|\n",
      "|198447|     31|   2.0|\n",
      "+------+-------+------+\n",
      "only showing top 2 rows\n",
      "\n"
     ]
    }
   ],
   "source": [
    "strain_predictions = strain_predictions.select(\"userId\", \"movieId\", \"rating\")\n",
    "strain_predictions.show(2)"
   ]
  },
  {
   "cell_type": "code",
   "execution_count": 11,
   "metadata": {
    "collapsed": false
   },
   "outputs": [],
   "source": [
    "stest_predictions = spark.read.parquet(\"lab_12/cache/stest_bp\")"
   ]
  },
  {
   "cell_type": "code",
   "execution_count": 12,
   "metadata": {
    "collapsed": false
   },
   "outputs": [
    {
     "name": "stdout",
     "output_type": "stream",
     "text": [
      "+------+-------+------+--------------+--------------+-----------+-----------+-----------------+-------------------+\n",
      "|userId|movieId|rating|n_user_ratings|n_item_ratings|nr_user_cat|nr_item_cat|        bp_rating|      bp_rating_err|\n",
      "+------+-------+------+--------------+--------------+-----------+-----------+-----------------+-------------------+\n",
      "|227044|     31|   3.5|          20.0|         109.0|  unr_06_50|    inr_101|4.036272701087659|-0.5362727010876593|\n",
      "| 38648|     31|   4.0|         225.0|         109.0|     unr_51|    inr_101|4.524626216198095|-0.5246262161980946|\n",
      "+------+-------+------+--------------+--------------+-----------+-----------+-----------------+-------------------+\n",
      "only showing top 2 rows\n",
      "\n"
     ]
    }
   ],
   "source": [
    "stest_predictions.show(2)"
   ]
  },
  {
   "cell_type": "code",
   "execution_count": 19,
   "metadata": {
    "collapsed": true
   },
   "outputs": [],
   "source": [
    "strain_predictions.registerTempTable(\"strain\")"
   ]
  },
  {
   "cell_type": "code",
   "execution_count": 20,
   "metadata": {
    "collapsed": true
   },
   "outputs": [],
   "source": [
    "stest_predictions.registerTempTable(\"stest\")"
   ]
  },
  {
   "cell_type": "markdown",
   "metadata": {
    "collapsed": true
   },
   "source": [
    "# Load similarity matrix"
   ]
  },
  {
   "cell_type": "code",
   "execution_count": 14,
   "metadata": {
    "collapsed": true
   },
   "outputs": [],
   "source": [
    "def convert_i2i_tupple(line):\n",
    "    r = line.split(',')\n",
    "    return (int(r[0]), int(r[1]), float(r[2]), int(r[3]))\n",
    "\n",
    "def load_i2i_sim():\n",
    "    raw = sc.textFile(\"lab_12/i2itop100.csv\")\\\n",
    "            .filter(lambda x: not x.startswith(\"item\"))\\\n",
    "            .map(convert_i2i_tupple)\n",
    "    return raw.toDF(schema=StructType([StructField(\"item1\",  IntegerType()),\n",
    "                                       StructField(\"item2\", IntegerType()),\n",
    "                                       StructField(\"sim\",  FloatType()),\n",
    "                                       StructField(\"sim_rank\",  IntegerType())])) \n",
    "    return raw"
   ]
  },
  {
   "cell_type": "code",
   "execution_count": 15,
   "metadata": {
    "collapsed": true
   },
   "outputs": [],
   "source": [
    "i2i = load_i2i_sim()"
   ]
  },
  {
   "cell_type": "code",
   "execution_count": 16,
   "metadata": {
    "collapsed": false
   },
   "outputs": [
    {
     "name": "stdout",
     "output_type": "stream",
     "text": [
      "+-----+-----+----------+--------+\n",
      "|item1|item2|       sim|sim_rank|\n",
      "+-----+-----+----------+--------+\n",
      "|    4| 7815| 0.8488138|       0|\n",
      "|    4|24898|0.83807796|       1|\n",
      "+-----+-----+----------+--------+\n",
      "only showing top 2 rows\n",
      "\n"
     ]
    }
   ],
   "source": [
    "i2i.show(2)"
   ]
  },
  {
   "cell_type": "code",
   "execution_count": 18,
   "metadata": {
    "collapsed": true
   },
   "outputs": [],
   "source": [
    "i2i.registerTempTable(\"i2i_sim\")"
   ]
  },
  {
   "cell_type": "markdown",
   "metadata": {},
   "source": [
    "# Make predictions on test"
   ]
  },
  {
   "cell_type": "code",
   "execution_count": 82,
   "metadata": {
    "collapsed": false
   },
   "outputs": [],
   "source": [
    "q = spark.sql(\"\"\"\n",
    "        select\n",
    "          pr.userId,\n",
    "          pr.movieId,\n",
    "          sum(kr.rating * s.sim) /  sum(s.sim) as predicted_rating,\n",
    "          count(*) as n_used_ratings\n",
    "        from stest pr\n",
    "        join i2i_sim s on pr.movieId = s.item1 and s.sim_rank <= 50\n",
    "        join strain kr on pr.userId = kr.userId and kr.movieId = s.item2\n",
    "        group by pr.userId, pr.movieId\n",
    "\"\"\")"
   ]
  },
  {
   "cell_type": "code",
   "execution_count": 83,
   "metadata": {
    "collapsed": false
   },
   "outputs": [
    {
     "name": "stdout",
     "output_type": "stream",
     "text": [
      "+------+-------+-----------------+--------------+\n",
      "|userId|movieId| predicted_rating|n_used_ratings|\n",
      "+------+-------+-----------------+--------------+\n",
      "|  2407|   1288|3.555305428659686|             9|\n",
      "|  5984|  11339|4.333561980799907|             3|\n",
      "+------+-------+-----------------+--------------+\n",
      "only showing top 2 rows\n",
      "\n"
     ]
    }
   ],
   "source": [
    "q.show(2)"
   ]
  },
  {
   "cell_type": "code",
   "execution_count": 84,
   "metadata": {
    "collapsed": true
   },
   "outputs": [],
   "source": [
    "predicted_on_test = q"
   ]
  },
  {
   "cell_type": "code",
   "execution_count": 85,
   "metadata": {
    "collapsed": true
   },
   "outputs": [],
   "source": [
    "predicted_on_test.registerTempTable(\"predicted_test\")"
   ]
  },
  {
   "cell_type": "code",
   "execution_count": 86,
   "metadata": {
    "collapsed": true
   },
   "outputs": [],
   "source": [
    "eval_data = spark.sql(\"\"\"\n",
    "        select\n",
    "          tbase.*,\n",
    "          coalesce(pt.n_used_ratings, 0) as n_used_item_ratings,\n",
    "          coalesce(predicted_rating, bp_rating) as predicted_rating,\n",
    "          if(pt.n_used_ratings is not null, 1, 0) as has_i2i_rating\n",
    "        from stest tbase\n",
    "        left join predicted_test  pt on tbase.userId = pt.userId and tbase.movieId = pt.movieId\n",
    "\"\"\")"
   ]
  },
  {
   "cell_type": "code",
   "execution_count": 87,
   "metadata": {
    "collapsed": false
   },
   "outputs": [
    {
     "data": {
      "text/plain": [
       "DataFrame[userId: int, movieId: int, rating: float, n_user_ratings: decimal(21,1), n_item_ratings: decimal(21,1), nr_user_cat: string, nr_item_cat: string, bp_rating: double, bp_rating_err: double, n_used_item_ratings: bigint, predicted_rating: double, has_i2i_rating: int]"
      ]
     },
     "execution_count": 87,
     "metadata": {},
     "output_type": "execute_result"
    }
   ],
   "source": [
    "eval_data.cache()"
   ]
  },
  {
   "cell_type": "code",
   "execution_count": 88,
   "metadata": {
    "collapsed": false
   },
   "outputs": [
    {
     "name": "stdout",
     "output_type": "stream",
     "text": [
      "+------+-------+------+--------------+--------------+-----------+-----------+-----------------+------------------+-------------------+------------------+--------------+\n",
      "|userId|movieId|rating|n_user_ratings|n_item_ratings|nr_user_cat|nr_item_cat|        bp_rating|     bp_rating_err|n_used_item_ratings|  predicted_rating|has_i2i_rating|\n",
      "+------+-------+------+--------------+--------------+-----------+-----------+-----------------+------------------+-------------------+------------------+--------------+\n",
      "|    28|   4711|   3.0|         244.0|        7697.0|     unr_51|    inr_101|3.564750454655524|-0.564750454655524|                  4| 3.372809845588842|             1|\n",
      "|    40|  13667|   3.0|         129.0|        2423.0|     unr_51|    inr_101|3.778930846940237|-0.778930846940237|                  2|2.4987220990293846|             1|\n",
      "+------+-------+------+--------------+--------------+-----------+-----------+-----------------+------------------+-------------------+------------------+--------------+\n",
      "only showing top 2 rows\n",
      "\n"
     ]
    }
   ],
   "source": [
    "eval_data.show(2)"
   ]
  },
  {
   "cell_type": "code",
   "execution_count": 89,
   "metadata": {
    "collapsed": false
   },
   "outputs": [],
   "source": [
    "msedf=eval_data.select(F.pow(F.col(\"rating\")-F.col(\"predicted_rating\"), 2).alias(\"e2\"))\\\n",
    "               .agg(F.avg(F.col(\"e2\")).alias(\"mse\"))"
   ]
  },
  {
   "cell_type": "code",
   "execution_count": 90,
   "metadata": {
    "collapsed": false
   },
   "outputs": [
    {
     "name": "stdout",
     "output_type": "stream",
     "text": [
      "rmse on all test set: 0.92366072949\n"
     ]
    }
   ],
   "source": [
    "print 'rmse on all test set:', np.sqrt(msedf.collect()[0][0])"
   ]
  },
  {
   "cell_type": "code",
   "execution_count": 91,
   "metadata": {
    "collapsed": true
   },
   "outputs": [],
   "source": [
    "msedf_i2ionly=eval_data.filter(F.col(\"has_i2i_rating\")==1) \\\n",
    "                       .select(F.pow(F.col(\"rating\")-F.col(\"predicted_rating\"), 2).alias(\"e2\"))\\\n",
    "                       .agg(F.avg(F.col(\"e2\")).alias(\"mse\"))"
   ]
  },
  {
   "cell_type": "code",
   "execution_count": 92,
   "metadata": {
    "collapsed": false
   },
   "outputs": [
    {
     "name": "stdout",
     "output_type": "stream",
     "text": [
      "rmse on records with i2i predictions: 0.903226886361\n"
     ]
    }
   ],
   "source": [
    "print 'rmse on records with i2i predictions:', np.sqrt(msedf_i2ionly.collect()[0][0])"
   ]
  },
  {
   "cell_type": "code",
   "execution_count": 93,
   "metadata": {
    "collapsed": true
   },
   "outputs": [],
   "source": [
    "msedf_i2ionly_t3=eval_data.filter(F.col(\"n_used_item_ratings\")>=3) \\\n",
    "                       .select(F.pow(F.col(\"rating\")-F.col(\"predicted_rating\"), 2).alias(\"e2\"))\\\n",
    "                       .agg(F.avg(F.col(\"e2\")).alias(\"mse\"))"
   ]
  },
  {
   "cell_type": "code",
   "execution_count": 94,
   "metadata": {
    "collapsed": false
   },
   "outputs": [
    {
     "name": "stdout",
     "output_type": "stream",
     "text": [
      "rmse on records with at least 3 similar i2i predictions: 0.772533851324\n"
     ]
    }
   ],
   "source": [
    "print 'rmse on records with at least 3 similar i2i predictions:', np.sqrt(msedf_i2ionly_t3.collect()[0][0])"
   ]
  },
  {
   "cell_type": "code",
   "execution_count": 95,
   "metadata": {
    "collapsed": false
   },
   "outputs": [],
   "source": [
    "qg = eval_data.withColumn(\"e2\", F.pow(F.col(\"rating\")-F.col(\"predicted_rating\"), 2))\\\n",
    "             .groupBy([\"nr_user_cat\", \"nr_item_cat\"])\\\n",
    "             .agg(F.avg(F.col(\"e2\")).alias(\"mse\"), \n",
    "                  F.count(F.col(\"e2\")).alias(\"n_examples\"),\n",
    "                  F.sum(F.col(\"has_i2i_rating\")).alias(\"has_i2i_rating\"),\n",
    "                  F.avg(F.col(\"n_used_item_ratings\")).alias(\"avg_used_item_ratings\"))"
   ]
  },
  {
   "cell_type": "code",
   "execution_count": 96,
   "metadata": {
    "collapsed": true
   },
   "outputs": [],
   "source": [
    "epg = qg.toPandas()"
   ]
  },
  {
   "cell_type": "code",
   "execution_count": 97,
   "metadata": {
    "collapsed": true
   },
   "outputs": [],
   "source": [
    "epg['r_examples'] = np.round(epg['n_examples'] * 100. /  epg['n_examples'].sum(), 2)\n",
    "epg['rmse'] = np.sqrt(epg['mse'])\n",
    "epg['r_has_i2i_rating'] = np.round(epg['has_i2i_rating'] * 100. /  epg['n_examples'], 2)"
   ]
  },
  {
   "cell_type": "code",
   "execution_count": 98,
   "metadata": {
    "collapsed": false
   },
   "outputs": [
    {
     "data": {
      "text/html": [
       "<div>\n",
       "<table border=\"1\" class=\"dataframe\">\n",
       "  <thead>\n",
       "    <tr style=\"text-align: right;\">\n",
       "      <th></th>\n",
       "      <th>nr_user_cat</th>\n",
       "      <th>nr_item_cat</th>\n",
       "      <th>mse</th>\n",
       "      <th>n_examples</th>\n",
       "      <th>has_i2i_rating</th>\n",
       "      <th>avg_used_item_ratings</th>\n",
       "      <th>r_examples</th>\n",
       "      <th>rmse</th>\n",
       "      <th>r_has_i2i_rating</th>\n",
       "    </tr>\n",
       "  </thead>\n",
       "  <tbody>\n",
       "    <tr>\n",
       "      <th>0</th>\n",
       "      <td>unr_51</td>\n",
       "      <td>inr_101</td>\n",
       "      <td>0.805691</td>\n",
       "      <td>2016442</td>\n",
       "      <td>1480306</td>\n",
       "      <td>2.180289</td>\n",
       "      <td>63.81</td>\n",
       "      <td>0.897603</td>\n",
       "      <td>73.41</td>\n",
       "    </tr>\n",
       "    <tr>\n",
       "      <th>8</th>\n",
       "      <td>unr_06_50</td>\n",
       "      <td>inr_101</td>\n",
       "      <td>0.926577</td>\n",
       "      <td>900019</td>\n",
       "      <td>317092</td>\n",
       "      <td>0.572015</td>\n",
       "      <td>28.48</td>\n",
       "      <td>0.962589</td>\n",
       "      <td>35.23</td>\n",
       "    </tr>\n",
       "    <tr>\n",
       "      <th>3</th>\n",
       "      <td>unr_01_05</td>\n",
       "      <td>inr_101</td>\n",
       "      <td>1.105219</td>\n",
       "      <td>122519</td>\n",
       "      <td>7303</td>\n",
       "      <td>0.063762</td>\n",
       "      <td>3.88</td>\n",
       "      <td>1.051294</td>\n",
       "      <td>5.96</td>\n",
       "    </tr>\n",
       "    <tr>\n",
       "      <th>4</th>\n",
       "      <td>unr_51</td>\n",
       "      <td>inr_11_100</td>\n",
       "      <td>0.785619</td>\n",
       "      <td>88496</td>\n",
       "      <td>58958</td>\n",
       "      <td>2.315268</td>\n",
       "      <td>2.80</td>\n",
       "      <td>0.886352</td>\n",
       "      <td>66.62</td>\n",
       "    </tr>\n",
       "    <tr>\n",
       "      <th>11</th>\n",
       "      <td>unr_51</td>\n",
       "      <td>inr_01_10</td>\n",
       "      <td>0.683332</td>\n",
       "      <td>12069</td>\n",
       "      <td>7988</td>\n",
       "      <td>3.352639</td>\n",
       "      <td>0.38</td>\n",
       "      <td>0.826639</td>\n",
       "      <td>66.19</td>\n",
       "    </tr>\n",
       "    <tr>\n",
       "      <th>9</th>\n",
       "      <td>unr_06_50</td>\n",
       "      <td>inr_11_100</td>\n",
       "      <td>1.104292</td>\n",
       "      <td>11725</td>\n",
       "      <td>2342</td>\n",
       "      <td>0.299531</td>\n",
       "      <td>0.37</td>\n",
       "      <td>1.050853</td>\n",
       "      <td>19.97</td>\n",
       "    </tr>\n",
       "    <tr>\n",
       "      <th>13</th>\n",
       "      <td>unr_0</td>\n",
       "      <td>inr_101</td>\n",
       "      <td>1.312901</td>\n",
       "      <td>3962</td>\n",
       "      <td>0</td>\n",
       "      <td>0.000000</td>\n",
       "      <td>0.13</td>\n",
       "      <td>1.145819</td>\n",
       "      <td>0.00</td>\n",
       "    </tr>\n",
       "    <tr>\n",
       "      <th>1</th>\n",
       "      <td>unr_51</td>\n",
       "      <td>inr_0</td>\n",
       "      <td>1.002060</td>\n",
       "      <td>1610</td>\n",
       "      <td>1406</td>\n",
       "      <td>15.060870</td>\n",
       "      <td>0.05</td>\n",
       "      <td>1.001029</td>\n",
       "      <td>87.33</td>\n",
       "    </tr>\n",
       "    <tr>\n",
       "      <th>6</th>\n",
       "      <td>unr_01_05</td>\n",
       "      <td>inr_11_100</td>\n",
       "      <td>1.405741</td>\n",
       "      <td>1572</td>\n",
       "      <td>33</td>\n",
       "      <td>0.021628</td>\n",
       "      <td>0.05</td>\n",
       "      <td>1.185639</td>\n",
       "      <td>2.10</td>\n",
       "    </tr>\n",
       "    <tr>\n",
       "      <th>5</th>\n",
       "      <td>unr_06_50</td>\n",
       "      <td>inr_01_10</td>\n",
       "      <td>1.255837</td>\n",
       "      <td>1130</td>\n",
       "      <td>213</td>\n",
       "      <td>0.302655</td>\n",
       "      <td>0.04</td>\n",
       "      <td>1.120642</td>\n",
       "      <td>18.85</td>\n",
       "    </tr>\n",
       "    <tr>\n",
       "      <th>12</th>\n",
       "      <td>unr_01_05</td>\n",
       "      <td>inr_01_10</td>\n",
       "      <td>1.860036</td>\n",
       "      <td>211</td>\n",
       "      <td>15</td>\n",
       "      <td>0.085308</td>\n",
       "      <td>0.01</td>\n",
       "      <td>1.363831</td>\n",
       "      <td>7.11</td>\n",
       "    </tr>\n",
       "    <tr>\n",
       "      <th>2</th>\n",
       "      <td>unr_06_50</td>\n",
       "      <td>inr_0</td>\n",
       "      <td>2.637815</td>\n",
       "      <td>77</td>\n",
       "      <td>34</td>\n",
       "      <td>0.922078</td>\n",
       "      <td>0.00</td>\n",
       "      <td>1.624135</td>\n",
       "      <td>44.16</td>\n",
       "    </tr>\n",
       "    <tr>\n",
       "      <th>7</th>\n",
       "      <td>unr_0</td>\n",
       "      <td>inr_01_10</td>\n",
       "      <td>2.158365</td>\n",
       "      <td>9</td>\n",
       "      <td>0</td>\n",
       "      <td>0.000000</td>\n",
       "      <td>0.00</td>\n",
       "      <td>1.469138</td>\n",
       "      <td>0.00</td>\n",
       "    </tr>\n",
       "    <tr>\n",
       "      <th>10</th>\n",
       "      <td>unr_01_05</td>\n",
       "      <td>inr_0</td>\n",
       "      <td>2.196486</td>\n",
       "      <td>25</td>\n",
       "      <td>8</td>\n",
       "      <td>0.400000</td>\n",
       "      <td>0.00</td>\n",
       "      <td>1.482055</td>\n",
       "      <td>32.00</td>\n",
       "    </tr>\n",
       "    <tr>\n",
       "      <th>14</th>\n",
       "      <td>unr_0</td>\n",
       "      <td>inr_0</td>\n",
       "      <td>2.186165</td>\n",
       "      <td>1</td>\n",
       "      <td>0</td>\n",
       "      <td>0.000000</td>\n",
       "      <td>0.00</td>\n",
       "      <td>1.478568</td>\n",
       "      <td>0.00</td>\n",
       "    </tr>\n",
       "    <tr>\n",
       "      <th>15</th>\n",
       "      <td>unr_0</td>\n",
       "      <td>inr_11_100</td>\n",
       "      <td>1.425606</td>\n",
       "      <td>48</td>\n",
       "      <td>0</td>\n",
       "      <td>0.000000</td>\n",
       "      <td>0.00</td>\n",
       "      <td>1.193987</td>\n",
       "      <td>0.00</td>\n",
       "    </tr>\n",
       "  </tbody>\n",
       "</table>\n",
       "</div>"
      ],
      "text/plain": [
       "   nr_user_cat nr_item_cat       mse  n_examples  has_i2i_rating  \\\n",
       "0       unr_51     inr_101  0.805691     2016442         1480306   \n",
       "8    unr_06_50     inr_101  0.926577      900019          317092   \n",
       "3    unr_01_05     inr_101  1.105219      122519            7303   \n",
       "4       unr_51  inr_11_100  0.785619       88496           58958   \n",
       "11      unr_51   inr_01_10  0.683332       12069            7988   \n",
       "9    unr_06_50  inr_11_100  1.104292       11725            2342   \n",
       "13       unr_0     inr_101  1.312901        3962               0   \n",
       "1       unr_51       inr_0  1.002060        1610            1406   \n",
       "6    unr_01_05  inr_11_100  1.405741        1572              33   \n",
       "5    unr_06_50   inr_01_10  1.255837        1130             213   \n",
       "12   unr_01_05   inr_01_10  1.860036         211              15   \n",
       "2    unr_06_50       inr_0  2.637815          77              34   \n",
       "7        unr_0   inr_01_10  2.158365           9               0   \n",
       "10   unr_01_05       inr_0  2.196486          25               8   \n",
       "14       unr_0       inr_0  2.186165           1               0   \n",
       "15       unr_0  inr_11_100  1.425606          48               0   \n",
       "\n",
       "    avg_used_item_ratings  r_examples      rmse  r_has_i2i_rating  \n",
       "0                2.180289       63.81  0.897603             73.41  \n",
       "8                0.572015       28.48  0.962589             35.23  \n",
       "3                0.063762        3.88  1.051294              5.96  \n",
       "4                2.315268        2.80  0.886352             66.62  \n",
       "11               3.352639        0.38  0.826639             66.19  \n",
       "9                0.299531        0.37  1.050853             19.97  \n",
       "13               0.000000        0.13  1.145819              0.00  \n",
       "1               15.060870        0.05  1.001029             87.33  \n",
       "6                0.021628        0.05  1.185639              2.10  \n",
       "5                0.302655        0.04  1.120642             18.85  \n",
       "12               0.085308        0.01  1.363831              7.11  \n",
       "2                0.922078        0.00  1.624135             44.16  \n",
       "7                0.000000        0.00  1.469138              0.00  \n",
       "10               0.400000        0.00  1.482055             32.00  \n",
       "14               0.000000        0.00  1.478568              0.00  \n",
       "15               0.000000        0.00  1.193987              0.00  "
      ]
     },
     "execution_count": 98,
     "metadata": {},
     "output_type": "execute_result"
    }
   ],
   "source": [
    "epg.sort_values(by='r_examples', ascending=False)"
   ]
  },
  {
   "cell_type": "code",
   "execution_count": 99,
   "metadata": {
    "collapsed": false
   },
   "outputs": [
    {
     "name": "stdout",
     "output_type": "stream",
     "text": [
      "759878\n",
      "3159915\n"
     ]
    }
   ],
   "source": [
    "print eval_data.filter(F.col(\"n_used_item_ratings\")>=3).count()\n",
    "print eval_data.count()"
   ]
  },
  {
   "cell_type": "code",
   "execution_count": 72,
   "metadata": {
    "collapsed": false
   },
   "outputs": [
    {
     "name": "stdout",
     "output_type": "stream",
     "text": [
      "+------+-------+------+--------------+--------------+-----------+-----------+-----------------+------------------+-------------------+------------------+--------------+\n",
      "|userId|movieId|rating|n_user_ratings|n_item_ratings|nr_user_cat|nr_item_cat|        bp_rating|     bp_rating_err|n_used_item_ratings|  predicted_rating|has_i2i_rating|\n",
      "+------+-------+------+--------------+--------------+-----------+-----------+-----------------+------------------+-------------------+------------------+--------------+\n",
      "|    28|   4711|   3.0|         244.0|        7697.0|     unr_51|    inr_101|3.564750454655524|-0.564750454655524|                  4| 3.372809845588842|             1|\n",
      "|    40|  13667|   3.0|         129.0|        2423.0|     unr_51|    inr_101|3.778930846940237|-0.778930846940237|                  2|2.4987220990293846|             1|\n",
      "+------+-------+------+--------------+--------------+-----------+-----------+-----------------+------------------+-------------------+------------------+--------------+\n",
      "only showing top 2 rows\n",
      "\n"
     ]
    }
   ],
   "source": [
    "eval_data.show(2)"
   ]
  },
  {
   "cell_type": "markdown",
   "metadata": {},
   "source": [
    "# Save for ensemble cheks"
   ]
  },
  {
   "cell_type": "code",
   "execution_count": 100,
   "metadata": {
    "collapsed": false
   },
   "outputs": [],
   "source": [
    "eval_data = eval_data.withColumnRenamed(\"predicted_rating\", 'predicted_i2i_rating')"
   ]
  },
  {
   "cell_type": "code",
   "execution_count": 101,
   "metadata": {
    "collapsed": true
   },
   "outputs": [],
   "source": [
    "eval_data = eval_data.coalesce(8)"
   ]
  },
  {
   "cell_type": "code",
   "execution_count": 102,
   "metadata": {
    "collapsed": true
   },
   "outputs": [],
   "source": [
    "eval_data.write.parquet(\"lab_12/cache/stest_bp_i2i_top50\", mode='overwrite')"
   ]
  },
  {
   "cell_type": "code",
   "execution_count": null,
   "metadata": {
    "collapsed": true
   },
   "outputs": [],
   "source": []
  }
 ],
 "metadata": {
  "kernelspec": {
   "display_name": "Python 2",
   "language": "python",
   "name": "python2"
  },
  "language_info": {
   "codemirror_mode": {
    "name": "ipython",
    "version": 2
   },
   "file_extension": ".py",
   "mimetype": "text/x-python",
   "name": "python",
   "nbconvert_exporter": "python",
   "pygments_lexer": "ipython2",
   "version": "2.7.6"
  }
 },
 "nbformat": 4,
 "nbformat_minor": 0
}
