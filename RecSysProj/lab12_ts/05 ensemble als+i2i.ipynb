{
 "cells": [
  {
   "cell_type": "code",
   "execution_count": 1,
   "metadata": {
    "collapsed": false
   },
   "outputs": [
    {
     "name": "stdout",
     "output_type": "stream",
     "text": [
      "Populating the interactive namespace from numpy and matplotlib\n"
     ]
    },
    {
     "name": "stderr",
     "output_type": "stream",
     "text": [
      "/usr/local/lib/python2.7/dist-packages/matplotlib/__init__.py:872: UserWarning: axes.color_cycle is deprecated and replaced with axes.prop_cycle; please use the latter.\n",
      "  warnings.warn(self.msg_depr % (key, alt_key))\n"
     ]
    }
   ],
   "source": [
    "%pylab inline\n",
    "import pandas as pd\n",
    "import numpy as np\n",
    "import seaborn as sns\n",
    "import os\n",
    "import sys"
   ]
  },
  {
   "cell_type": "code",
   "execution_count": 2,
   "metadata": {
    "collapsed": false
   },
   "outputs": [
    {
     "name": "stdout",
     "output_type": "stream",
     "text": [
      "(10525761, 3)\n"
     ]
    },
    {
     "data": {
      "text/html": [
       "<div>\n",
       "<table border=\"1\" class=\"dataframe\">\n",
       "  <thead>\n",
       "    <tr style=\"text-align: right;\">\n",
       "      <th></th>\n",
       "      <th>userId</th>\n",
       "      <th>movieId</th>\n",
       "      <th>rating</th>\n",
       "    </tr>\n",
       "  </thead>\n",
       "  <tbody>\n",
       "    <tr>\n",
       "      <th>0</th>\n",
       "      <td>1</td>\n",
       "      <td>1414</td>\n",
       "      <td>3.920710</td>\n",
       "    </tr>\n",
       "    <tr>\n",
       "      <th>1</th>\n",
       "      <td>1</td>\n",
       "      <td>2346</td>\n",
       "      <td>3.861442</td>\n",
       "    </tr>\n",
       "  </tbody>\n",
       "</table>\n",
       "</div>"
      ],
      "text/plain": [
       "   userId  movieId    rating\n",
       "0       1     1414  3.920710\n",
       "1       1     2346  3.861442"
      ]
     },
     "execution_count": 2,
     "metadata": {},
     "output_type": "execute_result"
    }
   ],
   "source": [
    "df_als = pd.read_csv(\"/data/home/taras.svirsky/lab12/res/res_als_r25_ni15.csv\")\n",
    "print df_als.shape\n",
    "df_als.head(2)"
   ]
  },
  {
   "cell_type": "code",
   "execution_count": 3,
   "metadata": {
    "collapsed": false
   },
   "outputs": [
    {
     "name": "stdout",
     "output_type": "stream",
     "text": [
      "(10531564, 4)\n"
     ]
    },
    {
     "data": {
      "text/html": [
       "<div>\n",
       "<table border=\"1\" class=\"dataframe\">\n",
       "  <thead>\n",
       "    <tr style=\"text-align: right;\">\n",
       "      <th></th>\n",
       "      <th>userId</th>\n",
       "      <th>movieId</th>\n",
       "      <th>bp_predicted_rating</th>\n",
       "      <th>predicted_i2i_rating</th>\n",
       "    </tr>\n",
       "  </thead>\n",
       "  <tbody>\n",
       "    <tr>\n",
       "      <th>0</th>\n",
       "      <td>28</td>\n",
       "      <td>2111</td>\n",
       "      <td>3.148587</td>\n",
       "      <td>3.248510</td>\n",
       "    </tr>\n",
       "    <tr>\n",
       "      <th>1</th>\n",
       "      <td>30</td>\n",
       "      <td>22037</td>\n",
       "      <td>3.146315</td>\n",
       "      <td>4.669889</td>\n",
       "    </tr>\n",
       "  </tbody>\n",
       "</table>\n",
       "</div>"
      ],
      "text/plain": [
       "   userId  movieId  bp_predicted_rating  predicted_i2i_rating\n",
       "0      28     2111             3.148587              3.248510\n",
       "1      30    22037             3.146315              4.669889"
      ]
     },
     "execution_count": 3,
     "metadata": {},
     "output_type": "execute_result"
    }
   ],
   "source": [
    "df_i2i = pd.read_csv(\"/data/home/taras.svirsky/lab12/res/full_test_bp_i2i_top100.csv\")\n",
    "print df_i2i.shape\n",
    "df_i2i.head(2)"
   ]
  },
  {
   "cell_type": "code",
   "execution_count": 6,
   "metadata": {
    "collapsed": true
   },
   "outputs": [],
   "source": [
    "df_als = df_als.rename(columns={\"rating\":\"als_rating\"})\n",
    "df_i2i = df_i2i.rename(columns={\"predicted_i2i_rating\":\"i2i_rating\"})"
   ]
  },
  {
   "cell_type": "code",
   "execution_count": 7,
   "metadata": {
    "collapsed": true
   },
   "outputs": [],
   "source": [
    "df = df_i2i.merge(df_als, on=[\"userId\",\"movieId\"], how='left')"
   ]
  },
  {
   "cell_type": "code",
   "execution_count": 8,
   "metadata": {
    "collapsed": false
   },
   "outputs": [],
   "source": [
    "idx = df[\"als_rating\"].isnull()\n",
    "df.loc[idx, \"als_rating\"] = df.loc[idx, \"bp_predicted_rating\"]"
   ]
  },
  {
   "cell_type": "code",
   "execution_count": 9,
   "metadata": {
    "collapsed": false
   },
   "outputs": [],
   "source": [
    "del df_als\n",
    "del df_i2i"
   ]
  },
  {
   "cell_type": "code",
   "execution_count": 10,
   "metadata": {
    "collapsed": true
   },
   "outputs": [],
   "source": [
    "df_cat = pd.read_csv(\"/data/home/taras.svirsky/lab12/res/test_subm_rating_counts.csv\")"
   ]
  },
  {
   "cell_type": "code",
   "execution_count": 11,
   "metadata": {
    "collapsed": false
   },
   "outputs": [],
   "source": [
    "df = df.merge(df_cat, on=[\"userId\",\"movieId\"], how='left')"
   ]
  },
  {
   "cell_type": "code",
   "execution_count": 12,
   "metadata": {
    "collapsed": true
   },
   "outputs": [],
   "source": [
    "df['n_user_ratings'] = df['n_user_ratings'].fillna(0)\n",
    "df['n_item_ratings'] = df['n_item_ratings'].fillna(0)"
   ]
  },
  {
   "cell_type": "code",
   "execution_count": 13,
   "metadata": {
    "collapsed": false
   },
   "outputs": [
    {
     "data": {
      "text/plain": [
       "userId                 0\n",
       "movieId                0\n",
       "bp_predicted_rating    0\n",
       "i2i_rating             0\n",
       "als_rating             0\n",
       "n_user_ratings         0\n",
       "n_item_ratings         0\n",
       "dtype: int64"
      ]
     },
     "execution_count": 13,
     "metadata": {},
     "output_type": "execute_result"
    }
   ],
   "source": [
    "sum(df.isnull())"
   ]
  },
  {
   "cell_type": "code",
   "execution_count": 16,
   "metadata": {
    "collapsed": true
   },
   "outputs": [],
   "source": [
    "assert df.shape[0] == 10531564"
   ]
  },
  {
   "cell_type": "code",
   "execution_count": null,
   "metadata": {
    "collapsed": false
   },
   "outputs": [],
   "source": [
    "del df_cat"
   ]
  },
  {
   "cell_type": "markdown",
   "metadata": {},
   "source": [
    "# combine all"
   ]
  },
  {
   "cell_type": "code",
   "execution_count": 18,
   "metadata": {
    "collapsed": true
   },
   "outputs": [],
   "source": [
    "def cut_dot5to5(x):\n",
    "    if x < .5:\n",
    "        return .5\n",
    "    if x > 5:\n",
    "        return 5.0\n",
    "    return x"
   ]
  },
  {
   "cell_type": "code",
   "execution_count": 19,
   "metadata": {
    "collapsed": false
   },
   "outputs": [
    {
     "name": "stdout",
     "output_type": "stream",
     "text": [
      "7719476 2422037 390051\n",
      "73.2984768454 22.9978852144 3.7036379402\n"
     ]
    }
   ],
   "source": [
    "idx_big = (df.n_user_ratings > 50) & (df.n_item_ratings>100)\n",
    "idx_med = (df.n_user_ratings > 5) & (df.n_user_ratings <= 50) & (df.n_item_ratings>100)\n",
    "idx_small = (~idx_big) & (~idx_med)\n",
    "\n",
    "print sum(idx_big), sum(idx_med), sum(idx_small)\n",
    "n = sum(idx_big) + sum(idx_med) + sum(idx_small)\n",
    "assert n == 10531564\n",
    "print 100.*sum(idx_big)/n, 100.*sum(idx_med)/n, 100.*sum(idx_small)/n\n"
   ]
  },
  {
   "cell_type": "code",
   "execution_count": 20,
   "metadata": {
    "collapsed": true
   },
   "outputs": [],
   "source": [
    "# v 351\n",
    "#df[\"rating\"] = np.where((df.n_item_ratings>100) &  (df.n_user_ratings > 5),\n",
    "#                        0.88 * df[\"als_rating\"] + 0.15 * df[\"i2i_rating\"],\n",
    "#                        0.38 * df[\"als_rating\"] + 0.62 * df[\"i2i_rating\"],\n",
    "#                       )"
   ]
  },
  {
   "cell_type": "code",
   "execution_count": 21,
   "metadata": {
    "collapsed": true
   },
   "outputs": [],
   "source": [
    "# v 8010\n",
    "df[\"rating\"] = df[\"bp_predicted_rating\"]\n",
    "df['i2i_x_als'] = df['als_rating']*df['i2i_rating']\n",
    "\n",
    "df.loc[idx_big,\"rating\"] =  -0.35258 * df.loc[idx_big, \"bp_predicted_rating\"] \\\n",
    "                          + 1.23212959 * df.loc[idx_big, \"als_rating\"] \\\n",
    "                          + 0.15828964 * df.loc[idx_big, \"i2i_rating\"]\n",
    "\n",
    "df.loc[idx_med,\"rating\"] =  0.933 * df.loc[idx_med, \"als_rating\"] \\\n",
    "                          + 0.211 * df.loc[idx_med, \"i2i_rating\"] \\\n",
    "                          -0.0292 * df.loc[idx_med, \"i2i_x_als\"]\n",
    "\n",
    "\n",
    "df.loc[idx_small,\"rating\"] =  0.483 * df.loc[idx_small, \"als_rating\"] \\\n",
    "                             + 0.65 * df.loc[idx_small, \"i2i_rating\"] \\\n",
    "                             -0.034 * df.loc[idx_small, \"i2i_x_als\"]\n",
    "\n"
   ]
  },
  {
   "cell_type": "code",
   "execution_count": 22,
   "metadata": {
    "collapsed": true
   },
   "outputs": [],
   "source": [
    "res = df[[\"userId\", \"movieId\", \"rating\"]].sort_values(by=[\"userId\", \"movieId\"])"
   ]
  },
  {
   "cell_type": "code",
   "execution_count": 23,
   "metadata": {
    "collapsed": false
   },
   "outputs": [
    {
     "data": {
      "text/plain": [
       "count    1.053156e+07\n",
       "mean     3.530147e+00\n",
       "std      6.726079e-01\n",
       "min     -6.802913e-02\n",
       "25%      3.138098e+00\n",
       "50%      3.603708e+00\n",
       "75%      4.002132e+00\n",
       "max      5.771252e+00\n",
       "Name: rating, dtype: float64"
      ]
     },
     "execution_count": 23,
     "metadata": {},
     "output_type": "execute_result"
    }
   ],
   "source": [
    "res.rating.describe()"
   ]
  },
  {
   "cell_type": "code",
   "execution_count": 24,
   "metadata": {
    "collapsed": true
   },
   "outputs": [],
   "source": [
    "res['rating'] = res['rating'].map(cut_dot5to5)"
   ]
  },
  {
   "cell_type": "code",
   "execution_count": 26,
   "metadata": {
    "collapsed": false
   },
   "outputs": [
    {
     "data": {
      "text/plain": [
       "count    1.053156e+07\n",
       "mean     3.529896e+00\n",
       "std      6.720087e-01\n",
       "min      5.000000e-01\n",
       "25%      3.138098e+00\n",
       "50%      3.603708e+00\n",
       "75%      4.002132e+00\n",
       "max      5.000000e+00\n",
       "Name: rating, dtype: float64"
      ]
     },
     "execution_count": 26,
     "metadata": {},
     "output_type": "execute_result"
    }
   ],
   "source": [
    "res.rating.describe()"
   ]
  },
  {
   "cell_type": "code",
   "execution_count": 25,
   "metadata": {
    "collapsed": true
   },
   "outputs": [],
   "source": [
    "res.to_csv(\"/data/home/taras.svirsky/lab12/res/full_test_v8010.csv\", index=False)"
   ]
  },
  {
   "cell_type": "code",
   "execution_count": null,
   "metadata": {
    "collapsed": true
   },
   "outputs": [],
   "source": []
  }
 ],
 "metadata": {
  "kernelspec": {
   "display_name": "Python 2",
   "language": "python",
   "name": "python2"
  },
  "language_info": {
   "codemirror_mode": {
    "name": "ipython",
    "version": 2
   },
   "file_extension": ".py",
   "mimetype": "text/x-python",
   "name": "python",
   "nbconvert_exporter": "python",
   "pygments_lexer": "ipython2",
   "version": "2.7.6"
  }
 },
 "nbformat": 4,
 "nbformat_minor": 1
}
