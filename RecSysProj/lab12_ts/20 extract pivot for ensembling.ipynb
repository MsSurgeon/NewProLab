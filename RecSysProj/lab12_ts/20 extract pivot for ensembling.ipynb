{
 "cells": [
  {
   "cell_type": "code",
   "execution_count": 2,
   "metadata": {
    "collapsed": true
   },
   "outputs": [],
   "source": [
    "if True:\n",
    "    import os\n",
    "    os.environ[\"PYSPARK_SUBMIT_ARGS\"]='--packages com.databricks:spark-csv_2.10:1.3.0 pyspark-shell'\n",
    "    execfile(os.path.join(os.environ[\"SPARK_HOME\"], 'python/pyspark/shell.py'))\n",
    "    import os\n",
    "    import sys\n",
    "else:\n",
    "    os.environ['SPARK_HOME'] = '/usr/lib/spark'\n",
    "    sys.path.insert(0, '/usr/lib/spark/python/lib/py4j-0.9-src.zip')\n",
    "    sys.path.insert(0, '/usr/lib/spark/python/')\n",
    "    sys.path.insert(0, '/usr/local/lib64/python2.7/site-packages')\n",
    "    sys.path.insert(0,'/usr/local/lib/python2.7/site-packages')\n",
    "    \n",
    "    from pyspark import SparkContext\n",
    "    from pyspark.sql import SQLContext, HiveContext\n",
    "    \n",
    "    try: sc = SparkContext()\n",
    "    except: None    \n",
    "    sqlc = SQLContext(sc)\n",
    "    spark = sqlc"
   ]
  },
  {
   "cell_type": "code",
   "execution_count": 4,
   "metadata": {
    "collapsed": false
   },
   "outputs": [
    {
     "name": "stdout",
     "output_type": "stream",
     "text": [
      "Populating the interactive namespace from numpy and matplotlib\n"
     ]
    }
   ],
   "source": [
    "%pylab inline"
   ]
  },
  {
   "cell_type": "code",
   "execution_count": 5,
   "metadata": {
    "collapsed": false
   },
   "outputs": [],
   "source": [
    "import seaborn as sns"
   ]
  },
  {
   "cell_type": "code",
   "execution_count": 6,
   "metadata": {
    "collapsed": true
   },
   "outputs": [],
   "source": [
    "import numpy as np\n",
    "import pandas as pd\n",
    "import time\n",
    "import json\n",
    "\n",
    "from pyspark.sql.types import StructType, StructField, StringType, IntegerType, FloatType, MapType\n",
    "import pyspark.sql.functions as F"
   ]
  },
  {
   "cell_type": "code",
   "execution_count": 7,
   "metadata": {
    "collapsed": true
   },
   "outputs": [],
   "source": [
    "from operator import add\n",
    "from pyspark.sql.types import *"
   ]
  },
  {
   "cell_type": "code",
   "execution_count": 8,
   "metadata": {
    "collapsed": true
   },
   "outputs": [],
   "source": [
    "from pyspark.mllib.recommendation import Rating\n",
    "from pyspark.mllib.recommendation import ALS, MatrixFactorizationModel\n",
    "from datetime import datetime"
   ]
  },
  {
   "cell_type": "markdown",
   "metadata": {},
   "source": [
    "# Load data"
   ]
  },
  {
   "cell_type": "code",
   "execution_count": 10,
   "metadata": {
    "collapsed": false
   },
   "outputs": [],
   "source": [
    "df_i2i = spark.read.parquet(\"lab_12/cache/stest_bp_i2i/\")"
   ]
  },
  {
   "cell_type": "code",
   "execution_count": 11,
   "metadata": {
    "collapsed": false
   },
   "outputs": [
    {
     "name": "stdout",
     "output_type": "stream",
     "text": [
      "+------+-------+------+--------------+--------------+-----------+-----------+-----------------+------------------+-------------------+--------------------+--------------+\n",
      "|userId|movieId|rating|n_user_ratings|n_item_ratings|nr_user_cat|nr_item_cat|        bp_rating|     bp_rating_err|n_used_item_ratings|predicted_i2i_rating|has_i2i_rating|\n",
      "+------+-------+------+--------------+--------------+-----------+-----------+-----------------+------------------+-------------------+--------------------+--------------+\n",
      "|    28|   4711|   3.0|         244.0|        7697.0|     unr_51|    inr_101|3.564750454655524|-0.564750454655524|                  4|   3.372809845588842|             1|\n",
      "|    40|  13667|   3.0|         129.0|        2423.0|     unr_51|    inr_101|3.778930846940237|-0.778930846940237|                  2|  2.4987220990293846|             1|\n",
      "+------+-------+------+--------------+--------------+-----------+-----------+-----------------+------------------+-------------------+--------------------+--------------+\n",
      "only showing top 2 rows\n",
      "\n"
     ]
    }
   ],
   "source": [
    "df_i2i.show(2)"
   ]
  },
  {
   "cell_type": "code",
   "execution_count": 12,
   "metadata": {
    "collapsed": false
   },
   "outputs": [
    {
     "data": {
      "text/plain": [
       "3159915"
      ]
     },
     "execution_count": 12,
     "metadata": {},
     "output_type": "execute_result"
    }
   ],
   "source": [
    "df_i2i.count()"
   ]
  },
  {
   "cell_type": "code",
   "execution_count": 13,
   "metadata": {
    "collapsed": true
   },
   "outputs": [],
   "source": [
    "df_als = spark.read.parquet(\"lab_12/cache/stest_als25_has_missed\")"
   ]
  },
  {
   "cell_type": "code",
   "execution_count": 14,
   "metadata": {
    "collapsed": false
   },
   "outputs": [
    {
     "name": "stdout",
     "output_type": "stream",
     "text": [
      "+------+-------+--------------------+\n",
      "|userId|movieId|predicted_als_rating|\n",
      "+------+-------+--------------------+\n",
      "|185012|  21743|           3.4707344|\n",
      "|185012|  21479|            3.708692|\n",
      "+------+-------+--------------------+\n",
      "only showing top 2 rows\n",
      "\n"
     ]
    }
   ],
   "source": [
    "df_als.show(2)"
   ]
  },
  {
   "cell_type": "code",
   "execution_count": 15,
   "metadata": {
    "collapsed": false
   },
   "outputs": [
    {
     "data": {
      "text/plain": [
       "3154183"
      ]
     },
     "execution_count": 15,
     "metadata": {},
     "output_type": "execute_result"
    }
   ],
   "source": [
    "df_als.count()"
   ]
  },
  {
   "cell_type": "code",
   "execution_count": 16,
   "metadata": {
    "collapsed": true
   },
   "outputs": [],
   "source": [
    "df_u2u = spark.read.parquet(\"lab_12/cache/stest_bp_u2u_top150/\")"
   ]
  },
  {
   "cell_type": "code",
   "execution_count": 17,
   "metadata": {
    "collapsed": false
   },
   "outputs": [
    {
     "name": "stdout",
     "output_type": "stream",
     "text": [
      "+------+-------+------+-----------+-----------+-------------------+--------------+--------------------+\n",
      "|userId|movieId|rating|nr_user_cat|nr_item_cat|n_used_user_ratings|has_u2u_rating|predicted_u2u_rating|\n",
      "+------+-------+------+-----------+-----------+-------------------+--------------+--------------------+\n",
      "|    28|   4711|   3.0|     unr_51|    inr_101|                 14|             1|   3.634586279581508|\n",
      "|    40|  13667|   3.0|     unr_51|    inr_101|                  1|             1|  3.9114890042293844|\n",
      "+------+-------+------+-----------+-----------+-------------------+--------------+--------------------+\n",
      "only showing top 2 rows\n",
      "\n"
     ]
    }
   ],
   "source": [
    "df_u2u.show(2)"
   ]
  },
  {
   "cell_type": "code",
   "execution_count": 18,
   "metadata": {
    "collapsed": false
   },
   "outputs": [
    {
     "data": {
      "text/plain": [
       "3159915"
      ]
     },
     "execution_count": 18,
     "metadata": {},
     "output_type": "execute_result"
    }
   ],
   "source": [
    "df_u2u.count()"
   ]
  },
  {
   "cell_type": "markdown",
   "metadata": {
    "collapsed": true
   },
   "source": [
    "# Merge everything in single pivot"
   ]
  },
  {
   "cell_type": "code",
   "execution_count": 19,
   "metadata": {
    "collapsed": true
   },
   "outputs": [],
   "source": [
    "df_i2i.registerTempTable(\"df_i2i\")\n",
    "df_als.registerTempTable(\"df_als\")\n",
    "df_u2u.registerTempTable(\"df_u2u\")"
   ]
  },
  {
   "cell_type": "code",
   "execution_count": 20,
   "metadata": {
    "collapsed": false
   },
   "outputs": [
    {
     "data": {
      "text/plain": [
       "['userId',\n",
       " 'movieId',\n",
       " 'rating',\n",
       " 'n_user_ratings',\n",
       " 'n_item_ratings',\n",
       " 'nr_user_cat',\n",
       " 'nr_item_cat',\n",
       " 'bp_rating',\n",
       " 'bp_rating_err',\n",
       " 'n_used_item_ratings',\n",
       " 'predicted_i2i_rating',\n",
       " 'has_i2i_rating']"
      ]
     },
     "execution_count": 20,
     "metadata": {},
     "output_type": "execute_result"
    }
   ],
   "source": [
    "df_i2i.columns"
   ]
  },
  {
   "cell_type": "code",
   "execution_count": 21,
   "metadata": {
    "collapsed": false
   },
   "outputs": [
    {
     "data": {
      "text/plain": [
       "['userId', 'movieId', 'predicted_als_rating']"
      ]
     },
     "execution_count": 21,
     "metadata": {},
     "output_type": "execute_result"
    }
   ],
   "source": [
    "df_als.columns"
   ]
  },
  {
   "cell_type": "code",
   "execution_count": 22,
   "metadata": {
    "collapsed": false
   },
   "outputs": [
    {
     "data": {
      "text/plain": [
       "['userId',\n",
       " 'movieId',\n",
       " 'rating',\n",
       " 'nr_user_cat',\n",
       " 'nr_item_cat',\n",
       " 'n_used_user_ratings',\n",
       " 'has_u2u_rating',\n",
       " 'predicted_u2u_rating']"
      ]
     },
     "execution_count": 22,
     "metadata": {},
     "output_type": "execute_result"
    }
   ],
   "source": [
    "df_u2u.columns"
   ]
  },
  {
   "cell_type": "code",
   "execution_count": 23,
   "metadata": {
    "collapsed": false
   },
   "outputs": [],
   "source": [
    "q = spark.sql(\"\"\"\n",
    "      select\n",
    "          i.*,\n",
    "          coalesce(u.n_used_user_ratings, 0.0) n_used_user_ratings,\n",
    "          coalesce(u.has_u2u_rating, 0) has_u2u_rating,\n",
    "          coalesce(u.predicted_u2u_rating, i.bp_rating) as predicted_u2u_rating,\n",
    "          coalesce(a.predicted_als_rating, i.bp_rating) as predicted_als_rating,\n",
    "          if(a.predicted_als_rating is not null, 1, 0) as has_als_rating\n",
    "      from df_i2i i\n",
    "      left join df_u2u u on i.userId = u.userId and i.movieId = u.movieId\n",
    "      left join df_als a on i.userId = a.userId and i.movieId = a.movieId\n",
    "      \n",
    "\"\"\")"
   ]
  },
  {
   "cell_type": "code",
   "execution_count": 24,
   "metadata": {
    "collapsed": false
   },
   "outputs": [
    {
     "name": "stdout",
     "output_type": "stream",
     "text": [
      "+------+-------+------+--------------+--------------+-----------+-----------+-----------------+------------------+-------------------+--------------------+--------------+-------------------+--------------+--------------------+--------------------+--------------+\n",
      "|userId|movieId|rating|n_user_ratings|n_item_ratings|nr_user_cat|nr_item_cat|        bp_rating|     bp_rating_err|n_used_item_ratings|predicted_i2i_rating|has_i2i_rating|n_used_user_ratings|has_u2u_rating|predicted_u2u_rating|predicted_als_rating|has_als_rating|\n",
      "+------+-------+------+--------------+--------------+-----------+-----------+-----------------+------------------+-------------------+--------------------+--------------+-------------------+--------------+--------------------+--------------------+--------------+\n",
      "|    28|   4711|   3.0|         244.0|        7697.0|     unr_51|    inr_101|3.564750454655524|-0.564750454655524|                  4|   3.372809845588842|             1|               14.0|             1|   3.634586279581508|   3.351330280303955|             1|\n",
      "|    40|  13667|   3.0|         129.0|        2423.0|     unr_51|    inr_101|3.778930846940237|-0.778930846940237|                  2|  2.4987220990293846|             1|                1.0|             1|  3.9114890042293844|  3.7669284343719482|             1|\n",
      "+------+-------+------+--------------+--------------+-----------+-----------+-----------------+------------------+-------------------+--------------------+--------------+-------------------+--------------+--------------------+--------------------+--------------+\n",
      "only showing top 2 rows\n",
      "\n"
     ]
    }
   ],
   "source": [
    "q.show(2)"
   ]
  },
  {
   "cell_type": "code",
   "execution_count": 25,
   "metadata": {
    "collapsed": false
   },
   "outputs": [
    {
     "data": {
      "text/plain": [
       "DataFrame[userId: int, movieId: int, rating: float, n_user_ratings: decimal(21,1), n_item_ratings: decimal(21,1), nr_user_cat: string, nr_item_cat: string, bp_rating: double, bp_rating_err: double, n_used_item_ratings: bigint, predicted_i2i_rating: double, has_i2i_rating: int, n_used_user_ratings: decimal(21,1), has_u2u_rating: int, predicted_u2u_rating: double, predicted_als_rating: double, has_als_rating: int]"
      ]
     },
     "execution_count": 25,
     "metadata": {},
     "output_type": "execute_result"
    }
   ],
   "source": [
    "q.cache()"
   ]
  },
  {
   "cell_type": "code",
   "execution_count": 26,
   "metadata": {
    "collapsed": false
   },
   "outputs": [
    {
     "data": {
      "text/plain": [
       "3159915"
      ]
     },
     "execution_count": 26,
     "metadata": {},
     "output_type": "execute_result"
    }
   ],
   "source": [
    "q.count()"
   ]
  },
  {
   "cell_type": "code",
   "execution_count": 27,
   "metadata": {
    "collapsed": true
   },
   "outputs": [],
   "source": [
    "q = q.coalesce(8)"
   ]
  },
  {
   "cell_type": "code",
   "execution_count": 31,
   "metadata": {
    "collapsed": true
   },
   "outputs": [],
   "source": [
    "#q.write.parquet(\"lab_12/cache/stest_pivot4ensembling\",  mode='overwrite')"
   ]
  },
  {
   "cell_type": "code",
   "execution_count": null,
   "metadata": {
    "collapsed": false
   },
   "outputs": [],
   "source": [
    "#res = q.toPandas()"
   ]
  },
  {
   "cell_type": "markdown",
   "metadata": {
    "collapsed": true
   },
   "source": [
    "# Read than get pandas"
   ]
  },
  {
   "cell_type": "code",
   "execution_count": 10,
   "metadata": {
    "collapsed": true
   },
   "outputs": [],
   "source": [
    "q = spark.read.parquet(\"lab_12/cache/stest_pivot4ensembling\")"
   ]
  },
  {
   "cell_type": "code",
   "execution_count": 11,
   "metadata": {
    "collapsed": false
   },
   "outputs": [
    {
     "name": "stdout",
     "output_type": "stream",
     "text": [
      "+------+-------+------+--------------+--------------+-----------+-----------+-----------------+------------------+-------------------+--------------------+--------------+-------------------+--------------+--------------------+--------------------+--------------+\n",
      "|userId|movieId|rating|n_user_ratings|n_item_ratings|nr_user_cat|nr_item_cat|        bp_rating|     bp_rating_err|n_used_item_ratings|predicted_i2i_rating|has_i2i_rating|n_used_user_ratings|has_u2u_rating|predicted_u2u_rating|predicted_als_rating|has_als_rating|\n",
      "+------+-------+------+--------------+--------------+-----------+-----------+-----------------+------------------+-------------------+--------------------+--------------+-------------------+--------------+--------------------+--------------------+--------------+\n",
      "|    28|   4711|   3.0|         244.0|        7697.0|     unr_51|    inr_101|3.564750454655524|-0.564750454655524|                  4|   3.372809845588842|             1|               14.0|             1|   3.634586279581508|   3.351330280303955|             1|\n",
      "|    40|  13667|   3.0|         129.0|        2423.0|     unr_51|    inr_101|3.778930846940237|-0.778930846940237|                  2|  2.4987220990293846|             1|                1.0|             1|  3.9114890042293844|  3.7669284343719482|             1|\n",
      "+------+-------+------+--------------+--------------+-----------+-----------+-----------------+------------------+-------------------+--------------------+--------------+-------------------+--------------+--------------------+--------------------+--------------+\n",
      "only showing top 2 rows\n",
      "\n"
     ]
    }
   ],
   "source": [
    "q.show(2)"
   ]
  },
  {
   "cell_type": "code",
   "execution_count": 12,
   "metadata": {
    "collapsed": false
   },
   "outputs": [
    {
     "data": {
      "text/plain": [
       "3159915"
      ]
     },
     "execution_count": 12,
     "metadata": {},
     "output_type": "execute_result"
    }
   ],
   "source": [
    "q.count()"
   ]
  },
  {
   "cell_type": "code",
   "execution_count": 13,
   "metadata": {
    "collapsed": false
   },
   "outputs": [],
   "source": [
    "qrdd = q.rdd.coalesce(30).cache()"
   ]
  },
  {
   "cell_type": "code",
   "execution_count": null,
   "metadata": {
    "collapsed": false
   },
   "outputs": [],
   "source": [
    "def make_part_filter(index):\n",
    "    def part_filter(split_index, iterator):\n",
    "        if split_index == index:\n",
    "            for el in iterator:\n",
    "                yield el\n",
    "    return part_filter\n"
   ]
  },
  {
   "cell_type": "code",
   "execution_count": 16,
   "metadata": {
    "collapsed": true
   },
   "outputs": [],
   "source": [
    "tmp_dir = \"/data/home/taras.svirsky/lab12/tmp/\"\n",
    "if not os.path.exists(tmp_dir):\n",
    "    os.makedirs(tmp_dir)"
   ]
  },
  {
   "cell_type": "code",
   "execution_count": 17,
   "metadata": {
    "collapsed": true
   },
   "outputs": [],
   "source": [
    "import cPickle as pickle"
   ]
  },
  {
   "cell_type": "code",
   "execution_count": null,
   "metadata": {
    "collapsed": false
   },
   "outputs": [],
   "source": [
    "for part_id in range(qrdd.getNumPartitions()):\n",
    "    part_rdd = qrdd.mapPartitionsWithIndex(make_part_filter(part_id), True)\n",
    "    data_from_part_rdd = part_rdd.collect()\n",
    "    print \"partition id: %s elements: %s\" % (part_id, data_from_part_rdd)\n",
    "    print part_id, len(data_from_part_rdd),\n",
    "    fpath = os.path.join(tmp_dir,\"part%6d.pckl\" % (part_id,))\n",
    "    with open(fpath, 'w') as outh:\n",
    "        pickle.dump(data_from_part_rdd, outh)\n",
    "    print 'saved to', fpath    "
   ]
  },
  {
   "cell_type": "code",
   "execution_count": 19,
   "metadata": {
    "collapsed": false
   },
   "outputs": [
    {
     "data": {
      "text/plain": [
       "4"
      ]
     },
     "execution_count": 19,
     "metadata": {},
     "output_type": "execute_result"
    }
   ],
   "source": [
    "2+2"
   ]
  },
  {
   "cell_type": "code",
   "execution_count": 21,
   "metadata": {
    "collapsed": false
   },
   "outputs": [],
   "source": [
    "asd=pd.DataFrame.from_records(data_from_part_rdd)"
   ]
  },
  {
   "cell_type": "code",
   "execution_count": 25,
   "metadata": {
    "collapsed": false
   },
   "outputs": [],
   "source": [
    "zz=data_from_part_rdd[0]"
   ]
  },
  {
   "cell_type": "code",
   "execution_count": 32,
   "metadata": {
    "collapsed": false
   },
   "outputs": [],
   "source": [
    "columns = q.columns"
   ]
  },
  {
   "cell_type": "code",
   "execution_count": 34,
   "metadata": {
    "collapsed": false
   },
   "outputs": [
    {
     "name": "stdout",
     "output_type": "stream",
     "text": [
      "part     0.pckl\n",
      "part     1.pckl\n",
      "part     2.pckl\n",
      "part     3.pckl\n",
      "part     4.pckl\n",
      "part     5.pckl\n",
      "part     6.pckl\n",
      "part     7.pckl\n"
     ]
    }
   ],
   "source": [
    "df_list = []\n",
    "for f in os.listdir(tmp_dir):\n",
    "    print f\n",
    "    with open(os.path.join(tmp_dir, f)) as inh:\n",
    "        rows = pickle.load(inh)\n",
    "    sdf = pd.DataFrame.from_records(rows, columns=columns)\n",
    "    df_list.append(sdf)"
   ]
  },
  {
   "cell_type": "code",
   "execution_count": 35,
   "metadata": {
    "collapsed": false
   },
   "outputs": [
    {
     "data": {
      "text/plain": [
       "3159915"
      ]
     },
     "execution_count": 35,
     "metadata": {},
     "output_type": "execute_result"
    }
   ],
   "source": [
    "sum([len(x) for x in df_list])"
   ]
  },
  {
   "cell_type": "code",
   "execution_count": 36,
   "metadata": {
    "collapsed": true
   },
   "outputs": [],
   "source": [
    "df = pd.concat(df_list)"
   ]
  },
  {
   "cell_type": "code",
   "execution_count": 38,
   "metadata": {
    "collapsed": false
   },
   "outputs": [
    {
     "data": {
      "text/html": [
       "<div>\n",
       "<table border=\"1\" class=\"dataframe\">\n",
       "  <thead>\n",
       "    <tr style=\"text-align: right;\">\n",
       "      <th></th>\n",
       "      <th>userId</th>\n",
       "      <th>movieId</th>\n",
       "      <th>rating</th>\n",
       "      <th>n_user_ratings</th>\n",
       "      <th>n_item_ratings</th>\n",
       "      <th>nr_user_cat</th>\n",
       "      <th>nr_item_cat</th>\n",
       "      <th>bp_rating</th>\n",
       "      <th>bp_rating_err</th>\n",
       "      <th>n_used_item_ratings</th>\n",
       "      <th>predicted_i2i_rating</th>\n",
       "      <th>has_i2i_rating</th>\n",
       "      <th>n_used_user_ratings</th>\n",
       "      <th>has_u2u_rating</th>\n",
       "      <th>predicted_u2u_rating</th>\n",
       "      <th>predicted_als_rating</th>\n",
       "      <th>has_als_rating</th>\n",
       "    </tr>\n",
       "  </thead>\n",
       "  <tbody>\n",
       "    <tr>\n",
       "      <th>0</th>\n",
       "      <td>28</td>\n",
       "      <td>4711</td>\n",
       "      <td>3.0</td>\n",
       "      <td>244.0</td>\n",
       "      <td>7697.0</td>\n",
       "      <td>unr_51</td>\n",
       "      <td>inr_101</td>\n",
       "      <td>3.564750</td>\n",
       "      <td>-0.564750</td>\n",
       "      <td>4</td>\n",
       "      <td>3.372810</td>\n",
       "      <td>1</td>\n",
       "      <td>14.0</td>\n",
       "      <td>1</td>\n",
       "      <td>3.634586</td>\n",
       "      <td>3.351330</td>\n",
       "      <td>1</td>\n",
       "    </tr>\n",
       "    <tr>\n",
       "      <th>1</th>\n",
       "      <td>40</td>\n",
       "      <td>13667</td>\n",
       "      <td>3.0</td>\n",
       "      <td>129.0</td>\n",
       "      <td>2423.0</td>\n",
       "      <td>unr_51</td>\n",
       "      <td>inr_101</td>\n",
       "      <td>3.778931</td>\n",
       "      <td>-0.778931</td>\n",
       "      <td>2</td>\n",
       "      <td>2.498722</td>\n",
       "      <td>1</td>\n",
       "      <td>1.0</td>\n",
       "      <td>1</td>\n",
       "      <td>3.911489</td>\n",
       "      <td>3.766928</td>\n",
       "      <td>1</td>\n",
       "    </tr>\n",
       "    <tr>\n",
       "      <th>2</th>\n",
       "      <td>41</td>\n",
       "      <td>830</td>\n",
       "      <td>4.0</td>\n",
       "      <td>341.0</td>\n",
       "      <td>5050.0</td>\n",
       "      <td>unr_51</td>\n",
       "      <td>inr_101</td>\n",
       "      <td>3.525195</td>\n",
       "      <td>0.474805</td>\n",
       "      <td>9</td>\n",
       "      <td>4.336339</td>\n",
       "      <td>1</td>\n",
       "      <td>17.0</td>\n",
       "      <td>1</td>\n",
       "      <td>3.880655</td>\n",
       "      <td>3.543198</td>\n",
       "      <td>1</td>\n",
       "    </tr>\n",
       "    <tr>\n",
       "      <th>3</th>\n",
       "      <td>67</td>\n",
       "      <td>14668</td>\n",
       "      <td>5.0</td>\n",
       "      <td>28.0</td>\n",
       "      <td>25449.0</td>\n",
       "      <td>unr_06_50</td>\n",
       "      <td>inr_101</td>\n",
       "      <td>4.570491</td>\n",
       "      <td>0.429509</td>\n",
       "      <td>1</td>\n",
       "      <td>5.000000</td>\n",
       "      <td>1</td>\n",
       "      <td>18.0</td>\n",
       "      <td>1</td>\n",
       "      <td>4.438281</td>\n",
       "      <td>4.322522</td>\n",
       "      <td>1</td>\n",
       "    </tr>\n",
       "    <tr>\n",
       "      <th>4</th>\n",
       "      <td>94</td>\n",
       "      <td>13069</td>\n",
       "      <td>4.0</td>\n",
       "      <td>68.0</td>\n",
       "      <td>5233.0</td>\n",
       "      <td>unr_51</td>\n",
       "      <td>inr_101</td>\n",
       "      <td>3.903274</td>\n",
       "      <td>0.096726</td>\n",
       "      <td>4</td>\n",
       "      <td>4.123857</td>\n",
       "      <td>1</td>\n",
       "      <td>33.0</td>\n",
       "      <td>1</td>\n",
       "      <td>4.220622</td>\n",
       "      <td>3.933161</td>\n",
       "      <td>1</td>\n",
       "    </tr>\n",
       "  </tbody>\n",
       "</table>\n",
       "</div>"
      ],
      "text/plain": [
       "   userId  movieId  rating n_user_ratings n_item_ratings nr_user_cat  \\\n",
       "0      28     4711     3.0          244.0         7697.0      unr_51   \n",
       "1      40    13667     3.0          129.0         2423.0      unr_51   \n",
       "2      41      830     4.0          341.0         5050.0      unr_51   \n",
       "3      67    14668     5.0           28.0        25449.0   unr_06_50   \n",
       "4      94    13069     4.0           68.0         5233.0      unr_51   \n",
       "\n",
       "  nr_item_cat  bp_rating  bp_rating_err  n_used_item_ratings  \\\n",
       "0     inr_101   3.564750      -0.564750                    4   \n",
       "1     inr_101   3.778931      -0.778931                    2   \n",
       "2     inr_101   3.525195       0.474805                    9   \n",
       "3     inr_101   4.570491       0.429509                    1   \n",
       "4     inr_101   3.903274       0.096726                    4   \n",
       "\n",
       "   predicted_i2i_rating  has_i2i_rating n_used_user_ratings  has_u2u_rating  \\\n",
       "0              3.372810               1                14.0               1   \n",
       "1              2.498722               1                 1.0               1   \n",
       "2              4.336339               1                17.0               1   \n",
       "3              5.000000               1                18.0               1   \n",
       "4              4.123857               1                33.0               1   \n",
       "\n",
       "   predicted_u2u_rating  predicted_als_rating  has_als_rating  \n",
       "0              3.634586              3.351330               1  \n",
       "1              3.911489              3.766928               1  \n",
       "2              3.880655              3.543198               1  \n",
       "3              4.438281              4.322522               1  \n",
       "4              4.220622              3.933161               1  "
      ]
     },
     "execution_count": 38,
     "metadata": {},
     "output_type": "execute_result"
    }
   ],
   "source": [
    "df.head()"
   ]
  },
  {
   "cell_type": "code",
   "execution_count": 39,
   "metadata": {
    "collapsed": true
   },
   "outputs": [],
   "source": [
    "df.to_csv(\"/data/home/taras.svirsky/lab12/data/stest_pivot4ensemble.csv\", index=False)"
   ]
  },
  {
   "cell_type": "code",
   "execution_count": 40,
   "metadata": {
    "collapsed": false
   },
   "outputs": [
    {
     "data": {
      "text/plain": [
       "(3159915, 17)"
      ]
     },
     "execution_count": 40,
     "metadata": {},
     "output_type": "execute_result"
    }
   ],
   "source": [
    "df.shape"
   ]
  },
  {
   "cell_type": "code",
   "execution_count": null,
   "metadata": {
    "collapsed": true
   },
   "outputs": [],
   "source": []
  }
 ],
 "metadata": {
  "kernelspec": {
   "display_name": "Python 2",
   "language": "python",
   "name": "python2"
  },
  "language_info": {
   "codemirror_mode": {
    "name": "ipython",
    "version": 2
   },
   "file_extension": ".py",
   "mimetype": "text/x-python",
   "name": "python",
   "nbconvert_exporter": "python",
   "pygments_lexer": "ipython2",
   "version": "2.7.6"
  }
 },
 "nbformat": 4,
 "nbformat_minor": 0
}
