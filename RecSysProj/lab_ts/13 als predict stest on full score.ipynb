{
 "cells": [
  {
   "cell_type": "code",
   "execution_count": 1,
   "metadata": {
    "collapsed": false
   },
   "outputs": [
    {
     "name": "stdout",
     "output_type": "stream",
     "text": [
      "Welcome to\n",
      "      ____              __\n",
      "     / __/__  ___ _____/ /__\n",
      "    _\\ \\/ _ \\/ _ `/ __/  '_/\n",
      "   /__ / .__/\\_,_/_/ /_/\\_\\   version 2.0.2\n",
      "      /_/\n",
      "\n",
      "Using Python version 2.7.6 (default, Mar 22 2014 22:59:56)\n",
      "SparkSession available as 'spark'.\n"
     ]
    }
   ],
   "source": [
    "if True:\n",
    "    import os\n",
    "    os.environ[\"PYSPARK_SUBMIT_ARGS\"]='--packages com.databricks:spark-csv_2.10:1.3.0 pyspark-shell'\n",
    "    execfile(os.path.join(os.environ[\"SPARK_HOME\"], 'python/pyspark/shell.py'))\n",
    "    import os\n",
    "    import sys\n",
    "else:\n",
    "    os.environ['SPARK_HOME'] = '/usr/lib/spark'\n",
    "    sys.path.insert(0, '/usr/lib/spark/python/lib/py4j-0.9-src.zip')\n",
    "    sys.path.insert(0, '/usr/lib/spark/python/')\n",
    "    sys.path.insert(0, '/usr/local/lib64/python2.7/site-packages')\n",
    "    sys.path.insert(0,'/usr/local/lib/python2.7/site-packages')\n",
    "    \n",
    "    from pyspark import SparkContext\n",
    "    from pyspark.sql import SQLContext, HiveContext\n",
    "    \n",
    "    try: sc = SparkContext()\n",
    "    except: None    \n",
    "    sqlc = SQLContext(sc)\n",
    "    spark = sqlc"
   ]
  },
  {
   "cell_type": "code",
   "execution_count": 2,
   "metadata": {
    "collapsed": false
   },
   "outputs": [
    {
     "name": "stdout",
     "output_type": "stream",
     "text": [
      "Populating the interactive namespace from numpy and matplotlib\n"
     ]
    }
   ],
   "source": [
    "%pylab inline"
   ]
  },
  {
   "cell_type": "code",
   "execution_count": 3,
   "metadata": {
    "collapsed": false
   },
   "outputs": [
    {
     "name": "stderr",
     "output_type": "stream",
     "text": [
      "/usr/local/lib/python2.7/dist-packages/matplotlib/__init__.py:872: UserWarning: axes.color_cycle is deprecated and replaced with axes.prop_cycle; please use the latter.\n",
      "  warnings.warn(self.msg_depr % (key, alt_key))\n"
     ]
    }
   ],
   "source": [
    "import seaborn as sns"
   ]
  },
  {
   "cell_type": "code",
   "execution_count": 4,
   "metadata": {
    "collapsed": true
   },
   "outputs": [],
   "source": [
    "import numpy as np\n",
    "import pandas as pd\n",
    "import time\n",
    "import json\n",
    "\n",
    "from pyspark.sql.types import StructType, StructField, StringType, IntegerType, FloatType, MapType\n",
    "import pyspark.sql.functions as F"
   ]
  },
  {
   "cell_type": "code",
   "execution_count": 5,
   "metadata": {
    "collapsed": true
   },
   "outputs": [],
   "source": [
    "from operator import add\n",
    "from pyspark.sql.types import *"
   ]
  },
  {
   "cell_type": "code",
   "execution_count": 6,
   "metadata": {
    "collapsed": true
   },
   "outputs": [],
   "source": [
    "from pyspark.mllib.recommendation import Rating\n",
    "from pyspark.mllib.recommendation import ALS, MatrixFactorizationModel\n",
    "from datetime import datetime"
   ]
  },
  {
   "cell_type": "markdown",
   "metadata": {},
   "source": [
    "# Load data"
   ]
  },
  {
   "cell_type": "code",
   "execution_count": 7,
   "metadata": {
    "collapsed": false
   },
   "outputs": [],
   "source": [
    "strain_predictions = spark.read.parquet(\"lab_12/cache/strain_bp\")\n"
   ]
  },
  {
   "cell_type": "code",
   "execution_count": 8,
   "metadata": {
    "collapsed": false
   },
   "outputs": [
    {
     "name": "stdout",
     "output_type": "stream",
     "text": [
      "+------+-------+------+--------------+--------------+-----------+-----------+------------------+-------------------+\n",
      "|userId|movieId|rating|n_user_ratings|n_item_ratings|nr_user_cat|nr_item_cat|         bp_rating|      bp_rating_err|\n",
      "+------+-------+------+--------------+--------------+-----------+-----------+------------------+-------------------+\n",
      "|170647|     31|   4.5|           179|           109|     unr_51|    inr_101|4.2530035613100505|0.24699643868994947|\n",
      "|198447|     31|   2.0|            53|           109|     unr_51|    inr_101| 3.847971875157315|-1.8479718751573149|\n",
      "+------+-------+------+--------------+--------------+-----------+-----------+------------------+-------------------+\n",
      "only showing top 2 rows\n",
      "\n"
     ]
    }
   ],
   "source": [
    "strain_predictions.show(2)"
   ]
  },
  {
   "cell_type": "code",
   "execution_count": 9,
   "metadata": {
    "collapsed": false
   },
   "outputs": [],
   "source": [
    "stest_predictions = spark.read.parquet(\"lab_12/cache/stest_bp\")"
   ]
  },
  {
   "cell_type": "code",
   "execution_count": 10,
   "metadata": {
    "collapsed": false
   },
   "outputs": [
    {
     "name": "stdout",
     "output_type": "stream",
     "text": [
      "+------+-------+------+--------------+--------------+-----------+-----------+-----------------+-------------------+\n",
      "|userId|movieId|rating|n_user_ratings|n_item_ratings|nr_user_cat|nr_item_cat|        bp_rating|      bp_rating_err|\n",
      "+------+-------+------+--------------+--------------+-----------+-----------+-----------------+-------------------+\n",
      "|227044|     31|   3.5|          20.0|         109.0|  unr_06_50|    inr_101|4.036272701087659|-0.5362727010876593|\n",
      "| 38648|     31|   4.0|         225.0|         109.0|     unr_51|    inr_101|4.524626216198095|-0.5246262161980946|\n",
      "+------+-------+------+--------------+--------------+-----------+-----------+-----------------+-------------------+\n",
      "only showing top 2 rows\n",
      "\n"
     ]
    }
   ],
   "source": [
    "stest_predictions.show(2)"
   ]
  },
  {
   "cell_type": "markdown",
   "metadata": {},
   "source": [
    "# ALS on full score"
   ]
  },
  {
   "cell_type": "markdown",
   "metadata": {},
   "source": [
    "## Prepeare train,validate,test data"
   ]
  },
  {
   "cell_type": "code",
   "execution_count": 14,
   "metadata": {
    "collapsed": false
   },
   "outputs": [
    {
     "data": {
      "text/plain": [
       "[Row(userId=170647, movieId=31, rating=4.5, n_user_ratings=179, n_item_ratings=109, nr_user_cat=u'unr_51', nr_item_cat=u'inr_101', bp_rating=4.2530035613100505, bp_rating_err=0.24699643868994947)]"
      ]
     },
     "execution_count": 14,
     "metadata": {},
     "output_type": "execute_result"
    }
   ],
   "source": [
    "strain_predictions.rdd.take(1)"
   ]
  },
  {
   "cell_type": "code",
   "execution_count": 15,
   "metadata": {
    "collapsed": true
   },
   "outputs": [],
   "source": [
    "def convert_to_als_rating(r):\n",
    "    return Rating(r.userId, r.movieId, r.rating)"
   ]
  },
  {
   "cell_type": "code",
   "execution_count": 16,
   "metadata": {
    "collapsed": true
   },
   "outputs": [],
   "source": [
    "strain_ratings = strain_predictions.rdd.map(convert_to_als_rating)"
   ]
  },
  {
   "cell_type": "code",
   "execution_count": 17,
   "metadata": {
    "collapsed": false
   },
   "outputs": [
    {
     "data": {
      "text/plain": [
       "Rating(user=170647, product=31, rating=4.5)"
      ]
     },
     "execution_count": 17,
     "metadata": {},
     "output_type": "execute_result"
    }
   ],
   "source": [
    "strain_ratings.first()"
   ]
  },
  {
   "cell_type": "markdown",
   "metadata": {},
   "source": [
    "# Train"
   ]
  },
  {
   "cell_type": "code",
   "execution_count": 18,
   "metadata": {
    "collapsed": true
   },
   "outputs": [],
   "source": [
    "rank = 25\n",
    "numIterations = 15\n",
    "lambda_ = 0.1"
   ]
  },
  {
   "cell_type": "code",
   "execution_count": 19,
   "metadata": {
    "collapsed": false
   },
   "outputs": [
    {
     "name": "stdout",
     "output_type": "stream",
     "text": [
      "CPU times: user 36 ms, sys: 8 ms, total: 44 ms\n",
      "Wall time: 1min 57s\n"
     ]
    }
   ],
   "source": [
    "%%time\n",
    "model = ALS.train(strain_ratings, rank, numIterations, lambda_=lambda_, seed=68)"
   ]
  },
  {
   "cell_type": "markdown",
   "metadata": {
    "collapsed": true
   },
   "source": [
    "# Predict on test"
   ]
  },
  {
   "cell_type": "code",
   "execution_count": 20,
   "metadata": {
    "collapsed": true
   },
   "outputs": [],
   "source": [
    "stest_raw = model.predictAll(stest_predictions.rdd.map(lambda x: (x.userId, x.movieId)))"
   ]
  },
  {
   "cell_type": "code",
   "execution_count": 21,
   "metadata": {
    "collapsed": false
   },
   "outputs": [
    {
     "data": {
      "text/plain": [
       "Rating(user=185012, product=11817, rating=4.442669416536464)"
      ]
     },
     "execution_count": 21,
     "metadata": {},
     "output_type": "execute_result"
    }
   ],
   "source": [
    "stest_raw.first()"
   ]
  },
  {
   "cell_type": "code",
   "execution_count": 22,
   "metadata": {
    "collapsed": true
   },
   "outputs": [],
   "source": [
    "stest_als_pred = stest_raw.toDF(schema=StructType([\n",
    "                                            StructField(\"userId\",  IntegerType()),\n",
    "                                            StructField(\"movieId\", IntegerType()),\n",
    "                                            StructField(\"predicted_als_rating\",  FloatType())]))"
   ]
  },
  {
   "cell_type": "code",
   "execution_count": 23,
   "metadata": {
    "collapsed": false
   },
   "outputs": [
    {
     "name": "stdout",
     "output_type": "stream",
     "text": [
      "+------+-------+--------------------+\n",
      "|userId|movieId|predicted_als_rating|\n",
      "+------+-------+--------------------+\n",
      "|185012|  11817|           4.4426694|\n",
      "|185012|  11717|            3.726664|\n",
      "|185012|  20945|            3.527127|\n",
      "+------+-------+--------------------+\n",
      "only showing top 3 rows\n",
      "\n"
     ]
    }
   ],
   "source": [
    "stest_als_pred.show(3)"
   ]
  },
  {
   "cell_type": "code",
   "execution_count": null,
   "metadata": {
    "collapsed": false
   },
   "outputs": [],
   "source": [
    "#stest_als_pred.coalesce(8).write.parquet(\"lab_12/cache/stest_als25_has_missed\", \n",
    "#                                         mode='overwrite')"
   ]
  },
  {
   "cell_type": "markdown",
   "metadata": {},
   "source": [
    "# Eval"
   ]
  },
  {
   "cell_type": "code",
   "execution_count": 25,
   "metadata": {
    "collapsed": false
   },
   "outputs": [],
   "source": [
    "stest_predictions = spark.read.parquet(\"lab_12/cache/stest_bp_i2i\")"
   ]
  },
  {
   "cell_type": "code",
   "execution_count": 26,
   "metadata": {
    "collapsed": false
   },
   "outputs": [
    {
     "data": {
      "text/plain": [
       "['userId',\n",
       " 'movieId',\n",
       " 'rating',\n",
       " 'n_user_ratings',\n",
       " 'n_item_ratings',\n",
       " 'nr_user_cat',\n",
       " 'nr_item_cat',\n",
       " 'bp_rating',\n",
       " 'bp_rating_err',\n",
       " 'n_used_item_ratings',\n",
       " 'predicted_i2i_rating',\n",
       " 'has_i2i_rating']"
      ]
     },
     "execution_count": 26,
     "metadata": {},
     "output_type": "execute_result"
    }
   ],
   "source": [
    "stest_predictions.columns"
   ]
  },
  {
   "cell_type": "code",
   "execution_count": 27,
   "metadata": {
    "collapsed": false
   },
   "outputs": [
    {
     "data": {
      "text/plain": [
       "3159915"
      ]
     },
     "execution_count": 27,
     "metadata": {},
     "output_type": "execute_result"
    }
   ],
   "source": [
    "stest_predictions.count()"
   ]
  },
  {
   "cell_type": "code",
   "execution_count": 28,
   "metadata": {
    "collapsed": true
   },
   "outputs": [],
   "source": [
    "eval_data = stest_predictions.join(stest_als_pred, on=['userId', 'movieId'], how='left')"
   ]
  },
  {
   "cell_type": "code",
   "execution_count": 29,
   "metadata": {
    "collapsed": false
   },
   "outputs": [
    {
     "data": {
      "text/plain": [
       "DataFrame[userId: int, movieId: int, rating: float, n_user_ratings: decimal(21,1), n_item_ratings: decimal(21,1), nr_user_cat: string, nr_item_cat: string, bp_rating: double, bp_rating_err: double, n_used_item_ratings: bigint, predicted_i2i_rating: double, has_i2i_rating: int, predicted_als_rating: float]"
      ]
     },
     "execution_count": 29,
     "metadata": {},
     "output_type": "execute_result"
    }
   ],
   "source": [
    "eval_data.cache()"
   ]
  },
  {
   "cell_type": "code",
   "execution_count": 30,
   "metadata": {
    "collapsed": true
   },
   "outputs": [],
   "source": [
    "def rmse(df, prediction_column):\n",
    "    mse_df=df.select(F.pow(F.col(\"rating\")-F.col(prediction_column), 2).alias(\"e2\"))\\\n",
    "             .agg(F.avg(F.col(\"e2\")).alias(\"mse\"),\n",
    "                  F.count(F.col(\"e2\")).alias(\"n_records\"))\n",
    "    z=mse_df.collect()[0]\n",
    "    return np.sqrt(z[0]), z[1]"
   ]
  },
  {
   "cell_type": "code",
   "execution_count": 31,
   "metadata": {
    "collapsed": true
   },
   "outputs": [],
   "source": [
    "z = rmse(eval_data, \"predicted_als_rating\")"
   ]
  },
  {
   "cell_type": "code",
   "execution_count": 32,
   "metadata": {
    "collapsed": false
   },
   "outputs": [
    {
     "name": "stdout",
     "output_type": "stream",
     "text": [
      "(0.83440097063739527, 3154183)\n"
     ]
    }
   ],
   "source": [
    "# (0.83440097064385499, 3154183)\n",
    "print z"
   ]
  },
  {
   "cell_type": "code",
   "execution_count": 33,
   "metadata": {
    "collapsed": false
   },
   "outputs": [
    {
     "name": "stdout",
     "output_type": "stream",
     "text": [
      "i2i on > 2 (0.78208236345341831, 1134944)\n",
      "als on > 2 (0.75057576694011297, 1133637)\n"
     ]
    }
   ],
   "source": [
    "#top50\n",
    "#i2i on >2 (0.77253385132439278, 759878)\n",
    "#als on >2 (0.74363847834562224, 758677)\n",
    "n=2\n",
    "z = eval_data.filter(F.col(\"n_used_item_ratings\")>n)\n",
    "print 'i2i on >',n, rmse(z, \"predicted_i2i_rating\")\n",
    "print 'als on >',n, rmse(z, \"predicted_als_rating\")\n"
   ]
  },
  {
   "cell_type": "code",
   "execution_count": 34,
   "metadata": {
    "collapsed": false
   },
   "outputs": [],
   "source": [
    "eval_data=eval_data.withColumn(\"predicted_rating\", F.coalesce(F.col(\"predicted_als_rating\"), F.col(\"bp_rating\")))"
   ]
  },
  {
   "cell_type": "code",
   "execution_count": 42,
   "metadata": {
    "collapsed": true
   },
   "outputs": [],
   "source": [
    "eval_data=eval_data.withColumn(\"predicted_rating_avg\",\n",
    "                               F.lit(0.75) * F.col(\"predicted_rating\") +  F.lit(0.25) * F.col(\"predicted_i2i_rating\"))"
   ]
  },
  {
   "cell_type": "code",
   "execution_count": 43,
   "metadata": {
    "collapsed": false
   },
   "outputs": [
    {
     "data": {
      "text/plain": [
       "DataFrame[userId: int, movieId: int, rating: float, n_user_ratings: decimal(21,1), n_item_ratings: decimal(21,1), nr_user_cat: string, nr_item_cat: string, bp_rating: double, bp_rating_err: double, n_used_item_ratings: bigint, predicted_i2i_rating: double, has_i2i_rating: int, predicted_als_rating: float, predicted_rating: double, predicted_rating_avg: double]"
      ]
     },
     "execution_count": 43,
     "metadata": {},
     "output_type": "execute_result"
    }
   ],
   "source": [
    "eval_data.cache()"
   ]
  },
  {
   "cell_type": "code",
   "execution_count": 44,
   "metadata": {
    "collapsed": false
   },
   "outputs": [
    {
     "name": "stdout",
     "output_type": "stream",
     "text": [
      "als on >= 0 (0.83495897715420986, 3159915)\n",
      "avg on >= 0 (0.82227134759083687, 3159915)\n"
     ]
    }
   ],
   "source": [
    "n=0\n",
    "z = eval_data.filter(F.col(\"n_used_item_ratings\")>=n)\n",
    "#print 'bp on >=',n, rmse(z, \"bp_rating\")\n",
    "#print 'i2i on >=',n, rmse(z, \"predicted_i2i_rating\")\n",
    "print 'als on >=',n, rmse(z, \"predicted_rating\")\n",
    "print 'avg on >=',n, rmse(z, \"predicted_rating_avg\")"
   ]
  },
  {
   "cell_type": "code",
   "execution_count": 38,
   "metadata": {
    "collapsed": true
   },
   "outputs": [],
   "source": [
    "#top50\n",
    "#als on >= 0 (0.83495897716125911, 3159915)\n",
    "#avg on >= 0 (0.8236655014538885, 3159915)\n",
    "#top100\n",
    "#als on >= 0 (0.83495897715420975, 3159915)\n",
    "#avg on >= 0 (0.82292474871365584, 3159915)"
   ]
  },
  {
   "cell_type": "code",
   "execution_count": 39,
   "metadata": {
    "collapsed": true
   },
   "outputs": [],
   "source": [
    "def get_rmse_per_category(eval_data, prediction_column):\n",
    "    qg = eval_data.withColumn(\"e2\", F.pow(F.col(\"rating\")-F.col(prediction_column), 2))\\\n",
    "             .groupBy([\"nr_user_cat\", \"nr_item_cat\"])\\\n",
    "             .agg(F.avg(F.col(\"e2\")).alias(\"mse\"), \n",
    "                  F.count(F.col(\"e2\")).alias(\"n_examples\"),\n",
    "                  F.sum(F.col(\"has_i2i_rating\")).alias(\"has_i2i_rating\"),\n",
    "                  F.avg(F.col(\"n_used_item_ratings\")).alias(\"avg_used_item_ratings\"))\n",
    "    epg = qg.toPandas()\n",
    "    epg['r_examples'] = np.round(epg['n_examples'] * 100. /  epg['n_examples'].sum(), 2)\n",
    "    epg['rmse'] = np.sqrt(epg['mse'])\n",
    "    epg['r_has_i2i_rating'] = np.round(epg['has_i2i_rating'] * 100. /  epg['n_examples'], 2)\n",
    "    \n",
    "    return epg[[\"nr_user_cat\", \"nr_item_cat\", \n",
    "                \"n_examples\", \"avg_used_item_ratings\",\n",
    "                \"r_examples\", \"rmse\", \"r_has_i2i_rating\"]].sort_values(by='r_examples', ascending=False)\n",
    "    return epg"
   ]
  },
  {
   "cell_type": "code",
   "execution_count": 40,
   "metadata": {
    "collapsed": false
   },
   "outputs": [
    {
     "data": {
      "text/html": [
       "<div>\n",
       "<table border=\"1\" class=\"dataframe\">\n",
       "  <thead>\n",
       "    <tr style=\"text-align: right;\">\n",
       "      <th></th>\n",
       "      <th>nr_user_cat</th>\n",
       "      <th>nr_item_cat</th>\n",
       "      <th>n_examples</th>\n",
       "      <th>avg_used_item_ratings</th>\n",
       "      <th>r_examples</th>\n",
       "      <th>rmse</th>\n",
       "      <th>r_has_i2i_rating</th>\n",
       "    </tr>\n",
       "  </thead>\n",
       "  <tbody>\n",
       "    <tr>\n",
       "      <th>0</th>\n",
       "      <td>unr_51</td>\n",
       "      <td>inr_101</td>\n",
       "      <td>2016442</td>\n",
       "      <td>3.416021</td>\n",
       "      <td>63.81</td>\n",
       "      <td>0.783283</td>\n",
       "      <td>82.88</td>\n",
       "    </tr>\n",
       "    <tr>\n",
       "      <th>8</th>\n",
       "      <td>unr_06_50</td>\n",
       "      <td>inr_101</td>\n",
       "      <td>900019</td>\n",
       "      <td>0.822118</td>\n",
       "      <td>28.48</td>\n",
       "      <td>0.882012</td>\n",
       "      <td>44.23</td>\n",
       "    </tr>\n",
       "    <tr>\n",
       "      <th>3</th>\n",
       "      <td>unr_01_05</td>\n",
       "      <td>inr_101</td>\n",
       "      <td>122519</td>\n",
       "      <td>0.088190</td>\n",
       "      <td>3.88</td>\n",
       "      <td>1.173410</td>\n",
       "      <td>8.12</td>\n",
       "    </tr>\n",
       "    <tr>\n",
       "      <th>4</th>\n",
       "      <td>unr_51</td>\n",
       "      <td>inr_11_100</td>\n",
       "      <td>88496</td>\n",
       "      <td>4.161951</td>\n",
       "      <td>2.80</td>\n",
       "      <td>0.823858</td>\n",
       "      <td>78.00</td>\n",
       "    </tr>\n",
       "  </tbody>\n",
       "</table>\n",
       "</div>"
      ],
      "text/plain": [
       "  nr_user_cat nr_item_cat  n_examples  avg_used_item_ratings  r_examples  \\\n",
       "0      unr_51     inr_101     2016442               3.416021       63.81   \n",
       "8   unr_06_50     inr_101      900019               0.822118       28.48   \n",
       "3   unr_01_05     inr_101      122519               0.088190        3.88   \n",
       "4      unr_51  inr_11_100       88496               4.161951        2.80   \n",
       "\n",
       "       rmse  r_has_i2i_rating  \n",
       "0  0.783283             82.88  \n",
       "8  0.882012             44.23  \n",
       "3  1.173410              8.12  \n",
       "4  0.823858             78.00  "
      ]
     },
     "execution_count": 40,
     "metadata": {},
     "output_type": "execute_result"
    }
   ],
   "source": [
    "get_rmse_per_category(eval_data, \"predicted_rating\").head(4)"
   ]
  },
  {
   "cell_type": "code",
   "execution_count": 41,
   "metadata": {
    "collapsed": false
   },
   "outputs": [
    {
     "data": {
      "text/html": [
       "<div>\n",
       "<table border=\"1\" class=\"dataframe\">\n",
       "  <thead>\n",
       "    <tr style=\"text-align: right;\">\n",
       "      <th></th>\n",
       "      <th>nr_user_cat</th>\n",
       "      <th>nr_item_cat</th>\n",
       "      <th>n_examples</th>\n",
       "      <th>avg_used_item_ratings</th>\n",
       "      <th>r_examples</th>\n",
       "      <th>rmse</th>\n",
       "      <th>r_has_i2i_rating</th>\n",
       "    </tr>\n",
       "  </thead>\n",
       "  <tbody>\n",
       "    <tr>\n",
       "      <th>0</th>\n",
       "      <td>unr_51</td>\n",
       "      <td>inr_101</td>\n",
       "      <td>2016442</td>\n",
       "      <td>3.416021</td>\n",
       "      <td>63.81</td>\n",
       "      <td>0.774857</td>\n",
       "      <td>82.88</td>\n",
       "    </tr>\n",
       "    <tr>\n",
       "      <th>8</th>\n",
       "      <td>unr_06_50</td>\n",
       "      <td>inr_101</td>\n",
       "      <td>900019</td>\n",
       "      <td>0.822118</td>\n",
       "      <td>28.48</td>\n",
       "      <td>0.873914</td>\n",
       "      <td>44.23</td>\n",
       "    </tr>\n",
       "    <tr>\n",
       "      <th>3</th>\n",
       "      <td>unr_01_05</td>\n",
       "      <td>inr_101</td>\n",
       "      <td>122519</td>\n",
       "      <td>0.088190</td>\n",
       "      <td>3.88</td>\n",
       "      <td>1.119163</td>\n",
       "      <td>8.12</td>\n",
       "    </tr>\n",
       "    <tr>\n",
       "      <th>4</th>\n",
       "      <td>unr_51</td>\n",
       "      <td>inr_11_100</td>\n",
       "      <td>88496</td>\n",
       "      <td>4.161951</td>\n",
       "      <td>2.80</td>\n",
       "      <td>0.793223</td>\n",
       "      <td>78.00</td>\n",
       "    </tr>\n",
       "  </tbody>\n",
       "</table>\n",
       "</div>"
      ],
      "text/plain": [
       "  nr_user_cat nr_item_cat  n_examples  avg_used_item_ratings  r_examples  \\\n",
       "0      unr_51     inr_101     2016442               3.416021       63.81   \n",
       "8   unr_06_50     inr_101      900019               0.822118       28.48   \n",
       "3   unr_01_05     inr_101      122519               0.088190        3.88   \n",
       "4      unr_51  inr_11_100       88496               4.161951        2.80   \n",
       "\n",
       "       rmse  r_has_i2i_rating  \n",
       "0  0.774857             82.88  \n",
       "8  0.873914             44.23  \n",
       "3  1.119163              8.12  \n",
       "4  0.793223             78.00  "
      ]
     },
     "execution_count": 41,
     "metadata": {},
     "output_type": "execute_result"
    }
   ],
   "source": [
    "get_rmse_per_category(eval_data, \"predicted_rating_avg\").head(4)"
   ]
  },
  {
   "cell_type": "code",
   "execution_count": null,
   "metadata": {
    "collapsed": true
   },
   "outputs": [],
   "source": []
  }
 ],
 "metadata": {
  "kernelspec": {
   "display_name": "Python 2",
   "language": "python",
   "name": "python2"
  },
  "language_info": {
   "codemirror_mode": {
    "name": "ipython",
    "version": 2
   },
   "file_extension": ".py",
   "mimetype": "text/x-python",
   "name": "python",
   "nbconvert_exporter": "python",
   "pygments_lexer": "ipython2",
   "version": "2.7.6"
  }
 },
 "nbformat": 4,
 "nbformat_minor": 0
}
