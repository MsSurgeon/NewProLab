{
 "cells": [
  {
   "cell_type": "code",
   "execution_count": 2,
   "metadata": {
    "collapsed": true
   },
   "outputs": [],
   "source": [
    "if True:\n",
    "    import os\n",
    "    os.environ[\"PYSPARK_SUBMIT_ARGS\"]='--packages com.databricks:spark-csv_2.10:1.3.0 pyspark-shell'\n",
    "    execfile(os.path.join(os.environ[\"SPARK_HOME\"], 'python/pyspark/shell.py'))\n",
    "    import os\n",
    "    import sys\n",
    "else:\n",
    "    os.environ['SPARK_HOME'] = '/usr/lib/spark'\n",
    "    sys.path.insert(0, '/usr/lib/spark/python/lib/py4j-0.9-src.zip')\n",
    "    sys.path.insert(0, '/usr/lib/spark/python/')\n",
    "    sys.path.insert(0, '/usr/local/lib64/python2.7/site-packages')\n",
    "    sys.path.insert(0,'/usr/local/lib/python2.7/site-packages')\n",
    "    \n",
    "    from pyspark import SparkContext\n",
    "    from pyspark.sql import SQLContext, HiveContext\n",
    "    \n",
    "    try: sc = SparkContext()\n",
    "    except: None    \n",
    "    sqlc = SQLContext(sc)\n",
    "    spark = sqlc"
   ]
  },
  {
   "cell_type": "code",
   "execution_count": 4,
   "metadata": {
    "collapsed": false
   },
   "outputs": [
    {
     "name": "stdout",
     "output_type": "stream",
     "text": [
      "Populating the interactive namespace from numpy and matplotlib\n"
     ]
    }
   ],
   "source": [
    "%pylab inline"
   ]
  },
  {
   "cell_type": "code",
   "execution_count": 5,
   "metadata": {
    "collapsed": false
   },
   "outputs": [],
   "source": [
    "import seaborn as sns"
   ]
  },
  {
   "cell_type": "code",
   "execution_count": 6,
   "metadata": {
    "collapsed": true
   },
   "outputs": [],
   "source": [
    "import numpy as np\n",
    "import pandas as pd\n",
    "import time\n",
    "import json\n",
    "\n",
    "from pyspark.sql.types import StructType, StructField, StringType, IntegerType, FloatType, MapType\n",
    "import pyspark.sql.functions as F"
   ]
  },
  {
   "cell_type": "code",
   "execution_count": 7,
   "metadata": {
    "collapsed": true
   },
   "outputs": [],
   "source": [
    "from operator import add\n",
    "from pyspark.sql.types import *"
   ]
  },
  {
   "cell_type": "code",
   "execution_count": 8,
   "metadata": {
    "collapsed": true
   },
   "outputs": [],
   "source": [
    "from pyspark.mllib.recommendation import Rating\n",
    "from pyspark.mllib.recommendation import ALS, MatrixFactorizationModel\n",
    "from datetime import datetime"
   ]
  },
  {
   "cell_type": "markdown",
   "metadata": {},
   "source": [
    "# Load data"
   ]
  },
  {
   "cell_type": "code",
   "execution_count": 10,
   "metadata": {
    "collapsed": false
   },
   "outputs": [],
   "source": [
    "strain_predictions = spark.read.parquet(\"lab_12/cache/strain_bp_v1\")"
   ]
  },
  {
   "cell_type": "code",
   "execution_count": 11,
   "metadata": {
    "collapsed": false
   },
   "outputs": [
    {
     "name": "stdout",
     "output_type": "stream",
     "text": [
      "+------+-------+------+----------------+--------------+--------------+-----------+-----------+------------------+--------------------+\n",
      "|userId|movieId|rating|user_sum_ratings|n_user_ratings|n_item_ratings|nr_user_cat|nr_item_cat|         bp_rating|       bp_rating_err|\n",
      "+------+-------+------+----------------+--------------+--------------+-----------+-----------+------------------+--------------------+\n",
      "|180844|     31|   4.0|           133.0|            33|           109|  unr_06_50|    inr_101| 4.335332651046607|-0.33533265104660703|\n",
      "|170647|     31|   4.5|           696.5|           179|           109|     unr_51|    inr_101|4.2530035613100505| 0.24699643868994947|\n",
      "+------+-------+------+----------------+--------------+--------------+-----------+-----------+------------------+--------------------+\n",
      "only showing top 2 rows\n",
      "\n"
     ]
    }
   ],
   "source": [
    "strain_predictions.show(2)"
   ]
  },
  {
   "cell_type": "code",
   "execution_count": 12,
   "metadata": {
    "collapsed": false
   },
   "outputs": [],
   "source": [
    "stest_predictions = spark.read.parquet(\"lab_12/cache/stest_bp_v1\")"
   ]
  },
  {
   "cell_type": "code",
   "execution_count": 13,
   "metadata": {
    "collapsed": false
   },
   "outputs": [
    {
     "name": "stdout",
     "output_type": "stream",
     "text": [
      "+------+-------+------+----------------+--------------+--------------+-----------+-----------+------------------+-------------------+\n",
      "|userId|movieId|rating|user_sum_ratings|n_user_ratings|n_item_ratings|nr_user_cat|nr_item_cat|         bp_rating|      bp_rating_err|\n",
      "+------+-------+------+----------------+--------------+--------------+-----------+-----------+------------------+-------------------+\n",
      "| 52854|     31|   4.0|           431.0|         125.0|         109.0|     unr_51|    inr_101|3.8228106894522753| 0.1771893105477247|\n",
      "| 88479|     31|   3.0|           831.5|         269.0|         109.0|     unr_51|    inr_101|3.4709176327304334|-0.4709176327304334|\n",
      "+------+-------+------+----------------+--------------+--------------+-----------+-----------+------------------+-------------------+\n",
      "only showing top 2 rows\n",
      "\n"
     ]
    }
   ],
   "source": [
    "stest_predictions.show(2)"
   ]
  },
  {
   "cell_type": "markdown",
   "metadata": {},
   "source": [
    "# Calculate normalised user rating per movie"
   ]
  },
  {
   "cell_type": "code",
   "execution_count": 15,
   "metadata": {
    "collapsed": false
   },
   "outputs": [
    {
     "name": "stdout",
     "output_type": "stream",
     "text": [
      "avg_rating 3.5214315006\n"
     ]
    }
   ],
   "source": [
    "avg_rating = strain_predictions.agg({\"rating\":\"mean\"}).collect()[0][0]\n",
    "print \"avg_rating\", avg_rating"
   ]
  },
  {
   "cell_type": "code",
   "execution_count": 16,
   "metadata": {
    "collapsed": false
   },
   "outputs": [],
   "source": [
    "strain_predictions = strain_predictions.withColumn(\"user_avg_rating\", \n",
    "                        (F.col(\"user_sum_ratings\") + F.lit(avg_rating)) / (F.col(\"n_user_ratings\") + F.lit(1.0)))\n",
    "strain_predictions = strain_predictions.withColumn(\"user_norm_rating\", F.col(\"rating\") - F.col(\"user_avg_rating\"))\n",
    "strain_predictions = strain_predictions.select(\"userId\", \"movieId\", \"user_norm_rating\").cache()"
   ]
  },
  {
   "cell_type": "code",
   "execution_count": 17,
   "metadata": {
    "collapsed": false
   },
   "outputs": [
    {
     "name": "stdout",
     "output_type": "stream",
     "text": [
      "+------+-------+--------------------+\n",
      "|userId|movieId|    user_norm_rating|\n",
      "+------+-------+--------------------+\n",
      "|180844|     31|-0.01533622060588...|\n",
      "|170647|     31|  0.6109920472188888|\n",
      "+------+-------+--------------------+\n",
      "only showing top 2 rows\n",
      "\n"
     ]
    }
   ],
   "source": [
    "strain_predictions.show(2)"
   ]
  },
  {
   "cell_type": "code",
   "execution_count": 18,
   "metadata": {
    "collapsed": true
   },
   "outputs": [],
   "source": [
    "strain_predictions.registerTempTable(\"strain\")"
   ]
  },
  {
   "cell_type": "code",
   "execution_count": 19,
   "metadata": {
    "collapsed": true
   },
   "outputs": [],
   "source": [
    "stest_predictions = stest_predictions.withColumn(\"user_avg_rating\", \n",
    "                        (F.col(\"user_sum_ratings\") + F.lit(avg_rating)) / (F.col(\"n_user_ratings\") + F.lit(1.0)))\n",
    "stest_predictions = stest_predictions.select(\"userId\", \"movieId\", \"rating\", \n",
    "                                             \"user_avg_rating\", \"nr_user_cat\", \"nr_item_cat\", \"bp_rating\").cache()"
   ]
  },
  {
   "cell_type": "code",
   "execution_count": 20,
   "metadata": {
    "collapsed": false
   },
   "outputs": [
    {
     "name": "stdout",
     "output_type": "stream",
     "text": [
      "+------+-------+------+------------------+-----------+-----------+------------------+\n",
      "|userId|movieId|rating|   user_avg_rating|nr_user_cat|nr_item_cat|         bp_rating|\n",
      "+------+-------+------+------------------+-----------+-----------+------------------+\n",
      "| 52854|     31|   4.0|3.4485827896873014|     unr_51|    inr_101|3.8228106894522753|\n",
      "| 88479|     31|   3.0|3.0926719685207407|     unr_51|    inr_101|3.4709176327304334|\n",
      "+------+-------+------+------------------+-----------+-----------+------------------+\n",
      "only showing top 2 rows\n",
      "\n"
     ]
    }
   ],
   "source": [
    "stest_predictions.show(2)"
   ]
  },
  {
   "cell_type": "code",
   "execution_count": 21,
   "metadata": {
    "collapsed": true
   },
   "outputs": [],
   "source": [
    "stest_predictions.registerTempTable(\"stest\")"
   ]
  },
  {
   "cell_type": "code",
   "execution_count": 22,
   "metadata": {
    "collapsed": false
   },
   "outputs": [
    {
     "data": {
      "text/plain": [
       "DataFrame[userId: int, movieId: int, rating: float, user_avg_rating: double, nr_user_cat: string, nr_item_cat: string, bp_rating: double]"
      ]
     },
     "execution_count": 22,
     "metadata": {},
     "output_type": "execute_result"
    }
   ],
   "source": [
    "#stest_predictions.cache()"
   ]
  },
  {
   "cell_type": "markdown",
   "metadata": {
    "collapsed": true
   },
   "source": [
    "# Load similarity matrix"
   ]
  },
  {
   "cell_type": "code",
   "execution_count": 26,
   "metadata": {
    "collapsed": true
   },
   "outputs": [],
   "source": [
    "def convert_u2u_tupple(line):\n",
    "    r = line.split(',')\n",
    "    return (int(r[0]), int(r[1]), float(r[2]), int(r[3]))\n",
    "\n",
    "def load_u2u_sim():\n",
    "    raw = sc.textFile(\"lab_12/u2u_top100to200.csv\")\\\n",
    "            .filter(lambda x: not x.startswith(\"user\"))\\\n",
    "            .map(convert_u2u_tupple)\n",
    "    return raw.toDF(schema=StructType([StructField(\"user1\",  IntegerType()),\n",
    "                                       StructField(\"user2\", IntegerType()),\n",
    "                                       StructField(\"sim\",  FloatType()),\n",
    "                                       StructField(\"sim_rank\",  IntegerType())])) \n",
    "    return raw"
   ]
  },
  {
   "cell_type": "code",
   "execution_count": 27,
   "metadata": {
    "collapsed": true
   },
   "outputs": [],
   "source": [
    "u2u = load_u2u_sim()"
   ]
  },
  {
   "cell_type": "code",
   "execution_count": 28,
   "metadata": {
    "collapsed": false
   },
   "outputs": [
    {
     "name": "stdout",
     "output_type": "stream",
     "text": [
      "+-----+------+----------+--------+\n",
      "|user1| user2|       sim|sim_rank|\n",
      "+-----+------+----------+--------+\n",
      "|    1|179650|0.93893325|       0|\n",
      "|    1|227097|0.93850267|       1|\n",
      "+-----+------+----------+--------+\n",
      "only showing top 2 rows\n",
      "\n"
     ]
    }
   ],
   "source": [
    "u2u.show(2)"
   ]
  },
  {
   "cell_type": "code",
   "execution_count": 29,
   "metadata": {
    "collapsed": false
   },
   "outputs": [
    {
     "data": {
      "text/plain": [
       "DataFrame[user1: int, user2: int, sim: float, sim_rank: int]"
      ]
     },
     "execution_count": 29,
     "metadata": {},
     "output_type": "execute_result"
    }
   ],
   "source": [
    "u2u.cache()"
   ]
  },
  {
   "cell_type": "code",
   "execution_count": 30,
   "metadata": {
    "collapsed": true
   },
   "outputs": [],
   "source": [
    "u2u.registerTempTable(\"u2u_sim\")"
   ]
  },
  {
   "cell_type": "code",
   "execution_count": 32,
   "metadata": {
    "collapsed": false
   },
   "outputs": [
    {
     "data": {
      "text/plain": [
       "[('userId', 'int'), ('movieId', 'int'), ('user_norm_rating', 'double')]"
      ]
     },
     "execution_count": 32,
     "metadata": {},
     "output_type": "execute_result"
    }
   ],
   "source": [
    "strain_predictions.dtypes"
   ]
  },
  {
   "cell_type": "markdown",
   "metadata": {},
   "source": [
    "# Make predictions on test"
   ]
  },
  {
   "cell_type": "code",
   "execution_count": 74,
   "metadata": {
    "collapsed": false
   },
   "outputs": [],
   "source": [
    "q = spark.sql(\"\"\"\n",
    "        select\n",
    "          pr.userId,\n",
    "          pr.movieId,\n",
    "          avg(\n",
    "              if(pr.user_avg_rating < 0.001, cast({avg_rating} as double), pr.user_avg_rating)\n",
    "          ) + \n",
    "              sum(kr.user_norm_rating * s.sim) /  sum(s.sim)  as predicted_rating,\n",
    "          count(*) as n_used_ratings\n",
    "        from stest pr\n",
    "        join u2u_sim s on pr.userId = s.user1 and s.sim_rank <= 150\n",
    "        join strain kr on pr.movieId = kr.movieId and kr.userId = s.user2\n",
    "        group by pr.userId, pr.movieId\n",
    "\"\"\".format(avg_rating=avg_rating))"
   ]
  },
  {
   "cell_type": "code",
   "execution_count": 75,
   "metadata": {
    "collapsed": false
   },
   "outputs": [
    {
     "name": "stdout",
     "output_type": "stream",
     "text": [
      "+------+-------+------------------+--------------+\n",
      "|userId|movieId|  predicted_rating|n_used_ratings|\n",
      "+------+-------+------------------+--------------+\n",
      "|  5993|      6|3.8953496049892538|             4|\n",
      "| 76127|     48| 4.676986890932069|            14|\n",
      "+------+-------+------------------+--------------+\n",
      "only showing top 2 rows\n",
      "\n"
     ]
    }
   ],
   "source": [
    "q.show(2)"
   ]
  },
  {
   "cell_type": "code",
   "execution_count": 76,
   "metadata": {
    "collapsed": true
   },
   "outputs": [],
   "source": [
    "predicted_on_test = q"
   ]
  },
  {
   "cell_type": "code",
   "execution_count": 77,
   "metadata": {
    "collapsed": true
   },
   "outputs": [],
   "source": [
    "predicted_on_test.registerTempTable(\"predicted_test\")"
   ]
  },
  {
   "cell_type": "code",
   "execution_count": 78,
   "metadata": {
    "collapsed": true
   },
   "outputs": [],
   "source": [
    "eval_data = spark.sql(\"\"\"\n",
    "        select\n",
    "          tbase.*,\n",
    "          coalesce(pt.n_used_ratings, 0) as n_used_user_ratings,\n",
    "          coalesce(predicted_rating, bp_rating) as predicted_rating,\n",
    "          if(pt.n_used_ratings is not null, 1, 0) as has_u2u_rating\n",
    "        from stest tbase\n",
    "        left join predicted_test  pt on tbase.userId = pt.userId and tbase.movieId = pt.movieId\n",
    "\"\"\")"
   ]
  },
  {
   "cell_type": "code",
   "execution_count": 79,
   "metadata": {
    "collapsed": false
   },
   "outputs": [
    {
     "data": {
      "text/plain": [
       "DataFrame[userId: int, movieId: int, rating: float, user_avg_rating: double, nr_user_cat: string, nr_item_cat: string, bp_rating: double, n_used_user_ratings: bigint, predicted_rating: double, has_u2u_rating: int]"
      ]
     },
     "execution_count": 79,
     "metadata": {},
     "output_type": "execute_result"
    }
   ],
   "source": [
    "eval_data.cache()"
   ]
  },
  {
   "cell_type": "code",
   "execution_count": 80,
   "metadata": {
    "collapsed": false
   },
   "outputs": [
    {
     "name": "stdout",
     "output_type": "stream",
     "text": [
      "+------+-------+------+------------------+-----------+-----------+-----------------+-------------------+------------------+--------------+\n",
      "|userId|movieId|rating|   user_avg_rating|nr_user_cat|nr_item_cat|        bp_rating|n_used_user_ratings|  predicted_rating|has_u2u_rating|\n",
      "+------+-------+------+------------------+-----------+-----------+-----------------+-------------------+------------------+--------------+\n",
      "|    28|   4711|   3.0| 3.279679312247347|     unr_51|    inr_101|3.564750454655524|                 14| 3.634586279581508|             1|\n",
      "|    40|  13667|   3.0|3.5617033192353844|     unr_51|    inr_101|3.778930846940237|                  1|3.9114890042293844|             1|\n",
      "+------+-------+------+------------------+-----------+-----------+-----------------+-------------------+------------------+--------------+\n",
      "only showing top 2 rows\n",
      "\n"
     ]
    }
   ],
   "source": [
    "eval_data.show(2)"
   ]
  },
  {
   "cell_type": "code",
   "execution_count": 81,
   "metadata": {
    "collapsed": false
   },
   "outputs": [],
   "source": [
    "msedf=eval_data.select(F.pow(F.col(\"rating\")-F.col(\"predicted_rating\"), 2).alias(\"e2\"))\\\n",
    "               .agg(F.avg(F.col(\"e2\")).alias(\"mse\"))"
   ]
  },
  {
   "cell_type": "code",
   "execution_count": 82,
   "metadata": {
    "collapsed": false
   },
   "outputs": [
    {
     "name": "stdout",
     "output_type": "stream",
     "text": [
      "rmse on all test set: 0.813953247318\n"
     ]
    }
   ],
   "source": [
    "print 'rmse on all test set:', np.sqrt(msedf.collect()[0][0])"
   ]
  },
  {
   "cell_type": "code",
   "execution_count": 83,
   "metadata": {
    "collapsed": true
   },
   "outputs": [],
   "source": [
    "msedf_u2uonly=eval_data.filter(F.col(\"has_u2u_rating\")==1) \\\n",
    "                       .select(F.pow(F.col(\"rating\")-F.col(\"predicted_rating\"), 2).alias(\"e2\"))\\\n",
    "                       .agg(F.avg(F.col(\"e2\")).alias(\"mse\"))"
   ]
  },
  {
   "cell_type": "code",
   "execution_count": 84,
   "metadata": {
    "collapsed": false
   },
   "outputs": [
    {
     "name": "stdout",
     "output_type": "stream",
     "text": [
      "rmse on records with u2u predictions: 0.787357439438\n"
     ]
    }
   ],
   "source": [
    "print 'rmse on records with u2u predictions:', np.sqrt(msedf_u2uonly.collect()[0][0])"
   ]
  },
  {
   "cell_type": "code",
   "execution_count": 85,
   "metadata": {
    "collapsed": true
   },
   "outputs": [],
   "source": [
    "msedf_u2uonly_t3=eval_data.filter(F.col(\"n_used_user_ratings\")>=3) \\\n",
    "                       .select(F.pow(F.col(\"rating\")-F.col(\"predicted_rating\"), 2).alias(\"e2\"))\\\n",
    "                       .agg(F.avg(F.col(\"e2\")).alias(\"mse\"))"
   ]
  },
  {
   "cell_type": "code",
   "execution_count": 86,
   "metadata": {
    "collapsed": false
   },
   "outputs": [
    {
     "name": "stdout",
     "output_type": "stream",
     "text": [
      "rmse on records with at least 3 similar u2u predictions: 0.743408071797\n"
     ]
    }
   ],
   "source": [
    "print 'rmse on records with at least 3 similar u2u predictions:', np.sqrt(msedf_u2uonly_t3.collect()[0][0])"
   ]
  },
  {
   "cell_type": "code",
   "execution_count": 87,
   "metadata": {
    "collapsed": false
   },
   "outputs": [],
   "source": [
    "qg = eval_data.withColumn(\"e2\", F.pow(F.col(\"rating\")-F.col(\"predicted_rating\"), 2))\\\n",
    "             .groupBy([\"nr_user_cat\", \"nr_item_cat\"])\\\n",
    "             .agg(F.avg(F.col(\"e2\")).alias(\"mse\"), \n",
    "                  F.count(F.col(\"e2\")).alias(\"n_examples\"),\n",
    "                  F.sum(F.col(\"has_u2u_rating\")).alias(\"has_u2u_rating\"),\n",
    "                  F.avg(F.col(\"n_used_user_ratings\")).alias(\"avg_used_user_ratings\"))"
   ]
  },
  {
   "cell_type": "code",
   "execution_count": 88,
   "metadata": {
    "collapsed": true
   },
   "outputs": [],
   "source": [
    "epg = qg.toPandas()"
   ]
  },
  {
   "cell_type": "code",
   "execution_count": 89,
   "metadata": {
    "collapsed": true
   },
   "outputs": [],
   "source": [
    "epg['r_examples'] = np.round(epg['n_examples'] * 100. /  epg['n_examples'].sum(), 2)\n",
    "epg['rmse'] = np.sqrt(epg['mse'])\n",
    "epg['r_has_u2u_rating'] = np.round(epg['has_u2u_rating'] * 100. /  epg['n_examples'], 2)"
   ]
  },
  {
   "cell_type": "code",
   "execution_count": 90,
   "metadata": {
    "collapsed": false
   },
   "outputs": [
    {
     "data": {
      "text/html": [
       "<div>\n",
       "<table border=\"1\" class=\"dataframe\">\n",
       "  <thead>\n",
       "    <tr style=\"text-align: right;\">\n",
       "      <th></th>\n",
       "      <th>nr_user_cat</th>\n",
       "      <th>nr_item_cat</th>\n",
       "      <th>mse</th>\n",
       "      <th>n_examples</th>\n",
       "      <th>has_u2u_rating</th>\n",
       "      <th>avg_used_user_ratings</th>\n",
       "      <th>r_examples</th>\n",
       "      <th>rmse</th>\n",
       "      <th>r_has_u2u_rating</th>\n",
       "    </tr>\n",
       "  </thead>\n",
       "  <tbody>\n",
       "    <tr>\n",
       "      <th>0</th>\n",
       "      <td>unr_51</td>\n",
       "      <td>inr_101</td>\n",
       "      <td>0.664078</td>\n",
       "      <td>2016442</td>\n",
       "      <td>1898843</td>\n",
       "      <td>11.801940</td>\n",
       "      <td>63.81</td>\n",
       "      <td>0.814910</td>\n",
       "      <td>94.17</td>\n",
       "    </tr>\n",
       "    <tr>\n",
       "      <th>8</th>\n",
       "      <td>unr_06_50</td>\n",
       "      <td>inr_101</td>\n",
       "      <td>0.632496</td>\n",
       "      <td>900019</td>\n",
       "      <td>845370</td>\n",
       "      <td>12.701757</td>\n",
       "      <td>28.48</td>\n",
       "      <td>0.795296</td>\n",
       "      <td>93.93</td>\n",
       "    </tr>\n",
       "    <tr>\n",
       "      <th>3</th>\n",
       "      <td>unr_01_05</td>\n",
       "      <td>inr_101</td>\n",
       "      <td>0.640584</td>\n",
       "      <td>122519</td>\n",
       "      <td>108384</td>\n",
       "      <td>11.776867</td>\n",
       "      <td>3.88</td>\n",
       "      <td>0.800365</td>\n",
       "      <td>88.46</td>\n",
       "    </tr>\n",
       "    <tr>\n",
       "      <th>4</th>\n",
       "      <td>unr_51</td>\n",
       "      <td>inr_11_100</td>\n",
       "      <td>0.819001</td>\n",
       "      <td>88496</td>\n",
       "      <td>34498</td>\n",
       "      <td>0.650798</td>\n",
       "      <td>2.80</td>\n",
       "      <td>0.904987</td>\n",
       "      <td>38.98</td>\n",
       "    </tr>\n",
       "    <tr>\n",
       "      <th>11</th>\n",
       "      <td>unr_51</td>\n",
       "      <td>inr_01_10</td>\n",
       "      <td>0.825465</td>\n",
       "      <td>12069</td>\n",
       "      <td>1084</td>\n",
       "      <td>0.100754</td>\n",
       "      <td>0.38</td>\n",
       "      <td>0.908551</td>\n",
       "      <td>8.98</td>\n",
       "    </tr>\n",
       "    <tr>\n",
       "      <th>9</th>\n",
       "      <td>unr_06_50</td>\n",
       "      <td>inr_11_100</td>\n",
       "      <td>1.123363</td>\n",
       "      <td>11725</td>\n",
       "      <td>3021</td>\n",
       "      <td>0.426780</td>\n",
       "      <td>0.37</td>\n",
       "      <td>1.059888</td>\n",
       "      <td>25.77</td>\n",
       "    </tr>\n",
       "    <tr>\n",
       "      <th>13</th>\n",
       "      <td>unr_0</td>\n",
       "      <td>inr_101</td>\n",
       "      <td>1.327059</td>\n",
       "      <td>3962</td>\n",
       "      <td>3701</td>\n",
       "      <td>28.381878</td>\n",
       "      <td>0.13</td>\n",
       "      <td>1.151980</td>\n",
       "      <td>93.41</td>\n",
       "    </tr>\n",
       "    <tr>\n",
       "      <th>1</th>\n",
       "      <td>unr_51</td>\n",
       "      <td>inr_0</td>\n",
       "      <td>0.881028</td>\n",
       "      <td>1610</td>\n",
       "      <td>0</td>\n",
       "      <td>0.000000</td>\n",
       "      <td>0.05</td>\n",
       "      <td>0.938631</td>\n",
       "      <td>0.00</td>\n",
       "    </tr>\n",
       "    <tr>\n",
       "      <th>6</th>\n",
       "      <td>unr_01_05</td>\n",
       "      <td>inr_11_100</td>\n",
       "      <td>1.331763</td>\n",
       "      <td>1572</td>\n",
       "      <td>316</td>\n",
       "      <td>0.303435</td>\n",
       "      <td>0.05</td>\n",
       "      <td>1.154020</td>\n",
       "      <td>20.10</td>\n",
       "    </tr>\n",
       "    <tr>\n",
       "      <th>5</th>\n",
       "      <td>unr_06_50</td>\n",
       "      <td>inr_01_10</td>\n",
       "      <td>1.404502</td>\n",
       "      <td>1130</td>\n",
       "      <td>38</td>\n",
       "      <td>0.035398</td>\n",
       "      <td>0.04</td>\n",
       "      <td>1.185117</td>\n",
       "      <td>3.36</td>\n",
       "    </tr>\n",
       "    <tr>\n",
       "      <th>12</th>\n",
       "      <td>unr_01_05</td>\n",
       "      <td>inr_01_10</td>\n",
       "      <td>1.893800</td>\n",
       "      <td>211</td>\n",
       "      <td>4</td>\n",
       "      <td>0.018957</td>\n",
       "      <td>0.01</td>\n",
       "      <td>1.376154</td>\n",
       "      <td>1.90</td>\n",
       "    </tr>\n",
       "    <tr>\n",
       "      <th>2</th>\n",
       "      <td>unr_06_50</td>\n",
       "      <td>inr_0</td>\n",
       "      <td>2.156055</td>\n",
       "      <td>77</td>\n",
       "      <td>0</td>\n",
       "      <td>0.000000</td>\n",
       "      <td>0.00</td>\n",
       "      <td>1.468351</td>\n",
       "      <td>0.00</td>\n",
       "    </tr>\n",
       "    <tr>\n",
       "      <th>7</th>\n",
       "      <td>unr_0</td>\n",
       "      <td>inr_01_10</td>\n",
       "      <td>1.892037</td>\n",
       "      <td>9</td>\n",
       "      <td>1</td>\n",
       "      <td>0.333333</td>\n",
       "      <td>0.00</td>\n",
       "      <td>1.375513</td>\n",
       "      <td>11.11</td>\n",
       "    </tr>\n",
       "    <tr>\n",
       "      <th>10</th>\n",
       "      <td>unr_01_05</td>\n",
       "      <td>inr_0</td>\n",
       "      <td>2.321663</td>\n",
       "      <td>25</td>\n",
       "      <td>0</td>\n",
       "      <td>0.000000</td>\n",
       "      <td>0.00</td>\n",
       "      <td>1.523701</td>\n",
       "      <td>0.00</td>\n",
       "    </tr>\n",
       "    <tr>\n",
       "      <th>14</th>\n",
       "      <td>unr_0</td>\n",
       "      <td>inr_0</td>\n",
       "      <td>2.186165</td>\n",
       "      <td>1</td>\n",
       "      <td>0</td>\n",
       "      <td>0.000000</td>\n",
       "      <td>0.00</td>\n",
       "      <td>1.478568</td>\n",
       "      <td>0.00</td>\n",
       "    </tr>\n",
       "    <tr>\n",
       "      <th>15</th>\n",
       "      <td>unr_0</td>\n",
       "      <td>inr_11_100</td>\n",
       "      <td>1.622500</td>\n",
       "      <td>48</td>\n",
       "      <td>29</td>\n",
       "      <td>1.250000</td>\n",
       "      <td>0.00</td>\n",
       "      <td>1.273774</td>\n",
       "      <td>60.42</td>\n",
       "    </tr>\n",
       "  </tbody>\n",
       "</table>\n",
       "</div>"
      ],
      "text/plain": [
       "   nr_user_cat nr_item_cat       mse  n_examples  has_u2u_rating  \\\n",
       "0       unr_51     inr_101  0.664078     2016442         1898843   \n",
       "8    unr_06_50     inr_101  0.632496      900019          845370   \n",
       "3    unr_01_05     inr_101  0.640584      122519          108384   \n",
       "4       unr_51  inr_11_100  0.819001       88496           34498   \n",
       "11      unr_51   inr_01_10  0.825465       12069            1084   \n",
       "9    unr_06_50  inr_11_100  1.123363       11725            3021   \n",
       "13       unr_0     inr_101  1.327059        3962            3701   \n",
       "1       unr_51       inr_0  0.881028        1610               0   \n",
       "6    unr_01_05  inr_11_100  1.331763        1572             316   \n",
       "5    unr_06_50   inr_01_10  1.404502        1130              38   \n",
       "12   unr_01_05   inr_01_10  1.893800         211               4   \n",
       "2    unr_06_50       inr_0  2.156055          77               0   \n",
       "7        unr_0   inr_01_10  1.892037           9               1   \n",
       "10   unr_01_05       inr_0  2.321663          25               0   \n",
       "14       unr_0       inr_0  2.186165           1               0   \n",
       "15       unr_0  inr_11_100  1.622500          48              29   \n",
       "\n",
       "    avg_used_user_ratings  r_examples      rmse  r_has_u2u_rating  \n",
       "0               11.801940       63.81  0.814910             94.17  \n",
       "8               12.701757       28.48  0.795296             93.93  \n",
       "3               11.776867        3.88  0.800365             88.46  \n",
       "4                0.650798        2.80  0.904987             38.98  \n",
       "11               0.100754        0.38  0.908551              8.98  \n",
       "9                0.426780        0.37  1.059888             25.77  \n",
       "13              28.381878        0.13  1.151980             93.41  \n",
       "1                0.000000        0.05  0.938631              0.00  \n",
       "6                0.303435        0.05  1.154020             20.10  \n",
       "5                0.035398        0.04  1.185117              3.36  \n",
       "12               0.018957        0.01  1.376154              1.90  \n",
       "2                0.000000        0.00  1.468351              0.00  \n",
       "7                0.333333        0.00  1.375513             11.11  \n",
       "10               0.000000        0.00  1.523701              0.00  \n",
       "14               0.000000        0.00  1.478568              0.00  \n",
       "15               1.250000        0.00  1.273774             60.42  "
      ]
     },
     "execution_count": 90,
     "metadata": {},
     "output_type": "execute_result"
    }
   ],
   "source": [
    "epg.sort_values(by='r_examples', ascending=False)"
   ]
  },
  {
   "cell_type": "code",
   "execution_count": 93,
   "metadata": {
    "collapsed": false
   },
   "outputs": [
    {
     "name": "stdout",
     "output_type": "stream",
     "text": [
      "2473596\n",
      "3159915\n"
     ]
    }
   ],
   "source": [
    "print eval_data.filter(F.col(\"n_used_user_ratings\")>=3).count()\n",
    "print eval_data.count()"
   ]
  },
  {
   "cell_type": "code",
   "execution_count": 94,
   "metadata": {
    "collapsed": false
   },
   "outputs": [
    {
     "name": "stdout",
     "output_type": "stream",
     "text": [
      "+------+-------+------+-----------+-----------+-------------------+--------------+--------------------+\n",
      "|userId|movieId|rating|nr_user_cat|nr_item_cat|n_used_user_ratings|has_u2u_rating|predicted_u2u_rating|\n",
      "+------+-------+------+-----------+-----------+-------------------+--------------+--------------------+\n",
      "|    28|   4711|   3.0|     unr_51|    inr_101|                 14|             1|   3.634586279581508|\n",
      "|    40|  13667|   3.0|     unr_51|    inr_101|                  1|             1|  3.9114890042293844|\n",
      "+------+-------+------+-----------+-----------+-------------------+--------------+--------------------+\n",
      "only showing top 2 rows\n",
      "\n"
     ]
    }
   ],
   "source": [
    "eval_data.select(\"userId\", \"movieId\", \"rating\", \"nr_user_cat\", \"nr_item_cat\", \n",
    "                 \"n_used_user_ratings\", \"has_u2u_rating\", \n",
    "                 F.col(\"predicted_rating\").alias(\"predicted_u2u_rating\")).show(2)"
   ]
  },
  {
   "cell_type": "markdown",
   "metadata": {},
   "source": [
    "# Save for ensemble cheks"
   ]
  },
  {
   "cell_type": "code",
   "execution_count": 95,
   "metadata": {
    "collapsed": false
   },
   "outputs": [],
   "source": [
    "eval_data = eval_data.select(\"userId\", \"movieId\", \"rating\", \"nr_user_cat\", \"nr_item_cat\", \n",
    "                 \"n_used_user_ratings\", \"has_u2u_rating\", \n",
    "                 F.col(\"predicted_rating\").alias(\"predicted_u2u_rating\"))"
   ]
  },
  {
   "cell_type": "code",
   "execution_count": 96,
   "metadata": {
    "collapsed": true
   },
   "outputs": [],
   "source": [
    "eval_data = eval_data.coalesce(8)"
   ]
  },
  {
   "cell_type": "code",
   "execution_count": 97,
   "metadata": {
    "collapsed": false
   },
   "outputs": [
    {
     "name": "stdout",
     "output_type": "stream",
     "text": [
      "+------+-------+------+-----------+-----------+-------------------+--------------+--------------------+\n",
      "|userId|movieId|rating|nr_user_cat|nr_item_cat|n_used_user_ratings|has_u2u_rating|predicted_u2u_rating|\n",
      "+------+-------+------+-----------+-----------+-------------------+--------------+--------------------+\n",
      "|    28|   4711|   3.0|     unr_51|    inr_101|                 14|             1|   3.634586279581508|\n",
      "|    40|  13667|   3.0|     unr_51|    inr_101|                  1|             1|  3.9114890042293844|\n",
      "+------+-------+------+-----------+-----------+-------------------+--------------+--------------------+\n",
      "only showing top 2 rows\n",
      "\n"
     ]
    }
   ],
   "source": [
    "eval_data.show(2)"
   ]
  },
  {
   "cell_type": "code",
   "execution_count": 98,
   "metadata": {
    "collapsed": true
   },
   "outputs": [],
   "source": [
    "eval_data.write.parquet(\"lab_12/cache/stest_bp_u2u_top150\", mode='overwrite')"
   ]
  },
  {
   "cell_type": "code",
   "execution_count": null,
   "metadata": {
    "collapsed": true
   },
   "outputs": [],
   "source": []
  }
 ],
 "metadata": {
  "kernelspec": {
   "display_name": "Python 2",
   "language": "python",
   "name": "python2"
  },
  "language_info": {
   "codemirror_mode": {
    "name": "ipython",
    "version": 2
   },
   "file_extension": ".py",
   "mimetype": "text/x-python",
   "name": "python",
   "nbconvert_exporter": "python",
   "pygments_lexer": "ipython2",
   "version": "2.7.6"
  }
 },
 "nbformat": 4,
 "nbformat_minor": 0
}
