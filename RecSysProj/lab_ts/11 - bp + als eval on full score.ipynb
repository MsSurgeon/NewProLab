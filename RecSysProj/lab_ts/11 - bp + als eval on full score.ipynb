{
 "cells": [
  {
   "cell_type": "code",
   "execution_count": 2,
   "metadata": {
    "collapsed": true
   },
   "outputs": [],
   "source": [
    "if True:\n",
    "    import os\n",
    "    os.environ[\"PYSPARK_SUBMIT_ARGS\"]='--packages com.databricks:spark-csv_2.10:1.3.0 pyspark-shell'\n",
    "    execfile(os.path.join(os.environ[\"SPARK_HOME\"], 'python/pyspark/shell.py'))\n",
    "    import os\n",
    "    import sys\n",
    "else:\n",
    "    os.environ['SPARK_HOME'] = '/usr/lib/spark'\n",
    "    sys.path.insert(0, '/usr/lib/spark/python/lib/py4j-0.9-src.zip')\n",
    "    sys.path.insert(0, '/usr/lib/spark/python/')\n",
    "    sys.path.insert(0, '/usr/local/lib64/python2.7/site-packages')\n",
    "    sys.path.insert(0,'/usr/local/lib/python2.7/site-packages')\n",
    "    \n",
    "    from pyspark import SparkContext\n",
    "    from pyspark.sql import SQLContext, HiveContext\n",
    "    \n",
    "    try: sc = SparkContext()\n",
    "    except: None    \n",
    "    sqlc = SQLContext(sc)\n",
    "    spark = sqlc"
   ]
  },
  {
   "cell_type": "code",
   "execution_count": 5,
   "metadata": {
    "collapsed": false
   },
   "outputs": [
    {
     "name": "stdout",
     "output_type": "stream",
     "text": [
      "Populating the interactive namespace from numpy and matplotlib\n"
     ]
    }
   ],
   "source": [
    "%pylab inline"
   ]
  },
  {
   "cell_type": "code",
   "execution_count": 6,
   "metadata": {
    "collapsed": false
   },
   "outputs": [],
   "source": [
    "import seaborn as sns"
   ]
  },
  {
   "cell_type": "code",
   "execution_count": 7,
   "metadata": {
    "collapsed": true
   },
   "outputs": [],
   "source": [
    "import numpy as np\n",
    "import pandas as pd\n",
    "import time\n",
    "import json\n",
    "\n",
    "from pyspark.sql.types import StructType, StructField, StringType, IntegerType, FloatType, MapType\n",
    "import pyspark.sql.functions as F"
   ]
  },
  {
   "cell_type": "code",
   "execution_count": 8,
   "metadata": {
    "collapsed": true
   },
   "outputs": [],
   "source": [
    "from operator import add\n",
    "from pyspark.sql.types import *"
   ]
  },
  {
   "cell_type": "code",
   "execution_count": 9,
   "metadata": {
    "collapsed": true
   },
   "outputs": [],
   "source": [
    "from pyspark.mllib.recommendation import Rating\n",
    "from pyspark.mllib.recommendation import ALS, MatrixFactorizationModel\n",
    "from datetime import datetime"
   ]
  },
  {
   "cell_type": "markdown",
   "metadata": {},
   "source": [
    "# Load data"
   ]
  },
  {
   "cell_type": "code",
   "execution_count": 10,
   "metadata": {
    "collapsed": false
   },
   "outputs": [],
   "source": [
    "def convert_uir_tupple(line):\n",
    "    r = line.split(',')\n",
    "    return (int(r[0]), int(r[1]), float(r[2]))\n",
    "\n",
    "def load_train(as_df=True):\n",
    "    raw = sc.textFile(\"lab_12/input/train.csv\")\\\n",
    "            .filter(lambda x: not x.startswith(\"userId\"))\\\n",
    "            .map(convert_uir_tupple)\n",
    "    if not as_df:\n",
    "        return raw\n",
    "    return raw.toDF(schema=StructType([StructField(\"userId\",  IntegerType()),\n",
    "                                           StructField(\"movieId\", IntegerType()),\n",
    "                                           StructField(\"rating\",  FloatType())])) \n",
    "    return raw"
   ]
  },
  {
   "cell_type": "code",
   "execution_count": 11,
   "metadata": {
    "collapsed": false
   },
   "outputs": [],
   "source": [
    "train = load_train()"
   ]
  },
  {
   "cell_type": "code",
   "execution_count": 12,
   "metadata": {
    "collapsed": false
   },
   "outputs": [
    {
     "name": "stdout",
     "output_type": "stream",
     "text": [
      "+------+-------+------+\n",
      "|userId|movieId|rating|\n",
      "+------+-------+------+\n",
      "|     1|   2244|   4.5|\n",
      "|     1|   2464|   4.5|\n",
      "+------+-------+------+\n",
      "only showing top 2 rows\n",
      "\n"
     ]
    }
   ],
   "source": [
    "train.show(2)"
   ]
  },
  {
   "cell_type": "markdown",
   "metadata": {},
   "source": [
    "# Split for train test"
   ]
  },
  {
   "cell_type": "code",
   "execution_count": 13,
   "metadata": {
    "collapsed": true
   },
   "outputs": [],
   "source": [
    "strain, stest = train.randomSplit([0.7, 0.3], seed=987)"
   ]
  },
  {
   "cell_type": "code",
   "execution_count": 14,
   "metadata": {
    "collapsed": false
   },
   "outputs": [
    {
     "name": "stdout",
     "output_type": "stream",
     "text": [
      "7371649\n",
      "3159915\n"
     ]
    }
   ],
   "source": [
    "print strain.count()\n",
    "print stest.count()"
   ]
  },
  {
   "cell_type": "markdown",
   "metadata": {},
   "source": [
    "# Baseline with Basic predictiors approach"
   ]
  },
  {
   "cell_type": "code",
   "execution_count": 15,
   "metadata": {
    "collapsed": true
   },
   "outputs": [],
   "source": [
    "smooth_buser = 5\n",
    "smooth_bitem = 10"
   ]
  },
  {
   "cell_type": "code",
   "execution_count": 16,
   "metadata": {
    "collapsed": false
   },
   "outputs": [],
   "source": [
    "avg_rating = strain.agg({\"rating\":\"mean\"}).collect()[0]"
   ]
  },
  {
   "cell_type": "code",
   "execution_count": 17,
   "metadata": {
    "collapsed": false
   },
   "outputs": [
    {
     "name": "stdout",
     "output_type": "stream",
     "text": [
      "avg rating 3.5214315006\n"
     ]
    }
   ],
   "source": [
    "avg_rating = avg_rating[0]\n",
    "print 'avg rating', avg_rating"
   ]
  },
  {
   "cell_type": "code",
   "execution_count": 18,
   "metadata": {
    "collapsed": false
   },
   "outputs": [],
   "source": [
    "buser = strain.groupBy(\"userId\").agg(F.sum(F.col(\"rating\")).alias(\"sum_ratings\"), \n",
    "                                     F.count(F.col(\"rating\")).alias(\"n_user_ratings\"))"
   ]
  },
  {
   "cell_type": "code",
   "execution_count": 19,
   "metadata": {
    "collapsed": false
   },
   "outputs": [
    {
     "name": "stdout",
     "output_type": "stream",
     "text": [
      "+------+-----------+--------------+\n",
      "|userId|sum_ratings|n_user_ratings|\n",
      "+------+-----------+--------------+\n",
      "|107231|       30.5|            10|\n",
      "|107431|       56.0|            14|\n",
      "+------+-----------+--------------+\n",
      "only showing top 2 rows\n",
      "\n"
     ]
    }
   ],
   "source": [
    "buser.show(2)"
   ]
  },
  {
   "cell_type": "code",
   "execution_count": 20,
   "metadata": {
    "collapsed": false
   },
   "outputs": [],
   "source": [
    "x = buser.select(\"userId\", \n",
    "                 F.col(\"sum_ratings\").alias(\"user_sum_ratings\"),\n",
    "                 \"n_user_ratings\", \n",
    "                 ((F.col(\"sum_ratings\") - F.lit(avg_rating)*F.col(\"n_user_ratings\"))  / (F.col(\"n_user_ratings\") + F.lit(smooth_buser))).alias(\"bpu\"))"
   ]
  },
  {
   "cell_type": "code",
   "execution_count": 21,
   "metadata": {
    "collapsed": false
   },
   "outputs": [
    {
     "name": "stdout",
     "output_type": "stream",
     "text": [
      "+------+----------------+--------------+--------------------+\n",
      "|userId|user_sum_ratings|n_user_ratings|                 bpu|\n",
      "+------+----------------+--------------+--------------------+\n",
      "|107231|            30.5|            10|-0.31428766706666666|\n",
      "|107431|            56.0|            14| 0.35262942061052627|\n",
      "+------+----------------+--------------+--------------------+\n",
      "only showing top 2 rows\n",
      "\n"
     ]
    }
   ],
   "source": [
    "x.show(2)"
   ]
  },
  {
   "cell_type": "code",
   "execution_count": 22,
   "metadata": {
    "collapsed": true
   },
   "outputs": [],
   "source": [
    "buser = x"
   ]
  },
  {
   "cell_type": "code",
   "execution_count": 23,
   "metadata": {
    "collapsed": true
   },
   "outputs": [],
   "source": [
    "buser.registerTempTable(\"buser\")"
   ]
  },
  {
   "cell_type": "code",
   "execution_count": 24,
   "metadata": {
    "collapsed": false
   },
   "outputs": [],
   "source": [
    "x = spark.sql(\"\"\"\n",
    "        select \n",
    "           bu.*,\n",
    "           case \n",
    "             when n_user_ratings <= 5 then 'unr_01_05' \n",
    "             when (n_user_ratings > 5 and n_user_ratings <= 50) then 'unr_06_50'\n",
    "             when (n_user_ratings > 50) then 'unr_51'\n",
    "             else 'unr_x' \n",
    "           end as nr_user_cat\n",
    "        from buser bu\n",
    "\"\"\")"
   ]
  },
  {
   "cell_type": "code",
   "execution_count": 25,
   "metadata": {
    "collapsed": false
   },
   "outputs": [],
   "source": [
    "buser = x"
   ]
  },
  {
   "cell_type": "code",
   "execution_count": 26,
   "metadata": {
    "collapsed": false
   },
   "outputs": [
    {
     "name": "stdout",
     "output_type": "stream",
     "text": [
      "+------+----------------+--------------+--------------------+-----------+\n",
      "|userId|user_sum_ratings|n_user_ratings|                 bpu|nr_user_cat|\n",
      "+------+----------------+--------------+--------------------+-----------+\n",
      "|    31|            54.0|            15|  0.0589263745500002|  unr_06_50|\n",
      "|   231|           183.0|            52|-0.00200768475789...|     unr_51|\n",
      "+------+----------------+--------------+--------------------+-----------+\n",
      "only showing top 2 rows\n",
      "\n"
     ]
    }
   ],
   "source": [
    "buser.show(2)"
   ]
  },
  {
   "cell_type": "code",
   "execution_count": 27,
   "metadata": {
    "collapsed": true
   },
   "outputs": [],
   "source": [
    "buser.registerTempTable(\"buser\")"
   ]
  },
  {
   "cell_type": "code",
   "execution_count": 28,
   "metadata": {
    "collapsed": true
   },
   "outputs": [],
   "source": [
    "strain.registerTempTable(\"strain\")"
   ]
  },
  {
   "cell_type": "code",
   "execution_count": 29,
   "metadata": {
    "collapsed": false
   },
   "outputs": [],
   "source": [
    "bitem = spark.sql(\"\"\"\n",
    "            select\n",
    "                t.movieId, sum(t.rating - %g - bu.bpu) as sum_r_normalised, count(*) n_item_ratings\n",
    "            from strain t\n",
    "            join buser bu on t.userId = bu.userId \n",
    "            group by t.movieId\n",
    "\"\"\" % (avg_rating,))"
   ]
  },
  {
   "cell_type": "code",
   "execution_count": 30,
   "metadata": {
    "collapsed": false
   },
   "outputs": [
    {
     "name": "stdout",
     "output_type": "stream",
     "text": [
      "+-------+-----------------+--------------+\n",
      "|movieId| sum_r_normalised|n_item_ratings|\n",
      "+-------+-----------------+--------------+\n",
      "|   7831|3116.763213237882|          7512|\n",
      "|  24831|2203.538269262642|          5443|\n",
      "+-------+-----------------+--------------+\n",
      "only showing top 2 rows\n",
      "\n"
     ]
    }
   ],
   "source": [
    "bitem.show(2)"
   ]
  },
  {
   "cell_type": "code",
   "execution_count": 31,
   "metadata": {
    "collapsed": true
   },
   "outputs": [],
   "source": [
    "x = bitem.select(\"movieId\", \"n_item_ratings\", \n",
    "                 ( F.col(\"sum_r_normalised\")  / (F.col(\"n_item_ratings\") + F.lit(smooth_bitem))).alias(\"bpi\"))"
   ]
  },
  {
   "cell_type": "code",
   "execution_count": 32,
   "metadata": {
    "collapsed": false
   },
   "outputs": [
    {
     "name": "stdout",
     "output_type": "stream",
     "text": [
      "+-------+--------------+-------------------+\n",
      "|movieId|n_item_ratings|                bpi|\n",
      "+-------+--------------+-------------------+\n",
      "|   4231|          2538|-0.3958819292178841|\n",
      "|   7831|          7512|0.41435299298562633|\n",
      "+-------+--------------+-------------------+\n",
      "only showing top 2 rows\n",
      "\n"
     ]
    }
   ],
   "source": [
    "x.show(2)"
   ]
  },
  {
   "cell_type": "code",
   "execution_count": 33,
   "metadata": {
    "collapsed": true
   },
   "outputs": [],
   "source": [
    "x.registerTempTable(\"bitem\")"
   ]
  },
  {
   "cell_type": "code",
   "execution_count": 34,
   "metadata": {
    "collapsed": true
   },
   "outputs": [],
   "source": [
    "x1 = spark.sql(\"\"\"\n",
    "        select \n",
    "           bi.*,\n",
    "           case \n",
    "             when n_item_ratings <= 10  then 'inr_01_10' \n",
    "             when (n_item_ratings > 10 and n_item_ratings <= 100) then 'inr_11_100'\n",
    "             when (n_item_ratings > 100) then 'inr_101'\n",
    "             else 'inr_x' \n",
    "           end as nr_item_cat\n",
    "        from bitem bi \n",
    "\"\"\")"
   ]
  },
  {
   "cell_type": "code",
   "execution_count": 35,
   "metadata": {
    "collapsed": false
   },
   "outputs": [
    {
     "name": "stdout",
     "output_type": "stream",
     "text": [
      "+-------+--------------+--------------------+-----------+\n",
      "|movieId|n_item_ratings|                 bpi|nr_item_cat|\n",
      "+-------+--------------+--------------------+-----------+\n",
      "|  24831|          5443| 0.40409651004266306|    inr_101|\n",
      "|   4231|          2538|-0.39588192921788423|    inr_101|\n",
      "+-------+--------------+--------------------+-----------+\n",
      "only showing top 2 rows\n",
      "\n"
     ]
    }
   ],
   "source": [
    "x1.show(2)"
   ]
  },
  {
   "cell_type": "code",
   "execution_count": 36,
   "metadata": {
    "collapsed": true
   },
   "outputs": [],
   "source": [
    "bitem = x1"
   ]
  },
  {
   "cell_type": "code",
   "execution_count": 37,
   "metadata": {
    "collapsed": true
   },
   "outputs": [],
   "source": [
    "bitem.registerTempTable(\"bitem\")"
   ]
  },
  {
   "cell_type": "code",
   "execution_count": 38,
   "metadata": {
    "collapsed": false
   },
   "outputs": [
    {
     "name": "stdout",
     "output_type": "stream",
     "text": [
      "+------+----------------+--------------+-------------------+-----------+\n",
      "|userId|user_sum_ratings|n_user_ratings|                bpu|nr_user_cat|\n",
      "+------+----------------+--------------+-------------------+-----------+\n",
      "|210631|            19.0|             5|0.13928424970000003|  unr_01_05|\n",
      "|210831|            66.0|            18|0.11366230387826108|  unr_06_50|\n",
      "+------+----------------+--------------+-------------------+-----------+\n",
      "only showing top 2 rows\n",
      "\n"
     ]
    }
   ],
   "source": [
    "buser.show(2)"
   ]
  },
  {
   "cell_type": "code",
   "execution_count": 39,
   "metadata": {
    "collapsed": false
   },
   "outputs": [
    {
     "name": "stdout",
     "output_type": "stream",
     "text": [
      "+-------+--------------+-------------------+-----------+\n",
      "|movieId|n_item_ratings|                bpi|nr_item_cat|\n",
      "+-------+--------------+-------------------+-----------+\n",
      "|  13031|            44|0.13902042395882072| inr_11_100|\n",
      "|  24831|          5443|0.40409651004266317|    inr_101|\n",
      "+-------+--------------+-------------------+-----------+\n",
      "only showing top 2 rows\n",
      "\n"
     ]
    }
   ],
   "source": [
    "bitem.show(2)"
   ]
  },
  {
   "cell_type": "markdown",
   "metadata": {},
   "source": [
    "# Eval utils"
   ]
  },
  {
   "cell_type": "code",
   "execution_count": 40,
   "metadata": {
    "collapsed": true
   },
   "outputs": [],
   "source": [
    "def calc_rmse(df, prediction_column=\"predicted_rating\"):\n",
    "    mse = df.select(F.pow(F.col(prediction_column) - F.col(\"rating\"), F.lit(2)).alias(\"err\"))\\\n",
    "            .agg({\"err\":\"mean\"}).collect()[0][0]\n",
    "    return np.sqrt(mse)    "
   ]
  },
  {
   "cell_type": "markdown",
   "metadata": {},
   "source": [
    "## Build BP prediction for strain set"
   ]
  },
  {
   "cell_type": "code",
   "execution_count": 41,
   "metadata": {
    "collapsed": false
   },
   "outputs": [],
   "source": [
    "strain_predictions = spark.sql(\"\"\"\n",
    "        select \n",
    "            t.*,\n",
    "            bu.user_sum_ratings,\n",
    "            bu.n_user_ratings,\n",
    "            bi.n_item_ratings,\n",
    "            bu.nr_user_cat,\n",
    "            bi.nr_item_cat,\n",
    "            ({avg_rating} + bu.bpu + bi.bpi) as bp_rating,\n",
    "            t.rating - ({avg_rating} + bu.bpu + bi.bpi) as bp_rating_err\n",
    "        from strain t\n",
    "        join buser bu on t.userId = bu.userId \n",
    "        join bitem bi on t.movieId = bi.movieId\n",
    "\"\"\".format(avg_rating=avg_rating))"
   ]
  },
  {
   "cell_type": "code",
   "execution_count": 42,
   "metadata": {
    "collapsed": false
   },
   "outputs": [
    {
     "name": "stdout",
     "output_type": "stream",
     "text": [
      "+------+-------+------+----------------+--------------+--------------+-----------+-----------+------------------+--------------------+\n",
      "|userId|movieId|rating|user_sum_ratings|n_user_ratings|n_item_ratings|nr_user_cat|nr_item_cat|         bp_rating|       bp_rating_err|\n",
      "+------+-------+------+----------------+--------------+--------------+-----------+-----------+------------------+--------------------+\n",
      "| 37239|     31|   3.5|          1147.5|           325|           109|     unr_51|    inr_101|3.9026141509767505|-0.40261415097675046|\n",
      "|134054|     31|   4.0|           338.5|           113|           109|     unr_51|    inr_101|3.3898436679422357|  0.6101563320577643|\n",
      "+------+-------+------+----------------+--------------+--------------+-----------+-----------+------------------+--------------------+\n",
      "only showing top 2 rows\n",
      "\n"
     ]
    }
   ],
   "source": [
    "strain_predictions.show(2)"
   ]
  },
  {
   "cell_type": "markdown",
   "metadata": {},
   "source": [
    "## Build BP prediction for stest set"
   ]
  },
  {
   "cell_type": "code",
   "execution_count": 43,
   "metadata": {
    "collapsed": true
   },
   "outputs": [],
   "source": [
    "stest.registerTempTable(\"stest\")"
   ]
  },
  {
   "cell_type": "code",
   "execution_count": 44,
   "metadata": {
    "collapsed": false
   },
   "outputs": [],
   "source": [
    "stest_predictions = spark.sql(\"\"\"\n",
    "        select \n",
    "            t.*,\n",
    "            coalesce(bu.user_sum_ratings, 0.0) as user_sum_ratings,\n",
    "            coalesce(bu.n_user_ratings, 0.0) as n_user_ratings,\n",
    "            coalesce(bi.n_item_ratings, 0.0) as n_item_ratings,\n",
    "            coalesce(bu.nr_user_cat, 'unr_0') as nr_user_cat,\n",
    "            coalesce(bi.nr_item_cat, 'inr_0') as nr_item_cat,\n",
    "            ({avg_rating} + coalesce(bu.bpu, 0.0) + coalesce(bi.bpi, 0.0)) as bp_rating,\n",
    "            t.rating - ({avg_rating} + coalesce(bu.bpu, 0.0) + coalesce(bi.bpi, 0.0)) as bp_rating_err\n",
    "        from stest t\n",
    "        left join buser bu on t.userId = bu.userId \n",
    "        left join bitem bi on t.movieId = bi.movieId\n",
    "\"\"\".format(avg_rating=avg_rating))"
   ]
  },
  {
   "cell_type": "code",
   "execution_count": 45,
   "metadata": {
    "collapsed": false
   },
   "outputs": [
    {
     "name": "stdout",
     "output_type": "stream",
     "text": [
      "+------+-------+------+----------------+--------------+--------------+-----------+-----------+-----------------+-------------------+\n",
      "|userId|movieId|rating|user_sum_ratings|n_user_ratings|n_item_ratings|nr_user_cat|nr_item_cat|        bp_rating|      bp_rating_err|\n",
      "+------+-------+------+----------------+--------------+--------------+-----------+-----------+-----------------+-------------------+\n",
      "|112036|     31|   4.0|          2777.0|         947.0|         109.0|     unr_51|    inr_101|3.307498121033836| 0.6925018789661639|\n",
      "|223446|     31|   4.0|           135.0|          34.0|         109.0|  unr_06_50|    inr_101|4.284990439506121|-0.2849904395061209|\n",
      "+------+-------+------+----------------+--------------+--------------+-----------+-----------+-----------------+-------------------+\n",
      "only showing top 2 rows\n",
      "\n"
     ]
    }
   ],
   "source": [
    "stest_predictions.show(2)"
   ]
  },
  {
   "cell_type": "markdown",
   "metadata": {
    "collapsed": true
   },
   "source": [
    "## Cache BP results"
   ]
  },
  {
   "cell_type": "code",
   "execution_count": 46,
   "metadata": {
    "collapsed": false
   },
   "outputs": [],
   "source": [
    "#strain_predictions.coalesce(8).write.parquet(\"lab_12/cache/strain_bp_v1\",\n",
    "#                                             mode='overwrite')"
   ]
  },
  {
   "cell_type": "code",
   "execution_count": 47,
   "metadata": {
    "collapsed": false
   },
   "outputs": [],
   "source": [
    "#stest_predictions.coalesce(8).write.parquet(\"lab_12/cache/stest_bp_v1\", \n",
    "#                                            mode='overwrite')"
   ]
  },
  {
   "cell_type": "markdown",
   "metadata": {},
   "source": [
    "## RMSE per group"
   ]
  },
  {
   "cell_type": "code",
   "execution_count": 59,
   "metadata": {
    "collapsed": true
   },
   "outputs": [],
   "source": [
    "q = stest_predictions"
   ]
  },
  {
   "cell_type": "code",
   "execution_count": 60,
   "metadata": {
    "collapsed": false
   },
   "outputs": [],
   "source": [
    "qg=q.withColumn(\"e2\", F.pow(F.col(\"bp_rating_err\"), 2))\\\n",
    " .groupBy([\"nr_user_cat\", \"nr_item_cat\"])\\\n",
    " .agg(F.sum(F.col(\"e2\")).alias(\"ttl_e2\"), F.count(F.col(\"e2\")).alias(\"n_examples\"))"
   ]
  },
  {
   "cell_type": "code",
   "execution_count": 61,
   "metadata": {
    "collapsed": false
   },
   "outputs": [],
   "source": [
    "epg = qg.toPandas()"
   ]
  },
  {
   "cell_type": "code",
   "execution_count": 62,
   "metadata": {
    "collapsed": false
   },
   "outputs": [],
   "source": [
    "epg['rmse'] = np.sqrt(epg['ttl_e2'] / epg['n_examples'])"
   ]
  },
  {
   "cell_type": "code",
   "execution_count": 63,
   "metadata": {
    "collapsed": true
   },
   "outputs": [],
   "source": [
    "epg['r_examples'] = np.round(epg['n_examples'] * 100. /  epg['n_examples'].sum(), 2)"
   ]
  },
  {
   "cell_type": "code",
   "execution_count": 64,
   "metadata": {
    "collapsed": false
   },
   "outputs": [
    {
     "data": {
      "text/html": [
       "<div>\n",
       "<table border=\"1\" class=\"dataframe\">\n",
       "  <thead>\n",
       "    <tr style=\"text-align: right;\">\n",
       "      <th></th>\n",
       "      <th>nr_user_cat</th>\n",
       "      <th>nr_item_cat</th>\n",
       "      <th>ttl_e2</th>\n",
       "      <th>n_examples</th>\n",
       "      <th>rmse</th>\n",
       "      <th>r_examples</th>\n",
       "    </tr>\n",
       "  </thead>\n",
       "  <tbody>\n",
       "    <tr>\n",
       "      <th>0</th>\n",
       "      <td>unr_51</td>\n",
       "      <td>inr_101</td>\n",
       "      <td>1.474196e+06</td>\n",
       "      <td>2016442</td>\n",
       "      <td>0.855037</td>\n",
       "      <td>63.81</td>\n",
       "    </tr>\n",
       "    <tr>\n",
       "      <th>4</th>\n",
       "      <td>unr_51</td>\n",
       "      <td>inr_11_100</td>\n",
       "      <td>6.759608e+04</td>\n",
       "      <td>88496</td>\n",
       "      <td>0.873975</td>\n",
       "      <td>2.80</td>\n",
       "    </tr>\n",
       "    <tr>\n",
       "      <th>11</th>\n",
       "      <td>unr_51</td>\n",
       "      <td>inr_01_10</td>\n",
       "      <td>9.852520e+03</td>\n",
       "      <td>12069</td>\n",
       "      <td>0.903521</td>\n",
       "      <td>0.38</td>\n",
       "    </tr>\n",
       "    <tr>\n",
       "      <th>8</th>\n",
       "      <td>unr_06_50</td>\n",
       "      <td>inr_101</td>\n",
       "      <td>7.737560e+05</td>\n",
       "      <td>900019</td>\n",
       "      <td>0.927206</td>\n",
       "      <td>28.48</td>\n",
       "    </tr>\n",
       "    <tr>\n",
       "      <th>1</th>\n",
       "      <td>unr_51</td>\n",
       "      <td>inr_0</td>\n",
       "      <td>1.418454e+03</td>\n",
       "      <td>1610</td>\n",
       "      <td>0.938631</td>\n",
       "      <td>0.05</td>\n",
       "    </tr>\n",
       "    <tr>\n",
       "      <th>3</th>\n",
       "      <td>unr_01_05</td>\n",
       "      <td>inr_101</td>\n",
       "      <td>1.343249e+05</td>\n",
       "      <td>122519</td>\n",
       "      <td>1.047072</td>\n",
       "      <td>3.88</td>\n",
       "    </tr>\n",
       "    <tr>\n",
       "      <th>9</th>\n",
       "      <td>unr_06_50</td>\n",
       "      <td>inr_11_100</td>\n",
       "      <td>1.358710e+04</td>\n",
       "      <td>11725</td>\n",
       "      <td>1.076483</td>\n",
       "      <td>0.37</td>\n",
       "    </tr>\n",
       "    <tr>\n",
       "      <th>13</th>\n",
       "      <td>unr_0</td>\n",
       "      <td>inr_101</td>\n",
       "      <td>5.201713e+03</td>\n",
       "      <td>3962</td>\n",
       "      <td>1.145819</td>\n",
       "      <td>0.13</td>\n",
       "    </tr>\n",
       "    <tr>\n",
       "      <th>5</th>\n",
       "      <td>unr_06_50</td>\n",
       "      <td>inr_01_10</td>\n",
       "      <td>1.585268e+03</td>\n",
       "      <td>1130</td>\n",
       "      <td>1.184437</td>\n",
       "      <td>0.04</td>\n",
       "    </tr>\n",
       "    <tr>\n",
       "      <th>6</th>\n",
       "      <td>unr_01_05</td>\n",
       "      <td>inr_11_100</td>\n",
       "      <td>2.223347e+03</td>\n",
       "      <td>1572</td>\n",
       "      <td>1.189262</td>\n",
       "      <td>0.05</td>\n",
       "    </tr>\n",
       "    <tr>\n",
       "      <th>15</th>\n",
       "      <td>unr_0</td>\n",
       "      <td>inr_11_100</td>\n",
       "      <td>6.842907e+01</td>\n",
       "      <td>48</td>\n",
       "      <td>1.193987</td>\n",
       "      <td>0.00</td>\n",
       "    </tr>\n",
       "    <tr>\n",
       "      <th>12</th>\n",
       "      <td>unr_01_05</td>\n",
       "      <td>inr_01_10</td>\n",
       "      <td>4.050690e+02</td>\n",
       "      <td>211</td>\n",
       "      <td>1.385553</td>\n",
       "      <td>0.01</td>\n",
       "    </tr>\n",
       "    <tr>\n",
       "      <th>2</th>\n",
       "      <td>unr_06_50</td>\n",
       "      <td>inr_0</td>\n",
       "      <td>1.660162e+02</td>\n",
       "      <td>77</td>\n",
       "      <td>1.468351</td>\n",
       "      <td>0.00</td>\n",
       "    </tr>\n",
       "    <tr>\n",
       "      <th>7</th>\n",
       "      <td>unr_0</td>\n",
       "      <td>inr_01_10</td>\n",
       "      <td>1.942529e+01</td>\n",
       "      <td>9</td>\n",
       "      <td>1.469138</td>\n",
       "      <td>0.00</td>\n",
       "    </tr>\n",
       "    <tr>\n",
       "      <th>14</th>\n",
       "      <td>unr_0</td>\n",
       "      <td>inr_0</td>\n",
       "      <td>2.186165e+00</td>\n",
       "      <td>1</td>\n",
       "      <td>1.478568</td>\n",
       "      <td>0.00</td>\n",
       "    </tr>\n",
       "    <tr>\n",
       "      <th>10</th>\n",
       "      <td>unr_01_05</td>\n",
       "      <td>inr_0</td>\n",
       "      <td>5.804158e+01</td>\n",
       "      <td>25</td>\n",
       "      <td>1.523701</td>\n",
       "      <td>0.00</td>\n",
       "    </tr>\n",
       "  </tbody>\n",
       "</table>\n",
       "</div>"
      ],
      "text/plain": [
       "   nr_user_cat nr_item_cat        ttl_e2  n_examples      rmse  r_examples\n",
       "0       unr_51     inr_101  1.474196e+06     2016442  0.855037       63.81\n",
       "4       unr_51  inr_11_100  6.759608e+04       88496  0.873975        2.80\n",
       "11      unr_51   inr_01_10  9.852520e+03       12069  0.903521        0.38\n",
       "8    unr_06_50     inr_101  7.737560e+05      900019  0.927206       28.48\n",
       "1       unr_51       inr_0  1.418454e+03        1610  0.938631        0.05\n",
       "3    unr_01_05     inr_101  1.343249e+05      122519  1.047072        3.88\n",
       "9    unr_06_50  inr_11_100  1.358710e+04       11725  1.076483        0.37\n",
       "13       unr_0     inr_101  5.201713e+03        3962  1.145819        0.13\n",
       "5    unr_06_50   inr_01_10  1.585268e+03        1130  1.184437        0.04\n",
       "6    unr_01_05  inr_11_100  2.223347e+03        1572  1.189262        0.05\n",
       "15       unr_0  inr_11_100  6.842907e+01          48  1.193987        0.00\n",
       "12   unr_01_05   inr_01_10  4.050690e+02         211  1.385553        0.01\n",
       "2    unr_06_50       inr_0  1.660162e+02          77  1.468351        0.00\n",
       "7        unr_0   inr_01_10  1.942529e+01           9  1.469138        0.00\n",
       "14       unr_0       inr_0  2.186165e+00           1  1.478568        0.00\n",
       "10   unr_01_05       inr_0  5.804158e+01          25  1.523701        0.00"
      ]
     },
     "execution_count": 64,
     "metadata": {},
     "output_type": "execute_result"
    }
   ],
   "source": [
    "epg.sort_values(by='rmse')"
   ]
  },
  {
   "cell_type": "markdown",
   "metadata": {},
   "source": [
    "### Distribution of an ratings error compared ti basic predictors"
   ]
  },
  {
   "cell_type": "code",
   "execution_count": 65,
   "metadata": {
    "collapsed": true
   },
   "outputs": [],
   "source": [
    "q=strain_predictions.select(\"bp_rating_err\").sample(False, 0.1).toPandas()"
   ]
  },
  {
   "cell_type": "code",
   "execution_count": 66,
   "metadata": {
    "collapsed": false
   },
   "outputs": [
    {
     "data": {
      "text/html": [
       "<div>\n",
       "<table border=\"1\" class=\"dataframe\">\n",
       "  <thead>\n",
       "    <tr style=\"text-align: right;\">\n",
       "      <th></th>\n",
       "      <th>bp_rating_err</th>\n",
       "    </tr>\n",
       "  </thead>\n",
       "  <tbody>\n",
       "    <tr>\n",
       "      <th>count</th>\n",
       "      <td>737501.000000</td>\n",
       "    </tr>\n",
       "    <tr>\n",
       "      <th>mean</th>\n",
       "      <td>-0.004622</td>\n",
       "    </tr>\n",
       "    <tr>\n",
       "      <th>std</th>\n",
       "      <td>0.865934</td>\n",
       "    </tr>\n",
       "    <tr>\n",
       "      <th>min</th>\n",
       "      <td>-4.434679</td>\n",
       "    </tr>\n",
       "    <tr>\n",
       "      <th>25%</th>\n",
       "      <td>-0.487850</td>\n",
       "    </tr>\n",
       "    <tr>\n",
       "      <th>50%</th>\n",
       "      <td>0.061946</td>\n",
       "    </tr>\n",
       "    <tr>\n",
       "      <th>75%</th>\n",
       "      <td>0.567066</td>\n",
       "    </tr>\n",
       "    <tr>\n",
       "      <th>max</th>\n",
       "      <td>4.404782</td>\n",
       "    </tr>\n",
       "  </tbody>\n",
       "</table>\n",
       "</div>"
      ],
      "text/plain": [
       "       bp_rating_err\n",
       "count  737501.000000\n",
       "mean       -0.004622\n",
       "std         0.865934\n",
       "min        -4.434679\n",
       "25%        -0.487850\n",
       "50%         0.061946\n",
       "75%         0.567066\n",
       "max         4.404782"
      ]
     },
     "execution_count": 66,
     "metadata": {},
     "output_type": "execute_result"
    }
   ],
   "source": [
    "q.describe()"
   ]
  },
  {
   "cell_type": "code",
   "execution_count": 67,
   "metadata": {
    "collapsed": false
   },
   "outputs": [
    {
     "data": {
      "text/plain": [
       "<matplotlib.axes._subplots.AxesSubplot at 0x7f569dfcae90>"
      ]
     },
     "execution_count": 67,
     "metadata": {},
     "output_type": "execute_result"
    },
    {
     "data": {
      "image/png": "[encoded data removed]",
      "text/plain": [
       "<matplotlib.figure.Figure at 0x7f569dfd5790>"
      ]
     },
     "metadata": {},
     "output_type": "display_data"
    }
   ],
   "source": [
    "q.bp_rating_err.hist(bins=30)"
   ]
  },
  {
   "cell_type": "markdown",
   "metadata": {},
   "source": [
    "# ALS on exact ratings"
   ]
  },
  {
   "cell_type": "markdown",
   "metadata": {},
   "source": [
    "## Prepeare train,validate,test data"
   ]
  },
  {
   "cell_type": "code",
   "execution_count": 170,
   "metadata": {
    "collapsed": false
   },
   "outputs": [
    {
     "data": {
      "text/plain": [
       "[Row(userId=75052, movieId=148, rating=3.0, n_user_ratings=238, n_item_ratings=1, nr_user_cat=u'unr_51', nr_item_cat=u'inr_01_10', bp_rating=3.417542048157108, bp_rating_err=-0.41754204815710816)]"
      ]
     },
     "execution_count": 170,
     "metadata": {},
     "output_type": "execute_result"
    }
   ],
   "source": [
    "strain_predictions.rdd.take(1)"
   ]
  },
  {
   "cell_type": "code",
   "execution_count": 171,
   "metadata": {
    "collapsed": true
   },
   "outputs": [],
   "source": [
    "def convert_to_als_rating(r):\n",
    "    return Rating(r.userId, r.movieId, r.rating)"
   ]
  },
  {
   "cell_type": "code",
   "execution_count": 172,
   "metadata": {
    "collapsed": true
   },
   "outputs": [],
   "source": [
    "strain_ratings = strain_predictions.rdd.map(convert_to_als_rating)"
   ]
  },
  {
   "cell_type": "code",
   "execution_count": 173,
   "metadata": {
    "collapsed": false
   },
   "outputs": [
    {
     "data": {
      "text/plain": [
       "Rating(user=75052, product=148, rating=3.0)"
      ]
     },
     "execution_count": 173,
     "metadata": {},
     "output_type": "execute_result"
    }
   ],
   "source": [
    "strain_ratings.first()"
   ]
  },
  {
   "cell_type": "code",
   "execution_count": 174,
   "metadata": {
    "collapsed": false
   },
   "outputs": [],
   "source": [
    "stest_ratings = stest_predictions.rdd.map(convert_to_als_rating)"
   ]
  },
  {
   "cell_type": "code",
   "execution_count": 175,
   "metadata": {
    "collapsed": false
   },
   "outputs": [
    {
     "data": {
      "text/plain": [
       "Rating(user=109268, product=148, rating=3.0)"
      ]
     },
     "execution_count": 175,
     "metadata": {},
     "output_type": "execute_result"
    }
   ],
   "source": [
    "stest_ratings.first()"
   ]
  },
  {
   "cell_type": "code",
   "execution_count": 176,
   "metadata": {
    "collapsed": true
   },
   "outputs": [],
   "source": [
    "als_train, als_val = strain_ratings.randomSplit([0.7,0.3], seed=23)"
   ]
  },
  {
   "cell_type": "code",
   "execution_count": 177,
   "metadata": {
    "collapsed": false
   },
   "outputs": [
    {
     "data": {
      "text/plain": [
       "5159147"
      ]
     },
     "execution_count": 177,
     "metadata": {},
     "output_type": "execute_result"
    }
   ],
   "source": [
    "als_train.count()"
   ]
  },
  {
   "cell_type": "code",
   "execution_count": 178,
   "metadata": {
    "collapsed": false
   },
   "outputs": [
    {
     "data": {
      "text/plain": [
       "2212531"
      ]
     },
     "execution_count": 178,
     "metadata": {},
     "output_type": "execute_result"
    }
   ],
   "source": [
    "als_val.count()"
   ]
  },
  {
   "cell_type": "markdown",
   "metadata": {},
   "source": [
    "## ALS eval utils"
   ]
  },
  {
   "cell_type": "code",
   "execution_count": 185,
   "metadata": {
    "collapsed": false
   },
   "outputs": [
    {
     "name": "stdout",
     "output_type": "stream",
     "text": [
      "\n"
     ]
    }
   ],
   "source": [
    "def cut_1to5(x):\n",
    "    if x < 1.:\n",
    "        return 1.0\n",
    "    if x > 5:\n",
    "        return 5.0\n",
    "    return x\n",
    "\n",
    "def als_evaluate_model(model, dataset):\n",
    "    testdata = dataset.map(lambda x: (x[0],x[1]))\n",
    "    predictions_raw = model.predictAll(testdata)\n",
    "    # 1\n",
    "    predictions = predictions_raw.map(lambda r: ((r[0], r[1]), r[2]))\n",
    "    ratesAndPreds = dataset.map(lambda r: ((r[0], r[1]), r[2])).join(predictions)\n",
    "    MSE_1 = ratesAndPreds.map(lambda r: (r[1][0] - r[1][1])**2).reduce(lambda x, y: x + y) / ratesAndPreds.count()\n",
    "    RMSE_1 = np.sqrt(MSE_1)\n",
    "    # 2\n",
    "    MSE_2 = ratesAndPreds.map(lambda r: (r[1][0] - cut_1to5(r[1][1]))**2).reduce(lambda x, y: x + y) / ratesAndPreds.count()\n",
    "    RMSE_2 = np.sqrt(MSE_2)\n",
    "    \n",
    "    return RMSE_1,RMSE_2"
   ]
  },
  {
   "cell_type": "markdown",
   "metadata": {},
   "source": [
    "## Grid search for ALS parameters"
   ]
  },
  {
   "cell_type": "code",
   "execution_count": 181,
   "metadata": {
    "collapsed": false
   },
   "outputs": [
    {
     "data": {
      "text/plain": [
       "PythonRDD[8960] at RDD at PythonRDD.scala:48"
      ]
     },
     "execution_count": 181,
     "metadata": {},
     "output_type": "execute_result"
    }
   ],
   "source": [
    "als_train.cache()\n",
    "als_val.cache()"
   ]
  },
  {
   "cell_type": "code",
   "execution_count": 183,
   "metadata": {
    "collapsed": false
   },
   "outputs": [
    {
     "name": "stdout",
     "output_type": "stream",
     "text": [
      "2016-12-18 17:48:20.364772 rank=10 train_rmse=0.63410 val_rmse=0.76568 took=133 sec\n",
      "2016-12-18 17:50:34.145181 rank=20 train_rmse=0.53354 val_rmse=0.73671 took=93 sec\n"
     ]
    }
   ],
   "source": [
    "numIterations = 10\n",
    "ps = []\n",
    "for rank in [10,20]:#range(10, 201,10):\n",
    "    start = datetime.now()\n",
    "    print start,\n",
    "    model = ALS.train(als_train, rank, numIterations)\n",
    "    train_rmse = als_evaluate_model(model, als_train)\n",
    "    val_rmse = als_evaluate_model(model, als_val)\n",
    "    duration = datetime.now() - start\n",
    "    print 'rank=%d train_rmse=%6.5f val_rmse=%6.5f took=%d sec' % (rank, train_rmse, val_rmse, duration.seconds)\n",
    "    ps.append((rank, train_rmse, val_rmse))"
   ]
  },
  {
   "cell_type": "code",
   "execution_count": 167,
   "metadata": {
    "collapsed": false
   },
   "outputs": [
    {
     "data": {
      "text/plain": [
       "[(5, 0.78287368897483978, 0.78832140157926001),\n",
       " (10, 0.75676682634959458, 0.76708622055869624),\n",
       " (15, 0.73693453096207562, 0.74675799552790767),\n",
       " (20, 0.73030874550398917, 0.740489527600804),\n",
       " (20, 0.5338390029293324, 0.73957902944231724),\n",
       " (30, 0.46546160491736766, 0.724873019750924),\n",
       " (40, 0.4100523971658615, 0.71151068988417243),\n",
       " (50, 0.36603992789742479, 0.70201629979609759),\n",
       " (60, 0.32711980126882767, 0.69005508263042326),\n",
       " (70, 0.29629728152964235, 0.68619275479997965),\n",
       " (80, 0.26777211981179505, 0.66925161123813126),\n",
       " (90, 0.24522468870530914, 0.66572985643820137),\n",
       " (100, 0.22498306163593854, 0.65752046651833784),\n",
       " (110, 0.20832552757682693, 0.65476757381529338),\n",
       " (120, 0.19371653987983492, 0.64954671599212666),\n",
       " (130, 0.18081538183972939, 0.63976864463117245),\n",
       " (140, 0.16981775608990526, 0.6307760929790569),\n",
       " (150, 0.16140734118470276, 0.62957435104417547),\n",
       " (160, 0.15271302296293113, 0.62000769604332095),\n",
       " (170, 0.14713646861418861, 0.62535333678368921),\n",
       " (180, 0.14141468442309926, 0.62579079086425293),\n",
       " (190, 0.13526997328979218, 0.60751052307051312),\n",
       " (200, 0.13169964941225468, 0.61351938455443122)]"
      ]
     },
     "execution_count": 167,
     "metadata": {},
     "output_type": "execute_result"
    }
   ],
   "source": [
    "ps"
   ]
  },
  {
   "cell_type": "code",
   "execution_count": 168,
   "metadata": {
    "collapsed": false
   },
   "outputs": [
    {
     "name": "stdout",
     "output_type": "stream",
     "text": [
      "2016-12-18 17:03:22.240524 rank=5 train_rmse=0.73092 test_rmse=0.89693 took=131 sec\n",
      "2016-12-18 17:05:34.165706 rank=20 train_rmse=0.57468 test_rmse=0.98567 took=143 sec\n",
      "2016-12-18 17:07:57.333323 rank=120 train_rmse=0.25887 test_rmse=1.05798 took=338 sec\n",
      "2016-12-18 17:13:35.681151 rank=200 train_rmse=0.17934 test_rmse=1.01971 took=566 sec\n"
     ]
    }
   ],
   "source": [
    "numIterations = 10\n",
    "tps = []\n",
    "for rank in [5, 10, 120, 200]:\n",
    "    start = datetime.now()\n",
    "    print start,\n",
    "    model = ALS.train(strain_ratings, rank, numIterations)\n",
    "    train_rmse = als_evaluate_model(model, strain_ratings)\n",
    "    test_rmse = als_evaluate_model(model, stest_ratings)\n",
    "    duration = datetime.now() - start\n",
    "    print 'rank=%d train_rmse=%6.5f test_rmse=%6.5f took=%d sec' % (rank, train_rmse, test_rmse, duration.seconds)\n",
    "    tps.append((rank, train_rmse, test_rmse))"
   ]
  },
  {
   "cell_type": "code",
   "execution_count": 169,
   "metadata": {
    "collapsed": false
   },
   "outputs": [
    {
     "data": {
      "text/plain": [
       "[(5, 0.73092347623852438, 0.89693131089203759),\n",
       " (20, 0.57467597436330375, 0.98567417441713601),\n",
       " (120, 0.25886660409037371, 1.0579792520783937),\n",
       " (200, 0.17934196897921104, 1.0197119786899993)]"
      ]
     },
     "execution_count": 169,
     "metadata": {},
     "output_type": "execute_result"
    }
   ],
   "source": [
    "tps"
   ]
  },
  {
   "cell_type": "code",
   "execution_count": null,
   "metadata": {
    "collapsed": true
   },
   "outputs": [],
   "source": [
    "#tps=[]"
   ]
  },
  {
   "cell_type": "code",
   "execution_count": null,
   "metadata": {
    "collapsed": false
   },
   "outputs": [],
   "source": [
    "for numIterations in [50]:\n",
    "    for lambda_ in [0.1]:\n",
    "        #for rank in [4, 5, 6, 7, 8, 9, 10, 11, 12, 15]:\n",
    "        for rank in [25]:\n",
    "            x = [z for z in tps if z[0] == rank and z[1] == numIterations and z[2] == lambda_]\n",
    "            if x:\n",
    "                print 'cached', rank, numIterations, lambda_\n",
    "                continue\n",
    "            start = datetime.now()\n",
    "            print start,\n",
    "            model = ALS.train(strain_ratings, rank, numIterations, lambda_=lambda_, seed=19)\n",
    "            print '!',\n",
    "            train_rmse = als_evaluate_model(model, strain_ratings)\n",
    "            test_rmse_f, test_rmse_c = als_evaluate_model(model, stest_ratings)\n",
    "            duration = datetime.now() - start\n",
    "            print 'rank=%d ni=%d lambda=%f train_rmse=%6.5f test_rmse=%6.5f test_rmse_cut=%6.5f took=%d sec' % (rank, \n",
    "                                                 numIterations, lambda_,\n",
    "                                                 train_rmse[0], test_rmse_f, test_rmse_c, \n",
    "                                                 duration.seconds)\n",
    "            tps.append((rank, numIterations, lambda_, train_rmse[0], train_rmse[1], test_rmse_f, test_rmse_c))"
   ]
  },
  {
   "cell_type": "code",
   "execution_count": 247,
   "metadata": {
    "collapsed": false
   },
   "outputs": [
    {
     "name": "stdout",
     "output_type": "stream",
     "text": [
      "\n"
     ]
    }
   ],
   "source": [
    "import cPickle as pickle"
   ]
  },
  {
   "cell_type": "code",
   "execution_count": 248,
   "metadata": {
    "collapsed": true
   },
   "outputs": [],
   "source": [
    "#with open(\"als_hp_grid_abs_ratings.pckl\", 'w') as h:\n",
    "#    pickle.dump(tps, h)"
   ]
  },
  {
   "cell_type": "code",
   "execution_count": 249,
   "metadata": {
    "collapsed": false
   },
   "outputs": [],
   "source": [
    "zz=pd.DataFrame.from_records(tps,columns=['rank','n_iter','lambda_',\n",
    "                                          \"train_rmse_c\", \"train_rmse_f\", \"test_rmse_f\", \"test_rmse_c\"])"
   ]
  },
  {
   "cell_type": "code",
   "execution_count": 250,
   "metadata": {
    "collapsed": false
   },
   "outputs": [
    {
     "data": {
      "text/html": [
       "<div>\n",
       "<table border=\"1\" class=\"dataframe\">\n",
       "  <thead>\n",
       "    <tr style=\"text-align: right;\">\n",
       "      <th></th>\n",
       "      <th>rank</th>\n",
       "      <th>n_iter</th>\n",
       "      <th>lambda_</th>\n",
       "      <th>train_rmse_c</th>\n",
       "      <th>train_rmse_f</th>\n",
       "      <th>test_rmse_f</th>\n",
       "      <th>test_rmse_c</th>\n",
       "    </tr>\n",
       "  </thead>\n",
       "  <tbody>\n",
       "    <tr>\n",
       "      <th>43</th>\n",
       "      <td>25</td>\n",
       "      <td>30</td>\n",
       "      <td>0.1</td>\n",
       "      <td>0.684961</td>\n",
       "      <td>0.685165</td>\n",
       "      <td>0.832534</td>\n",
       "      <td>0.832064</td>\n",
       "    </tr>\n",
       "    <tr>\n",
       "      <th>40</th>\n",
       "      <td>20</td>\n",
       "      <td>30</td>\n",
       "      <td>0.1</td>\n",
       "      <td>0.691218</td>\n",
       "      <td>0.691411</td>\n",
       "      <td>0.832634</td>\n",
       "      <td>0.832130</td>\n",
       "    </tr>\n",
       "    <tr>\n",
       "      <th>44</th>\n",
       "      <td>30</td>\n",
       "      <td>30</td>\n",
       "      <td>0.1</td>\n",
       "      <td>0.680688</td>\n",
       "      <td>0.680899</td>\n",
       "      <td>0.832682</td>\n",
       "      <td>0.832218</td>\n",
       "    </tr>\n",
       "    <tr>\n",
       "      <th>39</th>\n",
       "      <td>20</td>\n",
       "      <td>20</td>\n",
       "      <td>0.1</td>\n",
       "      <td>0.692949</td>\n",
       "      <td>0.693142</td>\n",
       "      <td>0.833711</td>\n",
       "      <td>0.833198</td>\n",
       "    </tr>\n",
       "    <tr>\n",
       "      <th>42</th>\n",
       "      <td>25</td>\n",
       "      <td>20</td>\n",
       "      <td>0.1</td>\n",
       "      <td>0.687234</td>\n",
       "      <td>0.687438</td>\n",
       "      <td>0.834182</td>\n",
       "      <td>0.833701</td>\n",
       "    </tr>\n",
       "    <tr>\n",
       "      <th>29</th>\n",
       "      <td>20</td>\n",
       "      <td>15</td>\n",
       "      <td>0.1</td>\n",
       "      <td>0.695032</td>\n",
       "      <td>0.695224</td>\n",
       "      <td>0.834936</td>\n",
       "      <td>0.834413</td>\n",
       "    </tr>\n",
       "    <tr>\n",
       "      <th>41</th>\n",
       "      <td>25</td>\n",
       "      <td>15</td>\n",
       "      <td>0.1</td>\n",
       "      <td>0.690026</td>\n",
       "      <td>0.690231</td>\n",
       "      <td>0.836283</td>\n",
       "      <td>0.835787</td>\n",
       "    </tr>\n",
       "    <tr>\n",
       "      <th>27</th>\n",
       "      <td>10</td>\n",
       "      <td>15</td>\n",
       "      <td>0.1</td>\n",
       "      <td>0.718896</td>\n",
       "      <td>0.719044</td>\n",
       "      <td>0.836555</td>\n",
       "      <td>0.835897</td>\n",
       "    </tr>\n",
       "    <tr>\n",
       "      <th>20</th>\n",
       "      <td>20</td>\n",
       "      <td>10</td>\n",
       "      <td>0.1</td>\n",
       "      <td>0.699451</td>\n",
       "      <td>0.699643</td>\n",
       "      <td>0.837456</td>\n",
       "      <td>0.836919</td>\n",
       "    </tr>\n",
       "    <tr>\n",
       "      <th>13</th>\n",
       "      <td>12</td>\n",
       "      <td>10</td>\n",
       "      <td>0.1</td>\n",
       "      <td>0.715086</td>\n",
       "      <td>0.715245</td>\n",
       "      <td>0.837860</td>\n",
       "      <td>0.837239</td>\n",
       "    </tr>\n",
       "  </tbody>\n",
       "</table>\n",
       "</div>"
      ],
      "text/plain": [
       "    rank  n_iter  lambda_  train_rmse_c  train_rmse_f  test_rmse_f  \\\n",
       "43    25      30      0.1      0.684961      0.685165     0.832534   \n",
       "40    20      30      0.1      0.691218      0.691411     0.832634   \n",
       "44    30      30      0.1      0.680688      0.680899     0.832682   \n",
       "39    20      20      0.1      0.692949      0.693142     0.833711   \n",
       "42    25      20      0.1      0.687234      0.687438     0.834182   \n",
       "29    20      15      0.1      0.695032      0.695224     0.834936   \n",
       "41    25      15      0.1      0.690026      0.690231     0.836283   \n",
       "27    10      15      0.1      0.718896      0.719044     0.836555   \n",
       "20    20      10      0.1      0.699451      0.699643     0.837456   \n",
       "13    12      10      0.1      0.715086      0.715245     0.837860   \n",
       "\n",
       "    test_rmse_c  \n",
       "43     0.832064  \n",
       "40     0.832130  \n",
       "44     0.832218  \n",
       "39     0.833198  \n",
       "42     0.833701  \n",
       "29     0.834413  \n",
       "41     0.835787  \n",
       "27     0.835897  \n",
       "20     0.836919  \n",
       "13     0.837239  "
      ]
     },
     "execution_count": 250,
     "metadata": {},
     "output_type": "execute_result"
    }
   ],
   "source": [
    "zz.sort_values(by='test_rmse_c').head(10)"
   ]
  },
  {
   "cell_type": "code",
   "execution_count": 228,
   "metadata": {
    "collapsed": true
   },
   "outputs": [],
   "source": [
    "def cut_1to5(x):\n",
    "    if x < 1.:\n",
    "        return 1.0\n",
    "    if x > 5:\n",
    "        return 5.0\n",
    "    return x\n",
    "\n",
    "udf_cut_1to5 = F.udf(cut_1to5, FloatType())"
   ]
  },
  {
   "cell_type": "code",
   "execution_count": 229,
   "metadata": {
    "collapsed": true
   },
   "outputs": [],
   "source": [
    "def make_predictions_df(model, df):\n",
    "    testdata = df.rdd.map(lambda x: (x.userId, x.movieId))\n",
    "    predictions = model.predictAll(testdata)\n",
    "    return predictions.toDF(schema=StructType([StructField(\"userId\",  IntegerType()),\n",
    "                                               StructField(\"movieId\", IntegerType()),\n",
    "                                               StructField(\"predicted_rating\",  FloatType())]))"
   ]
  },
  {
   "cell_type": "code",
   "execution_count": 230,
   "metadata": {
    "collapsed": true
   },
   "outputs": [],
   "source": [
    "q = make_predictions_df(model, stest_predictions)"
   ]
  },
  {
   "cell_type": "code",
   "execution_count": 231,
   "metadata": {
    "collapsed": false
   },
   "outputs": [
    {
     "name": "stdout",
     "output_type": "stream",
     "text": [
      "+------+-------+----------------+\n",
      "|userId|movieId|predicted_rating|\n",
      "+------+-------+----------------+\n",
      "| 59300|   9725|        4.038461|\n",
      "|228300|  13119|        3.759715|\n",
      "|228300|  22925|       4.2917476|\n",
      "+------+-------+----------------+\n",
      "only showing top 3 rows\n",
      "\n"
     ]
    }
   ],
   "source": [
    "q.show(3)"
   ]
  },
  {
   "cell_type": "code",
   "execution_count": 232,
   "metadata": {
    "collapsed": true
   },
   "outputs": [],
   "source": [
    "qq=stest_predictions.join(q, on=[\"userId\",\"movieId\"])\\\n",
    "                    .select(\"userId\",\"movieId\",\"rating\", \n",
    "                            udf_cut_1to5(F.col(\"predicted_rating\")).alias(\"predicted_rating\"))"
   ]
  },
  {
   "cell_type": "code",
   "execution_count": 234,
   "metadata": {
    "collapsed": false
   },
   "outputs": [
    {
     "name": "stdout",
     "output_type": "stream",
     "text": [
      "+------+-------+------+----------------+\n",
      "|userId|movieId|rating|predicted_rating|\n",
      "+------+-------+------+----------------+\n",
      "|    12|  10386|   4.0|       3.2053645|\n",
      "|    28|   6772|   3.5|       3.4075706|\n",
      "|    28|  22903|   2.5|       3.3466327|\n",
      "+------+-------+------+----------------+\n",
      "only showing top 3 rows\n",
      "\n"
     ]
    }
   ],
   "source": [
    "qq.show(3)"
   ]
  },
  {
   "cell_type": "code",
   "execution_count": 235,
   "metadata": {
    "collapsed": false
   },
   "outputs": [
    {
     "name": "stdout",
     "output_type": "stream",
     "text": [
      "0.832811630144\n"
     ]
    }
   ],
   "source": [
    "print calc_rmse(qq, prediction_column=\"predicted_rating\")"
   ]
  },
  {
   "cell_type": "code",
   "execution_count": null,
   "metadata": {
    "collapsed": true
   },
   "outputs": [],
   "source": []
  }
 ],
 "metadata": {
  "kernelspec": {
   "display_name": "Python 2",
   "language": "python",
   "name": "python2"
  },
  "language_info": {
   "codemirror_mode": {
    "name": "ipython",
    "version": 2
   },
   "file_extension": ".py",
   "mimetype": "text/x-python",
   "name": "python",
   "nbconvert_exporter": "python",
   "pygments_lexer": "ipython2",
   "version": "2.7.6"
  }
 },
 "nbformat": 4,
 "nbformat_minor": 0
}
