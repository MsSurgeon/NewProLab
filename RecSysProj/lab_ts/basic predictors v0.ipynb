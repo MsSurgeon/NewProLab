{
 "cells": [
  {
   "cell_type": "code",
   "execution_count": 2,
   "metadata": {
    "collapsed": false
   },
   "outputs": [
    {
     "name": "stdout",
     "output_type": "stream",
     "text": [
      "Welcome to\n",
      "      ____              __\n",
      "     / __/__  ___ _____/ /__\n",
      "    _\\ \\/ _ \\/ _ `/ __/  '_/\n",
      "   /__ / .__/\\_,_/_/ /_/\\_\\   version 2.0.2\n",
      "      /_/\n",
      "\n",
      "Using Python version 2.7.6 (default, Mar 22 2014 22:59:56)\n",
      "SparkSession available as 'spark'.\n"
     ]
    }
   ],
   "source": [
    "import os\n",
    "os.environ[\"PYSPARK_SUBMIT_ARGS\"]='--packages com.databricks:spark-csv_2.10:1.3.0 pyspark-shell'\n",
    "execfile(os.path.join(os.environ[\"SPARK_HOME\"], 'python/pyspark/shell.py'))"
   ]
  },
  {
   "cell_type": "code",
   "execution_count": 3,
   "metadata": {
    "collapsed": false
   },
   "outputs": [
    {
     "name": "stdout",
     "output_type": "stream",
     "text": [
      "Populating the interactive namespace from numpy and matplotlib\n"
     ]
    }
   ],
   "source": [
    "%pylab inline"
   ]
  },
  {
   "cell_type": "code",
   "execution_count": 4,
   "metadata": {
    "collapsed": false
   },
   "outputs": [
    {
     "name": "stderr",
     "output_type": "stream",
     "text": [
      "/usr/local/lib/python2.7/dist-packages/matplotlib/__init__.py:872: UserWarning: axes.color_cycle is deprecated and replaced with axes.prop_cycle; please use the latter.\n",
      "  warnings.warn(self.msg_depr % (key, alt_key))\n"
     ]
    }
   ],
   "source": [
    "import seaborn as sns"
   ]
  },
  {
   "cell_type": "code",
   "execution_count": 5,
   "metadata": {
    "collapsed": true
   },
   "outputs": [],
   "source": [
    "import numpy as np\n",
    "import pandas as pd\n",
    "import time\n",
    "import json\n",
    "\n",
    "from pyspark.sql.types import StructType, StructField, StringType, IntegerType, FloatType, MapType\n",
    "import pyspark.sql.functions as F"
   ]
  },
  {
   "cell_type": "code",
   "execution_count": 6,
   "metadata": {
    "collapsed": true
   },
   "outputs": [],
   "source": [
    "from operator import add\n",
    "from pyspark.sql.types import *"
   ]
  },
  {
   "cell_type": "markdown",
   "metadata": {},
   "source": [
    "# Load data"
   ]
  },
  {
   "cell_type": "code",
   "execution_count": 7,
   "metadata": {
    "collapsed": false
   },
   "outputs": [],
   "source": [
    "train = spark.read.load(\"/recsys/lab12data/train.csv\", \n",
    "                        format=\"com.databricks.spark.csv\", \n",
    "                        delimiter=\",\", \n",
    "                        header=True,\n",
    "                        schema=StructType([StructField(\"userId\",  IntegerType()),\n",
    "                                           StructField(\"movieId\", IntegerType()),\n",
    "                                           StructField(\"rating\",  FloatType())]))"
   ]
  },
  {
   "cell_type": "code",
   "execution_count": 8,
   "metadata": {
    "collapsed": false
   },
   "outputs": [
    {
     "data": {
      "text/plain": [
       "10531564"
      ]
     },
     "execution_count": 8,
     "metadata": {},
     "output_type": "execute_result"
    }
   ],
   "source": [
    "train.count()"
   ]
  },
  {
   "cell_type": "code",
   "execution_count": 9,
   "metadata": {
    "collapsed": true
   },
   "outputs": [],
   "source": [
    "# rerun eval notebook with full data set"
   ]
  },
  {
   "cell_type": "code",
   "execution_count": 10,
   "metadata": {
    "collapsed": true
   },
   "outputs": [],
   "source": [
    "strain = train"
   ]
  },
  {
   "cell_type": "markdown",
   "metadata": {},
   "source": [
    "# Baseline with Basic predictiors approach"
   ]
  },
  {
   "cell_type": "code",
   "execution_count": 11,
   "metadata": {
    "collapsed": true
   },
   "outputs": [],
   "source": [
    "smooth_buser = 5\n",
    "smooth_bitem = 10"
   ]
  },
  {
   "cell_type": "code",
   "execution_count": 12,
   "metadata": {
    "collapsed": false
   },
   "outputs": [],
   "source": [
    "avg_rating = strain.agg({\"rating\":\"mean\"}).collect()[0]"
   ]
  },
  {
   "cell_type": "code",
   "execution_count": 13,
   "metadata": {
    "collapsed": false
   },
   "outputs": [
    {
     "name": "stdout",
     "output_type": "stream",
     "text": [
      "avg rating 3.52186384662\n"
     ]
    }
   ],
   "source": [
    "avg_rating = avg_rating[0]\n",
    "print 'avg rating', avg_rating"
   ]
  },
  {
   "cell_type": "code",
   "execution_count": 14,
   "metadata": {
    "collapsed": false
   },
   "outputs": [],
   "source": [
    "buser = strain.groupBy(\"userId\").agg(F.sum(F.col(\"rating\")).alias(\"sum_ratings\"), \n",
    "                                     F.count(F.col(\"rating\")).alias(\"n_user_ratings\"))"
   ]
  },
  {
   "cell_type": "code",
   "execution_count": 15,
   "metadata": {
    "collapsed": false
   },
   "outputs": [
    {
     "name": "stdout",
     "output_type": "stream",
     "text": [
      "+------+-----------+--------------+\n",
      "|userId|sum_ratings|n_user_ratings|\n",
      "+------+-----------+--------------+\n",
      "|   148|      408.0|           109|\n",
      "|   463|       20.0|             4|\n",
      "+------+-----------+--------------+\n",
      "only showing top 2 rows\n",
      "\n"
     ]
    }
   ],
   "source": [
    "buser.show(2)"
   ]
  },
  {
   "cell_type": "code",
   "execution_count": 16,
   "metadata": {
    "collapsed": false
   },
   "outputs": [],
   "source": [
    "x = buser.select(\"userId\", \"n_user_ratings\", \n",
    "                 ((F.col(\"sum_ratings\") - F.lit(avg_rating)*F.col(\"n_user_ratings\"))  / (F.col(\"n_user_ratings\") + F.lit(smooth_buser))).alias(\"bpu\"))"
   ]
  },
  {
   "cell_type": "code",
   "execution_count": 17,
   "metadata": {
    "collapsed": false
   },
   "outputs": [
    {
     "name": "stdout",
     "output_type": "stream",
     "text": [
      "+------+--------------+-------------------+\n",
      "|userId|n_user_ratings|                bpu|\n",
      "+------+--------------+-------------------+\n",
      "|155959|            60|0.17212568004307688|\n",
      "|156017|             8| 0.2557760943876923|\n",
      "+------+--------------+-------------------+\n",
      "only showing top 2 rows\n",
      "\n"
     ]
    }
   ],
   "source": [
    "x.show(2)"
   ]
  },
  {
   "cell_type": "code",
   "execution_count": 18,
   "metadata": {
    "collapsed": true
   },
   "outputs": [],
   "source": [
    "buser = x"
   ]
  },
  {
   "cell_type": "code",
   "execution_count": 19,
   "metadata": {
    "collapsed": true
   },
   "outputs": [],
   "source": [
    "strain.registerTempTable(\"strain\")"
   ]
  },
  {
   "cell_type": "code",
   "execution_count": 20,
   "metadata": {
    "collapsed": true
   },
   "outputs": [],
   "source": [
    "buser.registerTempTable(\"buser\")"
   ]
  },
  {
   "cell_type": "code",
   "execution_count": 21,
   "metadata": {
    "collapsed": false
   },
   "outputs": [],
   "source": [
    "bitem = spark.sql(\"\"\"\n",
    "            select\n",
    "                t.movieId, sum(t.rating - %g - bu.bpu) as sum_r_normalised, count(*) n_item_ratings\n",
    "            from strain t\n",
    "            join buser bu on t.userId == bu.userId \n",
    "            group by t.movieId\n",
    "\"\"\" % (avg_rating,))"
   ]
  },
  {
   "cell_type": "code",
   "execution_count": 22,
   "metadata": {
    "collapsed": false
   },
   "outputs": [
    {
     "name": "stdout",
     "output_type": "stream",
     "text": [
      "+-------+------------------+--------------+\n",
      "|movieId|  sum_r_normalised|n_item_ratings|\n",
      "+-------+------------------+--------------+\n",
      "|  11141|4175.3882885569665|          7943|\n",
      "|  14450| 6078.451993887126|         16762|\n",
      "+-------+------------------+--------------+\n",
      "only showing top 2 rows\n",
      "\n"
     ]
    }
   ],
   "source": [
    "bitem.show(2)"
   ]
  },
  {
   "cell_type": "code",
   "execution_count": 23,
   "metadata": {
    "collapsed": true
   },
   "outputs": [],
   "source": [
    "x = bitem.select(\"movieId\", \"n_item_ratings\", \n",
    "                 ( F.col(\"sum_r_normalised\")  / (F.col(\"n_item_ratings\") + F.lit(smooth_bitem))).alias(\"bpi\"))"
   ]
  },
  {
   "cell_type": "code",
   "execution_count": 24,
   "metadata": {
    "collapsed": false
   },
   "outputs": [
    {
     "name": "stdout",
     "output_type": "stream",
     "text": [
      "+-------+--------------+------------------+\n",
      "|movieId|n_item_ratings|               bpi|\n",
      "+-------+--------------+------------------+\n",
      "|  14450|         16762|0.3624166464278035|\n",
      "|   7880|          4105|0.0889908644020725|\n",
      "+-------+--------------+------------------+\n",
      "only showing top 2 rows\n",
      "\n"
     ]
    }
   ],
   "source": [
    "x.show(2)"
   ]
  },
  {
   "cell_type": "code",
   "execution_count": 25,
   "metadata": {
    "collapsed": true
   },
   "outputs": [],
   "source": [
    "bitem = x"
   ]
  },
  {
   "cell_type": "code",
   "execution_count": 26,
   "metadata": {
    "collapsed": true
   },
   "outputs": [],
   "source": [
    "bitem.registerTempTable(\"bitem\")"
   ]
  },
  {
   "cell_type": "markdown",
   "metadata": {},
   "source": [
    "## Build prediction for strain set"
   ]
  },
  {
   "cell_type": "code",
   "execution_count": 27,
   "metadata": {
    "collapsed": true
   },
   "outputs": [],
   "source": [
    "q = spark.sql(\"\"\"\n",
    "        select \n",
    "            t.*,\n",
    "            bu.n_user_ratings,\n",
    "            bi.n_item_ratings,\n",
    "            (%g + bu.bpu + bi.bpi) as predicted_rating\n",
    "        from strain t\n",
    "        join buser bu on t.userId = bu.userId \n",
    "        join bitem bi on t.movieId = bi.movieId\n",
    "\"\"\" % (avg_rating, ))"
   ]
  },
  {
   "cell_type": "code",
   "execution_count": 28,
   "metadata": {
    "collapsed": false
   },
   "outputs": [],
   "source": [
    "strain_predictions = q"
   ]
  },
  {
   "cell_type": "code",
   "execution_count": 29,
   "metadata": {
    "collapsed": true
   },
   "outputs": [],
   "source": [
    "def calc_rmse(df):\n",
    "    mse = df.select(F.pow(F.col(\"predicted_rating\") - F.col(\"rating\"), F.lit(2)).alias(\"err\"))\\\n",
    "            .agg({\"err\":\"mean\"}).collect()[0][0]\n",
    "    return np.sqrt(mse)    "
   ]
  },
  {
   "cell_type": "code",
   "execution_count": 30,
   "metadata": {
    "collapsed": true
   },
   "outputs": [],
   "source": [
    "rmse = calc_rmse(strain_predictions)"
   ]
  },
  {
   "cell_type": "code",
   "execution_count": 31,
   "metadata": {
    "collapsed": false
   },
   "outputs": [
    {
     "name": "stdout",
     "output_type": "stream",
     "text": [
      "strain RMSE 0.867715165859\n"
     ]
    }
   ],
   "source": [
    "print 'strain RMSE', rmse"
   ]
  },
  {
   "cell_type": "code",
   "execution_count": 48,
   "metadata": {
    "collapsed": true
   },
   "outputs": [],
   "source": [
    "def cut_1to5(x):\n",
    "    if x < 1.:\n",
    "        return 1.0\n",
    "    if x > 5:\n",
    "        return 5.0\n",
    "    return x\n",
    "\n",
    "udf_cut_1to5 = F.udf(cut_1to5, FloatType())\n"
   ]
  },
  {
   "cell_type": "code",
   "execution_count": 50,
   "metadata": {
    "collapsed": false
   },
   "outputs": [],
   "source": [
    "q = strain_predictions.withColumn(\"predicted_rating\", udf_cut_1to5(F.col(\"predicted_rating\")))"
   ]
  },
  {
   "cell_type": "code",
   "execution_count": 51,
   "metadata": {
    "collapsed": false
   },
   "outputs": [
    {
     "name": "stdout",
     "output_type": "stream",
     "text": [
      "+------+-------+------+--------------+--------------+----------------+\n",
      "|userId|movieId|rating|n_user_ratings|n_item_ratings|predicted_rating|\n",
      "+------+-------+------+--------------+--------------+----------------+\n",
      "|109268|    148|   3.0|          1454|             2|          2.7021|\n",
      "| 75052|    148|   3.0|           359|             2|       3.4331956|\n",
      "+------+-------+------+--------------+--------------+----------------+\n",
      "only showing top 2 rows\n",
      "\n"
     ]
    }
   ],
   "source": [
    "q.show(2)"
   ]
  },
  {
   "cell_type": "code",
   "execution_count": 52,
   "metadata": {
    "collapsed": false
   },
   "outputs": [
    {
     "name": "stdout",
     "output_type": "stream",
     "text": [
      "strain RMSE with cut1t5 0.867640756856\n"
     ]
    }
   ],
   "source": [
    "print 'strain RMSE with cut1t5', calc_rmse(q)"
   ]
  },
  {
   "cell_type": "markdown",
   "metadata": {},
   "source": [
    "## Build prediction for test set"
   ]
  },
  {
   "cell_type": "code",
   "execution_count": 33,
   "metadata": {
    "collapsed": true
   },
   "outputs": [],
   "source": [
    "test = spark.read.load(\"/recsys/lab12data/test.csv\", \n",
    "                        format=\"com.databricks.spark.csv\", \n",
    "                        delimiter=\",\", \n",
    "                        header=True,\n",
    "                        schema=StructType([StructField(\"userId\",  IntegerType()),\n",
    "                                           StructField(\"movieId\", IntegerType())]))"
   ]
  },
  {
   "cell_type": "code",
   "execution_count": 34,
   "metadata": {
    "collapsed": false
   },
   "outputs": [
    {
     "data": {
      "text/plain": [
       "10531564"
      ]
     },
     "execution_count": 34,
     "metadata": {},
     "output_type": "execute_result"
    }
   ],
   "source": [
    "test.count()"
   ]
  },
  {
   "cell_type": "code",
   "execution_count": 35,
   "metadata": {
    "collapsed": true
   },
   "outputs": [],
   "source": [
    "stest = test"
   ]
  },
  {
   "cell_type": "code",
   "execution_count": 36,
   "metadata": {
    "collapsed": true
   },
   "outputs": [],
   "source": [
    "stest.registerTempTable(\"stest\")"
   ]
  },
  {
   "cell_type": "code",
   "execution_count": 53,
   "metadata": {
    "collapsed": false
   },
   "outputs": [],
   "source": [
    "q = spark.sql(\"\"\"\n",
    "        select \n",
    "            t.*,\n",
    "            bu.n_user_ratings,\n",
    "            bi.n_item_ratings,\n",
    "            (%g + coalesce(bu.bpu,0.0) + coalesce(bi.bpi,0.0)) as predicted_rating\n",
    "        from stest t\n",
    "        left join buser bu on t.userId = bu.userId \n",
    "        left join bitem bi on t.movieId = bi.movieId\n",
    "\"\"\" % (avg_rating, ))"
   ]
  },
  {
   "cell_type": "code",
   "execution_count": 54,
   "metadata": {
    "collapsed": false
   },
   "outputs": [
    {
     "name": "stdout",
     "output_type": "stream",
     "text": [
      "+------+-------+--------------+--------------+-----------------+\n",
      "|userId|movieId|n_user_ratings|n_item_ratings| predicted_rating|\n",
      "+------+-------+--------------+--------------+-----------------+\n",
      "|178586|    148|          2665|             2|3.227893303449813|\n",
      "|155572|    148|          1238|             2| 3.61245960840419|\n",
      "+------+-------+--------------+--------------+-----------------+\n",
      "only showing top 2 rows\n",
      "\n"
     ]
    }
   ],
   "source": [
    "q.show(2)"
   ]
  },
  {
   "cell_type": "code",
   "execution_count": 55,
   "metadata": {
    "collapsed": false
   },
   "outputs": [
    {
     "data": {
      "text/plain": [
       "0"
      ]
     },
     "execution_count": 55,
     "metadata": {},
     "output_type": "execute_result"
    }
   ],
   "source": [
    "q.filter(\"predicted_rating is null\").count()"
   ]
  },
  {
   "cell_type": "code",
   "execution_count": 56,
   "metadata": {
    "collapsed": false
   },
   "outputs": [],
   "source": [
    "qs = q.select(\"userId\", \"movieId\", udf_cut_1to5(F.col(\"predicted_rating\")).alias(\"rating\")).orderBy(\"userId\", \"movieId\")"
   ]
  },
  {
   "cell_type": "code",
   "execution_count": 57,
   "metadata": {
    "collapsed": false
   },
   "outputs": [
    {
     "name": "stdout",
     "output_type": "stream",
     "text": [
      "+------+-------+\n",
      "|userId|movieId|\n",
      "+------+-------+\n",
      "|     1|   1414|\n",
      "|     1|   2346|\n",
      "+------+-------+\n",
      "only showing top 2 rows\n",
      "\n"
     ]
    }
   ],
   "source": [
    "test.show(2)"
   ]
  },
  {
   "cell_type": "code",
   "execution_count": 61,
   "metadata": {
    "collapsed": false
   },
   "outputs": [
    {
     "name": "stdout",
     "output_type": "stream",
     "text": [
      "+------+-------+--------+\n",
      "|userId|movieId|  rating|\n",
      "+------+-------+--------+\n",
      "|     1|   1414|4.116101|\n",
      "|     1|   2346|4.011121|\n",
      "+------+-------+--------+\n",
      "only showing top 2 rows\n",
      "\n"
     ]
    }
   ],
   "source": [
    "qs.show(2)"
   ]
  },
  {
   "cell_type": "code",
   "execution_count": 62,
   "metadata": {
    "collapsed": false
   },
   "outputs": [],
   "source": [
    "#qs.write.save(\"lab_12\", format=\"com.databricks.spark.csv\")"
   ]
  },
  {
   "cell_type": "code",
   "execution_count": 63,
   "metadata": {
    "collapsed": false
   },
   "outputs": [],
   "source": [
    "res = qs.toPandas()"
   ]
  },
  {
   "cell_type": "code",
   "execution_count": 64,
   "metadata": {
    "collapsed": false
   },
   "outputs": [
    {
     "data": {
      "text/html": [
       "<div>\n",
       "<table border=\"1\" class=\"dataframe\">\n",
       "  <thead>\n",
       "    <tr style=\"text-align: right;\">\n",
       "      <th></th>\n",
       "      <th>userId</th>\n",
       "      <th>movieId</th>\n",
       "      <th>rating</th>\n",
       "    </tr>\n",
       "  </thead>\n",
       "  <tbody>\n",
       "    <tr>\n",
       "      <th>0</th>\n",
       "      <td>1</td>\n",
       "      <td>1414</td>\n",
       "      <td>4.116101</td>\n",
       "    </tr>\n",
       "    <tr>\n",
       "      <th>1</th>\n",
       "      <td>1</td>\n",
       "      <td>2346</td>\n",
       "      <td>4.011121</td>\n",
       "    </tr>\n",
       "    <tr>\n",
       "      <th>2</th>\n",
       "      <td>1</td>\n",
       "      <td>5278</td>\n",
       "      <td>3.153542</td>\n",
       "    </tr>\n",
       "    <tr>\n",
       "      <th>3</th>\n",
       "      <td>1</td>\n",
       "      <td>9303</td>\n",
       "      <td>3.851648</td>\n",
       "    </tr>\n",
       "    <tr>\n",
       "      <th>4</th>\n",
       "      <td>1</td>\n",
       "      <td>11817</td>\n",
       "      <td>4.501127</td>\n",
       "    </tr>\n",
       "  </tbody>\n",
       "</table>\n",
       "</div>"
      ],
      "text/plain": [
       "   userId  movieId    rating\n",
       "0       1     1414  4.116101\n",
       "1       1     2346  4.011121\n",
       "2       1     5278  3.153542\n",
       "3       1     9303  3.851648\n",
       "4       1    11817  4.501127"
      ]
     },
     "execution_count": 64,
     "metadata": {},
     "output_type": "execute_result"
    }
   ],
   "source": [
    "res.head()"
   ]
  },
  {
   "cell_type": "code",
   "execution_count": 65,
   "metadata": {
    "collapsed": true
   },
   "outputs": [],
   "source": [
    "res.to_csv(\"lab_12.csv\", index=False)"
   ]
  },
  {
   "cell_type": "code",
   "execution_count": null,
   "metadata": {
    "collapsed": true
   },
   "outputs": [],
   "source": []
  }
 ],
 "metadata": {
  "kernelspec": {
   "display_name": "Python 2",
   "language": "python",
   "name": "python2"
  },
  "language_info": {
   "codemirror_mode": {
    "name": "ipython",
    "version": 2
   },
   "file_extension": ".py",
   "mimetype": "text/x-python",
   "name": "python",
   "nbconvert_exporter": "python",
   "pygments_lexer": "ipython2",
   "version": "2.7.6"
  }
 },
 "nbformat": 4,
 "nbformat_minor": 0
}
