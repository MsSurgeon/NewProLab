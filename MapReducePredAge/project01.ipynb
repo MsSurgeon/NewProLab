{
 "cells": [
  {
   "cell_type": "markdown",
   "metadata": {
    "deletable": true,
    "editable": true
   },
   "source": [
    "<img width=\"50px\" align=\"left\" style=\"margin-right:20px\" src=\"http://data.newprolab.com/public-newprolab-com/npl_logo.png\"> <b>New Professions Lab</b> <br /> Специалист по большим данным"
   ]
  },
  {
   "cell_type": "markdown",
   "metadata": {
    "deletable": true,
    "editable": true
   },
   "source": [
    "# Проект 1"
   ]
  },
  {
   "cell_type": "markdown",
   "metadata": {
    "deletable": true,
    "editable": true
   },
   "source": [
    "# Спрогнозировать пол и возрастную категорию интернет-пользователей по логу посещения сайтов"
   ]
  },
  {
   "cell_type": "markdown",
   "metadata": {
    "deletable": true,
    "editable": true
   },
   "source": [
    "<img width=\"110px\" align=\"left\" src=\"http://data.newprolab.com/public-newprolab-com/project01_img0.png?img\">"
   ]
  },
  {
   "cell_type": "markdown",
   "metadata": {
    "deletable": true,
    "editable": true
   },
   "source": [
    "<a href=\"https://github.com/newprolab/content_bigdata6\"><img align=\"left\" src=\"http://data.newprolab.com/public-newprolab-com/npl.svg\"></a>"
   ]
  },
  {
   "cell_type": "markdown",
   "metadata": {
    "deletable": true,
    "editable": true
   },
   "source": [
    "Одна из задач DMP-системы состоит в том, чтобы по разрозненным даннным, таким, как посещения неким пользователем сайтов, классифицировать его и присвоить ему определённую категорию: пол, возраст, интересы и так далее. В дальнейшем составляется портрет, или профиль, пользователя, на основе которого ему более таргетированно показывается реклама в интернете."
   ]
  },
  {
   "cell_type": "markdown",
   "metadata": {
    "deletable": true,
    "editable": true
   },
   "source": [
    "### Задача"
   ]
  },
  {
   "cell_type": "markdown",
   "metadata": {
    "deletable": true,
    "editable": true
   },
   "source": [
    "Используя доступный набор данных о посещении страниц у одной части пользователей, сделать прогноз относительно **пола и возрастной категории** другой части пользователей. Угадывание (hit) - правильное предсказание и пола, и возрастной категории одновременно.\n",
    "\n",
    "Мы не ограничиваем вас в выборе инструментов и методов работы с данными. Используйте любые эвристики, внешние источники, парсинг контента страниц — всё, что поможет вам выполнить задачу. Единственное ограничение — никаких ручных действий. Руками проставлять классы нельзя.\n",
    "\n",
    "Поскольку это ваш проект, который мы наверняка захотите показать другим, уделите его оформлению достаточно времени. Мы рекомендуем сделать весь проект в этом ноутбуке. Снизу, под заданием, вы сможете описать ваше решение.\n",
    "\n",
    "⏰ **Дедлайн: 25 апреля 2017, 23:59**"
   ]
  },
  {
   "cell_type": "code",
   "execution_count": 300,
   "metadata": {
    "collapsed": false,
    "deletable": true,
    "editable": true
   },
   "outputs": [],
   "source": [
    "from time import time\n",
    "import numpy as np\n",
    "import matplotlib.pyplot as plt\n",
    "import pandas as pd\n",
    "import re\n",
    "import os\n",
    "import json\n",
    "from urlparse import urlparse\n",
    "from urllib import urlretrieve, unquote, urlopen\n",
    "import urllib2\n",
    "import cookielib\n",
    "import requests\n",
    "from newspaper import Article\n",
    "import nltk\n",
    "import cPickle as pickle\n",
    "import html2text\n",
    "import xml.etree.cElementTree as ET\n",
    "from bs4 import BeautifulSoup\n",
    "from scipy.stats import randint as sp_randint\n",
    "\n",
    "\n",
    "from sklearn import preprocessing\n",
    "from sklearn.grid_search import GridSearchCV, RandomizedSearchCV\n",
    "from sklearn.metrics import roc_auc_score, accuracy_score, confusion_matrix\n",
    "from sklearn.tree import DecisionTreeClassifier, export_graphviz\n",
    "from sklearn.ensemble import RandomForestClassifier\n",
    "from sklearn.metrics import roc_auc_score, accuracy_score, confusion_matrix"
   ]
  },
  {
   "cell_type": "code",
   "execution_count": 52,
   "metadata": {
    "collapsed": false,
    "deletable": true,
    "editable": true
   },
   "outputs": [],
   "source": [
    "df = pd.read_csv('./gender_age_dataset.txt', sep='\\t')"
   ]
  },
  {
   "cell_type": "code",
   "execution_count": 3,
   "metadata": {
    "collapsed": false,
    "deletable": true,
    "editable": true
   },
   "outputs": [
    {
     "data": {
      "text/plain": [
       "(41138, 4)"
      ]
     },
     "execution_count": 3,
     "metadata": {},
     "output_type": "execute_result"
    }
   ],
   "source": [
    "df.shape"
   ]
  },
  {
   "cell_type": "code",
   "execution_count": 4,
   "metadata": {
    "collapsed": false,
    "deletable": true,
    "editable": true
   },
   "outputs": [
    {
     "data": {
      "text/plain": [
       "gender       False\n",
       "age          False\n",
       "uid          False\n",
       "user_json    False\n",
       "dtype: bool"
      ]
     },
     "execution_count": 4,
     "metadata": {},
     "output_type": "execute_result"
    }
   ],
   "source": [
    "pd.isnull(df).sum() > 0"
   ]
  },
  {
   "cell_type": "markdown",
   "metadata": {
    "deletable": true,
    "editable": true
   },
   "source": [
    "Как мы можем увидить в данные без пропусков"
   ]
  },
  {
   "cell_type": "code",
   "execution_count": 34,
   "metadata": {
    "collapsed": false,
    "deletable": true,
    "editable": true
   },
   "outputs": [
    {
     "data": {
      "text/plain": [
       "gender\n",
       "-     5000\n",
       "F    17440\n",
       "M    18698\n",
       "dtype: int64"
      ]
     },
     "execution_count": 34,
     "metadata": {},
     "output_type": "execute_result"
    }
   ],
   "source": [
    "df.groupby('gender').size()"
   ]
  },
  {
   "cell_type": "code",
   "execution_count": 17,
   "metadata": {
    "collapsed": false,
    "deletable": true,
    "editable": true,
    "scrolled": true
   },
   "outputs": [
    {
     "data": {
      "text/plain": [
       "age\n",
       "-         5000\n",
       "18-24     4898\n",
       "25-34    15457\n",
       "35-44     9360\n",
       "45-54     4744\n",
       ">=55      1679\n",
       "dtype: int64"
      ]
     },
     "execution_count": 17,
     "metadata": {},
     "output_type": "execute_result"
    }
   ],
   "source": [
    "df.groupby('age').size()"
   ]
  },
  {
   "cell_type": "code",
   "execution_count": 36,
   "metadata": {
    "collapsed": false,
    "deletable": true,
    "editable": true,
    "scrolled": true
   },
   "outputs": [
    {
     "data": {
      "text/html": [
       "<div>\n",
       "<table border=\"1\" class=\"dataframe\">\n",
       "  <thead>\n",
       "    <tr style=\"text-align: right;\">\n",
       "      <th></th>\n",
       "      <th>gender</th>\n",
       "      <th>age</th>\n",
       "      <th>uid</th>\n",
       "      <th>user_json</th>\n",
       "    </tr>\n",
       "  </thead>\n",
       "  <tbody>\n",
       "    <tr>\n",
       "      <th>0</th>\n",
       "      <td>F</td>\n",
       "      <td>18-24</td>\n",
       "      <td>d50192e5-c44e-4ae8-ae7a-7cfe67c8b777</td>\n",
       "      <td>{\"visits\": [{\"url\": \"http://zebra-zoya.ru/2000...</td>\n",
       "    </tr>\n",
       "    <tr>\n",
       "      <th>1</th>\n",
       "      <td>M</td>\n",
       "      <td>25-34</td>\n",
       "      <td>d502331d-621e-4721-ada2-5d30b2c3801f</td>\n",
       "      <td>{\"visits\": [{\"url\": \"http://sweetrading.ru/?p=...</td>\n",
       "    </tr>\n",
       "    <tr>\n",
       "      <th>2</th>\n",
       "      <td>F</td>\n",
       "      <td>25-34</td>\n",
       "      <td>d50237ea-747e-48a2-ba46-d08e71dddfdb</td>\n",
       "      <td>{\"visits\": [{\"url\": \"http://ru.oriflame.com/pr...</td>\n",
       "    </tr>\n",
       "    <tr>\n",
       "      <th>3</th>\n",
       "      <td>F</td>\n",
       "      <td>25-34</td>\n",
       "      <td>d502f29f-d57a-46bf-8703-1cb5f8dcdf03</td>\n",
       "      <td>{\"visits\": [{\"url\": \"http://translate-tattoo.r...</td>\n",
       "    </tr>\n",
       "    <tr>\n",
       "      <th>4</th>\n",
       "      <td>M</td>\n",
       "      <td>&gt;=55</td>\n",
       "      <td>d503c3b2-a0c2-4f47-bb27-065058c73008</td>\n",
       "      <td>{\"visits\": [{\"url\": \"https://mail.rambler.ru/#...</td>\n",
       "    </tr>\n",
       "  </tbody>\n",
       "</table>\n",
       "</div>"
      ],
      "text/plain": [
       "  gender    age                                   uid  \\\n",
       "0      F  18-24  d50192e5-c44e-4ae8-ae7a-7cfe67c8b777   \n",
       "1      M  25-34  d502331d-621e-4721-ada2-5d30b2c3801f   \n",
       "2      F  25-34  d50237ea-747e-48a2-ba46-d08e71dddfdb   \n",
       "3      F  25-34  d502f29f-d57a-46bf-8703-1cb5f8dcdf03   \n",
       "4      M   >=55  d503c3b2-a0c2-4f47-bb27-065058c73008   \n",
       "\n",
       "                                           user_json  \n",
       "0  {\"visits\": [{\"url\": \"http://zebra-zoya.ru/2000...  \n",
       "1  {\"visits\": [{\"url\": \"http://sweetrading.ru/?p=...  \n",
       "2  {\"visits\": [{\"url\": \"http://ru.oriflame.com/pr...  \n",
       "3  {\"visits\": [{\"url\": \"http://translate-tattoo.r...  \n",
       "4  {\"visits\": [{\"url\": \"https://mail.rambler.ru/#...  "
      ]
     },
     "execution_count": 36,
     "metadata": {},
     "output_type": "execute_result"
    }
   ],
   "source": [
    "df.head()"
   ]
  },
  {
   "cell_type": "code",
   "execution_count": 5,
   "metadata": {
    "collapsed": false,
    "deletable": true,
    "editable": true
   },
   "outputs": [
    {
     "data": {
      "text/plain": [
       "'{\"visits\": [{\"url\": \"http://zebra-zoya.ru/200028-chehol-organayzer-dlja-macbook-11-grid-it.html?utm_campaign=397720794&utm_content=397729344&utm_medium=cpc&utm_source=begun\", \"timestamp\": 1419688144068}, {\"url\": \"http://news.yandex.ru/yandsearch?cl4url=chezasite.com/htc/htc-one-m9-delay-86327.html&lr=213&rpt=story\", \"timestamp\": 1426666298001}, {\"url\": \"http://www.sotovik.ru/news/240283-htc-one-m9-zaderzhivaetsja.html\", \"timestamp\": 1426666298000}, {\"url\": \"http://news.yandex.ru/yandsearch?cl4url=chezasite.com/htc/htc-one-m9-delay-86327.html&lr=213&rpt=story\", \"timestamp\": 1426661722001}, {\"url\": \"http://www.sotovik.ru/news/240283-htc-one-m9-zaderzhivaetsja.html\", \"timestamp\": 1426661722000}]}'"
      ]
     },
     "execution_count": 5,
     "metadata": {},
     "output_type": "execute_result"
    }
   ],
   "source": [
    "df.iloc[0].user_json"
   ]
  },
  {
   "cell_type": "code",
   "execution_count": 98,
   "metadata": {
    "collapsed": false,
    "deletable": true,
    "editable": true
   },
   "outputs": [
    {
     "name": "stdout",
     "output_type": "stream",
     "text": [
      "1419688144068\n",
      "1426666298001\n",
      "1426666298000\n",
      "1426661722001\n",
      "1426661722000\n"
     ]
    }
   ],
   "source": [
    "jsonv = json.loads('{\"visits\": [{\"url\": \"http://zebra-zoya.ru/200028-chehol-organayzer-dlja-macbook-11-grid-it.html?utm_campaign=397720794&utm_content=397729344&utm_medium=cpc&utm_source=begun\", \"timestamp\": 1419688144068}, {\"url\": \"http://news.yandex.ru/yandsearch?cl4url=chezasite.com/htc/htc-one-m9-delay-86327.html&lr=213&rpt=story\", \"timestamp\": 1426666298001}, {\"url\": \"http://www.sotovik.ru/news/240283-htc-one-m9-zaderzhivaetsja.html\", \"timestamp\": 1426666298000}, {\"url\": \"http://news.yandex.ru/yandsearch?cl4url=chezasite.com/htc/htc-one-m9-delay-86327.html&lr=213&rpt=story\", \"timestamp\": 1426661722001}, {\"url\": \"http://www.sotovik.ru/news/240283-htc-one-m9-zaderzhivaetsja.html\", \"timestamp\": 1426661722000}]}')\n",
    "for visit in jsonv.get('visits'):\n",
    "    print visit['timestamp']"
   ]
  },
  {
   "cell_type": "code",
   "execution_count": 5,
   "metadata": {
    "collapsed": false,
    "deletable": true,
    "editable": true
   },
   "outputs": [
    {
     "name": "stdout",
     "output_type": "stream",
     "text": [
      "5829507\n"
     ]
    }
   ],
   "source": [
    "visit_counter=0 \n",
    "for row in range(df.shape[0]): \n",
    "    visits = json.loads(df.iloc[row].user_json)\n",
    "    visit_counter=visit_counter+len(visits.get('visits'))\n",
    "print visit_counter"
   ]
  },
  {
   "cell_type": "code",
   "execution_count": 53,
   "metadata": {
    "collapsed": false,
    "deletable": true,
    "editable": true
   },
   "outputs": [],
   "source": [
    "def get_url(url):\n",
    "    try:\n",
    "        a = urlparse(unquote(url.strip()))\n",
    "        if a.netloc == 'news.yandex.ru':\n",
    "                if(re.search('(?<=cl4url=).+(html)', url)):\n",
    "                    url = 'http://' + re.search('(?<=cl4url=).+(html)', url).group(0)\n",
    "                else:\n",
    "                    url = 'http://' + re.search('(?<=cl4url=).+', url).group(0)\n",
    "        stripUrl = str(url).strip()\n",
    "        return stripUrl\n",
    "    except Exception as e_get_url_in:\n",
    "        pass"
   ]
  },
  {
   "cell_type": "code",
   "execution_count": null,
   "metadata": {
    "collapsed": true,
    "deletable": true,
    "editable": true
   },
   "outputs": [],
   "source": [
    "from tqdm import tqdm\n",
    "import time\n",
    "urls = []\n",
    "for row in tqdm(range(df.shape[0])): \n",
    "    visits = json.loads(df.iloc[row].user_json)\n",
    "    for visit in visits.get('visits'):\n",
    "        if str(visit['url'].encode('utf-8')).startswith('http'):\n",
    "            url = get_url(visit['url'].encode('utf-8'))\n",
    "            ts = visit['timestamp']\n",
    "            urls.append([df.iloc[row]['uid'], url, ts, df.iloc[row]['gender']+'_'+df.iloc[row]['age']])"
   ]
  },
  {
   "cell_type": "code",
   "execution_count": 32,
   "metadata": {
    "collapsed": false,
    "deletable": true,
    "editable": true
   },
   "outputs": [
    {
     "name": "stdout",
     "output_type": "stream",
     "text": [
      "10_userc_visits\t\t  mapper_v2.py\t     RNN_clf_url.ipynb\turls_uid_y.pkl\r\n",
      "gender_age_dataset_h.txt  mapper_v3.py\t     top350.txt\t\turl_topic.json\r\n",
      "gender_age_dataset.txt\t  mapper_v4.py\t     uniq_url\t\tvisits.txt\r\n",
      "lab06.ipynb\t\t  project01.ipynb    urls_h\r\n",
      "mapper.py\t\t  project01v1.ipynb  urls_h.pkl\r\n",
      "mapper_v1.py\t\t  project_env.zip    urls.pkl\r\n"
     ]
    }
   ],
   "source": [
    "!ls ."
   ]
  },
  {
   "cell_type": "code",
   "execution_count": 22,
   "metadata": {
    "collapsed": true,
    "deletable": true,
    "editable": true
   },
   "outputs": [],
   "source": [
    "[url[1] for url in urls[:100]]\n",
    "\n",
    "output = open('urls_uid_y.pkl', 'wb')\n",
    "pickle.dump(urls, output, 2)\n",
    "output.close()"
   ]
  },
  {
   "cell_type": "code",
   "execution_count": 54,
   "metadata": {
    "collapsed": false,
    "deletable": true,
    "editable": true
   },
   "outputs": [
    {
     "name": "stdout",
     "output_type": "stream",
     "text": [
      "[['d50192e5-c44e-4ae8-ae7a-7cfe67c8b777', 'http://zebra-zoya.ru/200028-chehol-organayzer-dlja-macbook-11-grid-it.html?utm_campaign=397720794&utm_content=397729344&utm_medium=cpc&utm_source=begun', 1419688144068, 'F_18-24'], ['d50192e5-c44e-4ae8-ae7a-7cfe67c8b777', 'http://chezasite.com/htc/htc-one-m9-delay-86327.html', 1426666298001, 'F_18-24'], ['d50192e5-c44e-4ae8-ae7a-7cfe67c8b777', 'http://www.sotovik.ru/news/240283-htc-one-m9-zaderzhivaetsja.html', 1426666298000, 'F_18-24'], ['d50192e5-c44e-4ae8-ae7a-7cfe67c8b777', 'http://chezasite.com/htc/htc-one-m9-delay-86327.html', 1426661722001, 'F_18-24'], ['d50192e5-c44e-4ae8-ae7a-7cfe67c8b777', 'http://www.sotovik.ru/news/240283-htc-one-m9-zaderzhivaetsja.html', 1426661722000, 'F_18-24'], ['d502331d-621e-4721-ada2-5d30b2c3801f', 'http://sweetrading.ru/?p=900', 1419717886224, 'M_25-34'], ['d502331d-621e-4721-ada2-5d30b2c3801f', 'http://sweetrading.ru/?p=884', 1419717884437, 'M_25-34'], ['d502331d-621e-4721-ada2-5d30b2c3801f', 'http://sweetrading.ru/?p=1002', 1419717816375, 'M_25-34'], ['d502331d-621e-4721-ada2-5d30b2c3801f', 'http://101.ru/?an=port_channel_mp3', 1419717804934, 'M_25-34'], ['d502331d-621e-4721-ada2-5d30b2c3801f', 'http://sweetrading.ru/?cat=62', 1419714194423, 'M_25-34']]\n"
     ]
    }
   ],
   "source": [
    "input = open('urls_uid_y.pkl', 'rb')\n",
    "urls = pickle.load(input)\n",
    "input.close()\n",
    "print urls[:10]"
   ]
  },
  {
   "cell_type": "code",
   "execution_count": 55,
   "metadata": {
    "collapsed": false,
    "deletable": true,
    "editable": true
   },
   "outputs": [],
   "source": [
    "df_url = pd.DataFrame(urls, columns=['uid', 'url','ts', 'target'])"
   ]
  },
  {
   "cell_type": "code",
   "execution_count": 56,
   "metadata": {
    "collapsed": false,
    "deletable": true,
    "editable": true
   },
   "outputs": [],
   "source": [
    "uniq_url = pd.DataFrame(list(df_url.url.unique()),columns=['uniq_url'])"
   ]
  },
  {
   "cell_type": "code",
   "execution_count": 11,
   "metadata": {
    "collapsed": false,
    "deletable": true,
    "editable": true
   },
   "outputs": [],
   "source": [
    "uniq_url.to_csv('uniq_url', index=False, header=False)"
   ]
  },
  {
   "cell_type": "code",
   "execution_count": 32,
   "metadata": {
    "collapsed": false,
    "deletable": true,
    "editable": true,
    "scrolled": true
   },
   "outputs": [
    {
     "name": "stdout",
     "output_type": "stream",
     "text": [
      "http://zebra-zoya.ru/200028-chehol-organayzer-dlja-macbook-11-grid-it.html?utm_campaign=397720794&utm_content=397729344&utm_medium=cpc&utm_source=begun\n",
      "\t\n",
      "http://chezasite.com/htc/htc-one-m9-delay-86327.html\n",
      "\tHTC пришлось отодвинуть начало продаж флагмана One M9 на пока не объявленный срок. Смартфон уже сегодня должны были отправить первым тайваньским покупателям, но им придется ждать важного обновления. По информации некоторых источников, свежее системное ПО исправит некую серьезную ошибку, вызывающую проблемы с загрузкой HTC One M9. Это подтверждено и официальным письмом от производителя, который пока не называет сроков и обещает доставить обновление на гаджеты «так скоро, как будет возможно». Покупатели, успевшие пообщаться с поддержкой HTC по данному вопросу, сообщают, что компания планирует запустить продажи One M9 в течение двух недель. В качестве минимального срока исправления ошибки производитель указывает пару дней. Данная информация касается лишь основной версии смартфона, оснащенной 32-ГБ модулем памяти. Расширенный же вариант HTC One M9, получивший носитель на 64 ГБ, выйдет в продажу не раньше конца марта. Пока неясно, повлияет ли задержка с запуском смартфона на родине компании на старт продаж в остальных странах — если проблема будет исправлена уже сейчас, в России и Европе новый флагман может появиться, как и обещалось, в конце этого или начале следующего месяца. [via Focus Taiwan]\n"
     ]
    }
   ],
   "source": [
    "from multiprocessing import Pool\n",
    "from tqdm import tqdm\n",
    "\n",
    "def Pars(url):\n",
    " \n",
    "    article = Article(url, language='ru')\n",
    "    article.download()\n",
    "\n",
    "    try:\n",
    "        article.parse()\n",
    "    except:\n",
    "        return ''\n",
    "    \n",
    "    text = article.text\n",
    "    text = ' '.join(text.split())\n",
    "\n",
    "    return (text)\n",
    "\n",
    "\n",
    "for url in list(open('uniq_url_1000', 'r'))[:2]:\n",
    "    try:\n",
    "        text = Pars(url.replace('\\n', ''))\n",
    "    except:\n",
    "        text = ''\n",
    " \n",
    "    try:    \n",
    "        print (str(url)+'\\t'+text).encode('utf-8').decode('utf-8')\n",
    "    except:\n",
    "        try:\n",
    "            print (str(url)+'\\t'+text).decode('utf-8')\n",
    "        except:\n",
    "            print ('')"
   ]
  },
  {
   "cell_type": "code",
   "execution_count": 117,
   "metadata": {
    "collapsed": true,
    "deletable": true,
    "editable": true
   },
   "outputs": [],
   "source": [
    "from bs4 import BeautifulSoup\n",
    "import re\n",
    "#from nltk.corpus import stopwords\n",
    "\n",
    "def text_to_wordlist(text):\n",
    "   \n",
    "    #text = re.sub('[а-яА-ЯёЁa-zA-Z0-9]', ' ', text)\n",
    "    words = text.lower().split(',')\n",
    "\n",
    "    #stops = set(stopwords.words(\"english\"))\n",
    "\n",
    "    return words"
   ]
  },
  {
   "cell_type": "code",
   "execution_count": 43,
   "metadata": {
    "collapsed": true,
    "deletable": true,
    "editable": true
   },
   "outputs": [],
   "source": [
    "import nltk.data\n",
    "\n",
    "def text_to_sentences(text):\n",
    "    text = BeautifulSoup(text).get_text()\n",
    "    \n",
    "    tokenizer = nltk.data.load('tokenizers/punkt/english.pickle')\n",
    "    raw_sentences = tokenizer.tokenize(text.strip())\n",
    "    \n",
    "    sentences = []\n",
    "    for raw_sentence in raw_sentences:\n",
    "        if len(raw_sentence) > 0:\n",
    "            sentences.append(text_to_wordlist(raw_sentence))\n",
    "\n",
    "    return sentences"
   ]
  },
  {
   "cell_type": "code",
   "execution_count": 44,
   "metadata": {
    "collapsed": false,
    "deletable": true,
    "editable": true
   },
   "outputs": [],
   "source": [
    "from multiprocessing import Pool\n",
    "from tqdm import tqdm\n",
    "\n",
    "sentences = []\n",
    "\n",
    "text = '''HTC пришлось отодвинуть начало продаж флагмана One M9 на пока не объявленный срок. Смартфон уже сегодня должны были отправить первым тайваньским покупателям, но им придется ждать важного обновления. По информации некоторых источников, свежее системное ПО исправит некую серьезную ошибку, вызывающую проблемы с загрузкой HTC One M9. Это подтверждено и официальным письмом от производителя, который пока не называет сроков и обещает доставить обновление на гаджеты «так скоро, как будет возможно». Покупатели, успевшие пообщаться с поддержкой HTC по данному вопросу, сообщают, что компания планирует запустить продажи One M9 в течение двух недель. В качестве минимального срока исправления ошибки производитель указывает пару дней. Данная информация касается лишь основной версии смартфона, оснащенной 32-ГБ модулем памяти. Расширенный же вариант HTC One M9, получивший носитель на 64 ГБ, выйдет в продажу не раньше конца марта. Пока неясно, повлияет ли задержка с запуском смартфона на родине компании на старт продаж в остальных странах — если проблема будет исправлена уже сейчас, в России и Европе новый флагман может появиться, как и обещалось, в конце этого или начале следующего месяца. [via Focus Taiwan]'''\n",
    "sentences += text_to_sentences(text)"
   ]
  },
  {
   "cell_type": "code",
   "execution_count": null,
   "metadata": {
    "collapsed": true,
    "deletable": true,
    "editable": true
   },
   "outputs": [],
   "source": [
    "pd.to_csv(uniq_url, index=False, sep='\\t', header=False)"
   ]
  },
  {
   "cell_type": "code",
   "execution_count": 83,
   "metadata": {
    "collapsed": true
   },
   "outputs": [],
   "source": [
    "topicDict = json.load(open('url_topic.json'))"
   ]
  },
  {
   "cell_type": "code",
   "execution_count": 49,
   "metadata": {
    "collapsed": true,
    "deletable": true,
    "editable": true
   },
   "outputs": [],
   "source": [
    "def url2domain(url):\n",
    "    url = re.sub('(http(s)*://)+', 'http://', url)\n",
    "    parsed_url = urlparse(unquote(url.strip()))\n",
    "    if parsed_url.scheme not in ['http','https']: return None\n",
    "    netloc = re.search(\"(?:www\\.)?(.*)\", parsed_url.netloc).group(1)\n",
    "    if netloc is not None: return str(netloc.encode('utf8')).strip()\n",
    "    return None"
   ]
  },
  {
   "cell_type": "code",
   "execution_count": 61,
   "metadata": {
    "collapsed": true
   },
   "outputs": [],
   "source": [
    "def get_domain(url):\n",
    "    try:\n",
    "        a = urlparse(unquote(url.strip()))\n",
    "        if a.netloc == 'news.yandex.ru':\n",
    "                if(re.search('(?<=cl4url=).+(html)', url)):\n",
    "                    url = 'http://' + re.search('(?<=cl4url=).+(html)', url).group(0)\n",
    "                else:\n",
    "                    url = 'http://' + re.search('(?<=cl4url=).+', url).group(0)\n",
    "        stripUrl = str(url).strip()\n",
    "        return url2domain(stripUrl)\n",
    "    except Exception as e_get_url_in:\n",
    "        pass"
   ]
  },
  {
   "cell_type": "code",
   "execution_count": 65,
   "metadata": {
    "collapsed": false
   },
   "outputs": [],
   "source": [
    "df_url['domain'] = df_url['url'].apply(get_domain)"
   ]
  },
  {
   "cell_type": "code",
   "execution_count": 66,
   "metadata": {
    "collapsed": false
   },
   "outputs": [
    {
     "data": {
      "text/plain": [
       "116790"
      ]
     },
     "execution_count": 66,
     "metadata": {},
     "output_type": "execute_result"
    }
   ],
   "source": [
    "len(df_url['domain'].unique())"
   ]
  },
  {
   "cell_type": "code",
   "execution_count": 86,
   "metadata": {
    "collapsed": false
   },
   "outputs": [],
   "source": [
    "df_url['topic'] = df_url['domain'].apply(lambda x: topicDict.get(x))"
   ]
  },
  {
   "cell_type": "code",
   "execution_count": 90,
   "metadata": {
    "collapsed": true
   },
   "outputs": [],
   "source": [
    "df_url['topic'].fillna('', inplace=True)"
   ]
  },
  {
   "cell_type": "code",
   "execution_count": 214,
   "metadata": {
    "collapsed": true
   },
   "outputs": [],
   "source": [
    "df_url['domain'].fillna('', inplace=True)"
   ]
  },
  {
   "cell_type": "code",
   "execution_count": 91,
   "metadata": {
    "collapsed": false
   },
   "outputs": [
    {
     "data": {
      "text/html": [
       "<div>\n",
       "<table border=\"1\" class=\"dataframe\">\n",
       "  <thead>\n",
       "    <tr style=\"text-align: right;\">\n",
       "      <th></th>\n",
       "      <th>uid</th>\n",
       "      <th>url</th>\n",
       "      <th>ts</th>\n",
       "      <th>target</th>\n",
       "      <th>domain</th>\n",
       "      <th>topic</th>\n",
       "    </tr>\n",
       "  </thead>\n",
       "  <tbody>\n",
       "    <tr>\n",
       "      <th>0</th>\n",
       "      <td>d50192e5-c44e-4ae8-ae7a-7cfe67c8b777</td>\n",
       "      <td>http://zebra-zoya.ru/200028-chehol-organayzer-...</td>\n",
       "      <td>1419688144068</td>\n",
       "      <td>F_18-24</td>\n",
       "      <td>zebra-zoya.ru</td>\n",
       "      <td></td>\n",
       "    </tr>\n",
       "    <tr>\n",
       "      <th>1</th>\n",
       "      <td>d50192e5-c44e-4ae8-ae7a-7cfe67c8b777</td>\n",
       "      <td>http://chezasite.com/htc/htc-one-m9-delay-8632...</td>\n",
       "      <td>1426666298001</td>\n",
       "      <td>F_18-24</td>\n",
       "      <td>chezasite.com</td>\n",
       "      <td></td>\n",
       "    </tr>\n",
       "    <tr>\n",
       "      <th>2</th>\n",
       "      <td>d50192e5-c44e-4ae8-ae7a-7cfe67c8b777</td>\n",
       "      <td>http://www.sotovik.ru/news/240283-htc-one-m9-z...</td>\n",
       "      <td>1426666298000</td>\n",
       "      <td>F_18-24</td>\n",
       "      <td>sotovik.ru</td>\n",
       "      <td>Мобильные телефоны</td>\n",
       "    </tr>\n",
       "    <tr>\n",
       "      <th>3</th>\n",
       "      <td>d50192e5-c44e-4ae8-ae7a-7cfe67c8b777</td>\n",
       "      <td>http://chezasite.com/htc/htc-one-m9-delay-8632...</td>\n",
       "      <td>1426661722001</td>\n",
       "      <td>F_18-24</td>\n",
       "      <td>chezasite.com</td>\n",
       "      <td></td>\n",
       "    </tr>\n",
       "    <tr>\n",
       "      <th>4</th>\n",
       "      <td>d50192e5-c44e-4ae8-ae7a-7cfe67c8b777</td>\n",
       "      <td>http://www.sotovik.ru/news/240283-htc-one-m9-z...</td>\n",
       "      <td>1426661722000</td>\n",
       "      <td>F_18-24</td>\n",
       "      <td>sotovik.ru</td>\n",
       "      <td>Мобильные телефоны</td>\n",
       "    </tr>\n",
       "  </tbody>\n",
       "</table>\n",
       "</div>"
      ],
      "text/plain": [
       "                                    uid  \\\n",
       "0  d50192e5-c44e-4ae8-ae7a-7cfe67c8b777   \n",
       "1  d50192e5-c44e-4ae8-ae7a-7cfe67c8b777   \n",
       "2  d50192e5-c44e-4ae8-ae7a-7cfe67c8b777   \n",
       "3  d50192e5-c44e-4ae8-ae7a-7cfe67c8b777   \n",
       "4  d50192e5-c44e-4ae8-ae7a-7cfe67c8b777   \n",
       "\n",
       "                                                 url             ts   target  \\\n",
       "0  http://zebra-zoya.ru/200028-chehol-organayzer-...  1419688144068  F_18-24   \n",
       "1  http://chezasite.com/htc/htc-one-m9-delay-8632...  1426666298001  F_18-24   \n",
       "2  http://www.sotovik.ru/news/240283-htc-one-m9-z...  1426666298000  F_18-24   \n",
       "3  http://chezasite.com/htc/htc-one-m9-delay-8632...  1426661722001  F_18-24   \n",
       "4  http://www.sotovik.ru/news/240283-htc-one-m9-z...  1426661722000  F_18-24   \n",
       "\n",
       "          domain               topic  \n",
       "0  zebra-zoya.ru                      \n",
       "1  chezasite.com                      \n",
       "2     sotovik.ru  Мобильные телефоны  \n",
       "3  chezasite.com                      \n",
       "4     sotovik.ru  Мобильные телефоны  "
      ]
     },
     "execution_count": 91,
     "metadata": {},
     "output_type": "execute_result"
    }
   ],
   "source": [
    "df_url.head()"
   ]
  },
  {
   "cell_type": "code",
   "execution_count": 100,
   "metadata": {
    "collapsed": true
   },
   "outputs": [],
   "source": [
    "def topic2vec(s):\n",
    "    t2v = []\n",
    "    for t in s.strip().split(','):\n",
    "        t2v.append(t)\n",
    "    return t2v"
   ]
  },
  {
   "cell_type": "code",
   "execution_count": 177,
   "metadata": {
    "collapsed": false
   },
   "outputs": [],
   "source": [
    "group_topic = df_url.groupby('uid')['topic'].agg(lambda x: ','.join(set(x))).reset_index(True)"
   ]
  },
  {
   "cell_type": "code",
   "execution_count": 215,
   "metadata": {
    "collapsed": false
   },
   "outputs": [],
   "source": [
    "group_domain = df_url.groupby('uid')['domain'].agg(lambda x: ','.join(set(x))).reset_index(True)"
   ]
  },
  {
   "cell_type": "code",
   "execution_count": 184,
   "metadata": {
    "collapsed": false
   },
   "outputs": [],
   "source": [
    "group_topic['topic'] = group_topic['topic'].apply(lambda x: x.replace(',', '', 1) if (len(x)>0 and x[0]==',') else x)"
   ]
  },
  {
   "cell_type": "code",
   "execution_count": 218,
   "metadata": {
    "collapsed": false
   },
   "outputs": [
    {
     "data": {
      "text/html": [
       "<div>\n",
       "<table border=\"1\" class=\"dataframe\">\n",
       "  <thead>\n",
       "    <tr style=\"text-align: right;\">\n",
       "      <th></th>\n",
       "      <th>uid</th>\n",
       "      <th>domain</th>\n",
       "    </tr>\n",
       "  </thead>\n",
       "  <tbody>\n",
       "    <tr>\n",
       "      <th>0</th>\n",
       "      <td>0000e7ca-32e6-4bef-bdca-e21c025071ff</td>\n",
       "      <td>2do2go.ru,naturalmask.ru,retail-tech.ru,astrom...</td>\n",
       "    </tr>\n",
       "    <tr>\n",
       "      <th>1</th>\n",
       "      <td>0000f3cf-6e9a-4eab-92f4-cefdad108c83</td>\n",
       "      <td>onedivision.ru,google.com,classes.ru,zenit-pen...</td>\n",
       "    </tr>\n",
       "    <tr>\n",
       "      <th>2</th>\n",
       "      <td>000381a6-0400-40f8-98c0-93a6c0852d2d</td>\n",
       "      <td>russianfood.com,google.ru</td>\n",
       "    </tr>\n",
       "    <tr>\n",
       "      <th>3</th>\n",
       "      <td>00062d89-a3ba-40dd-9a25-212c9f429133</td>\n",
       "      <td>home.webalta.ru</td>\n",
       "    </tr>\n",
       "    <tr>\n",
       "      <th>4</th>\n",
       "      <td>0009233e-a0c2-438e-ac36-bd3e1b7dad1e</td>\n",
       "      <td>i-sux.com,fucked-tube.com</td>\n",
       "    </tr>\n",
       "    <tr>\n",
       "      <th>5</th>\n",
       "      <td>000c67ae-e4e2-465e-9b22-ce67bbe1385c</td>\n",
       "      <td>shop.lenovo.com</td>\n",
       "    </tr>\n",
       "    <tr>\n",
       "      <th>6</th>\n",
       "      <td>000c737c-5cfc-4bc2-aa20-daf61068a69b</td>\n",
       "      <td>paygate.transcredit.ru,kanjiname.ru,centreopt....</td>\n",
       "    </tr>\n",
       "    <tr>\n",
       "      <th>7</th>\n",
       "      <td>000de64c-b8b0-4eed-874a-06f685e17920</td>\n",
       "      <td>segodnya.ua,forum.cn.ua,musson.ua,numizmatik.r...</td>\n",
       "    </tr>\n",
       "    <tr>\n",
       "      <th>8</th>\n",
       "      <td>000e562a-fb49-4d51-a692-787fcec76931</td>\n",
       "      <td>aif.ru,rbwdelta.narod.ru,ebay.com,catcar.info,...</td>\n",
       "    </tr>\n",
       "    <tr>\n",
       "      <th>9</th>\n",
       "      <td>000fcabd-89eb-4d5a-8ad0-c2bebded6388</td>\n",
       "      <td>dating.meta.ua</td>\n",
       "    </tr>\n",
       "  </tbody>\n",
       "</table>\n",
       "</div>"
      ],
      "text/plain": [
       "                                    uid  \\\n",
       "0  0000e7ca-32e6-4bef-bdca-e21c025071ff   \n",
       "1  0000f3cf-6e9a-4eab-92f4-cefdad108c83   \n",
       "2  000381a6-0400-40f8-98c0-93a6c0852d2d   \n",
       "3  00062d89-a3ba-40dd-9a25-212c9f429133   \n",
       "4  0009233e-a0c2-438e-ac36-bd3e1b7dad1e   \n",
       "5  000c67ae-e4e2-465e-9b22-ce67bbe1385c   \n",
       "6  000c737c-5cfc-4bc2-aa20-daf61068a69b   \n",
       "7  000de64c-b8b0-4eed-874a-06f685e17920   \n",
       "8  000e562a-fb49-4d51-a692-787fcec76931   \n",
       "9  000fcabd-89eb-4d5a-8ad0-c2bebded6388   \n",
       "\n",
       "                                              domain  \n",
       "0  2do2go.ru,naturalmask.ru,retail-tech.ru,astrom...  \n",
       "1  onedivision.ru,google.com,classes.ru,zenit-pen...  \n",
       "2                          russianfood.com,google.ru  \n",
       "3                                    home.webalta.ru  \n",
       "4                          i-sux.com,fucked-tube.com  \n",
       "5                                    shop.lenovo.com  \n",
       "6  paygate.transcredit.ru,kanjiname.ru,centreopt....  \n",
       "7  segodnya.ua,forum.cn.ua,musson.ua,numizmatik.r...  \n",
       "8  aif.ru,rbwdelta.narod.ru,ebay.com,catcar.info,...  \n",
       "9                                     dating.meta.ua  "
      ]
     },
     "execution_count": 218,
     "metadata": {},
     "output_type": "execute_result"
    }
   ],
   "source": [
    "group_domain.head(10)"
   ]
  },
  {
   "cell_type": "code",
   "execution_count": 186,
   "metadata": {
    "collapsed": false
   },
   "outputs": [
    {
     "data": {
      "text/plain": [
       "41138"
      ]
     },
     "execution_count": 186,
     "metadata": {},
     "output_type": "execute_result"
    }
   ],
   "source": [
    "sentences = []\n",
    "for raw_sentence in group_topic.iterrows():\n",
    "        sentences.append(text_to_wordlist(raw_sentence[1][1]))\n",
    "len(sentences)"
   ]
  },
  {
   "cell_type": "code",
   "execution_count": 232,
   "metadata": {
    "collapsed": false
   },
   "outputs": [
    {
     "data": {
      "text/plain": [
       "41138"
      ]
     },
     "execution_count": 232,
     "metadata": {},
     "output_type": "execute_result"
    }
   ],
   "source": [
    "sentences_dom = []\n",
    "for raw_sentence in group_domain.iterrows():\n",
    "        sentences_dom.append(text_to_wordlist(raw_sentence[1][1]))\n",
    "len(sentences_dom)"
   ]
  },
  {
   "cell_type": "code",
   "execution_count": 187,
   "metadata": {
    "collapsed": false
   },
   "outputs": [
    {
     "name": "stdout",
     "output_type": "stream",
     "text": [
      "CPU times: user 2.18 s, sys: 235 ms, total: 2.41 s\n",
      "Wall time: 1.42 s\n"
     ]
    }
   ],
   "source": [
    "%%time\n",
    "# симортируем соответствующую функцию из модуля gensim, который должен быть установлен\n",
    "\n",
    "from gensim.models.word2vec import Word2Vec \n",
    "\n",
    "# список параметров, которые можно менять по вашему желанию\n",
    "num_features = 100  # итоговая размерность вектора каждого слова\n",
    "min_word_count = 1  # минимальная частотность слова, чтобы оно попало в модель\n",
    "num_workers = 4     # количество ядер вашего процессора, чтоб запустить обучение в несколько потоков\n",
    "context = 4        # размер окна \n",
    "downsampling = 1e-3 # внутренняя метрика модели\n",
    "\n",
    "model = Word2Vec(sentences, workers=num_workers, size=num_features,\n",
    "                 min_count=min_word_count, window=context, sample=downsampling)"
   ]
  },
  {
   "cell_type": "code",
   "execution_count": 234,
   "metadata": {
    "collapsed": false
   },
   "outputs": [
    {
     "name": "stdout",
     "output_type": "stream",
     "text": [
      "CPU times: user 19 s, sys: 835 ms, total: 19.8 s\n",
      "Wall time: 9.25 s\n"
     ]
    }
   ],
   "source": [
    "%%time\n",
    "# симортируем соответствующую функцию из модуля gensim, который должен быть установлен\n",
    "\n",
    "from gensim.models.word2vec import Word2Vec \n",
    "\n",
    "# список параметров, которые можно менять по вашему желанию\n",
    "num_features = 100  # итоговая размерность вектора каждого слова\n",
    "min_word_count = 1  # минимальная частотность слова, чтобы оно попало в модель\n",
    "num_workers = 4     # количество ядер вашего процессора, чтоб запустить обучение в несколько потоков\n",
    "context = 4        # размер окна \n",
    "downsampling = 1e-3 # внутренняя метрика модели\n",
    "\n",
    "model_dom = Word2Vec(sentences_dom, workers=num_workers, size=num_features,\n",
    "                 min_count=min_word_count, window=context, sample=downsampling)"
   ]
  },
  {
   "cell_type": "code",
   "execution_count": 137,
   "metadata": {
    "collapsed": true,
    "deletable": true,
    "editable": true
   },
   "outputs": [],
   "source": [
    "model.init_sims(replace=True)"
   ]
  },
  {
   "cell_type": "code",
   "execution_count": 235,
   "metadata": {
    "collapsed": true
   },
   "outputs": [],
   "source": [
    "model_dom.init_sims(replace=True)"
   ]
  },
  {
   "cell_type": "code",
   "execution_count": 198,
   "metadata": {
    "collapsed": true
   },
   "outputs": [],
   "source": [
    "def topics_w2v(sent, model, size):\n",
    "    text_vec = np.zeros((size,), dtype=\"float32\")\n",
    "    n_words = 0\n",
    "\n",
    "    index2word_set = set(model.wv.index2word)\n",
    "    for word in sent:\n",
    "        if word in index2word_set:\n",
    "            n_words = n_words + 1\n",
    "            text_vec = np.add(text_vec, model[word])\n",
    "    \n",
    "    if n_words != 0:\n",
    "        text_vec /= n_words\n",
    "    return text_vec"
   ]
  },
  {
   "cell_type": "code",
   "execution_count": 249,
   "metadata": {
    "collapsed": true
   },
   "outputs": [],
   "source": [
    "def domain_w2v(sent, model, size):\n",
    "    text_vec = np.zeros((size,), dtype=\"float32\")\n",
    "    n_words = 0\n",
    "\n",
    "    index2word_set = set(model.wv.index2word)\n",
    "    for word in sent:\n",
    "        if word in index2word_set:\n",
    "            n_words = n_words + 1\n",
    "            text_vec = np.add(text_vec, model[word])\n",
    "    \n",
    "    if n_words != 0:\n",
    "        text_vec /= n_words\n",
    "    return text_vec"
   ]
  },
  {
   "cell_type": "code",
   "execution_count": 206,
   "metadata": {
    "collapsed": false
   },
   "outputs": [],
   "source": [
    "sen_vec = []\n",
    "for n in range(len(sentences)):\n",
    "    sen_vec.append(topics_w2v(sentences[n],model, 100))"
   ]
  },
  {
   "cell_type": "code",
   "execution_count": 250,
   "metadata": {
    "collapsed": false
   },
   "outputs": [
    {
     "name": "stderr",
     "output_type": "stream",
     "text": [
      "100%|██████████| 41138/41138 [19:05<00:00, 35.93it/s]\n"
     ]
    }
   ],
   "source": [
    "sen_dom_vec = []\n",
    "for n in tqdm(range(len(sentences_dom))):\n",
    "    sen_dom_vec.append(domain_w2v(sentences_dom[n],model_dom, 100))"
   ]
  },
  {
   "cell_type": "code",
   "execution_count": 224,
   "metadata": {
    "collapsed": false
   },
   "outputs": [],
   "source": [
    "topic_w2v = group_topic.join(pd.DataFrame(sen_vec))"
   ]
  },
  {
   "cell_type": "code",
   "execution_count": 252,
   "metadata": {
    "collapsed": true
   },
   "outputs": [],
   "source": [
    "domain_w2v = group_topic.join(pd.DataFrame(sen_dom_vec))"
   ]
  },
  {
   "cell_type": "code",
   "execution_count": 253,
   "metadata": {
    "collapsed": false
   },
   "outputs": [
    {
     "data": {
      "text/html": [
       "<div>\n",
       "<table border=\"1\" class=\"dataframe\">\n",
       "  <thead>\n",
       "    <tr style=\"text-align: right;\">\n",
       "      <th></th>\n",
       "      <th>uid</th>\n",
       "      <th>topic</th>\n",
       "      <th>0</th>\n",
       "      <th>1</th>\n",
       "      <th>2</th>\n",
       "      <th>3</th>\n",
       "      <th>4</th>\n",
       "      <th>5</th>\n",
       "      <th>6</th>\n",
       "      <th>7</th>\n",
       "      <th>...</th>\n",
       "      <th>90</th>\n",
       "      <th>91</th>\n",
       "      <th>92</th>\n",
       "      <th>93</th>\n",
       "      <th>94</th>\n",
       "      <th>95</th>\n",
       "      <th>96</th>\n",
       "      <th>97</th>\n",
       "      <th>98</th>\n",
       "      <th>99</th>\n",
       "    </tr>\n",
       "  </thead>\n",
       "  <tbody>\n",
       "    <tr>\n",
       "      <th>0</th>\n",
       "      <td>0000e7ca-32e6-4bef-bdca-e21c025071ff</td>\n",
       "      <td>Афиша,Учёба,Поисковые системы</td>\n",
       "      <td>0.169153</td>\n",
       "      <td>-0.099084</td>\n",
       "      <td>-0.058247</td>\n",
       "      <td>0.062917</td>\n",
       "      <td>0.081794</td>\n",
       "      <td>-0.008729</td>\n",
       "      <td>0.064927</td>\n",
       "      <td>0.003386</td>\n",
       "      <td>...</td>\n",
       "      <td>0.097591</td>\n",
       "      <td>-0.128122</td>\n",
       "      <td>0.077316</td>\n",
       "      <td>0.227314</td>\n",
       "      <td>-0.018523</td>\n",
       "      <td>0.047173</td>\n",
       "      <td>-0.038104</td>\n",
       "      <td>0.120925</td>\n",
       "      <td>0.035157</td>\n",
       "      <td>-0.071000</td>\n",
       "    </tr>\n",
       "    <tr>\n",
       "      <th>1</th>\n",
       "      <td>0000f3cf-6e9a-4eab-92f4-cefdad108c83</td>\n",
       "      <td>Футбол</td>\n",
       "      <td>0.202803</td>\n",
       "      <td>-0.113804</td>\n",
       "      <td>-0.060480</td>\n",
       "      <td>0.084485</td>\n",
       "      <td>0.068101</td>\n",
       "      <td>-0.002785</td>\n",
       "      <td>0.054932</td>\n",
       "      <td>0.012815</td>\n",
       "      <td>...</td>\n",
       "      <td>0.071392</td>\n",
       "      <td>-0.117050</td>\n",
       "      <td>0.081420</td>\n",
       "      <td>0.227730</td>\n",
       "      <td>-0.008774</td>\n",
       "      <td>0.048438</td>\n",
       "      <td>-0.016666</td>\n",
       "      <td>0.132887</td>\n",
       "      <td>0.051860</td>\n",
       "      <td>-0.073539</td>\n",
       "    </tr>\n",
       "    <tr>\n",
       "      <th>2</th>\n",
       "      <td>000381a6-0400-40f8-98c0-93a6c0852d2d</td>\n",
       "      <td>Поисковые системы,Кулинария</td>\n",
       "      <td>0.177037</td>\n",
       "      <td>-0.099417</td>\n",
       "      <td>-0.046265</td>\n",
       "      <td>0.071207</td>\n",
       "      <td>0.077886</td>\n",
       "      <td>-0.004668</td>\n",
       "      <td>0.055286</td>\n",
       "      <td>-0.001279</td>\n",
       "      <td>...</td>\n",
       "      <td>0.094113</td>\n",
       "      <td>-0.102721</td>\n",
       "      <td>0.097214</td>\n",
       "      <td>0.212943</td>\n",
       "      <td>-0.034638</td>\n",
       "      <td>0.027696</td>\n",
       "      <td>-0.042848</td>\n",
       "      <td>0.115672</td>\n",
       "      <td>0.052930</td>\n",
       "      <td>-0.065145</td>\n",
       "    </tr>\n",
       "    <tr>\n",
       "      <th>3</th>\n",
       "      <td>00062d89-a3ba-40dd-9a25-212c9f429133</td>\n",
       "      <td></td>\n",
       "      <td>0.172354</td>\n",
       "      <td>-0.090236</td>\n",
       "      <td>-0.063934</td>\n",
       "      <td>0.063963</td>\n",
       "      <td>0.094414</td>\n",
       "      <td>-0.021780</td>\n",
       "      <td>0.072835</td>\n",
       "      <td>0.010171</td>\n",
       "      <td>...</td>\n",
       "      <td>0.109554</td>\n",
       "      <td>-0.145096</td>\n",
       "      <td>0.092490</td>\n",
       "      <td>0.213237</td>\n",
       "      <td>-0.005104</td>\n",
       "      <td>0.068343</td>\n",
       "      <td>-0.026618</td>\n",
       "      <td>0.126171</td>\n",
       "      <td>0.037817</td>\n",
       "      <td>-0.057540</td>\n",
       "    </tr>\n",
       "    <tr>\n",
       "      <th>4</th>\n",
       "      <td>0009233e-a0c2-438e-ac36-bd3e1b7dad1e</td>\n",
       "      <td></td>\n",
       "      <td>0.156834</td>\n",
       "      <td>-0.092972</td>\n",
       "      <td>-0.057520</td>\n",
       "      <td>0.081465</td>\n",
       "      <td>0.088406</td>\n",
       "      <td>0.018081</td>\n",
       "      <td>0.054070</td>\n",
       "      <td>0.023347</td>\n",
       "      <td>...</td>\n",
       "      <td>0.115018</td>\n",
       "      <td>-0.109232</td>\n",
       "      <td>0.071775</td>\n",
       "      <td>0.218846</td>\n",
       "      <td>-0.030919</td>\n",
       "      <td>0.024037</td>\n",
       "      <td>-0.066697</td>\n",
       "      <td>0.101290</td>\n",
       "      <td>0.029862</td>\n",
       "      <td>-0.064084</td>\n",
       "    </tr>\n",
       "  </tbody>\n",
       "</table>\n",
       "<p>5 rows × 102 columns</p>\n",
       "</div>"
      ],
      "text/plain": [
       "                                    uid                          topic  \\\n",
       "0  0000e7ca-32e6-4bef-bdca-e21c025071ff  Афиша,Учёба,Поисковые системы   \n",
       "1  0000f3cf-6e9a-4eab-92f4-cefdad108c83                         Футбол   \n",
       "2  000381a6-0400-40f8-98c0-93a6c0852d2d    Поисковые системы,Кулинария   \n",
       "3  00062d89-a3ba-40dd-9a25-212c9f429133                                  \n",
       "4  0009233e-a0c2-438e-ac36-bd3e1b7dad1e                                  \n",
       "\n",
       "          0         1         2         3         4         5         6  \\\n",
       "0  0.169153 -0.099084 -0.058247  0.062917  0.081794 -0.008729  0.064927   \n",
       "1  0.202803 -0.113804 -0.060480  0.084485  0.068101 -0.002785  0.054932   \n",
       "2  0.177037 -0.099417 -0.046265  0.071207  0.077886 -0.004668  0.055286   \n",
       "3  0.172354 -0.090236 -0.063934  0.063963  0.094414 -0.021780  0.072835   \n",
       "4  0.156834 -0.092972 -0.057520  0.081465  0.088406  0.018081  0.054070   \n",
       "\n",
       "          7    ...           90        91        92        93        94  \\\n",
       "0  0.003386    ...     0.097591 -0.128122  0.077316  0.227314 -0.018523   \n",
       "1  0.012815    ...     0.071392 -0.117050  0.081420  0.227730 -0.008774   \n",
       "2 -0.001279    ...     0.094113 -0.102721  0.097214  0.212943 -0.034638   \n",
       "3  0.010171    ...     0.109554 -0.145096  0.092490  0.213237 -0.005104   \n",
       "4  0.023347    ...     0.115018 -0.109232  0.071775  0.218846 -0.030919   \n",
       "\n",
       "         95        96        97        98        99  \n",
       "0  0.047173 -0.038104  0.120925  0.035157 -0.071000  \n",
       "1  0.048438 -0.016666  0.132887  0.051860 -0.073539  \n",
       "2  0.027696 -0.042848  0.115672  0.052930 -0.065145  \n",
       "3  0.068343 -0.026618  0.126171  0.037817 -0.057540  \n",
       "4  0.024037 -0.066697  0.101290  0.029862 -0.064084  \n",
       "\n",
       "[5 rows x 102 columns]"
      ]
     },
     "execution_count": 253,
     "metadata": {},
     "output_type": "execute_result"
    }
   ],
   "source": [
    "domain_w2v.head()"
   ]
  },
  {
   "cell_type": "code",
   "execution_count": 257,
   "metadata": {
    "collapsed": false
   },
   "outputs": [],
   "source": [
    "del domain_w2v['topic']"
   ]
  },
  {
   "cell_type": "code",
   "execution_count": 258,
   "metadata": {
    "collapsed": false
   },
   "outputs": [],
   "source": [
    "domain_w2v.to_csv('domain_w2v', index=False)"
   ]
  },
  {
   "cell_type": "code",
   "execution_count": 327,
   "metadata": {
    "collapsed": true
   },
   "outputs": [],
   "source": [
    "topic_domain_w2v = pd.merge(topic_w2v, domain_w2v, on='uid')"
   ]
  },
  {
   "cell_type": "code",
   "execution_count": 328,
   "metadata": {
    "collapsed": false
   },
   "outputs": [
    {
     "data": {
      "text/html": [
       "<div>\n",
       "<table border=\"1\" class=\"dataframe\">\n",
       "  <thead>\n",
       "    <tr style=\"text-align: right;\">\n",
       "      <th></th>\n",
       "      <th>uid</th>\n",
       "      <th>topic</th>\n",
       "      <th>0_x</th>\n",
       "      <th>1_x</th>\n",
       "      <th>2_x</th>\n",
       "      <th>3_x</th>\n",
       "      <th>4_x</th>\n",
       "      <th>5_x</th>\n",
       "      <th>6_x</th>\n",
       "      <th>7_x</th>\n",
       "      <th>...</th>\n",
       "      <th>90_y</th>\n",
       "      <th>91_y</th>\n",
       "      <th>92_y</th>\n",
       "      <th>93_y</th>\n",
       "      <th>94_y</th>\n",
       "      <th>95_y</th>\n",
       "      <th>96_y</th>\n",
       "      <th>97_y</th>\n",
       "      <th>98_y</th>\n",
       "      <th>99_y</th>\n",
       "    </tr>\n",
       "  </thead>\n",
       "  <tbody>\n",
       "    <tr>\n",
       "      <th>0</th>\n",
       "      <td>0000e7ca-32e6-4bef-bdca-e21c025071ff</td>\n",
       "      <td>Афиша,Учёба,Поисковые системы</td>\n",
       "      <td>-0.136438</td>\n",
       "      <td>0.095003</td>\n",
       "      <td>0.181394</td>\n",
       "      <td>0.186484</td>\n",
       "      <td>0.043901</td>\n",
       "      <td>-0.277346</td>\n",
       "      <td>0.024829</td>\n",
       "      <td>-0.158159</td>\n",
       "      <td>...</td>\n",
       "      <td>0.097591</td>\n",
       "      <td>-0.128122</td>\n",
       "      <td>0.077316</td>\n",
       "      <td>0.227314</td>\n",
       "      <td>-0.018523</td>\n",
       "      <td>0.047173</td>\n",
       "      <td>-0.038104</td>\n",
       "      <td>0.120925</td>\n",
       "      <td>0.035157</td>\n",
       "      <td>-0.071000</td>\n",
       "    </tr>\n",
       "    <tr>\n",
       "      <th>1</th>\n",
       "      <td>0000f3cf-6e9a-4eab-92f4-cefdad108c83</td>\n",
       "      <td>Футбол</td>\n",
       "      <td>-0.058444</td>\n",
       "      <td>-0.015480</td>\n",
       "      <td>0.272707</td>\n",
       "      <td>-0.081244</td>\n",
       "      <td>0.024444</td>\n",
       "      <td>-0.020156</td>\n",
       "      <td>-0.206274</td>\n",
       "      <td>0.035572</td>\n",
       "      <td>...</td>\n",
       "      <td>0.071392</td>\n",
       "      <td>-0.117050</td>\n",
       "      <td>0.081420</td>\n",
       "      <td>0.227730</td>\n",
       "      <td>-0.008774</td>\n",
       "      <td>0.048438</td>\n",
       "      <td>-0.016666</td>\n",
       "      <td>0.132887</td>\n",
       "      <td>0.051860</td>\n",
       "      <td>-0.073539</td>\n",
       "    </tr>\n",
       "    <tr>\n",
       "      <th>2</th>\n",
       "      <td>000381a6-0400-40f8-98c0-93a6c0852d2d</td>\n",
       "      <td>Поисковые системы,Кулинария</td>\n",
       "      <td>-0.144344</td>\n",
       "      <td>0.048023</td>\n",
       "      <td>0.273007</td>\n",
       "      <td>0.177869</td>\n",
       "      <td>0.155977</td>\n",
       "      <td>-0.212173</td>\n",
       "      <td>0.105107</td>\n",
       "      <td>-0.055093</td>\n",
       "      <td>...</td>\n",
       "      <td>0.094113</td>\n",
       "      <td>-0.102721</td>\n",
       "      <td>0.097214</td>\n",
       "      <td>0.212943</td>\n",
       "      <td>-0.034638</td>\n",
       "      <td>0.027696</td>\n",
       "      <td>-0.042848</td>\n",
       "      <td>0.115672</td>\n",
       "      <td>0.052930</td>\n",
       "      <td>-0.065145</td>\n",
       "    </tr>\n",
       "    <tr>\n",
       "      <th>3</th>\n",
       "      <td>00062d89-a3ba-40dd-9a25-212c9f429133</td>\n",
       "      <td></td>\n",
       "      <td>-0.039267</td>\n",
       "      <td>0.089302</td>\n",
       "      <td>0.152713</td>\n",
       "      <td>0.185479</td>\n",
       "      <td>0.079326</td>\n",
       "      <td>-0.017916</td>\n",
       "      <td>-0.013912</td>\n",
       "      <td>-0.042354</td>\n",
       "      <td>...</td>\n",
       "      <td>0.109554</td>\n",
       "      <td>-0.145096</td>\n",
       "      <td>0.092490</td>\n",
       "      <td>0.213237</td>\n",
       "      <td>-0.005104</td>\n",
       "      <td>0.068343</td>\n",
       "      <td>-0.026618</td>\n",
       "      <td>0.126171</td>\n",
       "      <td>0.037817</td>\n",
       "      <td>-0.057540</td>\n",
       "    </tr>\n",
       "    <tr>\n",
       "      <th>4</th>\n",
       "      <td>0009233e-a0c2-438e-ac36-bd3e1b7dad1e</td>\n",
       "      <td></td>\n",
       "      <td>-0.039267</td>\n",
       "      <td>0.089302</td>\n",
       "      <td>0.152713</td>\n",
       "      <td>0.185479</td>\n",
       "      <td>0.079326</td>\n",
       "      <td>-0.017916</td>\n",
       "      <td>-0.013912</td>\n",
       "      <td>-0.042354</td>\n",
       "      <td>...</td>\n",
       "      <td>0.115018</td>\n",
       "      <td>-0.109232</td>\n",
       "      <td>0.071775</td>\n",
       "      <td>0.218846</td>\n",
       "      <td>-0.030919</td>\n",
       "      <td>0.024037</td>\n",
       "      <td>-0.066697</td>\n",
       "      <td>0.101290</td>\n",
       "      <td>0.029862</td>\n",
       "      <td>-0.064084</td>\n",
       "    </tr>\n",
       "  </tbody>\n",
       "</table>\n",
       "<p>5 rows × 202 columns</p>\n",
       "</div>"
      ],
      "text/plain": [
       "                                    uid                          topic  \\\n",
       "0  0000e7ca-32e6-4bef-bdca-e21c025071ff  Афиша,Учёба,Поисковые системы   \n",
       "1  0000f3cf-6e9a-4eab-92f4-cefdad108c83                         Футбол   \n",
       "2  000381a6-0400-40f8-98c0-93a6c0852d2d    Поисковые системы,Кулинария   \n",
       "3  00062d89-a3ba-40dd-9a25-212c9f429133                                  \n",
       "4  0009233e-a0c2-438e-ac36-bd3e1b7dad1e                                  \n",
       "\n",
       "        0_x       1_x       2_x       3_x       4_x       5_x       6_x  \\\n",
       "0 -0.136438  0.095003  0.181394  0.186484  0.043901 -0.277346  0.024829   \n",
       "1 -0.058444 -0.015480  0.272707 -0.081244  0.024444 -0.020156 -0.206274   \n",
       "2 -0.144344  0.048023  0.273007  0.177869  0.155977 -0.212173  0.105107   \n",
       "3 -0.039267  0.089302  0.152713  0.185479  0.079326 -0.017916 -0.013912   \n",
       "4 -0.039267  0.089302  0.152713  0.185479  0.079326 -0.017916 -0.013912   \n",
       "\n",
       "        7_x    ...         90_y      91_y      92_y      93_y      94_y  \\\n",
       "0 -0.158159    ...     0.097591 -0.128122  0.077316  0.227314 -0.018523   \n",
       "1  0.035572    ...     0.071392 -0.117050  0.081420  0.227730 -0.008774   \n",
       "2 -0.055093    ...     0.094113 -0.102721  0.097214  0.212943 -0.034638   \n",
       "3 -0.042354    ...     0.109554 -0.145096  0.092490  0.213237 -0.005104   \n",
       "4 -0.042354    ...     0.115018 -0.109232  0.071775  0.218846 -0.030919   \n",
       "\n",
       "       95_y      96_y      97_y      98_y      99_y  \n",
       "0  0.047173 -0.038104  0.120925  0.035157 -0.071000  \n",
       "1  0.048438 -0.016666  0.132887  0.051860 -0.073539  \n",
       "2  0.027696 -0.042848  0.115672  0.052930 -0.065145  \n",
       "3  0.068343 -0.026618  0.126171  0.037817 -0.057540  \n",
       "4  0.024037 -0.066697  0.101290  0.029862 -0.064084  \n",
       "\n",
       "[5 rows x 202 columns]"
      ]
     },
     "execution_count": 328,
     "metadata": {},
     "output_type": "execute_result"
    }
   ],
   "source": [
    "topic_domain_w2v.head()"
   ]
  },
  {
   "cell_type": "code",
   "execution_count": 329,
   "metadata": {
    "collapsed": true
   },
   "outputs": [],
   "source": [
    "del topic_domain_w2v['topic']"
   ]
  },
  {
   "cell_type": "code",
   "execution_count": 330,
   "metadata": {
    "collapsed": false
   },
   "outputs": [],
   "source": [
    "rnn_pred_url = pd.read_csv('pred_url')"
   ]
  },
  {
   "cell_type": "code",
   "execution_count": 331,
   "metadata": {
    "collapsed": true
   },
   "outputs": [],
   "source": [
    "final_pred = pd.merge(topic_domain_w2v, rnn_pred_url, on='uid')"
   ]
  },
  {
   "cell_type": "code",
   "execution_count": 332,
   "metadata": {
    "collapsed": false
   },
   "outputs": [],
   "source": [
    "final_pred = pd.merge(df, final_pred, on='uid')"
   ]
  },
  {
   "cell_type": "code",
   "execution_count": 333,
   "metadata": {
    "collapsed": false,
    "scrolled": false
   },
   "outputs": [
    {
     "data": {
      "text/html": [
       "<div>\n",
       "<table border=\"1\" class=\"dataframe\">\n",
       "  <thead>\n",
       "    <tr style=\"text-align: right;\">\n",
       "      <th></th>\n",
       "      <th>gender</th>\n",
       "      <th>age</th>\n",
       "      <th>uid</th>\n",
       "      <th>user_json</th>\n",
       "      <th>0_x</th>\n",
       "      <th>1_x</th>\n",
       "      <th>2_x</th>\n",
       "      <th>3_x</th>\n",
       "      <th>4_x</th>\n",
       "      <th>5_x</th>\n",
       "      <th>...</th>\n",
       "      <th>M_25-34</th>\n",
       "      <th>F_25-34</th>\n",
       "      <th>M_35-44</th>\n",
       "      <th>F_45-54</th>\n",
       "      <th>num_url</th>\n",
       "      <th>M_&gt;=55</th>\n",
       "      <th>M_45-54</th>\n",
       "      <th>F_35-44</th>\n",
       "      <th>F_&gt;=55</th>\n",
       "      <th>M_18-24</th>\n",
       "    </tr>\n",
       "  </thead>\n",
       "  <tbody>\n",
       "    <tr>\n",
       "      <th>0</th>\n",
       "      <td>F</td>\n",
       "      <td>18-24</td>\n",
       "      <td>d50192e5-c44e-4ae8-ae7a-7cfe67c8b777</td>\n",
       "      <td>{\"visits\": [{\"url\": \"http://zebra-zoya.ru/2000...</td>\n",
       "      <td>-0.216731</td>\n",
       "      <td>0.331878</td>\n",
       "      <td>0.406458</td>\n",
       "      <td>0.359345</td>\n",
       "      <td>-0.000569</td>\n",
       "      <td>-0.473637</td>\n",
       "      <td>...</td>\n",
       "      <td>0.852160</td>\n",
       "      <td>1.015698e-22</td>\n",
       "      <td>8.160594e-23</td>\n",
       "      <td>8.195700e-23</td>\n",
       "      <td>5</td>\n",
       "      <td>0.099088</td>\n",
       "      <td>1.198349e-22</td>\n",
       "      <td>1.475508e-22</td>\n",
       "      <td>7.206251e-23</td>\n",
       "      <td>1.200307e-22</td>\n",
       "    </tr>\n",
       "    <tr>\n",
       "      <th>1</th>\n",
       "      <td>M</td>\n",
       "      <td>25-34</td>\n",
       "      <td>d502331d-621e-4721-ada2-5d30b2c3801f</td>\n",
       "      <td>{\"visits\": [{\"url\": \"http://sweetrading.ru/?p=...</td>\n",
       "      <td>0.008434</td>\n",
       "      <td>0.130241</td>\n",
       "      <td>0.108345</td>\n",
       "      <td>0.104738</td>\n",
       "      <td>-0.027596</td>\n",
       "      <td>-0.086027</td>\n",
       "      <td>...</td>\n",
       "      <td>0.852352</td>\n",
       "      <td>1.064481e-22</td>\n",
       "      <td>8.543414e-23</td>\n",
       "      <td>8.639450e-23</td>\n",
       "      <td>102</td>\n",
       "      <td>0.098945</td>\n",
       "      <td>1.259816e-22</td>\n",
       "      <td>1.545152e-22</td>\n",
       "      <td>7.552368e-23</td>\n",
       "      <td>1.253123e-22</td>\n",
       "    </tr>\n",
       "    <tr>\n",
       "      <th>2</th>\n",
       "      <td>F</td>\n",
       "      <td>25-34</td>\n",
       "      <td>d50237ea-747e-48a2-ba46-d08e71dddfdb</td>\n",
       "      <td>{\"visits\": [{\"url\": \"http://ru.oriflame.com/pr...</td>\n",
       "      <td>-0.092895</td>\n",
       "      <td>0.081689</td>\n",
       "      <td>0.178012</td>\n",
       "      <td>0.157137</td>\n",
       "      <td>0.127349</td>\n",
       "      <td>-0.057858</td>\n",
       "      <td>...</td>\n",
       "      <td>0.852969</td>\n",
       "      <td>1.092142e-22</td>\n",
       "      <td>8.752425e-23</td>\n",
       "      <td>8.930910e-23</td>\n",
       "      <td>44</td>\n",
       "      <td>0.098634</td>\n",
       "      <td>1.297646e-22</td>\n",
       "      <td>1.584117e-22</td>\n",
       "      <td>7.758131e-23</td>\n",
       "      <td>1.281451e-22</td>\n",
       "    </tr>\n",
       "    <tr>\n",
       "      <th>3</th>\n",
       "      <td>F</td>\n",
       "      <td>25-34</td>\n",
       "      <td>d502f29f-d57a-46bf-8703-1cb5f8dcdf03</td>\n",
       "      <td>{\"visits\": [{\"url\": \"http://translate-tattoo.r...</td>\n",
       "      <td>0.171748</td>\n",
       "      <td>-0.044650</td>\n",
       "      <td>0.097662</td>\n",
       "      <td>-0.207700</td>\n",
       "      <td>-0.109285</td>\n",
       "      <td>0.087263</td>\n",
       "      <td>...</td>\n",
       "      <td>0.852998</td>\n",
       "      <td>1.017539e-22</td>\n",
       "      <td>8.164012e-23</td>\n",
       "      <td>8.208970e-23</td>\n",
       "      <td>14</td>\n",
       "      <td>0.098688</td>\n",
       "      <td>1.199734e-22</td>\n",
       "      <td>1.478358e-22</td>\n",
       "      <td>7.219968e-23</td>\n",
       "      <td>1.200848e-22</td>\n",
       "    </tr>\n",
       "    <tr>\n",
       "      <th>4</th>\n",
       "      <td>M</td>\n",
       "      <td>&gt;=55</td>\n",
       "      <td>d503c3b2-a0c2-4f47-bb27-065058c73008</td>\n",
       "      <td>{\"visits\": [{\"url\": \"https://mail.rambler.ru/#...</td>\n",
       "      <td>-0.086742</td>\n",
       "      <td>0.040678</td>\n",
       "      <td>0.282966</td>\n",
       "      <td>0.038776</td>\n",
       "      <td>0.061263</td>\n",
       "      <td>-0.137502</td>\n",
       "      <td>...</td>\n",
       "      <td>0.852870</td>\n",
       "      <td>1.087173e-22</td>\n",
       "      <td>8.714346e-23</td>\n",
       "      <td>8.886159e-23</td>\n",
       "      <td>212</td>\n",
       "      <td>0.098678</td>\n",
       "      <td>1.291305e-22</td>\n",
       "      <td>1.577205e-22</td>\n",
       "      <td>7.723294e-23</td>\n",
       "      <td>1.277195e-22</td>\n",
       "    </tr>\n",
       "  </tbody>\n",
       "</table>\n",
       "<p>5 rows × 215 columns</p>\n",
       "</div>"
      ],
      "text/plain": [
       "  gender    age                                   uid  \\\n",
       "0      F  18-24  d50192e5-c44e-4ae8-ae7a-7cfe67c8b777   \n",
       "1      M  25-34  d502331d-621e-4721-ada2-5d30b2c3801f   \n",
       "2      F  25-34  d50237ea-747e-48a2-ba46-d08e71dddfdb   \n",
       "3      F  25-34  d502f29f-d57a-46bf-8703-1cb5f8dcdf03   \n",
       "4      M   >=55  d503c3b2-a0c2-4f47-bb27-065058c73008   \n",
       "\n",
       "                                           user_json       0_x       1_x  \\\n",
       "0  {\"visits\": [{\"url\": \"http://zebra-zoya.ru/2000... -0.216731  0.331878   \n",
       "1  {\"visits\": [{\"url\": \"http://sweetrading.ru/?p=...  0.008434  0.130241   \n",
       "2  {\"visits\": [{\"url\": \"http://ru.oriflame.com/pr... -0.092895  0.081689   \n",
       "3  {\"visits\": [{\"url\": \"http://translate-tattoo.r...  0.171748 -0.044650   \n",
       "4  {\"visits\": [{\"url\": \"https://mail.rambler.ru/#... -0.086742  0.040678   \n",
       "\n",
       "        2_x       3_x       4_x       5_x      ...        M_25-34  \\\n",
       "0  0.406458  0.359345 -0.000569 -0.473637      ...       0.852160   \n",
       "1  0.108345  0.104738 -0.027596 -0.086027      ...       0.852352   \n",
       "2  0.178012  0.157137  0.127349 -0.057858      ...       0.852969   \n",
       "3  0.097662 -0.207700 -0.109285  0.087263      ...       0.852998   \n",
       "4  0.282966  0.038776  0.061263 -0.137502      ...       0.852870   \n",
       "\n",
       "        F_25-34       M_35-44       F_45-54  num_url    M_>=55       M_45-54  \\\n",
       "0  1.015698e-22  8.160594e-23  8.195700e-23        5  0.099088  1.198349e-22   \n",
       "1  1.064481e-22  8.543414e-23  8.639450e-23      102  0.098945  1.259816e-22   \n",
       "2  1.092142e-22  8.752425e-23  8.930910e-23       44  0.098634  1.297646e-22   \n",
       "3  1.017539e-22  8.164012e-23  8.208970e-23       14  0.098688  1.199734e-22   \n",
       "4  1.087173e-22  8.714346e-23  8.886159e-23      212  0.098678  1.291305e-22   \n",
       "\n",
       "        F_35-44        F_>=55       M_18-24  \n",
       "0  1.475508e-22  7.206251e-23  1.200307e-22  \n",
       "1  1.545152e-22  7.552368e-23  1.253123e-22  \n",
       "2  1.584117e-22  7.758131e-23  1.281451e-22  \n",
       "3  1.478358e-22  7.219968e-23  1.200848e-22  \n",
       "4  1.577205e-22  7.723294e-23  1.277195e-22  \n",
       "\n",
       "[5 rows x 215 columns]"
      ]
     },
     "execution_count": 333,
     "metadata": {},
     "output_type": "execute_result"
    }
   ],
   "source": [
    "final_pred.head()"
   ]
  },
  {
   "cell_type": "code",
   "execution_count": 334,
   "metadata": {
    "collapsed": false
   },
   "outputs": [],
   "source": [
    "final_pred['target'] = final_pred['gender']+'_'+final_pred['age']"
   ]
  },
  {
   "cell_type": "code",
   "execution_count": 336,
   "metadata": {
    "collapsed": false
   },
   "outputs": [],
   "source": [
    "df_uid = final_pred[final_pred['target'] == '-_-']['uid']"
   ]
  },
  {
   "cell_type": "code",
   "execution_count": 337,
   "metadata": {
    "collapsed": true
   },
   "outputs": [],
   "source": [
    "del final_pred['gender']\n",
    "del final_pred['age']\n",
    "del final_pred['uid']\n",
    "del final_pred['user_json']"
   ]
  },
  {
   "cell_type": "code",
   "execution_count": 338,
   "metadata": {
    "collapsed": false,
    "deletable": true,
    "editable": true
   },
   "outputs": [],
   "source": [
    "df_train = final_pred[~(final_pred['target'] == '-_-')]\n",
    "df_test = final_pred[final_pred['target'] == '-_-']\n",
    "df_y = df_train['target']\n",
    "del df_train['target']\n",
    "del df_test['target']"
   ]
  },
  {
   "cell_type": "code",
   "execution_count": 382,
   "metadata": {
    "collapsed": false
   },
   "outputs": [
    {
     "name": "stdout",
     "output_type": "stream",
     "text": [
      "RandomizedSearchCV took 4565.84 seconds for 10 candidates parameter settings.\n"
     ]
    }
   ],
   "source": [
    "# build a classifier\n",
    "clf = RandomForestClassifier(n_estimators=300, n_jobs=-1)\n",
    "\n",
    "# specify parameters and distributions to sample from\n",
    "tree_params= {\"max_depth\": sp_randint(2, 20),\n",
    "              \"max_features\": sp_randint(20, len(df_train.columns)),\n",
    "              \"min_samples_split\": sp_randint(1, 20),\n",
    "              \"min_samples_leaf\": sp_randint(1, 20)}\n",
    "\n",
    "# run randomized search\n",
    "n_iter_search = 10\n",
    "random_search = RandomizedSearchCV(clf, param_distributions=tree_params, n_iter=n_iter_search, n_jobs=-1, cv=5)\n",
    "\n",
    "start = time()\n",
    "random_search.fit(df_train, df_y)\n",
    "print(\"RandomizedSearchCV took %.2f seconds for %d candidates\"\n",
    "      \" parameter settings.\" % ((time() - start), n_iter_search))"
   ]
  },
  {
   "cell_type": "code",
   "execution_count": 375,
   "metadata": {
    "collapsed": false
   },
   "outputs": [
    {
     "data": {
      "text/plain": [
       "{'max_depth': 9,\n",
       " 'max_features': 163,\n",
       " 'min_samples_leaf': 4,\n",
       " 'min_samples_split': 1}"
      ]
     },
     "execution_count": 375,
     "metadata": {},
     "output_type": "execute_result"
    }
   ],
   "source": [
    "random_search.best_params_"
   ]
  },
  {
   "cell_type": "code",
   "execution_count": 361,
   "metadata": {
    "collapsed": true
   },
   "outputs": [],
   "source": [
    "def split_target_gen(row):\n",
    "    g,a = row.split('_')\n",
    "    return g\n",
    "\n",
    "def split_target_age(row):\n",
    "    g,a = row.split('_')\n",
    "    return a"
   ]
  },
  {
   "cell_type": "code",
   "execution_count": 376,
   "metadata": {
    "collapsed": false
   },
   "outputs": [],
   "source": [
    "pred_class = pd.DataFrame(zip(df_uid, random_search.predict(df_test)), columns=['uid','class'])"
   ]
  },
  {
   "cell_type": "code",
   "execution_count": 377,
   "metadata": {
    "collapsed": false
   },
   "outputs": [],
   "source": [
    "pred_class['gender'] = pred_class['class'].apply(split_target_gen)\n",
    "pred_class['age'] = pred_class['class'].apply(split_target_age)\n",
    "del pred_class['class']"
   ]
  },
  {
   "cell_type": "code",
   "execution_count": 381,
   "metadata": {
    "collapsed": false
   },
   "outputs": [
    {
     "data": {
      "text/plain": [
       "0.28463113620012176"
      ]
     },
     "execution_count": 381,
     "metadata": {},
     "output_type": "execute_result"
    }
   ],
   "source": [
    "random_search.best_score_"
   ]
  },
  {
   "cell_type": "code",
   "execution_count": 378,
   "metadata": {
    "collapsed": false
   },
   "outputs": [
    {
     "data": {
      "text/html": [
       "<div>\n",
       "<table border=\"1\" class=\"dataframe\">\n",
       "  <thead>\n",
       "    <tr style=\"text-align: right;\">\n",
       "      <th></th>\n",
       "      <th>uid</th>\n",
       "      <th>gender</th>\n",
       "      <th>age</th>\n",
       "    </tr>\n",
       "  </thead>\n",
       "  <tbody>\n",
       "    <tr>\n",
       "      <th>0</th>\n",
       "      <td>bd7a30e1-a25d-4cbf-a03f-61748cbe540e</td>\n",
       "      <td>M</td>\n",
       "      <td>25-34</td>\n",
       "    </tr>\n",
       "    <tr>\n",
       "      <th>1</th>\n",
       "      <td>bd7a6f52-45db-49bf-90f2-a3b07a9b7bcd</td>\n",
       "      <td>M</td>\n",
       "      <td>25-34</td>\n",
       "    </tr>\n",
       "    <tr>\n",
       "      <th>2</th>\n",
       "      <td>bd7a7fd9-ab06-42f5-bf0f-1cbb0463004c</td>\n",
       "      <td>M</td>\n",
       "      <td>25-34</td>\n",
       "    </tr>\n",
       "    <tr>\n",
       "      <th>3</th>\n",
       "      <td>bd7c5d7a-0def-41d1-895f-fdb96c56c2d4</td>\n",
       "      <td>M</td>\n",
       "      <td>25-34</td>\n",
       "    </tr>\n",
       "    <tr>\n",
       "      <th>4</th>\n",
       "      <td>bd7e54a2-0215-45cb-a869-9efebf250e38</td>\n",
       "      <td>M</td>\n",
       "      <td>25-34</td>\n",
       "    </tr>\n",
       "  </tbody>\n",
       "</table>\n",
       "</div>"
      ],
      "text/plain": [
       "                                    uid gender    age\n",
       "0  bd7a30e1-a25d-4cbf-a03f-61748cbe540e      M  25-34\n",
       "1  bd7a6f52-45db-49bf-90f2-a3b07a9b7bcd      M  25-34\n",
       "2  bd7a7fd9-ab06-42f5-bf0f-1cbb0463004c      M  25-34\n",
       "3  bd7c5d7a-0def-41d1-895f-fdb96c56c2d4      M  25-34\n",
       "4  bd7e54a2-0215-45cb-a869-9efebf250e38      M  25-34"
      ]
     },
     "execution_count": 378,
     "metadata": {},
     "output_type": "execute_result"
    }
   ],
   "source": [
    "pred_class.head()"
   ]
  },
  {
   "cell_type": "code",
   "execution_count": 373,
   "metadata": {
    "collapsed": false
   },
   "outputs": [
    {
     "name": "stderr",
     "output_type": "stream",
     "text": [
      "/usr/local/lib/python2.7/dist-packages/ipykernel/__main__.py:1: FutureWarning: sort(columns=....) is deprecated, use sort_values(by=.....)\n",
      "  if __name__ == '__main__':\n"
     ]
    }
   ],
   "source": [
    "pred_class.sort('uid').to_csv( \"project01_gender-age.csv\", index=False, sep='\\t' )"
   ]
  },
  {
   "cell_type": "markdown",
   "metadata": {
    "deletable": true,
    "editable": true
   },
   "source": [
    "#### Пример выходного файла:\n",
    "\n",
    "```uid\tgender\tage\n",
    "123\tF\t18-24\n",
    "456\tM\t25-34\n",
    "789\t-\t-\n",
    "```"
   ]
  },
  {
   "cell_type": "markdown",
   "metadata": {
    "deletable": true,
    "editable": true
   },
   "source": [
    "### Проверка\n",
    "Проверка осуществляется из [Личного кабинета](http://lk.newprolab.com/lab/project01). По файлу будет определяться доля правильно спрогнозированных пользователей (у которых правильно указаны и пол, и возрастная категория).\n",
    "\n",
    "* В поле `part of users with predicted gender + age` - указана доля пользователей, которая была предсказана от общего числа неизвестных пользователей (пример: по 3 000 был сделан прогноз, а всего было неизвестно 5 000, чекер выдаст 0.6).\n",
    "\n",
    "* В поле `correctly predicted users / total number of users` - указана доля пользователей, которая была правильно предсказана (совпадает и пол, и возраст) от общего числа всех пользователей (пример: по 3 000 был сделан прогноз, правильно было спрогнозировано 1 500, а всего было неизвестно 5 000, чекер выдаст 0.3)\n",
    "\n",
    "* В поле `correctly predicted users / number of predicted users` - указана доля пользователей, которая была правильно предсказана (совпадает и пол, и возраст) от общего числа предсказанных пользователей (пример: по 3 000 был сделан прогноз, из них правильно предсказано 1 500, чекер выдаст 0.5).\n",
    "\n",
    "**Если доля в последнем поле превысит порог 0.28, то проект будет засчитан.**\n",
    "\n",
    "Лучшей команде, набравшей максимальный результат, мы подарим специальный приз, о котором скажем позднее."
   ]
  }
 ],
 "metadata": {
  "kernelspec": {
   "display_name": "Python 2",
   "language": "python",
   "name": "python2"
  },
  "language_info": {
   "codemirror_mode": {
    "name": "ipython",
    "version": 2
   },
   "file_extension": ".py",
   "mimetype": "text/x-python",
   "name": "python",
   "nbconvert_exporter": "python",
   "pygments_lexer": "ipython2",
   "version": "2.7.6"
  }
 },
 "nbformat": 4,
 "nbformat_minor": 2
}
