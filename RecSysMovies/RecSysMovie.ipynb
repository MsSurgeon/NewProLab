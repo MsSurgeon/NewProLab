{
 "cells": [
  {
   "cell_type": "code",
   "execution_count": 5,
   "metadata": {
    "collapsed": false,
    "deletable": true,
    "editable": true
   },
   "outputs": [
    {
     "name": "stdout",
     "output_type": "stream",
     "text": [
      "Welcome to\n",
      "      ____              __\n",
      "     / __/__  ___ _____/ /__\n",
      "    _\\ \\/ _ \\/ _ `/ __/  '_/\n",
      "   /__ / .__/\\_,_/_/ /_/\\_\\   version 2.1.1\n",
      "      /_/\n",
      "\n",
      "Using Python version 2.7.6 (default, Oct 26 2016 20:30:19)\n",
      "SparkSession available as 'spark'.\n"
     ]
    }
   ],
   "source": [
    "import os\n",
    "import sys\n",
    "\n",
    "os.environ[\"PYSPARK_SUBMIT_ARGS\"]='--packages com.databricks:spark-csv_2.10:1.2.0 pyspark-shell'\n",
    "spark_home = os.environ.get('SPARK_HOME', None)\n",
    "sys.path.insert(0, spark_home + \"/python\")\n",
    "\n",
    "execfile(os.path.join(spark_home, 'python/pyspark/shell.py'))"
   ]
  },
  {
   "cell_type": "code",
   "execution_count": 58,
   "metadata": {
    "collapsed": false,
    "deletable": true,
    "editable": true
   },
   "outputs": [],
   "source": [
    "import json \n",
    "from pyspark.sql import functions as F\n",
    "from pyspark.sql import SparkSession "
   ]
  },
  {
   "cell_type": "code",
   "execution_count": 6,
   "metadata": {
    "collapsed": true,
    "deletable": true,
    "editable": true
   },
   "outputs": [],
   "source": [
    "user_id = 592"
   ]
  },
  {
   "cell_type": "code",
   "execution_count": 31,
   "metadata": {
    "collapsed": false,
    "deletable": true,
    "editable": true
   },
   "outputs": [
    {
     "data": {
      "text/plain": [
       "PythonRDD[38] at RDD at PythonRDD.scala:48"
      ]
     },
     "execution_count": 31,
     "metadata": {},
     "output_type": "execute_result"
    }
   ],
   "source": [
    "rdd_data = sc.textFile('ml-100k/u.data')\n",
    "rdd_data = rdd_data.map(lambda x: x.split('\\t')).map(lambda x: (int(x[0]),int(x[1]),int(x[2])))\n",
    "rdd.cache()"
   ]
  },
  {
   "cell_type": "markdown",
   "metadata": {
    "deletable": true,
    "editable": true
   },
   "source": [
    "# Часть1. Основные характеристики данных MovieLens"
   ]
  },
  {
   "cell_type": "markdown",
   "metadata": {
    "deletable": true,
    "editable": true
   },
   "source": [
    "Найдите количество всех пользователей и количество всех фильмов в данных (общее число пользователей и фильмов в датасете)."
   ]
  },
  {
   "cell_type": "code",
   "execution_count": 49,
   "metadata": {
    "collapsed": false,
    "deletable": true,
    "editable": true
   },
   "outputs": [],
   "source": [
    "df_data = rdd_data.toDF(['user_id','item_id','rating'])"
   ]
  },
  {
   "cell_type": "code",
   "execution_count": 79,
   "metadata": {
    "collapsed": false,
    "deletable": true,
    "editable": true
   },
   "outputs": [
    {
     "name": "stdout",
     "output_type": "stream",
     "text": [
      "+-------+------------------+-----------------+------------------+\n",
      "|summary|           user_id|          item_id|            rating|\n",
      "+-------+------------------+-----------------+------------------+\n",
      "|  count|            100000|           100000|            100000|\n",
      "|   mean|         462.48475|        425.53013|           3.52986|\n",
      "| stddev|266.61442012750945|330.7983563255858|1.1256735991443179|\n",
      "|    min|                 1|                1|                 1|\n",
      "|    max|               943|             1682|                 5|\n",
      "+-------+------------------+-----------------+------------------+\n",
      "\n"
     ]
    }
   ],
   "source": [
    "df_data.describe().show()"
   ]
  },
  {
   "cell_type": "code",
   "execution_count": 69,
   "metadata": {
    "collapsed": false,
    "deletable": true,
    "editable": true
   },
   "outputs": [
    {
     "data": {
      "text/plain": [
       "943"
      ]
     },
     "execution_count": 69,
     "metadata": {},
     "output_type": "execute_result"
    }
   ],
   "source": [
    "user_id_desc = df_data.agg(F.countDistinct(df_data.user_id).alias('user_id_desc')).collect()\n",
    "user_id_desc[0][0]"
   ]
  },
  {
   "cell_type": "code",
   "execution_count": 70,
   "metadata": {
    "collapsed": false,
    "deletable": true,
    "editable": true
   },
   "outputs": [
    {
     "data": {
      "text/plain": [
       "1682"
      ]
     },
     "execution_count": 70,
     "metadata": {},
     "output_type": "execute_result"
    }
   ],
   "source": [
    "item_id_desc = df_data.agg(F.countDistinct(df_data.item_id).alias('item_id_desc')).collect()\n",
    "item_id_desc[0][0]"
   ]
  },
  {
   "cell_type": "markdown",
   "metadata": {
    "deletable": true,
    "editable": true
   },
   "source": [
    "Сколько пользователь в среднем ставит рейтингов? Подсчитать количество рейтингов / количество пользователей. Поле average_user_ratings."
   ]
  },
  {
   "cell_type": "code",
   "execution_count": 87,
   "metadata": {
    "collapsed": false,
    "deletable": true,
    "editable": true
   },
   "outputs": [
    {
     "data": {
      "text/plain": [
       "106.04453870625663"
      ]
     },
     "execution_count": 87,
     "metadata": {},
     "output_type": "execute_result"
    }
   ],
   "source": [
    "average_user_ratings = df_data.count()/float(user_id_desc[0][0])\n",
    "average_user_ratings"
   ]
  },
  {
   "cell_type": "markdown",
   "metadata": {
    "deletable": true,
    "editable": true
   },
   "source": [
    "Сколько фильм в среднем имеет рейтингов? Подсчитатьколичество рейтингов / количество фильмов. Поле average_film_ratings"
   ]
  },
  {
   "cell_type": "code",
   "execution_count": 88,
   "metadata": {
    "collapsed": false,
    "deletable": true,
    "editable": true
   },
   "outputs": [
    {
     "data": {
      "text/plain": [
       "59.45303210463734"
      ]
     },
     "execution_count": 88,
     "metadata": {},
     "output_type": "execute_result"
    }
   ],
   "source": [
    "average_film_ratings = df_data.count()/float(item_id_desc[0][0])\n",
    "average_film_ratings"
   ]
  },
  {
   "cell_type": "markdown",
   "metadata": {
    "deletable": true,
    "editable": true
   },
   "source": [
    "Найдите процент заполненных ячеек в данных: количество рейтингов / (количество пользователей * количество фильмов). Поле completeness"
   ]
  },
  {
   "cell_type": "code",
   "execution_count": 360,
   "metadata": {
    "collapsed": false,
    "deletable": true,
    "editable": true
   },
   "outputs": [
    {
     "data": {
      "text/plain": [
       "0.06304669364224531"
      ]
     },
     "execution_count": 360,
     "metadata": {},
     "output_type": "execute_result"
    }
   ],
   "source": [
    "completeness = df_data.count() / float(user_id_desc[0][0]*item_id_desc[0][0])\n",
    "completeness"
   ]
  },
  {
   "cell_type": "markdown",
   "metadata": {
    "deletable": true,
    "editable": true
   },
   "source": [
    "# Часть 2. User-user CF"
   ]
  },
  {
   "cell_type": "markdown",
   "metadata": {
    "deletable": true,
    "editable": true
   },
   "source": [
    "Для каждого пользователя найдите его средний рейтинг (сумма рейтингов пользователя/количество рейтингов пользователя)."
   ]
  },
  {
   "cell_type": "code",
   "execution_count": 119,
   "metadata": {
    "collapsed": false,
    "deletable": true,
    "editable": true
   },
   "outputs": [],
   "source": [
    "sum_rat_user = df_data.groupBy('user_id').agg({'rating': 'sum'}).alias('sum_r')"
   ]
  },
  {
   "cell_type": "code",
   "execution_count": 125,
   "metadata": {
    "collapsed": false,
    "deletable": true,
    "editable": true
   },
   "outputs": [],
   "source": [
    "count_rat_user = df_data.groupBy('user_id').agg({'rating': 'count'}).alias('count_r')"
   ]
  },
  {
   "cell_type": "code",
   "execution_count": 229,
   "metadata": {
    "collapsed": false,
    "deletable": true,
    "editable": true
   },
   "outputs": [
    {
     "name": "stdout",
     "output_type": "stream",
     "text": [
      "+----+------------------+\n",
      "|user|   avg_user_rating|\n",
      "+----+------------------+\n",
      "|  26|  2.94392523364486|\n",
      "| 474|  4.08256880733945|\n",
      "|  29|3.6470588235294117|\n",
      "| 541|3.6240601503759398|\n",
      "| 558|               4.2|\n",
      "|  65|            3.9375|\n",
      "| 418|               2.9|\n",
      "| 191|3.6296296296296298|\n",
      "| 293|3.0309278350515463|\n",
      "| 222| 3.049095607235142|\n",
      "+----+------------------+\n",
      "only showing top 10 rows\n",
      "\n"
     ]
    }
   ],
   "source": [
    "avg_user_rating = df_data.groupBy('user_id').avg('rating').withColumnRenamed(\"avg(rating)\",\"avg_user_rating\")\n",
    "avg_user_rating = avg_user_rating.withColumnRenamed('user_id','user')\n",
    "avg_user_rating.show(10)"
   ]
  },
  {
   "cell_type": "code",
   "execution_count": 194,
   "metadata": {
    "collapsed": false,
    "deletable": true,
    "editable": true
   },
   "outputs": [
    {
     "name": "stdout",
     "output_type": "stream",
     "text": [
      "+----+-----------------+\n",
      "|user|  avg_user_rating|\n",
      "+----+-----------------+\n",
      "| 592|3.813888888888889|\n",
      "+----+-----------------+\n",
      "\n"
     ]
    }
   ],
   "source": [
    "my_user_avg_rat = avg_user_rating[avg_user_rating['user']==user_id]\n",
    "my_user_avg_rat.show()"
   ]
  },
  {
   "cell_type": "code",
   "execution_count": 232,
   "metadata": {
    "collapsed": false,
    "deletable": true,
    "editable": true
   },
   "outputs": [
    {
     "name": "stdout",
     "output_type": "stream",
     "text": [
      "+----------+----------+--------------+\n",
      "|my_user_id|my_item_id|my_user_rating|\n",
      "+----------+----------+--------------+\n",
      "|       592|       418|             4|\n",
      "|       592|       124|             5|\n",
      "|       592|        50|             5|\n",
      "|       592|       204|             5|\n",
      "|       592|       297|             5|\n",
      "|       592|        79|             4|\n",
      "|       592|       969|             4|\n",
      "|       592|        20|             4|\n",
      "|       592|       433|             5|\n",
      "|       592|       323|             1|\n",
      "+----------+----------+--------------+\n",
      "only showing top 10 rows\n",
      "\n"
     ]
    }
   ],
   "source": [
    "df_my_user = df_data[df_data['user_id']==user_id].selectExpr('user_id as my_user_id', \\\n",
    "                                                             'item_id as my_item_id',\\\n",
    "                                                             'rating as my_user_rating')\n",
    "df_my_user.show(10)"
   ]
  },
  {
   "cell_type": "code",
   "execution_count": 364,
   "metadata": {
    "collapsed": false,
    "deletable": true,
    "editable": true
   },
   "outputs": [],
   "source": [
    "df_ua = df_data.join(df_my_user, df_data['item_id']==df_my_user['my_item_id'], 'inner')"
   ]
  },
  {
   "cell_type": "code",
   "execution_count": 365,
   "metadata": {
    "collapsed": false,
    "deletable": true,
    "editable": true
   },
   "outputs": [
    {
     "name": "stdout",
     "output_type": "stream",
     "text": [
      "+-------+-------+------+--------------+----------------+\n",
      "|user_id|item_id|rating|my_user_rating| avg_user_rating|\n",
      "+-------+-------+------+--------------+----------------+\n",
      "|     26|    628|     3|             3|2.94392523364486|\n",
      "|     26|     14|     3|             5|2.94392523364486|\n",
      "|     26|   1014|     3|             4|2.94392523364486|\n",
      "|     26|    685|     3|             2|2.94392523364486|\n",
      "|     26|    237|     3|             4|2.94392523364486|\n",
      "|     26|    150|     3|             5|2.94392523364486|\n",
      "|     26|    246|     4|             5|2.94392523364486|\n",
      "|     26|      1|     3|             4|2.94392523364486|\n",
      "|     26|    815|     2|             3|2.94392523364486|\n",
      "|     26|    283|     3|             4|2.94392523364486|\n",
      "+-------+-------+------+--------------+----------------+\n",
      "only showing top 10 rows\n",
      "\n"
     ]
    }
   ],
   "source": [
    "df_ua = df_ua.join(avg_user_rating, df_ua['user_id']==avg_user_rating['user']).\\\n",
    "                            select('user_id','item_id','rating','my_user_rating','avg_user_rating')\n",
    "df_ua.show(10)"
   ]
  },
  {
   "cell_type": "code",
   "execution_count": 366,
   "metadata": {
    "collapsed": false,
    "deletable": true,
    "editable": true
   },
   "outputs": [
    {
     "name": "stdout",
     "output_type": "stream",
     "text": [
      "+-------+-------+------+--------------+----------------+-------------------+-------------------+\n",
      "|user_id|item_id|rating|my_user_rating| avg_user_rating|        diff_user_r|     diff_my_user_r|\n",
      "+-------+-------+------+--------------+----------------+-------------------+-------------------+\n",
      "|     26|   1016|     3|             4|2.94392523364486|0.05607476635513997|0.18611111110999978|\n",
      "|     26|    546|     2|             4|2.94392523364486|  -0.94392523364486|0.18611111110999978|\n",
      "|     26|    246|     4|             5|2.94392523364486|   1.05607476635514| 1.1861111111099998|\n",
      "|     26|    248|     3|             4|2.94392523364486|0.05607476635513997|0.18611111110999978|\n",
      "|     26|    257|     3|             4|2.94392523364486|0.05607476635513997|0.18611111110999978|\n",
      "|     26|    405|     2|             4|2.94392523364486|  -0.94392523364486|0.18611111110999978|\n",
      "|     26|    250|     3|             4|2.94392523364486|0.05607476635513997|0.18611111110999978|\n",
      "|     26|    748|     1|             2|2.94392523364486|  -1.94392523364486|-1.8138888888900002|\n",
      "|     26|    333|     3|             5|2.94392523364486|0.05607476635513997| 1.1861111111099998|\n",
      "|     26|    249|     2|             4|2.94392523364486|  -0.94392523364486|0.18611111110999978|\n",
      "+-------+-------+------+--------------+----------------+-------------------+-------------------+\n",
      "only showing top 10 rows\n",
      "\n"
     ]
    }
   ],
   "source": [
    "df_ua = df_ua.select('*', (F.col('rating')-F.col('avg_user_rating')).alias('diff_user_r'),\\\n",
    "                  (F.col('my_user_rating')-3.813888888888889).alias('diff_my_user_r'))\n",
    "df_ua.show(10)"
   ]
  },
  {
   "cell_type": "code",
   "execution_count": 367,
   "metadata": {
    "collapsed": false,
    "deletable": true,
    "editable": true
   },
   "outputs": [],
   "source": [
    "df_ua = df_ua.select('*',(F.col('diff_user_r')*F.col('diff_my_user_r')).alias('mult_a_u'))"
   ]
  },
  {
   "cell_type": "code",
   "execution_count": 245,
   "metadata": {
    "collapsed": false,
    "deletable": true,
    "editable": true
   },
   "outputs": [
    {
     "name": "stdout",
     "output_type": "stream",
     "text": [
      "+-------+-------------------+------------------+------------------+------+--------------------+\n",
      "|user_id|               sum1|             sqrt1|             sqrt2|num_50|          PearsonSim|\n",
      "+-------+-------------------+------------------+------------------+------+--------------------+\n",
      "|     26|  37.29207791073451|13.370441781211017| 7.335900926042817|  1.62|  0.3802046010514602|\n",
      "|     29| 21.179930795847746| 7.104509021945612| 4.459351202673875|  0.52|  0.6685267498903249|\n",
      "|    474|  61.70128777038967| 11.80982345220386|10.905532796179877|  3.08| 0.47907547058703775|\n",
      "|     65|         1.75390625|  7.18967358438476| 6.694505676299035|  0.98|  0.0364400268215457|\n",
      "|    191|  8.065843621399178| 5.649574804642474|3.3487298740787264|  0.42| 0.42633787660685585|\n",
      "|    418| 10.350000000000003| 6.553624951124378| 5.809475019311125|   0.3|   0.271845330262568|\n",
      "|    541|  26.72078692973036| 8.907994492426385|7.8159585453328715|   0.9|  0.3837841695662868|\n",
      "|    558|-2.5200000000000014|  4.27551166528639|2.7712812921102032|  0.34|-0.21268253840976273|\n",
      "|    222| 167.02288190480013|19.461075926578314|15.694339348617218|  3.02|  0.5468473187813251|\n",
      "|    270|  6.111111111111103| 6.960204339273702| 7.125852775477317|   1.1| 0.12321436546386899|\n",
      "+-------+-------------------+------------------+------------------+------+--------------------+\n",
      "only showing top 10 rows\n",
      "\n"
     ]
    }
   ],
   "source": [
    "PearsonSim = df_ua.select('item_id','user_id','mult_a_u', 'diff_my_user_r', 'diff_user_r').groupby('user_id') \\\n",
    "    .agg(F.sum('mult_a_u').alias('sum1'), F.sqrt(F.sum(F.col('diff_my_user_r')**2)).alias('sqrt1'), \\\n",
    "                                          F.sqrt(F.sum(F.col('diff_user_r')**2)).alias('sqrt2'),\\\n",
    "                                         (F.count('item_id')/50).alias('num_50'))\\\n",
    "    .withColumn('PearsonSim', F.col('sum1') / (F.col('sqrt1')*F.col('sqrt2')))\n",
    "PearsonSim.show(10)"
   ]
  },
  {
   "cell_type": "code",
   "execution_count": 246,
   "metadata": {
    "collapsed": false,
    "deletable": true,
    "editable": true
   },
   "outputs": [
    {
     "name": "stdout",
     "output_type": "stream",
     "text": [
      "+-------+--------------------+--------------------+\n",
      "|user_id|          PearsonSim|                 Sim|\n",
      "+-------+--------------------+--------------------+\n",
      "|     26|  0.3802046010514601|  0.3802046010514601|\n",
      "|     29|   0.668526749890325|   0.347633909942969|\n",
      "|    474| 0.47907547058703714| 0.47907547058703714|\n",
      "|     65|  0.0364400268215457|0.035711226285114785|\n",
      "|    191|  0.4263378766068558| 0.17906190817487944|\n",
      "|    418|  0.2718453302625679| 0.08155359907877037|\n",
      "|    541| 0.38378416956628664|   0.345405752609658|\n",
      "|    558|-0.21268253840976273|-0.07231206305931934|\n",
      "|    222|  0.5468473187813252|  0.5468473187813252|\n",
      "|    270| 0.12321436546386905| 0.12321436546386905|\n",
      "+-------+--------------------+--------------------+\n",
      "only showing top 10 rows\n",
      "\n"
     ]
    }
   ],
   "source": [
    "PearsonSim = PearsonSim.withColumn('Pearson_k',F.when(PearsonSim.num_50 > 1, 1)\\\n",
    "                                   .otherwise(PearsonSim.num_50))\n",
    "PearsonSim = PearsonSim.withColumn('Sim',PearsonSim.Pearson_k * PearsonSim.PearsonSim)\\\n",
    "                                   .select('user_id', 'PearsonSim', 'Sim')\n",
    "PearsonSim.show(10)"
   ]
  },
  {
   "cell_type": "code",
   "execution_count": 256,
   "metadata": {
    "collapsed": false,
    "deletable": true,
    "editable": true
   },
   "outputs": [
    {
     "name": "stdout",
     "output_type": "stream",
     "text": [
      "+-------+------------------+------------------+\n",
      "|user_id|        PearsonSim|               Sim|\n",
      "+-------+------------------+------------------+\n",
      "|    397|0.7764595887588565|0.7764595887588565|\n",
      "|     21| 0.736772656463565| 0.736772656463565|\n",
      "|    303|0.7208205983881428|0.7208205983881428|\n",
      "|    615|0.6898508489153302|0.6898508489153302|\n",
      "|    276|0.6689012425451382|0.6689012425451382|\n",
      "|    453|0.6643416809296162|0.6643416809296162|\n",
      "|    595|0.6448655928460737|0.6448655928460737|\n",
      "|    267|0.6365630482981355|0.6365630482981355|\n",
      "|    268| 0.635586446428676| 0.635586446428676|\n",
      "|    890|0.5843180584673966|0.5843180584673966|\n",
      "+-------+------------------+------------------+\n",
      "only showing top 10 rows\n",
      "\n"
     ]
    }
   ],
   "source": [
    "sortedPearson = PearsonSim.orderBy(PearsonSim['Sim'].desc())\n",
    "sortedPearson[sortedPearson.Sim<1].show(10)"
   ]
  },
  {
   "cell_type": "code",
   "execution_count": 257,
   "metadata": {
    "collapsed": false,
    "deletable": true,
    "editable": true
   },
   "outputs": [],
   "source": [
    "pearson_neighbours = sortedPearson[sortedPearson.Sim<1].limit(30) "
   ]
  },
  {
   "cell_type": "code",
   "execution_count": 331,
   "metadata": {
    "collapsed": false,
    "deletable": true,
    "editable": true
   },
   "outputs": [],
   "source": [
    "items = df_data.select('item_id').distinct()\n",
    "items = items.join(df_my_user,items.item_id==df_my_user.my_item_id,'left_outer')\\\n",
    "        .filter(F.isnull('my_user_rating'))\\\n",
    "        .selectExpr('item_id as items_id')"
   ]
  },
  {
   "cell_type": "code",
   "execution_count": 332,
   "metadata": {
    "collapsed": false,
    "deletable": true,
    "editable": true
   },
   "outputs": [
    {
     "name": "stdout",
     "output_type": "stream",
     "text": [
      "+-------+-------+------+\n",
      "|user_id|item_id|rating|\n",
      "+-------+-------+------+\n",
      "|    138|     26|     5|\n",
      "|    224|     26|     3|\n",
      "|     18|     26|     4|\n",
      "|    222|     26|     3|\n",
      "|     43|     26|     5|\n",
      "+-------+-------+------+\n",
      "only showing top 5 rows\n",
      "\n"
     ]
    }
   ],
   "source": [
    "df_pred = df_data.join(items, df_data.item_id==items.items_id)\\\n",
    "            .filter(df_data['user_id'].isin(pearson_neighbours['user_id']))\\\n",
    "            .select('user_id','item_id','rating')\n",
    "df_pred.show(5)"
   ]
  },
  {
   "cell_type": "code",
   "execution_count": 342,
   "metadata": {
    "collapsed": false,
    "deletable": true,
    "editable": true
   },
   "outputs": [],
   "source": [
    "df_pred = df_pred.join(avg_user_rating, df_pred.user_id==avg_user_rating.user)\\\n",
    "            .select('*', (F.col('rating')-F.col('avg_user_rating')).alias('diff_user_r'))\\\n",
    "            .join(pearson_neighbours, df_pred.user_id==pearson_neighbours.user_id)\\\n",
    "            .withColumn('mult_diff_sim',F.col('diff_user_r') * F.col('Sim'))\\\n",
    "            .withColumn('abs_sim', F.abs(F.col('Sim')))\\\n",
    "            .select('user','item_id','mult_diff_sim','abs_sim')"
   ]
  },
  {
   "cell_type": "code",
   "execution_count": 349,
   "metadata": {
    "collapsed": false,
    "deletable": true,
    "editable": true
   },
   "outputs": [],
   "source": [
    "df_pred = df_pred.groupby('item_id').agg(F.sum(F.col('mult_diff_sim')).alias('sum_1'),\n",
    "                            F.sum(F.col('abs_sim')).alias('sum_2'))\\\n",
    "            .withColumn('pred', 3.813888888888889 - F.col('sum_1') / F.col('sum_2'))\\\n",
    "            .orderBy(F.col('pred').desc()).limit(10)\\\n",
    "            .select('item_id','pred')"
   ]
  },
  {
   "cell_type": "code",
   "execution_count": null,
   "metadata": {
    "collapsed": true,
    "deletable": true,
    "editable": true
   },
   "outputs": [],
   "source": []
  },
  {
   "cell_type": "code",
   "execution_count": 358,
   "metadata": {
    "collapsed": false,
    "deletable": true,
    "editable": true
   },
   "outputs": [
    {
     "data": {
      "text/plain": [
       "[397,\n",
       " 21,\n",
       " 303,\n",
       " 615,\n",
       " 276,\n",
       " 453,\n",
       " 595,\n",
       " 267,\n",
       " 268,\n",
       " 890,\n",
       " 526,\n",
       " 345,\n",
       " 851,\n",
       " 916,\n",
       " 292,\n",
       " 933,\n",
       " 69,\n",
       " 823,\n",
       " 293,\n",
       " 22,\n",
       " 94,\n",
       " 394,\n",
       " 1,\n",
       " 715,\n",
       " 246,\n",
       " 457,\n",
       " 222,\n",
       " 249,\n",
       " 379,\n",
       " 291]"
      ]
     },
     "execution_count": 358,
     "metadata": {},
     "output_type": "execute_result"
    }
   ],
   "source": [
    "[int(row.user_id) for row in pearson_neighbours.select('user_id').collect()]"
   ]
  },
  {
   "cell_type": "code",
   "execution_count": 356,
   "metadata": {
    "collapsed": false,
    "deletable": true,
    "editable": true
   },
   "outputs": [
    {
     "data": {
      "text/plain": [
       "[1128, 894, 555, 398, 1001, 112, 104, 1215, 1274, 352]"
      ]
     },
     "execution_count": 356,
     "metadata": {},
     "output_type": "execute_result"
    }
   ],
   "source": [
    "[int(row.item_id) for row in df_pred.select('item_id').collect()]"
   ]
  },
  {
   "cell_type": "markdown",
   "metadata": {
    "collapsed": true,
    "deletable": true,
    "editable": true
   },
   "source": [
    "# Часть 3. Базовые предикторы"
   ]
  },
  {
   "cell_type": "markdown",
   "metadata": {},
   "source": [
    "Глобальное среднее (average_rating) по всему датасету. Сумма всех оценок по всем фильмам/Количество всех оценок по всем фильмам. "
   ]
  },
  {
   "cell_type": "code",
   "execution_count": 385,
   "metadata": {
    "collapsed": false
   },
   "outputs": [
    {
     "data": {
      "text/plain": [
       "3.52986"
      ]
     },
     "execution_count": 385,
     "metadata": {},
     "output_type": "execute_result"
    }
   ],
   "source": [
    "average_rating = df_data.agg(F.count('rating').alias('rating_count'),\\\n",
    "                F.sum('rating').alias('rating_sum'))\\\n",
    "                .withColumn('glob_rating_avg', F.col('rating_sum') / F.col('rating_count'))\\\n",
    "                .head()[2]\n",
    "average_rating"
   ]
  },
  {
   "cell_type": "markdown",
   "metadata": {},
   "source": [
    "Базовый предиктор для каждого пользователя (суммирование по фильмам, оцененным данным пользователем). Здесь Ia - множество фильмов, по которым у пользователя есть рейтинги, а |Ia| их количество."
   ]
  },
  {
   "cell_type": "code",
   "execution_count": 430,
   "metadata": {
    "collapsed": false
   },
   "outputs": [
    {
     "name": "stdout",
     "output_type": "stream",
     "text": [
      "+-------+------------------+----------+-------------------+\n",
      "|user_id|         sum_r_u-m|count_item|                 Bu|\n",
      "+-------+------------------+----------+-------------------+\n",
      "|     26|-62.69501999999996|       107|-0.5358548717948715|\n",
      "|     29|3.9847599999999925|        34| 0.0905627272727271|\n",
      "|    474|180.73578000000018|       327| 0.5363079525222557|\n",
      "|    541|12.528620000000004|       133| 0.0876127272727273|\n",
      "|    558|13.402799999999996|        20| 0.4467599999999999|\n",
      "+-------+------------------+----------+-------------------+\n",
      "only showing top 5 rows\n",
      "\n"
     ]
    }
   ],
   "source": [
    "df_bu = df_data.withColumn('r_u-m', F.col('rating')-average_rating)\\\n",
    "               .groupby('user_id').agg(F.sum(F.col('r_u-m')).alias('sum_r_u-m'),\\\n",
    "                               F.count(F.col('item_id')).alias('count_item'))\\\n",
    "               .withColumn('Bu', F.col('sum_r_u-m')/(F.col('count_item')+10))\n",
    "df_bu.show(5)"
   ]
  },
  {
   "cell_type": "markdown",
   "metadata": {},
   "source": [
    "Базовый предиктор для каждого фильма (суммирование по пользователям, поставившим оценку данному фильму). Здесь Ui - множество пользователей, которые оценили данный фильм, а |Ui| их количество."
   ]
  },
  {
   "cell_type": "code",
   "execution_count": 426,
   "metadata": {
    "collapsed": false
   },
   "outputs": [
    {
     "name": "stdout",
     "output_type": "stream",
     "text": [
      "+-------+--------------------+----------+--------------------+\n",
      "|item_id|        sum_r_u-m-Bu|count_user|                  Bi|\n",
      "+-------+--------------------+----------+--------------------+\n",
      "|    474|   122.5824431825819|       194|  0.5597371834821091|\n",
      "|     26|  -8.263462025852998|        73|-0.08432104108013264|\n",
      "|     29|  -89.49177232307981|       114| -0.6438257001660418|\n",
      "|   1677|-0.22598502202643234|         1|-0.00869173161640...|\n",
      "|    964|-0.22889681260457673|         9|-0.00673225919425...|\n",
      "+-------+--------------------+----------+--------------------+\n",
      "only showing top 5 rows\n",
      "\n"
     ]
    }
   ],
   "source": [
    "df_bi = df_base.join(df_bu, ['user_id'])\\\n",
    "            .withColumn('r_i-m-bu', F.col('rating')-F.col('Bu')-average_rating)\\\n",
    "            .groupby('item_id').agg(\\\n",
    "                            F.sum(F.col('r_i-m-bu')).alias('sum_r_u-m-Bu'),\\\n",
    "                            F.count(F.col('item_id')).alias('count_user'))\\\n",
    "            .withColumn('Bi', F.col('sum_r_u-m-Bu')/(F.col('count_user')+25))\n",
    "                                    \n",
    "df_bi.show(5)"
   ]
  },
  {
   "cell_type": "code",
   "execution_count": 435,
   "metadata": {
    "collapsed": false
   },
   "outputs": [
    {
     "name": "stdout",
     "output_type": "stream",
     "text": [
      "+-------+-------+------+--------------------+--------------------+------------------+\n",
      "|item_id|user_id|rating|                  Bu|                  Bi|               Bui|\n",
      "+-------+-------+------+--------------------+--------------------+------------------+\n",
      "|     26|    299|     4|-0.06331310344827543|-0.08432104108013265|3.3822258554715923|\n",
      "|     26|    593|     4| 0.07434843373493996|-0.08432104108013265|3.5198873926548075|\n",
      "|     26|    478|     5|-0.10466813008130096|-0.08432104108013265|3.3408708288385665|\n",
      "|     26|    194|     3| -0.5479596825396832|-0.08432104108013265|2.8975792763801844|\n",
      "|     26|    151|     3| 0.45215451104101007|-0.08432104108013265|3.8976934699608776|\n",
      "+-------+-------+------+--------------------+--------------------+------------------+\n",
      "only showing top 5 rows\n",
      "\n"
     ]
    }
   ],
   "source": [
    "df_base = df_data.join(df_bu.select('user_id','Bu'),['user_id'])\\\n",
    "       .join(df_bi.select('item_id','Bi'),['item_id'])\\\n",
    "    .withColumn('Bui', average_rating+F.col('Bu')+(F.col('Bi')))\n",
    "df_base.show(5)   "
   ]
  },
  {
   "cell_type": "markdown",
   "metadata": {},
   "source": [
    "# Часть 4. Item-item CF"
   ]
  },
  {
   "cell_type": "code",
   "execution_count": 436,
   "metadata": {
    "collapsed": false
   },
   "outputs": [
    {
     "name": "stdout",
     "output_type": "stream",
     "text": [
      "+-------+-------+------+-------------------+--------------------+------------------+--------------------+\n",
      "|item_id|user_id|rating|                 Bu|                  Bi|               Bui|               r-Bui|\n",
      "+-------+-------+------+-------------------+--------------------+------------------+--------------------+\n",
      "|     26|    399|     2|-0.5745451063829782|-0.08432104108013262|2.8709938525368894| -0.8709938525368894|\n",
      "|     26|    405|     3|-1.6726998929049472|-0.08432104108013262|1.7728390660149203|  1.2271609339850797|\n",
      "|     26|      1|     3|0.07758184397163108|-0.08432104108013262|3.5231208028914986| -0.5231208028914986|\n",
      "|     26|    682|     3|-0.3824306601466988|-0.08432104108013262|3.0631082987731686|-0.06310829877316859|\n",
      "|     26|    758|     4| 0.3374386376021804|-0.08432104108013262| 3.782977596522048|   0.217022403477952|\n",
      "+-------+-------+------+-------------------+--------------------+------------------+--------------------+\n",
      "only showing top 5 rows\n",
      "\n"
     ]
    }
   ],
   "source": [
    "df_base = df_base.withColumn('r-Bui', F.col('rating')-F.col('Bui'))\n",
    "df_base.show(5)"
   ]
  },
  {
   "cell_type": "code",
   "execution_count": null,
   "metadata": {
    "collapsed": true
   },
   "outputs": [],
   "source": []
  }
 ],
 "metadata": {
  "kernelspec": {
   "display_name": "Python 2",
   "language": "python",
   "name": "python2"
  },
  "language_info": {
   "codemirror_mode": {
    "name": "ipython",
    "version": 2
   },
   "file_extension": ".py",
   "mimetype": "text/x-python",
   "name": "python",
   "nbconvert_exporter": "python",
   "pygments_lexer": "ipython2",
   "version": "2.7.6"
  }
 },
 "nbformat": 4,
 "nbformat_minor": 0
}
